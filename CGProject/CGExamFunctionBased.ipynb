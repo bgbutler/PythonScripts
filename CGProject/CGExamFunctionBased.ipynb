{
 "cells": [
  {
   "cell_type": "code",
   "execution_count": 1,
   "metadata": {
    "collapsed": true
   },
   "outputs": [],
   "source": [
    "# test of the python script of spliting text\n",
    "# import lots of libraries\n",
    "\n",
    "# standard libraries\n",
    "import pandas as pd\n",
    "import numpy as np\n",
    "from pandas import Series, DataFrame\n",
    "import os\n",
    "import re\n",
    "import csv\n",
    "\n",
    "# plotting libraries\n",
    "import matplotlib as mpl\n",
    "import matplotlib.pyplot as plt\n",
    "import seaborn as sns\n",
    "%matplotlib inline\n",
    "\n",
    "# get the datetime library for date & time calcs\n",
    "from datetime import datetime, timedelta"
   ]
  },
  {
   "cell_type": "code",
   "execution_count": 2,
   "metadata": {
    "collapsed": true
   },
   "outputs": [],
   "source": [
    "# create a function to get the directory\n",
    "\n",
    "def get_input_path():\n",
    "    get_file_path = input('What is the path of the file to be converted? ')\n",
    "    print(\"You entered \" + get_file_path)\n",
    "    \n",
    "    myPath = os.path.normpath(get_file_path)\n",
    "    \n",
    "    os.chdir(myPath)\n",
    "    \n",
    "    return os.listdir(os.curdir)\n",
    "    "
   ]
  },
  {
   "cell_type": "code",
   "execution_count": 4,
   "metadata": {
    "collapsed": false
   },
   "outputs": [
    {
     "name": "stdout",
     "output_type": "stream",
     "text": [
      "What is the path of the file to be converted? /Users/Bryan/Documents/Programming/SeaHome/\n",
      "You entered /Users/Bryan/Documents/Programming/SeaHome/\n"
     ]
    },
    {
     "data": {
      "text/plain": [
       "['DeckQuestionsCleanFinal.csv',\n",
       " 'deck1.txt',\n",
       " '.DS_Store',\n",
       " 'DeckQuestionsOptionsV1.csv',\n",
       " 'deck1UTF.txt',\n",
       " 'Deck Safety August 2014.txt',\n",
       " 'E_general_subjects.pdf',\n",
       " 'Deck Safety August 2014.pdf',\n",
       " 'testbank',\n",
       " 'eng1UTFNoHead.txt',\n",
       " 'eng1.txt']"
      ]
     },
     "execution_count": 4,
     "metadata": {},
     "output_type": "execute_result"
    }
   ],
   "source": [
    "get_input_path()"
   ]
  },
  {
   "cell_type": "code",
   "execution_count": 5,
   "metadata": {
    "collapsed": true
   },
   "outputs": [],
   "source": [
    "# open and get a view of the file\n",
    "\n",
    "def open_view_file():\n",
    "    myFile = input('What is the name (with extension) of the file to be converted? ')\n",
    "    \n",
    "    file_object = open(myFile, 'r')\n",
    "    count = 0\n",
    "\n",
    "    while file_object.readline() != '':\n",
    "        count +=1\n",
    "    \n",
    "    print(count, 'Lines in the Document')\n",
    "\n",
    "    file_object.close()"
   ]
  },
  {
   "cell_type": "code",
   "execution_count": 6,
   "metadata": {
    "collapsed": false
   },
   "outputs": [
    {
     "name": "stdout",
     "output_type": "stream",
     "text": [
      "What is the name (with extension) of the file to be converted? eng1UTFNoHead.txt\n",
      "7360 Lines in the Document\n"
     ]
    }
   ],
   "source": [
    "open_view_file()"
   ]
  },
  {
   "cell_type": "code",
   "execution_count": 7,
   "metadata": {
    "collapsed": true
   },
   "outputs": [],
   "source": [
    "# first create an empty dictionary\n",
    "\n",
    "\n",
    "def create_dataframe():\n",
    "    d = dict()\n",
    "    \n",
    "    myFile = input('What is the name (with extension) of the file to be converted? ')\n",
    "    \n",
    "    # myFile = 'eng1UTFNoHead.txt'\n",
    "\n",
    "\n",
    "    # open the file\n",
    "    with open(myFile, 'r') as myFile:\n",
    "    \n",
    "        data = myFile.read()\n",
    "    \n",
    "        pattern = re.compile(r'\\(2\\..*?\\)')\n",
    "    \n",
    "        result = pattern.split(data)\n",
    "    \n",
    "        totQuestions = len(result)\n",
    "    \n",
    "    for r in range(len(result)):\n",
    "        d[r] = result[r]\n",
    "    \n",
    "    questionDf = pd.DataFrame(list(d.items()), columns=['Number', 'Question'])\n",
    "    \n",
    "    print('Dictionary', d)\n",
    "    print('There are ', totQuestions, ' questions in the file.')\n",
    "    print('The length of the Dictionary is ', len(d))\n",
    "    \n",
    "    return questionDf\n"
   ]
  },
  {
   "cell_type": "code",
   "execution_count": 8,
   "metadata": {
    "collapsed": false
   },
   "outputs": [
    {
     "ename": "NameError",
     "evalue": "name 'questionDf' is not defined",
     "output_type": "error",
     "traceback": [
      "\u001b[0;31m---------------------------------------------------------------------------\u001b[0m",
      "\u001b[0;31mNameError\u001b[0m                                 Traceback (most recent call last)",
      "\u001b[0;32m<ipython-input-8-8e7972c26a46>\u001b[0m in \u001b[0;36m<module>\u001b[0;34m()\u001b[0m\n\u001b[0;32m----> 1\u001b[0;31m \u001b[0mquestionDf\u001b[0m\u001b[0;34m.\u001b[0m\u001b[0mhead\u001b[0m\u001b[0;34m(\u001b[0m\u001b[0;34m)\u001b[0m\u001b[0;34m\u001b[0m\u001b[0m\n\u001b[0m",
      "\u001b[0;31mNameError\u001b[0m: name 'questionDf' is not defined"
     ]
    }
   ],
   "source": [
    "questionDf.head()"
   ]
  },
  {
   "cell_type": "code",
   "execution_count": null,
   "metadata": {
    "collapsed": true
   },
   "outputs": [],
   "source": []
  }
 ],
 "metadata": {
  "kernelspec": {
   "display_name": "Python 3",
   "language": "python",
   "name": "python3"
  },
  "language_info": {
   "codemirror_mode": {
    "name": "ipython",
    "version": 3
   },
   "file_extension": ".py",
   "mimetype": "text/x-python",
   "name": "python",
   "nbconvert_exporter": "python",
   "pygments_lexer": "ipython3",
   "version": "3.6.0"
  }
 },
 "nbformat": 4,
 "nbformat_minor": 0
}
