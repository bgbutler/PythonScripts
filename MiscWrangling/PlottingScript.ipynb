{
 "cells": [
  {
   "cell_type": "code",
   "execution_count": null,
   "metadata": {
    "collapsed": true
   },
   "outputs": [],
   "source": [
    "# standard libraries\n",
    "import pandas as pd\n",
    "import numpy as np\n",
    "from pandas import Series, DataFrame\n",
    "import os\n",
    "import re\n",
    "import gc\n",
    "\n",
    "# plotting libraries\n",
    "import matplotlib as mpl\n",
    "import matplotlib.pyplot as plt\n",
    "import seaborn as sns\n",
    "%matplotlib inline\n",
    "\n",
    "# get the datetime library for date & time calcs\n",
    "from datetime import datetime, timedelta"
   ]
  },
  {
   "cell_type": "code",
   "execution_count": null,
   "metadata": {
    "collapsed": true
   },
   "outputs": [],
   "source": [
    "os.chdir(os.path.normpath('C:/Users/n846490/Documents/DigitalAnalytics/CheckingAnalysis/'))"
   ]
  },
  {
   "cell_type": "code",
   "execution_count": null,
   "metadata": {
    "collapsed": false
   },
   "outputs": [],
   "source": [
    "file = 'Openers_Jan13_to_Present.csv'\n",
    "checking = pd.read_csv(file)\n",
    "\n",
    "checking.head()"
   ]
  },
  {
   "cell_type": "code",
   "execution_count": null,
   "metadata": {
    "collapsed": false
   },
   "outputs": [],
   "source": [
    "# need to change the column names to make more sense\n",
    "# do this with mapping\n",
    "\n",
    "newNames = {'H1424_IDCENT': 'CostCenter', 'H1424_IDPROD':'ProductType', 'H1424_IDCONTRN':'ContractNumber',\n",
    "            'H1424_FECCONTR':'DateOpened', 'H1424_FECBAJA':'DateClosed', 'H1424_TIPOPERS':'PersonType',\n",
    "            'H1424_CODPERS':'PersonCode', 'H1424_CDCANAL':'Channel', 'Category':'Category', 'H9776_NOMPROV1':'State',\n",
    "            'H1451_EDADPER':'CustomerAge', 'Cust_Start':'CustomerStart'}\n",
    "\n",
    "checking.rename(columns=newNames, inplace=True)\n",
    "\n",
    "# get a view of the data and headers\n",
    "checking.head()"
   ]
  },
  {
   "cell_type": "code",
   "execution_count": null,
   "metadata": {
    "collapsed": false
   },
   "outputs": [],
   "source": [
    "checking.info()"
   ]
  },
  {
   "cell_type": "code",
   "execution_count": null,
   "metadata": {
    "collapsed": false
   },
   "outputs": [],
   "source": [
    "checking.Category.unique()"
   ]
  },
  {
   "cell_type": "code",
   "execution_count": null,
   "metadata": {
    "collapsed": false
   },
   "outputs": [],
   "source": [
    "# check the nulls for state\n",
    "\n",
    "checking['State'].isnull().sum()"
   ]
  },
  {
   "cell_type": "code",
   "execution_count": null,
   "metadata": {
    "collapsed": true
   },
   "outputs": [],
   "source": [
    "# clean them up\n",
    "# fill the na with NonUS\n",
    "\n",
    "checking.State = checking.State.fillna('NonUS')"
   ]
  },
  {
   "cell_type": "code",
   "execution_count": null,
   "metadata": {
    "collapsed": true
   },
   "outputs": [],
   "source": [
    "# need to remove the state with *******\n",
    "\n",
    "# create the regex for the stars\n",
    "patternDel = re.compile(r'^\\*')\n",
    "\n",
    "# then create the filter on the state column\n",
    "filter = checking['State'].str.contains(patternDel)\n",
    "\n",
    "# keep all items not in the filter\n",
    "checking = checking[~filter]"
   ]
  },
  {
   "cell_type": "code",
   "execution_count": null,
   "metadata": {
    "collapsed": false
   },
   "outputs": [],
   "source": [
    "# clean up the dates\n",
    "\n",
    "checking['DateOpened'].isnull().sum()\n"
   ]
  },
  {
   "cell_type": "code",
   "execution_count": null,
   "metadata": {
    "collapsed": true
   },
   "outputs": [],
   "source": [
    "# drop the na's from Date Opened\n",
    "\n",
    "checking = checking[pd.notnull(checking['DateOpened'])]"
   ]
  },
  {
   "cell_type": "code",
   "execution_count": null,
   "metadata": {
    "collapsed": true
   },
   "outputs": [],
   "source": [
    "# create a function to clean dates\n",
    "def try_convert(bad_date):\n",
    "    \n",
    "    try:\n",
    "\n",
    "        return pd.to_datetime(bad_date, format='%d%b%Y')\n",
    "    \n",
    "    except:\n",
    "        return np.nan"
   ]
  },
  {
   "cell_type": "code",
   "execution_count": null,
   "metadata": {
    "collapsed": true
   },
   "outputs": [],
   "source": [
    "def try_convert_other(bad_date):\n",
    "    \n",
    "    try:\n",
    "\n",
    "        return pd.to_datetime(bad_date, format='%m/%d/%Y')\n",
    "    \n",
    "    except:\n",
    "        return np.nan"
   ]
  },
  {
   "cell_type": "code",
   "execution_count": null,
   "metadata": {
    "collapsed": false
   },
   "outputs": [],
   "source": [
    "# clean up the date fields to become dates\n",
    "\n",
    "checking['DateOpened'] = pd.to_datetime(checking['DateOpened'], format='%d%b%Y')\n",
    "\n",
    "# for date closed first conver the 31DEC9999 to np.nan\n",
    "\n",
    "checking['DateClosed'] = checking['DateClosed'].apply(try_convert)\n",
    "\n",
    "checking['DateClosed'] = pd.to_datetime(checking['DateClosed'], format='%d%b%Y')\n",
    "\n",
    "checking['CustomerStart'] = checking['CustomerStart'].apply(try_convert_other)\n",
    "\n",
    "checking['CustomerStart'] = pd.to_datetime(checking['CustomerStart'], format='%m/%d/%Y')\n",
    "\n",
    "checking.head()\n"
   ]
  },
  {
   "cell_type": "code",
   "execution_count": null,
   "metadata": {
    "collapsed": false
   },
   "outputs": [],
   "source": [
    "checking.shape[0]"
   ]
  },
  {
   "cell_type": "code",
   "execution_count": null,
   "metadata": {
    "collapsed": true
   },
   "outputs": [],
   "source": [
    "def clean_channel(row):\n",
    "    if row == 'RED':\n",
    "        return 'Branch'\n",
    "    else:\n",
    "        return 'OnlinePhone'\n",
    "    \n",
    "checking['Channel'] = checking['Channel'].apply(clean_channel)"
   ]
  },
  {
   "cell_type": "code",
   "execution_count": null,
   "metadata": {
    "collapsed": false
   },
   "outputs": [],
   "source": [
    "# cut into customer groups\n",
    "\n",
    "# cut the ages\n",
    "# set the bins first\n",
    "# use the generation labels\n",
    "\n",
    "bins = [0, 18, 25, 35, 50, 100]\n",
    "\n",
    "age_groups = ['Gen Z', 'Students', 'Millennials', 'Gen X', 'Boomers+']\n",
    "\n",
    "checking['AgeGroups'] = pd.cut(checking['CustomerAge'], bins, labels=age_groups)\n",
    "\n",
    "checking.head()"
   ]
  },
  {
   "cell_type": "code",
   "execution_count": null,
   "metadata": {
    "collapsed": false
   },
   "outputs": [],
   "source": [
    "# add a column for account status\n",
    "def acct_status(date):\n",
    "    if pd.isnull(date):\n",
    "        return 'Open'\n",
    "    else:\n",
    "        return 'Closed'\n",
    "    \n",
    "checking['Status'] = checking['DateClosed'].apply(acct_status)\n",
    "\n",
    "checking.head()"
   ]
  },
  {
   "cell_type": "code",
   "execution_count": null,
   "metadata": {
    "collapsed": false
   },
   "outputs": [],
   "source": [
    "# clean up the system\n",
    "\n",
    "gc.collect()"
   ]
  },
  {
   "cell_type": "code",
   "execution_count": null,
   "metadata": {
    "collapsed": false
   },
   "outputs": [],
   "source": [
    "pd.options.display.float_format = '{:,.0f}'.format\n",
    "\n",
    "checking['CustomerAge'].describe()"
   ]
  },
  {
   "cell_type": "code",
   "execution_count": null,
   "metadata": {
    "collapsed": true
   },
   "outputs": [],
   "source": [
    "# put a cap on the age to prevent distortion\n",
    "# cap at 85\n",
    "# stop it out at 85\n",
    "\n",
    "def set_age_limit(age):\n",
    "    if float(age) > 85:\n",
    "        return float(85)\n",
    "    else:\n",
    "        return float(age)\n",
    "\n",
    "checking['CustomerAge'] = checking['CustomerAge'].apply(set_age_limit)"
   ]
  },
  {
   "cell_type": "code",
   "execution_count": null,
   "metadata": {
    "collapsed": false
   },
   "outputs": [],
   "source": [
    "# clean up the custid\n",
    "\n",
    "checking['PersonCode'] = checking['PersonCode'].apply(lambda x: str(int(x)).zfill(9))\n"
   ]
  },
  {
   "cell_type": "code",
   "execution_count": null,
   "metadata": {
    "collapsed": false
   },
   "outputs": [],
   "source": [
    "# get the info to see data types\n",
    "\n",
    "checking.info()"
   ]
  },
  {
   "cell_type": "code",
   "execution_count": null,
   "metadata": {
    "collapsed": false
   },
   "outputs": [],
   "source": [
    "# then join it with PersonType to make a CustID\n",
    "\n",
    "# ensure that CleanCust is a string\n",
    "\n",
    "checking['PersonCode'] = checking['PersonCode'].astype(str)\n",
    "\n",
    "checking['CustID'] = checking['PersonType'] + checking['PersonCode']\n",
    "\n",
    "checking.head()"
   ]
  },
  {
   "cell_type": "code",
   "execution_count": null,
   "metadata": {
    "collapsed": false
   },
   "outputs": [],
   "source": [
    "# make a Month-Year column for plotting later\n",
    "\n",
    "checking['MonthYear'] = checking['DateOpened'].apply(lambda x: x.strftime('%b-%y'))"
   ]
  },
  {
   "cell_type": "code",
   "execution_count": null,
   "metadata": {
    "collapsed": false
   },
   "outputs": [],
   "source": [
    "# make a year column for plotting later\n",
    "\n",
    "checking['Year'] = checking['DateOpened'].apply(lambda x: x.strftime('%Y'))\n",
    "\n",
    "checking.head()"
   ]
  },
  {
   "cell_type": "code",
   "execution_count": null,
   "metadata": {
    "collapsed": false
   },
   "outputs": [],
   "source": [
    "# subset only the checking accounts now\n",
    "\n",
    "chkOnly = checking[checking.Category == 'CHECKING'].copy()\n",
    "\n",
    "chkOnly.reset_index(drop = True)\n",
    "\n",
    "chkOnly.info()"
   ]
  },
  {
   "cell_type": "code",
   "execution_count": null,
   "metadata": {
    "collapsed": false
   },
   "outputs": [],
   "source": [
    "os.getcwd()"
   ]
  },
  {
   "cell_type": "code",
   "execution_count": null,
   "metadata": {
    "collapsed": true
   },
   "outputs": [],
   "source": [
    "checking.to_csv('2013to2017CheckingOpensClean.csv')"
   ]
  },
  {
   "cell_type": "code",
   "execution_count": null,
   "metadata": {
    "collapsed": true
   },
   "outputs": [],
   "source": [
    "chkOnly.to_csv('CleanCheckingOnly.csv')"
   ]
  },
  {
   "cell_type": "code",
   "execution_count": null,
   "metadata": {
    "collapsed": false
   },
   "outputs": [],
   "source": [
    "recentChk = chkOnly[(chkOnly['DateOpened'] > '2012-12-31')].copy()"
   ]
  },
  {
   "cell_type": "code",
   "execution_count": null,
   "metadata": {
    "collapsed": false
   },
   "outputs": [],
   "source": [
    "recentChk.info()"
   ]
  },
  {
   "cell_type": "code",
   "execution_count": null,
   "metadata": {
    "collapsed": false
   },
   "outputs": [],
   "source": [
    "recentChk = recentChk.sort_values(by='DateOpened')\n",
    "\n",
    "recentChk = recentChk.reset_index(drop = True)\n",
    "\n",
    "recentChk.head()"
   ]
  },
  {
   "cell_type": "code",
   "execution_count": null,
   "metadata": {
    "collapsed": false
   },
   "outputs": [],
   "source": [
    "# run a factorplot \n",
    "sns.set(font_scale=1.25)\n",
    "\n",
    "fig = sns.FacetGrid(data=recentChk, hue='Status', size = 4, row = 'Channel', aspect = 3, sharey=False)\n",
    "\n",
    "fig.map(sns.countplot,'MonthYear', alpha=0.6)\n",
    "\n",
    "plt.xticks(rotation=90)\n",
    "\n",
    "fig.add_legend(title='Channel')"
   ]
  },
  {
   "cell_type": "code",
   "execution_count": null,
   "metadata": {
    "collapsed": false
   },
   "outputs": [],
   "source": [
    "\n",
    "pd.options.display.float_format = '{:,.0f}'.format\n",
    "\n",
    "recentChk.groupby(['Year', 'Channel']).agg({'PersonCode' : pd.Series.count}).unstack()\n"
   ]
  },
  {
   "cell_type": "code",
   "execution_count": null,
   "metadata": {
    "collapsed": false
   },
   "outputs": [],
   "source": [
    "# run a factorplot \n",
    "sns.set(font_scale=1.25)\n",
    "\n",
    "fig = sns.FacetGrid(data=recentChk, hue='Channel', row = 'Channel', size = 3, aspect = 4, sharey = False)\n",
    "\n",
    "fig.map(sns.countplot,'MonthYear')\n",
    "\n",
    "plt.xticks(rotation=90)\n"
   ]
  },
  {
   "cell_type": "code",
   "execution_count": null,
   "metadata": {
    "collapsed": false
   },
   "outputs": [],
   "source": [
    "# display as a pivot table\n",
    "# pd.pivot_table(df,index=[\"Manager\",\"Rep\"],values=[\"Price\"],\n",
    " #              columns=[\"Product\"],aggfunc=[np.sum])\n",
    "\n",
    "pd.pivot_table(recentChk,index=['Channel'], values = ['PersonCode'], columns = ['Year'], aggfunc = {'PersonCode':len})"
   ]
  },
  {
   "cell_type": "code",
   "execution_count": null,
   "metadata": {
    "collapsed": false
   },
   "outputs": [],
   "source": [
    "# run a factorplot\n",
    "# not very good\n",
    "\n",
    "sns.set(font_scale=1.25)\n",
    "\n",
    "fig = sns.FacetGrid(data=recentChk, hue='AgeGroups', row = 'Channel', size = 3, aspect = 4, sharey = False)\n",
    "\n",
    "fig.map(sns.countplot,'MonthYear', alpha = 0.6)\n",
    "\n",
    "plt.xticks(rotation=90)\n",
    "\n",
    "fig.add_legend(title='Age Groups')"
   ]
  },
  {
   "cell_type": "code",
   "execution_count": null,
   "metadata": {
    "collapsed": true
   },
   "outputs": [],
   "source": [
    "# need to do a subset so we can see the relationship \n",
    "# between online goals and accounts\n",
    "\n",
    "chkRed = recentChk[['DateOpened', 'Channel', 'Status', 'MonthYear', 'Year', 'CustID']].copy()"
   ]
  },
  {
   "cell_type": "code",
   "execution_count": null,
   "metadata": {
    "collapsed": false
   },
   "outputs": [],
   "source": [
    "chkRed.info()"
   ]
  },
  {
   "cell_type": "code",
   "execution_count": null,
   "metadata": {
    "collapsed": false
   },
   "outputs": [],
   "source": [
    "# df.set_index('Date_Time').groupby(pd.TimeGrouper('D')).mean().dropna()\n",
    "# df = df.groupby([df['Date_Time'].dt.date]).mean()\n",
    "# df.groupby(df['Time'].apply(lambda x : x.date()))\n",
    "# grouped_dates['Time'].aggregate(len)\n",
    "\n",
    "chkSeries = chkRed.groupby(['DateOpened', 'Channel']).agg({'CustID' : pd.Series.count})\n",
    "\n",
    "chkSeries.head()"
   ]
  },
  {
   "cell_type": "code",
   "execution_count": null,
   "metadata": {
    "collapsed": false
   },
   "outputs": [],
   "source": [
    "chkSeries.shape[0]"
   ]
  },
  {
   "cell_type": "code",
   "execution_count": null,
   "metadata": {
    "collapsed": false
   },
   "outputs": [],
   "source": [
    "# now get the conversion series\n",
    "\n",
    "checkingGoals = pd.ExcelFile(os.path.normpath('C:/Users/n846490/Documents/DigitalAnalytics/CheckingAnalysis/CheckingGoals20152016.xlsx'))\n",
    "\n",
    "goals = checkingGoals.parse('Dataset2')\n",
    "goals.head()"
   ]
  },
  {
   "cell_type": "code",
   "execution_count": null,
   "metadata": {
    "collapsed": false
   },
   "outputs": [],
   "source": [
    "goals.shape[0]"
   ]
  },
  {
   "cell_type": "code",
   "execution_count": null,
   "metadata": {
    "collapsed": false
   },
   "outputs": [],
   "source": [
    "# drop the index to flatten the data\n",
    "\n",
    "# the code below would pivot the data but it is not needed for this\n",
    "# chkWide = chkSeries.pivot(index='DateOpened', columns='Channel', values='CustID')\n",
    "\n",
    "chkWide = chkSeries.reset_index()\n",
    "\n",
    "chkWide.head()\n"
   ]
  },
  {
   "cell_type": "code",
   "execution_count": null,
   "metadata": {
    "collapsed": false
   },
   "outputs": [],
   "source": [
    "goals.tail()"
   ]
  },
  {
   "cell_type": "code",
   "execution_count": null,
   "metadata": {
    "collapsed": false
   },
   "outputs": [],
   "source": [
    "chkWide.info()"
   ]
  },
  {
   "cell_type": "code",
   "execution_count": null,
   "metadata": {
    "collapsed": false
   },
   "outputs": [],
   "source": [
    "# make a merged plot to see the spread\n",
    "\n",
    "# set the figure size\n",
    "fig = plt.figure(figsize = (15,10))\n",
    "\n",
    "# use ax1 for plotting the goals\n",
    "# (211) cuts the subplot into two plots (rows), and 1 column, plot the first plot\n",
    "\n",
    "# the SRS\n",
    "ax1 = fig.add_subplot(211)\n",
    "ax1.plot(goals['Day Index'], goals.TotalCheckingGoals, color = 'skyblue', label = 'Checking Goals')\n",
    "\n",
    "# plot the openings\n",
    "ax1 = fig.add_subplot(211)\n",
    "\n",
    "# get the separate series from the wide data\n",
    "X1 = np.array(chkWide[chkWide['Channel'] == 'OnlinePhone']['DateOpened'])\n",
    "y2 = np.array(chkWide[chkWide['Channel'] == 'OnlinePhone']['CustID'])\n",
    "\n",
    "ax1.plot(X1, y2, color = 'salmon', label = 'Online')\n",
    "\n",
    "# plot the legend for the first plot\n",
    "ax1.legend(loc = 'upper right', fontsize = 14)\n",
    "\n",
    "plt.ylabel('Checking Goals and Openings for Online', fontsize=16)\n",
    "plt.setp(ax1.get_yticklabels(), fontsize=14) \n",
    "\n",
    "\n",
    "dstart = datetime(2015, 9, 21)\n",
    "dend = datetime(2017, 1, 1)\n",
    "\n",
    "plt.xlim(dstart,dend)\n",
    "plt.ylim(0,300)\n",
    "\n",
    "plt.tight_layout()\n",
    "plt.show()"
   ]
  },
  {
   "cell_type": "code",
   "execution_count": null,
   "metadata": {
    "collapsed": false
   },
   "outputs": [],
   "source": [
    "goals.info()"
   ]
  },
  {
   "cell_type": "code",
   "execution_count": null,
   "metadata": {
    "collapsed": false
   },
   "outputs": [],
   "source": [
    "#create a dataframe to export it\n",
    "# use this format recentChk = chkOnly[(chkOnly['DateOpened'] > '2012-12-31')].copy()\n",
    "\n",
    "# work on the merge prodRevData = pd.merge(revData, prodData, on = 'CustID')\n",
    "\n",
    "goals = goals[['Date', 'TotalCheckingGoals']]\n",
    "\n",
    "online = chkWide[(chkWide['Channel'] == 'OnlinePhone')].copy()\n",
    "\n",
    "online.rename(columns = {'DateOpened':'Date'}, inplace = True)\n",
    "\n",
    "goals.rename(columns = {'Day Index':'Date'}, inplace = True)\n",
    "\n",
    "goalsOnline = pd.merge(online, goals, on = 'Date', how = 'left')\n",
    "\n",
    "goalsOnline.head()\n",
    "\n",
    "# online.head()"
   ]
  },
  {
   "cell_type": "code",
   "execution_count": null,
   "metadata": {
    "collapsed": false
   },
   "outputs": [],
   "source": [
    "# fill the nan with zeros\n",
    "\n",
    "goalsOnline.rename(columns = {'CustID' : 'Accts'}, inplace = True)\n",
    "\n",
    "goalsOnline.fillna(0)\n",
    "\n",
    "goalsOnline.head()"
   ]
  },
  {
   "cell_type": "code",
   "execution_count": null,
   "metadata": {
    "collapsed": false
   },
   "outputs": [],
   "source": [
    "# create a function to clean TotalCheckingGoals\n",
    "def clean_nan(goal):\n",
    "    if pd.isnull(goal):\n",
    "        return 0\n",
    "    else:\n",
    "        return int(goal)\n",
    "    \n",
    "goalsOnline['TotalCheckingGoals'] = goalsOnline['TotalCheckingGoals'].apply(clean_nan)\n",
    "\n",
    "goalsOnline.head()"
   ]
  },
  {
   "cell_type": "code",
   "execution_count": null,
   "metadata": {
    "collapsed": false
   },
   "outputs": [],
   "source": [
    "goalsOnline.rename(columns = {'TotalCheckingGoals':'Goals'}, inplace = True)"
   ]
  },
  {
   "cell_type": "code",
   "execution_count": null,
   "metadata": {
    "collapsed": false
   },
   "outputs": [],
   "source": [
    "os.getcwd()"
   ]
  },
  {
   "cell_type": "code",
   "execution_count": null,
   "metadata": {
    "collapsed": true
   },
   "outputs": [],
   "source": [
    "goalsOnline.to_csv('checkingGoalsAccts.csv')"
   ]
  },
  {
   "cell_type": "code",
   "execution_count": null,
   "metadata": {
    "collapsed": true
   },
   "outputs": [],
   "source": []
  }
 ],
 "metadata": {
  "anaconda-cloud": {},
  "kernelspec": {
   "display_name": "Python [Root]",
   "language": "python",
   "name": "Python [Root]"
  },
  "language_info": {
   "codemirror_mode": {
    "name": "ipython",
    "version": 3
   },
   "file_extension": ".py",
   "mimetype": "text/x-python",
   "name": "python",
   "nbconvert_exporter": "python",
   "pygments_lexer": "ipython3",
   "version": "3.5.1"
  }
 },
 "nbformat": 4,
 "nbformat_minor": 0
}
