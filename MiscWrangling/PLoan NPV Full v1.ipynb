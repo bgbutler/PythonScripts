{
 "cells": [
  {
   "cell_type": "code",
   "execution_count": 1,
   "metadata": {
    "ExecuteTime": {
     "end_time": "2021-04-22T17:51:51.778981Z",
     "start_time": "2021-04-22T17:51:51.754045Z"
    }
   },
   "outputs": [
    {
     "name": "stdout",
     "output_type": "stream",
     "text": [
      "3.8.5 (default, Sep  3 2020, 21:29:08) [MSC v.1916 64 bit (AMD64)]\n",
      "C:\\ProgramData\\Anaconda3\\python.exe\n"
     ]
    },
    {
     "data": {
      "text/plain": [
       "'M:\\\\bbutler\\\\PLoan'"
      ]
     },
     "execution_count": 1,
     "metadata": {},
     "output_type": "execute_result"
    }
   ],
   "source": [
    "# Standard imports\n",
    "\n",
    "# get the environment\n",
    "import sys\n",
    "print(sys.version)\n",
    "print(sys.executable)\n",
    "import os\n",
    "os.getcwd()"
   ]
  },
  {
   "cell_type": "code",
   "execution_count": 2,
   "metadata": {
    "ExecuteTime": {
     "end_time": "2021-04-22T17:51:57.540545Z",
     "start_time": "2021-04-22T17:51:54.398936Z"
    }
   },
   "outputs": [],
   "source": [
    "# import base libraries\n",
    "import pandas as pd\n",
    "import numpy as np\n",
    "\n",
    "\n",
    "# set options\n",
    "pd.set_option('display.max_columns', 20)\n",
    "pd.set_option('display.max_rows', 100)\n",
    "pd.options.display.float_format = '{:.4f}'.format"
   ]
  },
  {
   "cell_type": "markdown",
   "metadata": {},
   "source": [
    "# Overview\n",
    "## This model is designed to take in loan terms (contract amount, term and apr) and then\n",
    "## returns the financial values of each loan: Monthly Payment, Interest Income,\n",
    "## Total Costs, Profit and NPV of Profit"
   ]
  },
  {
   "cell_type": "markdown",
   "metadata": {},
   "source": [
    "# Get the Data and Create a Function to Calculate Monthly Payment"
   ]
  },
  {
   "cell_type": "code",
   "execution_count": 3,
   "metadata": {
    "ExecuteTime": {
     "end_time": "2021-04-22T17:54:09.236193Z",
     "start_time": "2021-04-22T17:54:08.394446Z"
    }
   },
   "outputs": [
    {
     "data": {
      "text/html": [
       "<div>\n",
       "<style scoped>\n",
       "    .dataframe tbody tr th:only-of-type {\n",
       "        vertical-align: middle;\n",
       "    }\n",
       "\n",
       "    .dataframe tbody tr th {\n",
       "        vertical-align: top;\n",
       "    }\n",
       "\n",
       "    .dataframe thead th {\n",
       "        text-align: right;\n",
       "    }\n",
       "</style>\n",
       "<table border=\"1\" class=\"dataframe\">\n",
       "  <thead>\n",
       "    <tr style=\"text-align: right;\">\n",
       "      <th></th>\n",
       "      <th>AppId</th>\n",
       "      <th>ContractNum</th>\n",
       "      <th>contractAmt</th>\n",
       "      <th>Term</th>\n",
       "      <th>Interest Rate</th>\n",
       "    </tr>\n",
       "  </thead>\n",
       "  <tbody>\n",
       "    <tr>\n",
       "      <th>0</th>\n",
       "      <td>65398</td>\n",
       "      <td>3750024720</td>\n",
       "      <td>20000</td>\n",
       "      <td>60</td>\n",
       "      <td>9.7500</td>\n",
       "    </tr>\n",
       "    <tr>\n",
       "      <th>1</th>\n",
       "      <td>65413</td>\n",
       "      <td>3750024698</td>\n",
       "      <td>18000</td>\n",
       "      <td>60</td>\n",
       "      <td>9.4900</td>\n",
       "    </tr>\n",
       "    <tr>\n",
       "      <th>2</th>\n",
       "      <td>65423</td>\n",
       "      <td>3750024577</td>\n",
       "      <td>18000</td>\n",
       "      <td>60</td>\n",
       "      <td>8.7500</td>\n",
       "    </tr>\n",
       "    <tr>\n",
       "      <th>3</th>\n",
       "      <td>65435</td>\n",
       "      <td>3750024546</td>\n",
       "      <td>13000</td>\n",
       "      <td>60</td>\n",
       "      <td>11.4900</td>\n",
       "    </tr>\n",
       "    <tr>\n",
       "      <th>4</th>\n",
       "      <td>65441</td>\n",
       "      <td>3750024686</td>\n",
       "      <td>4500</td>\n",
       "      <td>60</td>\n",
       "      <td>11.4900</td>\n",
       "    </tr>\n",
       "  </tbody>\n",
       "</table>\n",
       "</div>"
      ],
      "text/plain": [
       "   AppId  ContractNum  contractAmt  Term  Interest Rate\n",
       "0  65398   3750024720        20000    60         9.7500\n",
       "1  65413   3750024698        18000    60         9.4900\n",
       "2  65423   3750024577        18000    60         8.7500\n",
       "3  65435   3750024546        13000    60        11.4900\n",
       "4  65441   3750024686         4500    60        11.4900"
      ]
     },
     "execution_count": 3,
     "metadata": {},
     "output_type": "execute_result"
    }
   ],
   "source": [
    "# set the directory\n",
    "loanDir = 'M:\\\\bbutler\\\\PLoan\\\\CRIF_210301'\n",
    "\n",
    "os.chdir(loanDir)\n",
    "\n",
    "# get the file\n",
    "# bring in balances\n",
    "\n",
    "fileName = 'PLoanPort2021.csv'\n",
    "\n",
    "ploanPort = pd.read_csv(fileName,low_memory=False)\n",
    "ploanPort.head()"
   ]
  },
  {
   "cell_type": "code",
   "execution_count": 4,
   "metadata": {
    "ExecuteTime": {
     "end_time": "2021-04-22T17:54:12.720107Z",
     "start_time": "2021-04-22T17:54:12.623124Z"
    }
   },
   "outputs": [
    {
     "data": {
      "text/html": [
       "<div>\n",
       "<style scoped>\n",
       "    .dataframe tbody tr th:only-of-type {\n",
       "        vertical-align: middle;\n",
       "    }\n",
       "\n",
       "    .dataframe tbody tr th {\n",
       "        vertical-align: top;\n",
       "    }\n",
       "\n",
       "    .dataframe thead th {\n",
       "        text-align: right;\n",
       "    }\n",
       "</style>\n",
       "<table border=\"1\" class=\"dataframe\">\n",
       "  <thead>\n",
       "    <tr style=\"text-align: right;\">\n",
       "      <th></th>\n",
       "      <th>AppId</th>\n",
       "      <th>ContractNum</th>\n",
       "      <th>ContractAmt</th>\n",
       "      <th>Term</th>\n",
       "      <th>APR</th>\n",
       "    </tr>\n",
       "  </thead>\n",
       "  <tbody>\n",
       "    <tr>\n",
       "      <th>0</th>\n",
       "      <td>65398</td>\n",
       "      <td>3750024720</td>\n",
       "      <td>20000</td>\n",
       "      <td>60</td>\n",
       "      <td>0.0975</td>\n",
       "    </tr>\n",
       "    <tr>\n",
       "      <th>1</th>\n",
       "      <td>65413</td>\n",
       "      <td>3750024698</td>\n",
       "      <td>18000</td>\n",
       "      <td>60</td>\n",
       "      <td>0.0949</td>\n",
       "    </tr>\n",
       "    <tr>\n",
       "      <th>2</th>\n",
       "      <td>65423</td>\n",
       "      <td>3750024577</td>\n",
       "      <td>18000</td>\n",
       "      <td>60</td>\n",
       "      <td>0.0875</td>\n",
       "    </tr>\n",
       "    <tr>\n",
       "      <th>3</th>\n",
       "      <td>65435</td>\n",
       "      <td>3750024546</td>\n",
       "      <td>13000</td>\n",
       "      <td>60</td>\n",
       "      <td>0.1149</td>\n",
       "    </tr>\n",
       "    <tr>\n",
       "      <th>4</th>\n",
       "      <td>65441</td>\n",
       "      <td>3750024686</td>\n",
       "      <td>4500</td>\n",
       "      <td>60</td>\n",
       "      <td>0.1149</td>\n",
       "    </tr>\n",
       "  </tbody>\n",
       "</table>\n",
       "</div>"
      ],
      "text/plain": [
       "   AppId ContractNum  ContractAmt  Term    APR\n",
       "0  65398  3750024720        20000    60 0.0975\n",
       "1  65413  3750024698        18000    60 0.0949\n",
       "2  65423  3750024577        18000    60 0.0875\n",
       "3  65435  3750024546        13000    60 0.1149\n",
       "4  65441  3750024686         4500    60 0.1149"
      ]
     },
     "execution_count": 4,
     "metadata": {},
     "output_type": "execute_result"
    }
   ],
   "source": [
    "# change the interest rate \n",
    "\n",
    "ploanPort['Interest Rate'] = ploanPort['Interest Rate']/100\n",
    "ploanPort.columns = ['AppId', 'ContractNum', 'ContractAmt', 'Term', 'APR']\n",
    "ploanPort['AppId'] = ploanPort['AppId'].astype(str)\n",
    "ploanPort['ContractNum'] = ploanPort['ContractNum'].astype(str)\n",
    "ploanPort.head()"
   ]
  },
  {
   "cell_type": "code",
   "execution_count": 5,
   "metadata": {
    "ExecuteTime": {
     "end_time": "2021-04-22T17:54:23.733549Z",
     "start_time": "2021-04-22T17:54:23.726570Z"
    }
   },
   "outputs": [],
   "source": [
    "# formula to calculate the payment\n",
    "def calcPayment(origBalance, term, apr):\n",
    "    \"\"\"\n",
    "    Function calculates the monthly payment for a Loan given the balance, term and apr\n",
    "    \n",
    "    term: should be a period in months\n",
    "    \n",
    "    \n",
    "    \"\"\"\n",
    "    # break formula into numerator and denominator\n",
    "    numerator = (origBalance * (apr/12) * (1+(apr/12))**term)\n",
    "    denominator = (((1+(apr/12))**term) - 1)\n",
    "    \n",
    "    monthPayment = numerator/denominator\n",
    "    \n",
    "    return monthPayment"
   ]
  },
  {
   "cell_type": "code",
   "execution_count": 6,
   "metadata": {
    "ExecuteTime": {
     "end_time": "2021-04-22T17:54:32.701979Z",
     "start_time": "2021-04-22T17:54:32.647127Z"
    }
   },
   "outputs": [
    {
     "data": {
      "text/html": [
       "<div>\n",
       "<style scoped>\n",
       "    .dataframe tbody tr th:only-of-type {\n",
       "        vertical-align: middle;\n",
       "    }\n",
       "\n",
       "    .dataframe tbody tr th {\n",
       "        vertical-align: top;\n",
       "    }\n",
       "\n",
       "    .dataframe thead th {\n",
       "        text-align: right;\n",
       "    }\n",
       "</style>\n",
       "<table border=\"1\" class=\"dataframe\">\n",
       "  <thead>\n",
       "    <tr style=\"text-align: right;\">\n",
       "      <th></th>\n",
       "      <th>AppId</th>\n",
       "      <th>ContractNum</th>\n",
       "      <th>ContractAmt</th>\n",
       "      <th>Term</th>\n",
       "      <th>APR</th>\n",
       "      <th>CalcPayment</th>\n",
       "    </tr>\n",
       "  </thead>\n",
       "  <tbody>\n",
       "    <tr>\n",
       "      <th>0</th>\n",
       "      <td>65398</td>\n",
       "      <td>3750024720</td>\n",
       "      <td>20000</td>\n",
       "      <td>60</td>\n",
       "      <td>0.0975</td>\n",
       "      <td>422.4849</td>\n",
       "    </tr>\n",
       "    <tr>\n",
       "      <th>1</th>\n",
       "      <td>65413</td>\n",
       "      <td>3750024698</td>\n",
       "      <td>18000</td>\n",
       "      <td>60</td>\n",
       "      <td>0.0949</td>\n",
       "      <td>377.9455</td>\n",
       "    </tr>\n",
       "    <tr>\n",
       "      <th>2</th>\n",
       "      <td>65423</td>\n",
       "      <td>3750024577</td>\n",
       "      <td>18000</td>\n",
       "      <td>60</td>\n",
       "      <td>0.0875</td>\n",
       "      <td>371.4702</td>\n",
       "    </tr>\n",
       "    <tr>\n",
       "      <th>3</th>\n",
       "      <td>65435</td>\n",
       "      <td>3750024546</td>\n",
       "      <td>13000</td>\n",
       "      <td>60</td>\n",
       "      <td>0.1149</td>\n",
       "      <td>285.8386</td>\n",
       "    </tr>\n",
       "    <tr>\n",
       "      <th>4</th>\n",
       "      <td>65441</td>\n",
       "      <td>3750024686</td>\n",
       "      <td>4500</td>\n",
       "      <td>60</td>\n",
       "      <td>0.1149</td>\n",
       "      <td>98.9441</td>\n",
       "    </tr>\n",
       "  </tbody>\n",
       "</table>\n",
       "</div>"
      ],
      "text/plain": [
       "   AppId ContractNum  ContractAmt  Term    APR  CalcPayment\n",
       "0  65398  3750024720        20000    60 0.0975     422.4849\n",
       "1  65413  3750024698        18000    60 0.0949     377.9455\n",
       "2  65423  3750024577        18000    60 0.0875     371.4702\n",
       "3  65435  3750024546        13000    60 0.1149     285.8386\n",
       "4  65441  3750024686         4500    60 0.1149      98.9441"
      ]
     },
     "execution_count": 6,
     "metadata": {},
     "output_type": "execute_result"
    }
   ],
   "source": [
    "# create payment \n",
    "\n",
    "ploanPort['CalcPayment'] = ploanPort.apply(lambda df: calcPayment(df.ContractAmt, df.Term, df.APR), axis = 1)\n",
    "ploanPort.head()"
   ]
  },
  {
   "cell_type": "markdown",
   "metadata": {},
   "source": [
    "# Set up Key Inputs & Model Parameters"
   ]
  },
  {
   "cell_type": "markdown",
   "metadata": {
    "ExecuteTime": {
     "end_time": "2020-12-10T16:52:29.424757Z",
     "start_time": "2020-12-10T16:52:29.421761Z"
    }
   },
   "source": [
    "## The model utilizes two data frames to perform all calculations.\n",
    "## 1. Input dataframe contains the loan ID, and loan details: contract amt, term and apr\n",
    "## 2. The second dataframe calculates the details of the loan for each month of the loan term and applies discounting to generate the NPV of the loan.\n",
    "\n",
    "## The model loops through all of the loans in the 1st dataframe to generate a 2nd temporary dataframe for each loan which is rolled up and the values are transferred back to the 1st dataframe with the rest of the financial resolts."
   ]
  },
  {
   "cell_type": "markdown",
   "metadata": {},
   "source": [
    "# Step 1: Calculate Interest (This is the Loan Revenue)"
   ]
  },
  {
   "cell_type": "code",
   "execution_count": 7,
   "metadata": {
    "ExecuteTime": {
     "end_time": "2021-04-22T17:55:30.517644Z",
     "start_time": "2021-04-22T17:55:30.495704Z"
    }
   },
   "outputs": [
    {
     "data": {
      "text/html": [
       "<div>\n",
       "<style scoped>\n",
       "    .dataframe tbody tr th:only-of-type {\n",
       "        vertical-align: middle;\n",
       "    }\n",
       "\n",
       "    .dataframe tbody tr th {\n",
       "        vertical-align: top;\n",
       "    }\n",
       "\n",
       "    .dataframe thead th {\n",
       "        text-align: right;\n",
       "    }\n",
       "</style>\n",
       "<table border=\"1\" class=\"dataframe\">\n",
       "  <thead>\n",
       "    <tr style=\"text-align: right;\">\n",
       "      <th></th>\n",
       "      <th>AppId</th>\n",
       "      <th>ContractNum</th>\n",
       "      <th>ContractAmt</th>\n",
       "      <th>Term</th>\n",
       "      <th>APR</th>\n",
       "      <th>CalcPayment</th>\n",
       "      <th>Interest</th>\n",
       "    </tr>\n",
       "  </thead>\n",
       "  <tbody>\n",
       "    <tr>\n",
       "      <th>0</th>\n",
       "      <td>65398</td>\n",
       "      <td>3750024720</td>\n",
       "      <td>20000</td>\n",
       "      <td>60</td>\n",
       "      <td>0.0975</td>\n",
       "      <td>422.4849</td>\n",
       "      <td>5349.0924</td>\n",
       "    </tr>\n",
       "    <tr>\n",
       "      <th>1</th>\n",
       "      <td>65413</td>\n",
       "      <td>3750024698</td>\n",
       "      <td>18000</td>\n",
       "      <td>60</td>\n",
       "      <td>0.0949</td>\n",
       "      <td>377.9455</td>\n",
       "      <td>4676.7327</td>\n",
       "    </tr>\n",
       "    <tr>\n",
       "      <th>2</th>\n",
       "      <td>65423</td>\n",
       "      <td>3750024577</td>\n",
       "      <td>18000</td>\n",
       "      <td>60</td>\n",
       "      <td>0.0875</td>\n",
       "      <td>371.4702</td>\n",
       "      <td>4288.2113</td>\n",
       "    </tr>\n",
       "    <tr>\n",
       "      <th>3</th>\n",
       "      <td>65435</td>\n",
       "      <td>3750024546</td>\n",
       "      <td>13000</td>\n",
       "      <td>60</td>\n",
       "      <td>0.1149</td>\n",
       "      <td>285.8386</td>\n",
       "      <td>4150.3182</td>\n",
       "    </tr>\n",
       "    <tr>\n",
       "      <th>4</th>\n",
       "      <td>65441</td>\n",
       "      <td>3750024686</td>\n",
       "      <td>4500</td>\n",
       "      <td>60</td>\n",
       "      <td>0.1149</td>\n",
       "      <td>98.9441</td>\n",
       "      <td>1436.6486</td>\n",
       "    </tr>\n",
       "  </tbody>\n",
       "</table>\n",
       "</div>"
      ],
      "text/plain": [
       "   AppId ContractNum  ContractAmt  Term    APR  CalcPayment  Interest\n",
       "0  65398  3750024720        20000    60 0.0975     422.4849 5349.0924\n",
       "1  65413  3750024698        18000    60 0.0949     377.9455 4676.7327\n",
       "2  65423  3750024577        18000    60 0.0875     371.4702 4288.2113\n",
       "3  65435  3750024546        13000    60 0.1149     285.8386 4150.3182\n",
       "4  65441  3750024686         4500    60 0.1149      98.9441 1436.6486"
      ]
     },
     "execution_count": 7,
     "metadata": {},
     "output_type": "execute_result"
    }
   ],
   "source": [
    "ploanPort['Interest'] = (ploanPort['CalcPayment']*ploanPort['Term']) - ploanPort['ContractAmt']\n",
    "ploanPort.head()"
   ]
  },
  {
   "cell_type": "markdown",
   "metadata": {},
   "source": [
    "# Build out the 2nd dataframe of loan details (revenue and costs)"
   ]
  },
  {
   "cell_type": "code",
   "execution_count": 8,
   "metadata": {
    "ExecuteTime": {
     "end_time": "2021-04-22T17:55:39.851954Z",
     "start_time": "2021-04-22T17:55:39.833998Z"
    }
   },
   "outputs": [
    {
     "data": {
      "text/html": [
       "<div>\n",
       "<style scoped>\n",
       "    .dataframe tbody tr th:only-of-type {\n",
       "        vertical-align: middle;\n",
       "    }\n",
       "\n",
       "    .dataframe tbody tr th {\n",
       "        vertical-align: top;\n",
       "    }\n",
       "\n",
       "    .dataframe thead th {\n",
       "        text-align: right;\n",
       "    }\n",
       "</style>\n",
       "<table border=\"1\" class=\"dataframe\">\n",
       "  <thead>\n",
       "    <tr style=\"text-align: right;\">\n",
       "      <th></th>\n",
       "      <th>AppId</th>\n",
       "    </tr>\n",
       "  </thead>\n",
       "  <tbody>\n",
       "    <tr>\n",
       "      <th>0</th>\n",
       "      <td>65398</td>\n",
       "    </tr>\n",
       "    <tr>\n",
       "      <th>1</th>\n",
       "      <td>65413</td>\n",
       "    </tr>\n",
       "    <tr>\n",
       "      <th>2</th>\n",
       "      <td>65423</td>\n",
       "    </tr>\n",
       "    <tr>\n",
       "      <th>3</th>\n",
       "      <td>65435</td>\n",
       "    </tr>\n",
       "    <tr>\n",
       "      <th>4</th>\n",
       "      <td>65441</td>\n",
       "    </tr>\n",
       "  </tbody>\n",
       "</table>\n",
       "</div>"
      ],
      "text/plain": [
       "   AppId\n",
       "0  65398\n",
       "1  65413\n",
       "2  65423\n",
       "3  65435\n",
       "4  65441"
      ]
     },
     "execution_count": 8,
     "metadata": {},
     "output_type": "execute_result"
    }
   ],
   "source": [
    "# drop AppID\n",
    "df = ploanPort[['AppId']].copy()\n",
    "df['AppId'] = df['AppId'].astype('str')\n",
    "df.head()\n"
   ]
  },
  {
   "cell_type": "code",
   "execution_count": 9,
   "metadata": {
    "ExecuteTime": {
     "end_time": "2021-04-22T17:55:41.853811Z",
     "start_time": "2021-04-22T17:55:41.831868Z"
    }
   },
   "outputs": [
    {
     "data": {
      "text/html": [
       "<div>\n",
       "<style scoped>\n",
       "    .dataframe tbody tr th:only-of-type {\n",
       "        vertical-align: middle;\n",
       "    }\n",
       "\n",
       "    .dataframe tbody tr th {\n",
       "        vertical-align: top;\n",
       "    }\n",
       "\n",
       "    .dataframe thead th {\n",
       "        text-align: right;\n",
       "    }\n",
       "</style>\n",
       "<table border=\"1\" class=\"dataframe\">\n",
       "  <thead>\n",
       "    <tr style=\"text-align: right;\">\n",
       "      <th></th>\n",
       "      <th>ContractNum</th>\n",
       "      <th>ContractAmt</th>\n",
       "      <th>Term</th>\n",
       "      <th>APR</th>\n",
       "      <th>CalcPayment</th>\n",
       "      <th>Interest</th>\n",
       "    </tr>\n",
       "  </thead>\n",
       "  <tbody>\n",
       "    <tr>\n",
       "      <th>0</th>\n",
       "      <td>3750024720</td>\n",
       "      <td>20000</td>\n",
       "      <td>60</td>\n",
       "      <td>0.0975</td>\n",
       "      <td>422.4849</td>\n",
       "      <td>5349.0924</td>\n",
       "    </tr>\n",
       "    <tr>\n",
       "      <th>1</th>\n",
       "      <td>3750024698</td>\n",
       "      <td>18000</td>\n",
       "      <td>60</td>\n",
       "      <td>0.0949</td>\n",
       "      <td>377.9455</td>\n",
       "      <td>4676.7327</td>\n",
       "    </tr>\n",
       "    <tr>\n",
       "      <th>2</th>\n",
       "      <td>3750024577</td>\n",
       "      <td>18000</td>\n",
       "      <td>60</td>\n",
       "      <td>0.0875</td>\n",
       "      <td>371.4702</td>\n",
       "      <td>4288.2113</td>\n",
       "    </tr>\n",
       "    <tr>\n",
       "      <th>3</th>\n",
       "      <td>3750024546</td>\n",
       "      <td>13000</td>\n",
       "      <td>60</td>\n",
       "      <td>0.1149</td>\n",
       "      <td>285.8386</td>\n",
       "      <td>4150.3182</td>\n",
       "    </tr>\n",
       "    <tr>\n",
       "      <th>4</th>\n",
       "      <td>3750024686</td>\n",
       "      <td>4500</td>\n",
       "      <td>60</td>\n",
       "      <td>0.1149</td>\n",
       "      <td>98.9441</td>\n",
       "      <td>1436.6486</td>\n",
       "    </tr>\n",
       "  </tbody>\n",
       "</table>\n",
       "</div>"
      ],
      "text/plain": [
       "  ContractNum  ContractAmt  Term    APR  CalcPayment  Interest\n",
       "0  3750024720        20000    60 0.0975     422.4849 5349.0924\n",
       "1  3750024698        18000    60 0.0949     377.9455 4676.7327\n",
       "2  3750024577        18000    60 0.0875     371.4702 4288.2113\n",
       "3  3750024546        13000    60 0.1149     285.8386 4150.3182\n",
       "4  3750024686         4500    60 0.1149      98.9441 1436.6486"
      ]
     },
     "execution_count": 9,
     "metadata": {},
     "output_type": "execute_result"
    }
   ],
   "source": [
    "ploanPort = ploanPort.drop('AppId', axis = 1)\n",
    "ploanPort.head()"
   ]
  },
  {
   "cell_type": "code",
   "execution_count": 10,
   "metadata": {
    "ExecuteTime": {
     "end_time": "2021-04-22T17:55:44.198306Z",
     "start_time": "2021-04-22T17:55:44.190328Z"
    }
   },
   "outputs": [
    {
     "data": {
      "text/plain": [
       "118"
      ]
     },
     "execution_count": 10,
     "metadata": {},
     "output_type": "execute_result"
    }
   ],
   "source": [
    "numLoans = len(ploanPort)\n",
    "numLoans"
   ]
  },
  {
   "cell_type": "code",
   "execution_count": 11,
   "metadata": {
    "ExecuteTime": {
     "end_time": "2021-04-22T17:56:16.435029Z",
     "start_time": "2021-04-22T17:55:57.440769Z"
    },
    "scrolled": true
   },
   "outputs": [],
   "source": [
    "# key parameters\n",
    "numLoans = len(ploanPort)\n",
    "ln = 0\n",
    "\n",
    "while ln < numLoans:\n",
    "\n",
    "    ########################  MODEL INPUTS FROM THE CSV\n",
    "    monthly = ploanPort['CalcPayment'][ln]\n",
    "    orig = ploanPort['ContractAmt'][ln]\n",
    "    term = ploanPort['Term'][ln].astype(int)\n",
    "    rate = ploanPort['APR'][ln]\n",
    "\n",
    "\n",
    "    ######################  COST PARAMS TO BE PROVIDED BY PRODUCT\n",
    "    # inputs for loan costs\n",
    "    costOfFunds = .025\n",
    "    provisions = .01\n",
    "    servicingCosts = 13.34\n",
    "    nplRate = .0025\n",
    "    originationCosts = 54.72\n",
    "    earlyPayoff = .0043\n",
    "    docSupport = 19.56\n",
    "    discountRate = .10\n",
    "\n",
    "    #############    BEGIN THE DATAFRAME BUILD\n",
    "    # populate period for first loan\n",
    "    periods = np.array(range(0,term + 1))\n",
    "\n",
    "    # create the empty data frame\n",
    "    dict = {'Period': periods}\n",
    "\n",
    "    loanDf = pd.DataFrame(dict)\n",
    "\n",
    "    # fill in the monthly\n",
    "    loanDf['MonthlyPayment'] = monthly\n",
    "\n",
    "    # zero out monthly payment for first month\n",
    "    loanDf.loc[0, 'MonthlyPayment'] = 0\n",
    "\n",
    "    # get the beginning balance\n",
    "    loanDf['BeginBal'] = orig\n",
    "\n",
    "    # now iterate through to generate outstanding balance for each subsequent term\n",
    "    loanDf.loc[0, 'OutBal'] = loanDf.loc[0, 'BeginBal'] - loanDf.loc[0, 'MonthlyPayment']\n",
    "\n",
    "    for i in range(1, len(loanDf)):\n",
    "        loanDf.loc[i, 'BeginBal'] = loanDf.loc[i - 1, 'OutBal']\n",
    "        loanDf.loc[i, 'OutBal'] = loanDf.loc[i, 'BeginBal'] * (1 + rate/12) - loanDf.loc[i, 'MonthlyPayment']\n",
    "\n",
    "    # then drop row zero will only need to calculate for terms 1 to n (end)\n",
    "    loanDf = loanDf.drop(0)\n",
    "\n",
    "    # create interest income\n",
    "    loanDf['IntIncome'] = (loanDf['BeginBal']*(1+rate/12))-loanDf['BeginBal']\n",
    "\n",
    "\n",
    "    # create all of the cost columns from the inputs\n",
    "    # append them all to a list\n",
    "    loanDf['CostOfFunds'] = loanDf['OutBal'] * costOfFunds/12\n",
    "    loanDf['Provisions'] = loanDf['OutBal'] * provisions/12\n",
    "    loanDf['ServicingCosts'] = loanDf['Period'].apply(lambda x: servicingCosts if x < term else 0)\n",
    "    loanDf['OriginationCosts'] = originationCosts/term\n",
    "    loanDf['DocSupport'] = docSupport/term\n",
    "    loanDf['EarlyPayment'] = loanDf['OutBal'] * earlyPayoff/12\n",
    "\n",
    "\n",
    "    # select the columns to add up for costs\n",
    "    costCols = ['CostOfFunds', 'Provisions', 'ServicingCosts',\n",
    "             'OriginationCosts', 'DocSupport', 'EarlyPayment']\n",
    "\n",
    "    # make a total cost by summing up the cost columns\n",
    "    loanDf['TotalCost'] = loanDf.loc[:,costCols].sum(axis=1)\n",
    "\n",
    "    # calculate undiscounted profit/loss\n",
    "    loanDf['Profit'] = loanDf['IntIncome'] - loanDf['TotalCost']\n",
    "\n",
    "    # calculate NPV for the loan at each term\n",
    "    loanDf['NPV'] = loanDf['Profit']/((1+discountRate/12)**loanDf['Period'])\n",
    "\n",
    "\n",
    "    # roll it all up into a new aggregate dataframe\n",
    "    loanTotal = loanDf.groupby(['MonthlyPayment'],\n",
    "                            as_index=False).agg({'IntIncome': np.sum,\n",
    "                                                 'TotalCost': np.sum,\n",
    "                                                 'Profit': np.sum,\n",
    "                                                 'NPV': np.sum})\n",
    "\n",
    "\n",
    "    # set the columns to append last three: TotalCost, Profit, NPV\n",
    "    cols = loanTotal.columns[2:].values.tolist()\n",
    "\n",
    "    # create the colums in the original dataframe\n",
    "    ploanPort = pd.concat([ploanPort,pd.DataFrame(columns=list(cols))])\n",
    "\n",
    "    # set the columns to append last three: TotalCost, Profit, NPV\n",
    "    cols = loanTotal.columns[2:].values.tolist()\n",
    "\n",
    "    # create the colums in the original dataframe\n",
    "    ploanPort = pd.concat([ploanPort,pd.DataFrame(columns=list(cols))])\n",
    "    ploanPort.head()\n",
    "\n",
    "    # put this in the porfolio DB\n",
    "    j = 1\n",
    "\n",
    "    for i in range(2,5):\n",
    "        ploanPort.iloc[ln,j+5] = loanTotal.iloc[0,i]\n",
    "        j += 1\n",
    "    \n",
    "    # go to the next loan\n",
    "    ln +=1\n",
    "    \n",
    "    "
   ]
  },
  {
   "cell_type": "markdown",
   "metadata": {},
   "source": [
    "# Get the Final Update Worksheet"
   ]
  },
  {
   "cell_type": "code",
   "execution_count": 12,
   "metadata": {
    "ExecuteTime": {
     "end_time": "2021-04-22T18:15:59.391758Z",
     "start_time": "2021-04-22T18:15:59.371811Z"
    }
   },
   "outputs": [
    {
     "data": {
      "text/html": [
       "<div>\n",
       "<style scoped>\n",
       "    .dataframe tbody tr th:only-of-type {\n",
       "        vertical-align: middle;\n",
       "    }\n",
       "\n",
       "    .dataframe tbody tr th {\n",
       "        vertical-align: top;\n",
       "    }\n",
       "\n",
       "    .dataframe thead th {\n",
       "        text-align: right;\n",
       "    }\n",
       "</style>\n",
       "<table border=\"1\" class=\"dataframe\">\n",
       "  <thead>\n",
       "    <tr style=\"text-align: right;\">\n",
       "      <th></th>\n",
       "      <th>ContractNum</th>\n",
       "      <th>ContractAmt</th>\n",
       "      <th>Term</th>\n",
       "      <th>APR</th>\n",
       "      <th>CalcPayment</th>\n",
       "      <th>Interest</th>\n",
       "      <th>TotalCost</th>\n",
       "      <th>Profit</th>\n",
       "      <th>NPV</th>\n",
       "    </tr>\n",
       "  </thead>\n",
       "  <tbody>\n",
       "    <tr>\n",
       "      <th>0</th>\n",
       "      <td>3750024720</td>\n",
       "      <td>20000.0000</td>\n",
       "      <td>60.0000</td>\n",
       "      <td>0.0975</td>\n",
       "      <td>422.4849</td>\n",
       "      <td>5349.0924</td>\n",
       "      <td>2951.9357</td>\n",
       "      <td>2397.1567</td>\n",
       "      <td>2063.3638</td>\n",
       "    </tr>\n",
       "    <tr>\n",
       "      <th>1</th>\n",
       "      <td>3750024698</td>\n",
       "      <td>18000.0000</td>\n",
       "      <td>60.0000</td>\n",
       "      <td>0.0949</td>\n",
       "      <td>377.9455</td>\n",
       "      <td>4676.7327</td>\n",
       "      <td>2739.1191</td>\n",
       "      <td>1937.6136</td>\n",
       "      <td>1676.9526</td>\n",
       "    </tr>\n",
       "    <tr>\n",
       "      <th>2</th>\n",
       "      <td>3750024577</td>\n",
       "      <td>18000.0000</td>\n",
       "      <td>60.0000</td>\n",
       "      <td>0.0875</td>\n",
       "      <td>371.4702</td>\n",
       "      <td>4288.2113</td>\n",
       "      <td>2728.4095</td>\n",
       "      <td>1559.8018</td>\n",
       "      <td>1359.4844</td>\n",
       "    </tr>\n",
       "    <tr>\n",
       "      <th>3</th>\n",
       "      <td>3750024546</td>\n",
       "      <td>13000.0000</td>\n",
       "      <td>60.0000</td>\n",
       "      <td>0.1149</td>\n",
       "      <td>285.8386</td>\n",
       "      <td>4150.3182</td>\n",
       "      <td>2238.3255</td>\n",
       "      <td>1911.9927</td>\n",
       "      <td>1653.5599</td>\n",
       "    </tr>\n",
       "    <tr>\n",
       "      <th>4</th>\n",
       "      <td>3750024686</td>\n",
       "      <td>4500.0000</td>\n",
       "      <td>60.0000</td>\n",
       "      <td>0.1149</td>\n",
       "      <td>98.9441</td>\n",
       "      <td>1436.6486</td>\n",
       "      <td>1337.9888</td>\n",
       "      <td>98.6598</td>\n",
       "      <td>129.0712</td>\n",
       "    </tr>\n",
       "  </tbody>\n",
       "</table>\n",
       "</div>"
      ],
      "text/plain": [
       "  ContractNum  ContractAmt    Term    APR  CalcPayment  Interest TotalCost  \\\n",
       "0  3750024720   20000.0000 60.0000 0.0975     422.4849 5349.0924 2951.9357   \n",
       "1  3750024698   18000.0000 60.0000 0.0949     377.9455 4676.7327 2739.1191   \n",
       "2  3750024577   18000.0000 60.0000 0.0875     371.4702 4288.2113 2728.4095   \n",
       "3  3750024546   13000.0000 60.0000 0.1149     285.8386 4150.3182 2238.3255   \n",
       "4  3750024686    4500.0000 60.0000 0.1149      98.9441 1436.6486 1337.9888   \n",
       "\n",
       "     Profit       NPV  \n",
       "0 2397.1567 2063.3638  \n",
       "1 1937.6136 1676.9526  \n",
       "2 1559.8018 1359.4844  \n",
       "3 1911.9927 1653.5599  \n",
       "4   98.6598  129.0712  "
      ]
     },
     "execution_count": 12,
     "metadata": {},
     "output_type": "execute_result"
    }
   ],
   "source": [
    "ploanPort.head()"
   ]
  },
  {
   "cell_type": "code",
   "execution_count": 13,
   "metadata": {
    "ExecuteTime": {
     "end_time": "2021-04-22T18:16:17.034227Z",
     "start_time": "2021-04-22T18:16:17.009293Z"
    }
   },
   "outputs": [
    {
     "data": {
      "text/html": [
       "<div>\n",
       "<style scoped>\n",
       "    .dataframe tbody tr th:only-of-type {\n",
       "        vertical-align: middle;\n",
       "    }\n",
       "\n",
       "    .dataframe tbody tr th {\n",
       "        vertical-align: top;\n",
       "    }\n",
       "\n",
       "    .dataframe thead th {\n",
       "        text-align: right;\n",
       "    }\n",
       "</style>\n",
       "<table border=\"1\" class=\"dataframe\">\n",
       "  <thead>\n",
       "    <tr style=\"text-align: right;\">\n",
       "      <th></th>\n",
       "      <th>ContractNum</th>\n",
       "      <th>ContractAmt</th>\n",
       "      <th>Term</th>\n",
       "      <th>APR</th>\n",
       "      <th>CalcPayment</th>\n",
       "      <th>Interest</th>\n",
       "      <th>TotalCost</th>\n",
       "      <th>Profit</th>\n",
       "      <th>NPV</th>\n",
       "      <th>AppId</th>\n",
       "    </tr>\n",
       "  </thead>\n",
       "  <tbody>\n",
       "    <tr>\n",
       "      <th>0</th>\n",
       "      <td>3750024720</td>\n",
       "      <td>20000.0000</td>\n",
       "      <td>60.0000</td>\n",
       "      <td>0.0975</td>\n",
       "      <td>422.4849</td>\n",
       "      <td>5349.0924</td>\n",
       "      <td>2951.9357</td>\n",
       "      <td>2397.1567</td>\n",
       "      <td>2063.3638</td>\n",
       "      <td>65398</td>\n",
       "    </tr>\n",
       "    <tr>\n",
       "      <th>1</th>\n",
       "      <td>3750024698</td>\n",
       "      <td>18000.0000</td>\n",
       "      <td>60.0000</td>\n",
       "      <td>0.0949</td>\n",
       "      <td>377.9455</td>\n",
       "      <td>4676.7327</td>\n",
       "      <td>2739.1191</td>\n",
       "      <td>1937.6136</td>\n",
       "      <td>1676.9526</td>\n",
       "      <td>65413</td>\n",
       "    </tr>\n",
       "    <tr>\n",
       "      <th>2</th>\n",
       "      <td>3750024577</td>\n",
       "      <td>18000.0000</td>\n",
       "      <td>60.0000</td>\n",
       "      <td>0.0875</td>\n",
       "      <td>371.4702</td>\n",
       "      <td>4288.2113</td>\n",
       "      <td>2728.4095</td>\n",
       "      <td>1559.8018</td>\n",
       "      <td>1359.4844</td>\n",
       "      <td>65423</td>\n",
       "    </tr>\n",
       "    <tr>\n",
       "      <th>3</th>\n",
       "      <td>3750024546</td>\n",
       "      <td>13000.0000</td>\n",
       "      <td>60.0000</td>\n",
       "      <td>0.1149</td>\n",
       "      <td>285.8386</td>\n",
       "      <td>4150.3182</td>\n",
       "      <td>2238.3255</td>\n",
       "      <td>1911.9927</td>\n",
       "      <td>1653.5599</td>\n",
       "      <td>65435</td>\n",
       "    </tr>\n",
       "    <tr>\n",
       "      <th>4</th>\n",
       "      <td>3750024686</td>\n",
       "      <td>4500.0000</td>\n",
       "      <td>60.0000</td>\n",
       "      <td>0.1149</td>\n",
       "      <td>98.9441</td>\n",
       "      <td>1436.6486</td>\n",
       "      <td>1337.9888</td>\n",
       "      <td>98.6598</td>\n",
       "      <td>129.0712</td>\n",
       "      <td>65441</td>\n",
       "    </tr>\n",
       "  </tbody>\n",
       "</table>\n",
       "</div>"
      ],
      "text/plain": [
       "  ContractNum  ContractAmt    Term    APR  CalcPayment  Interest TotalCost  \\\n",
       "0  3750024720   20000.0000 60.0000 0.0975     422.4849 5349.0924 2951.9357   \n",
       "1  3750024698   18000.0000 60.0000 0.0949     377.9455 4676.7327 2739.1191   \n",
       "2  3750024577   18000.0000 60.0000 0.0875     371.4702 4288.2113 2728.4095   \n",
       "3  3750024546   13000.0000 60.0000 0.1149     285.8386 4150.3182 2238.3255   \n",
       "4  3750024686    4500.0000 60.0000 0.1149      98.9441 1436.6486 1337.9888   \n",
       "\n",
       "     Profit       NPV  AppId  \n",
       "0 2397.1567 2063.3638  65398  \n",
       "1 1937.6136 1676.9526  65413  \n",
       "2 1559.8018 1359.4844  65423  \n",
       "3 1911.9927 1653.5599  65435  \n",
       "4   98.6598  129.0712  65441  "
      ]
     },
     "execution_count": 13,
     "metadata": {},
     "output_type": "execute_result"
    }
   ],
   "source": [
    "# bind app id\n",
    "ploanPort['AppId'] = df['AppId'].copy()\n",
    "ploanPort.head()"
   ]
  },
  {
   "cell_type": "code",
   "execution_count": 14,
   "metadata": {
    "ExecuteTime": {
     "end_time": "2021-04-22T18:16:27.434182Z",
     "start_time": "2021-04-22T18:16:27.402267Z"
    }
   },
   "outputs": [
    {
     "data": {
      "text/html": [
       "<div>\n",
       "<style scoped>\n",
       "    .dataframe tbody tr th:only-of-type {\n",
       "        vertical-align: middle;\n",
       "    }\n",
       "\n",
       "    .dataframe tbody tr th {\n",
       "        vertical-align: top;\n",
       "    }\n",
       "\n",
       "    .dataframe thead th {\n",
       "        text-align: right;\n",
       "    }\n",
       "</style>\n",
       "<table border=\"1\" class=\"dataframe\">\n",
       "  <thead>\n",
       "    <tr style=\"text-align: right;\">\n",
       "      <th></th>\n",
       "      <th>AppId</th>\n",
       "      <th>ContractNum</th>\n",
       "      <th>ContractAmt</th>\n",
       "      <th>Term</th>\n",
       "      <th>APR</th>\n",
       "      <th>CalcPayment</th>\n",
       "      <th>Interest</th>\n",
       "      <th>TotalCost</th>\n",
       "      <th>Profit</th>\n",
       "      <th>NPV</th>\n",
       "    </tr>\n",
       "  </thead>\n",
       "  <tbody>\n",
       "    <tr>\n",
       "      <th>0</th>\n",
       "      <td>65398</td>\n",
       "      <td>3750024720</td>\n",
       "      <td>20000.0000</td>\n",
       "      <td>60.0000</td>\n",
       "      <td>0.0975</td>\n",
       "      <td>422.4849</td>\n",
       "      <td>5349.0924</td>\n",
       "      <td>2951.9357</td>\n",
       "      <td>2397.1567</td>\n",
       "      <td>2063.3638</td>\n",
       "    </tr>\n",
       "    <tr>\n",
       "      <th>1</th>\n",
       "      <td>65413</td>\n",
       "      <td>3750024698</td>\n",
       "      <td>18000.0000</td>\n",
       "      <td>60.0000</td>\n",
       "      <td>0.0949</td>\n",
       "      <td>377.9455</td>\n",
       "      <td>4676.7327</td>\n",
       "      <td>2739.1191</td>\n",
       "      <td>1937.6136</td>\n",
       "      <td>1676.9526</td>\n",
       "    </tr>\n",
       "    <tr>\n",
       "      <th>2</th>\n",
       "      <td>65423</td>\n",
       "      <td>3750024577</td>\n",
       "      <td>18000.0000</td>\n",
       "      <td>60.0000</td>\n",
       "      <td>0.0875</td>\n",
       "      <td>371.4702</td>\n",
       "      <td>4288.2113</td>\n",
       "      <td>2728.4095</td>\n",
       "      <td>1559.8018</td>\n",
       "      <td>1359.4844</td>\n",
       "    </tr>\n",
       "    <tr>\n",
       "      <th>3</th>\n",
       "      <td>65435</td>\n",
       "      <td>3750024546</td>\n",
       "      <td>13000.0000</td>\n",
       "      <td>60.0000</td>\n",
       "      <td>0.1149</td>\n",
       "      <td>285.8386</td>\n",
       "      <td>4150.3182</td>\n",
       "      <td>2238.3255</td>\n",
       "      <td>1911.9927</td>\n",
       "      <td>1653.5599</td>\n",
       "    </tr>\n",
       "    <tr>\n",
       "      <th>4</th>\n",
       "      <td>65441</td>\n",
       "      <td>3750024686</td>\n",
       "      <td>4500.0000</td>\n",
       "      <td>60.0000</td>\n",
       "      <td>0.1149</td>\n",
       "      <td>98.9441</td>\n",
       "      <td>1436.6486</td>\n",
       "      <td>1337.9888</td>\n",
       "      <td>98.6598</td>\n",
       "      <td>129.0712</td>\n",
       "    </tr>\n",
       "  </tbody>\n",
       "</table>\n",
       "</div>"
      ],
      "text/plain": [
       "   AppId ContractNum  ContractAmt    Term    APR  CalcPayment  Interest  \\\n",
       "0  65398  3750024720   20000.0000 60.0000 0.0975     422.4849 5349.0924   \n",
       "1  65413  3750024698   18000.0000 60.0000 0.0949     377.9455 4676.7327   \n",
       "2  65423  3750024577   18000.0000 60.0000 0.0875     371.4702 4288.2113   \n",
       "3  65435  3750024546   13000.0000 60.0000 0.1149     285.8386 4150.3182   \n",
       "4  65441  3750024686    4500.0000 60.0000 0.1149      98.9441 1436.6486   \n",
       "\n",
       "  TotalCost    Profit       NPV  \n",
       "0 2951.9357 2397.1567 2063.3638  \n",
       "1 2739.1191 1937.6136 1676.9526  \n",
       "2 2728.4095 1559.8018 1359.4844  \n",
       "3 2238.3255 1911.9927 1653.5599  \n",
       "4 1337.9888   98.6598  129.0712  "
      ]
     },
     "execution_count": 14,
     "metadata": {},
     "output_type": "execute_result"
    }
   ],
   "source": [
    "finalPort = ploanPort[['AppId', 'ContractNum', 'ContractAmt','Term', 'APR', 'CalcPayment', 'Interest',\n",
    "       'TotalCost', 'Profit', 'NPV']]\n",
    "finalPort.head()"
   ]
  },
  {
   "cell_type": "code",
   "execution_count": 15,
   "metadata": {
    "ExecuteTime": {
     "end_time": "2021-04-22T18:45:00.402357Z",
     "start_time": "2021-04-22T18:45:00.371441Z"
    }
   },
   "outputs": [],
   "source": [
    "# write to csv\n",
    "finalPort.to_csv('ploanPort_2021Q1Booked.csv', index=False)"
   ]
  },
  {
   "cell_type": "code",
   "execution_count": 16,
   "metadata": {},
   "outputs": [
    {
     "data": {
      "text/plain": [
       "(118, 10)"
      ]
     },
     "execution_count": 16,
     "metadata": {},
     "output_type": "execute_result"
    }
   ],
   "source": [
    "finalPort.shape"
   ]
  },
  {
   "cell_type": "code",
   "execution_count": null,
   "metadata": {},
   "outputs": [],
   "source": []
  }
 ],
 "metadata": {
  "kernelspec": {
   "display_name": "Python 3",
   "language": "python",
   "name": "python3"
  },
  "language_info": {
   "codemirror_mode": {
    "name": "ipython",
    "version": 3
   },
   "file_extension": ".py",
   "mimetype": "text/x-python",
   "name": "python",
   "nbconvert_exporter": "python",
   "pygments_lexer": "ipython3",
   "version": "3.8.5"
  },
  "toc": {
   "base_numbering": 1,
   "nav_menu": {},
   "number_sections": true,
   "sideBar": true,
   "skip_h1_title": false,
   "title_cell": "Table of Contents",
   "title_sidebar": "Contents",
   "toc_cell": false,
   "toc_position": {},
   "toc_section_display": true,
   "toc_window_display": false
  }
 },
 "nbformat": 4,
 "nbformat_minor": 4
}
