{
 "cells": [
  {
   "cell_type": "code",
   "execution_count": 1,
   "metadata": {
    "collapsed": true
   },
   "outputs": [],
   "source": [
    "# standard libraries\n",
    "import pandas as pd\n",
    "import numpy as np\n",
    "from pandas import Series, DataFrame\n",
    "import os\n",
    "\n",
    "# plotting libraries\n",
    "import matplotlib as mpl\n",
    "import matplotlib.pyplot as plt\n",
    "import seaborn as sns\n",
    "%matplotlib inline\n",
    "\n",
    "# get the datetime library for date & time calcs\n",
    "from datetime import datetime, timedelta"
   ]
  },
  {
   "cell_type": "code",
   "execution_count": 16,
   "metadata": {
    "collapsed": false
   },
   "outputs": [],
   "source": [
    "# get the new file\n",
    "\n",
    "# load the the main data sets\n",
    "wideData = os.path.normpath(\"C:/Users/n846490/Documents/Python Scripts/SurvivalAnalysis/wideDataforRollup.csv\")\n",
    "rollupData = pd.read_csv(wideData)"
   ]
  },
  {
   "cell_type": "code",
   "execution_count": 23,
   "metadata": {
    "collapsed": false
   },
   "outputs": [
    {
     "name": "stdout",
     "output_type": "stream",
     "text": [
      "<class 'pandas.core.frame.DataFrame'>\n",
      "RangeIndex: 4141416 entries, 0 to 4141415\n",
      "Data columns (total 44 columns):\n",
      "Unnamed: 0                   int64\n",
      "Dateopened                   object\n",
      "Persontype                   object\n",
      "Personcode                   object\n",
      "Channel                      object\n",
      "State                        object\n",
      "End_Date                     object\n",
      "Observed                     int64\n",
      "Cleancuststart               object\n",
      "Custyears                    float64\n",
      "Cleandateclosed              object\n",
      "Productyears                 float64\n",
      "Age                          float64\n",
      "Customergroups               object\n",
      "Closed                       int64\n",
      "Auto                         float64\n",
      "Business_Cd                  float64\n",
      "Business_Checking            float64\n",
      "Business_Money_Market        float64\n",
      "Business_Odloc               float64\n",
      "Business_Savings             float64\n",
      "Cdira                        float64\n",
      "Checking                     float64\n",
      "Commercial_Loan              float64\n",
      "Credit_Card                  float64\n",
      "Commercial_Iolta             float64\n",
      "Credit_Card.1                float64\n",
      "Escrow_Savings               float64\n",
      "Escrow_Standalone_Savings    float64\n",
      "Home_Equity                  float64\n",
      "Investments                  float64\n",
      "Loan                         float64\n",
      "Loanpersonal                 float64\n",
      "Loansavings_Secured          float64\n",
      "Loc                          float64\n",
      "Locpersonal                  float64\n",
      "Money_Market                 float64\n",
      "Mortgage                     float64\n",
      "Odloc                        float64\n",
      "Other                        float64\n",
      "Other_Loan                   float64\n",
      "Safe_Box                     float64\n",
      "Savings                      float64\n",
      "CustID                       object\n",
      "dtypes: float64(31), int64(3), object(10)\n",
      "memory usage: 1.4+ GB\n"
     ]
    }
   ],
   "source": [
    "rollupData.info()"
   ]
  },
  {
   "cell_type": "code",
   "execution_count": 18,
   "metadata": {
    "collapsed": false
   },
   "outputs": [],
   "source": [
    "# convert Personcode to a string\n",
    "\n",
    "# rollupData['Personcode'] = rollupData.applymap(str).iloc[:,3]\n",
    "\n",
    "rollupData['Personcode'] = rollupData['Personcode'].astype(str)"
   ]
  },
  {
   "cell_type": "code",
   "execution_count": 22,
   "metadata": {
    "collapsed": false
   },
   "outputs": [
    {
     "data": {
      "text/html": [
       "<div>\n",
       "<table border=\"1\" class=\"dataframe\">\n",
       "  <thead>\n",
       "    <tr style=\"text-align: right;\">\n",
       "      <th></th>\n",
       "      <th>Unnamed: 0</th>\n",
       "      <th>Dateopened</th>\n",
       "      <th>Persontype</th>\n",
       "      <th>Personcode</th>\n",
       "      <th>Channel</th>\n",
       "      <th>State</th>\n",
       "      <th>End_Date</th>\n",
       "      <th>Observed</th>\n",
       "      <th>Cleancuststart</th>\n",
       "      <th>Custyears</th>\n",
       "      <th>...</th>\n",
       "      <th>Loc</th>\n",
       "      <th>Locpersonal</th>\n",
       "      <th>Money_Market</th>\n",
       "      <th>Mortgage</th>\n",
       "      <th>Odloc</th>\n",
       "      <th>Other</th>\n",
       "      <th>Other_Loan</th>\n",
       "      <th>Safe_Box</th>\n",
       "      <th>Savings</th>\n",
       "      <th>CustID</th>\n",
       "    </tr>\n",
       "  </thead>\n",
       "  <tbody>\n",
       "    <tr>\n",
       "      <th>0</th>\n",
       "      <td>0</td>\n",
       "      <td>1989-11-29</td>\n",
       "      <td>F</td>\n",
       "      <td>354668</td>\n",
       "      <td>Branch</td>\n",
       "      <td>PA</td>\n",
       "      <td>2016-12-15</td>\n",
       "      <td>1</td>\n",
       "      <td>NaN</td>\n",
       "      <td>NaN</td>\n",
       "      <td>...</td>\n",
       "      <td>0.0</td>\n",
       "      <td>0.0</td>\n",
       "      <td>0.0</td>\n",
       "      <td>1.0</td>\n",
       "      <td>0.0</td>\n",
       "      <td>0.0</td>\n",
       "      <td>0.0</td>\n",
       "      <td>0.0</td>\n",
       "      <td>0.0</td>\n",
       "      <td>F354668</td>\n",
       "    </tr>\n",
       "    <tr>\n",
       "      <th>1</th>\n",
       "      <td>1</td>\n",
       "      <td>1996-09-30</td>\n",
       "      <td>F</td>\n",
       "      <td>132166</td>\n",
       "      <td>Branch</td>\n",
       "      <td>PA</td>\n",
       "      <td>2016-12-15</td>\n",
       "      <td>1</td>\n",
       "      <td>1996-09-19</td>\n",
       "      <td>20.252055</td>\n",
       "      <td>...</td>\n",
       "      <td>0.0</td>\n",
       "      <td>0.0</td>\n",
       "      <td>0.0</td>\n",
       "      <td>1.0</td>\n",
       "      <td>0.0</td>\n",
       "      <td>0.0</td>\n",
       "      <td>0.0</td>\n",
       "      <td>0.0</td>\n",
       "      <td>0.0</td>\n",
       "      <td>F132166</td>\n",
       "    </tr>\n",
       "    <tr>\n",
       "      <th>2</th>\n",
       "      <td>2</td>\n",
       "      <td>1999-03-26</td>\n",
       "      <td>F</td>\n",
       "      <td>5272647</td>\n",
       "      <td>Branch</td>\n",
       "      <td>PA</td>\n",
       "      <td>2016-12-15</td>\n",
       "      <td>1</td>\n",
       "      <td>1999-03-19</td>\n",
       "      <td>17.756164</td>\n",
       "      <td>...</td>\n",
       "      <td>0.0</td>\n",
       "      <td>0.0</td>\n",
       "      <td>0.0</td>\n",
       "      <td>1.0</td>\n",
       "      <td>0.0</td>\n",
       "      <td>0.0</td>\n",
       "      <td>0.0</td>\n",
       "      <td>0.0</td>\n",
       "      <td>0.0</td>\n",
       "      <td>F5272647</td>\n",
       "    </tr>\n",
       "    <tr>\n",
       "      <th>3</th>\n",
       "      <td>3</td>\n",
       "      <td>2001-11-02</td>\n",
       "      <td>F</td>\n",
       "      <td>131869</td>\n",
       "      <td>Branch</td>\n",
       "      <td>PA</td>\n",
       "      <td>2016-12-15</td>\n",
       "      <td>1</td>\n",
       "      <td>NaN</td>\n",
       "      <td>NaN</td>\n",
       "      <td>...</td>\n",
       "      <td>0.0</td>\n",
       "      <td>0.0</td>\n",
       "      <td>0.0</td>\n",
       "      <td>1.0</td>\n",
       "      <td>0.0</td>\n",
       "      <td>0.0</td>\n",
       "      <td>0.0</td>\n",
       "      <td>0.0</td>\n",
       "      <td>0.0</td>\n",
       "      <td>F131869</td>\n",
       "    </tr>\n",
       "    <tr>\n",
       "      <th>4</th>\n",
       "      <td>4</td>\n",
       "      <td>2001-11-02</td>\n",
       "      <td>F</td>\n",
       "      <td>1019639</td>\n",
       "      <td>Branch</td>\n",
       "      <td>PA</td>\n",
       "      <td>2016-12-15</td>\n",
       "      <td>1</td>\n",
       "      <td>2013-04-27</td>\n",
       "      <td>3.638356</td>\n",
       "      <td>...</td>\n",
       "      <td>0.0</td>\n",
       "      <td>0.0</td>\n",
       "      <td>0.0</td>\n",
       "      <td>1.0</td>\n",
       "      <td>0.0</td>\n",
       "      <td>0.0</td>\n",
       "      <td>0.0</td>\n",
       "      <td>0.0</td>\n",
       "      <td>0.0</td>\n",
       "      <td>F1019639</td>\n",
       "    </tr>\n",
       "  </tbody>\n",
       "</table>\n",
       "<p>5 rows × 44 columns</p>\n",
       "</div>"
      ],
      "text/plain": [
       "   Unnamed: 0  Dateopened Persontype Personcode Channel State    End_Date  \\\n",
       "0           0  1989-11-29          F     354668  Branch    PA  2016-12-15   \n",
       "1           1  1996-09-30          F     132166  Branch    PA  2016-12-15   \n",
       "2           2  1999-03-26          F    5272647  Branch    PA  2016-12-15   \n",
       "3           3  2001-11-02          F     131869  Branch    PA  2016-12-15   \n",
       "4           4  2001-11-02          F    1019639  Branch    PA  2016-12-15   \n",
       "\n",
       "   Observed Cleancuststart  Custyears    ...     Loc  Locpersonal  \\\n",
       "0         1            NaN        NaN    ...     0.0          0.0   \n",
       "1         1     1996-09-19  20.252055    ...     0.0          0.0   \n",
       "2         1     1999-03-19  17.756164    ...     0.0          0.0   \n",
       "3         1            NaN        NaN    ...     0.0          0.0   \n",
       "4         1     2013-04-27   3.638356    ...     0.0          0.0   \n",
       "\n",
       "   Money_Market Mortgage  Odloc  Other  Other_Loan  Safe_Box  Savings  \\\n",
       "0           0.0      1.0    0.0    0.0         0.0       0.0      0.0   \n",
       "1           0.0      1.0    0.0    0.0         0.0       0.0      0.0   \n",
       "2           0.0      1.0    0.0    0.0         0.0       0.0      0.0   \n",
       "3           0.0      1.0    0.0    0.0         0.0       0.0      0.0   \n",
       "4           0.0      1.0    0.0    0.0         0.0       0.0      0.0   \n",
       "\n",
       "     CustID  \n",
       "0   F354668  \n",
       "1   F132166  \n",
       "2  F5272647  \n",
       "3   F131869  \n",
       "4  F1019639  \n",
       "\n",
       "[5 rows x 44 columns]"
      ]
     },
     "execution_count": 22,
     "metadata": {},
     "output_type": "execute_result"
    }
   ],
   "source": [
    "rollupData.head()"
   ]
  },
  {
   "cell_type": "code",
   "execution_count": 21,
   "metadata": {
    "collapsed": true
   },
   "outputs": [],
   "source": [
    "# make the customer id by concatenating two strings\n",
    "\n",
    "rollupData['CustID'] = rollupData['Persontype'] + rollupData['Personcode']"
   ]
  },
  {
   "cell_type": "code",
   "execution_count": 24,
   "metadata": {
    "collapsed": false
   },
   "outputs": [],
   "source": [
    "# reduce the dimensions to key data\n",
    "# need to combine in chunks op = df[list(df.columns[0:899]) + list(df.columns[3593:])]\n",
    "\n",
    "wideRed = rollupData[list(rollupData.columns[4:6]) + list(rollupData.columns[13:44])]"
   ]
  },
  {
   "cell_type": "code",
   "execution_count": 25,
   "metadata": {
    "collapsed": false
   },
   "outputs": [
    {
     "data": {
      "text/html": [
       "<div>\n",
       "<table border=\"1\" class=\"dataframe\">\n",
       "  <thead>\n",
       "    <tr style=\"text-align: right;\">\n",
       "      <th></th>\n",
       "      <th>Channel</th>\n",
       "      <th>State</th>\n",
       "      <th>Customergroups</th>\n",
       "      <th>Closed</th>\n",
       "      <th>Auto</th>\n",
       "      <th>Business_Cd</th>\n",
       "      <th>Business_Checking</th>\n",
       "      <th>Business_Money_Market</th>\n",
       "      <th>Business_Odloc</th>\n",
       "      <th>Business_Savings</th>\n",
       "      <th>...</th>\n",
       "      <th>Loc</th>\n",
       "      <th>Locpersonal</th>\n",
       "      <th>Money_Market</th>\n",
       "      <th>Mortgage</th>\n",
       "      <th>Odloc</th>\n",
       "      <th>Other</th>\n",
       "      <th>Other_Loan</th>\n",
       "      <th>Safe_Box</th>\n",
       "      <th>Savings</th>\n",
       "      <th>CustID</th>\n",
       "    </tr>\n",
       "  </thead>\n",
       "  <tbody>\n",
       "    <tr>\n",
       "      <th>0</th>\n",
       "      <td>Branch</td>\n",
       "      <td>PA</td>\n",
       "      <td>Boomers+</td>\n",
       "      <td>1</td>\n",
       "      <td>0.0</td>\n",
       "      <td>0.0</td>\n",
       "      <td>0.0</td>\n",
       "      <td>0.0</td>\n",
       "      <td>0.0</td>\n",
       "      <td>0.0</td>\n",
       "      <td>...</td>\n",
       "      <td>0.0</td>\n",
       "      <td>0.0</td>\n",
       "      <td>0.0</td>\n",
       "      <td>1.0</td>\n",
       "      <td>0.0</td>\n",
       "      <td>0.0</td>\n",
       "      <td>0.0</td>\n",
       "      <td>0.0</td>\n",
       "      <td>0.0</td>\n",
       "      <td>F354668</td>\n",
       "    </tr>\n",
       "    <tr>\n",
       "      <th>1</th>\n",
       "      <td>Branch</td>\n",
       "      <td>PA</td>\n",
       "      <td>Boomers+</td>\n",
       "      <td>1</td>\n",
       "      <td>0.0</td>\n",
       "      <td>0.0</td>\n",
       "      <td>0.0</td>\n",
       "      <td>0.0</td>\n",
       "      <td>0.0</td>\n",
       "      <td>0.0</td>\n",
       "      <td>...</td>\n",
       "      <td>0.0</td>\n",
       "      <td>0.0</td>\n",
       "      <td>0.0</td>\n",
       "      <td>1.0</td>\n",
       "      <td>0.0</td>\n",
       "      <td>0.0</td>\n",
       "      <td>0.0</td>\n",
       "      <td>0.0</td>\n",
       "      <td>0.0</td>\n",
       "      <td>F132166</td>\n",
       "    </tr>\n",
       "    <tr>\n",
       "      <th>2</th>\n",
       "      <td>Branch</td>\n",
       "      <td>PA</td>\n",
       "      <td>Boomers+</td>\n",
       "      <td>1</td>\n",
       "      <td>0.0</td>\n",
       "      <td>0.0</td>\n",
       "      <td>0.0</td>\n",
       "      <td>0.0</td>\n",
       "      <td>0.0</td>\n",
       "      <td>0.0</td>\n",
       "      <td>...</td>\n",
       "      <td>0.0</td>\n",
       "      <td>0.0</td>\n",
       "      <td>0.0</td>\n",
       "      <td>1.0</td>\n",
       "      <td>0.0</td>\n",
       "      <td>0.0</td>\n",
       "      <td>0.0</td>\n",
       "      <td>0.0</td>\n",
       "      <td>0.0</td>\n",
       "      <td>F5272647</td>\n",
       "    </tr>\n",
       "    <tr>\n",
       "      <th>3</th>\n",
       "      <td>Branch</td>\n",
       "      <td>PA</td>\n",
       "      <td>Boomers+</td>\n",
       "      <td>1</td>\n",
       "      <td>0.0</td>\n",
       "      <td>0.0</td>\n",
       "      <td>0.0</td>\n",
       "      <td>0.0</td>\n",
       "      <td>0.0</td>\n",
       "      <td>0.0</td>\n",
       "      <td>...</td>\n",
       "      <td>0.0</td>\n",
       "      <td>0.0</td>\n",
       "      <td>0.0</td>\n",
       "      <td>1.0</td>\n",
       "      <td>0.0</td>\n",
       "      <td>0.0</td>\n",
       "      <td>0.0</td>\n",
       "      <td>0.0</td>\n",
       "      <td>0.0</td>\n",
       "      <td>F131869</td>\n",
       "    </tr>\n",
       "    <tr>\n",
       "      <th>4</th>\n",
       "      <td>Branch</td>\n",
       "      <td>PA</td>\n",
       "      <td>Boomers+</td>\n",
       "      <td>1</td>\n",
       "      <td>0.0</td>\n",
       "      <td>0.0</td>\n",
       "      <td>0.0</td>\n",
       "      <td>0.0</td>\n",
       "      <td>0.0</td>\n",
       "      <td>0.0</td>\n",
       "      <td>...</td>\n",
       "      <td>0.0</td>\n",
       "      <td>0.0</td>\n",
       "      <td>0.0</td>\n",
       "      <td>1.0</td>\n",
       "      <td>0.0</td>\n",
       "      <td>0.0</td>\n",
       "      <td>0.0</td>\n",
       "      <td>0.0</td>\n",
       "      <td>0.0</td>\n",
       "      <td>F1019639</td>\n",
       "    </tr>\n",
       "  </tbody>\n",
       "</table>\n",
       "<p>5 rows × 33 columns</p>\n",
       "</div>"
      ],
      "text/plain": [
       "  Channel State Customergroups  Closed  Auto  Business_Cd  Business_Checking  \\\n",
       "0  Branch    PA       Boomers+       1   0.0          0.0                0.0   \n",
       "1  Branch    PA       Boomers+       1   0.0          0.0                0.0   \n",
       "2  Branch    PA       Boomers+       1   0.0          0.0                0.0   \n",
       "3  Branch    PA       Boomers+       1   0.0          0.0                0.0   \n",
       "4  Branch    PA       Boomers+       1   0.0          0.0                0.0   \n",
       "\n",
       "   Business_Money_Market  Business_Odloc  Business_Savings    ...     Loc  \\\n",
       "0                    0.0             0.0               0.0    ...     0.0   \n",
       "1                    0.0             0.0               0.0    ...     0.0   \n",
       "2                    0.0             0.0               0.0    ...     0.0   \n",
       "3                    0.0             0.0               0.0    ...     0.0   \n",
       "4                    0.0             0.0               0.0    ...     0.0   \n",
       "\n",
       "   Locpersonal  Money_Market  Mortgage  Odloc  Other  Other_Loan  Safe_Box  \\\n",
       "0          0.0           0.0       1.0    0.0    0.0         0.0       0.0   \n",
       "1          0.0           0.0       1.0    0.0    0.0         0.0       0.0   \n",
       "2          0.0           0.0       1.0    0.0    0.0         0.0       0.0   \n",
       "3          0.0           0.0       1.0    0.0    0.0         0.0       0.0   \n",
       "4          0.0           0.0       1.0    0.0    0.0         0.0       0.0   \n",
       "\n",
       "   Savings    CustID  \n",
       "0      0.0   F354668  \n",
       "1      0.0   F132166  \n",
       "2      0.0  F5272647  \n",
       "3      0.0   F131869  \n",
       "4      0.0  F1019639  \n",
       "\n",
       "[5 rows x 33 columns]"
      ]
     },
     "execution_count": 25,
     "metadata": {},
     "output_type": "execute_result"
    }
   ],
   "source": [
    "wideRed.head()"
   ]
  },
  {
   "cell_type": "code",
   "execution_count": 27,
   "metadata": {
    "collapsed": false
   },
   "outputs": [],
   "source": [
    "# perform the aggregation\n",
    "\n",
    "groupedWide = wideRed.groupby(['CustID', 'Customergroups'], as_index = False).max()"
   ]
  },
  {
   "cell_type": "code",
   "execution_count": 29,
   "metadata": {
    "collapsed": false
   },
   "outputs": [
    {
     "data": {
      "text/html": [
       "<div>\n",
       "<table border=\"1\" class=\"dataframe\">\n",
       "  <thead>\n",
       "    <tr style=\"text-align: right;\">\n",
       "      <th></th>\n",
       "      <th>CustID</th>\n",
       "      <th>Customergroups</th>\n",
       "      <th>Channel</th>\n",
       "      <th>State</th>\n",
       "      <th>Closed</th>\n",
       "      <th>Auto</th>\n",
       "      <th>Business_Cd</th>\n",
       "      <th>Business_Checking</th>\n",
       "      <th>Business_Money_Market</th>\n",
       "      <th>Business_Odloc</th>\n",
       "      <th>...</th>\n",
       "      <th>Loansavings_Secured</th>\n",
       "      <th>Loc</th>\n",
       "      <th>Locpersonal</th>\n",
       "      <th>Money_Market</th>\n",
       "      <th>Mortgage</th>\n",
       "      <th>Odloc</th>\n",
       "      <th>Other</th>\n",
       "      <th>Other_Loan</th>\n",
       "      <th>Safe_Box</th>\n",
       "      <th>Savings</th>\n",
       "    </tr>\n",
       "  </thead>\n",
       "  <tbody>\n",
       "    <tr>\n",
       "      <th>0</th>\n",
       "      <td>F10000</td>\n",
       "      <td>Boomers+</td>\n",
       "      <td>Branch</td>\n",
       "      <td>RI</td>\n",
       "      <td>1</td>\n",
       "      <td>0.0</td>\n",
       "      <td>0.0</td>\n",
       "      <td>0.0</td>\n",
       "      <td>0.0</td>\n",
       "      <td>0.0</td>\n",
       "      <td>...</td>\n",
       "      <td>0.0</td>\n",
       "      <td>0.0</td>\n",
       "      <td>0.0</td>\n",
       "      <td>1.0</td>\n",
       "      <td>0.0</td>\n",
       "      <td>0.0</td>\n",
       "      <td>0.0</td>\n",
       "      <td>0.0</td>\n",
       "      <td>0.0</td>\n",
       "      <td>0.0</td>\n",
       "    </tr>\n",
       "    <tr>\n",
       "      <th>1</th>\n",
       "      <td>F1000008</td>\n",
       "      <td>Boomers+</td>\n",
       "      <td>Branch</td>\n",
       "      <td>CT</td>\n",
       "      <td>1</td>\n",
       "      <td>0.0</td>\n",
       "      <td>0.0</td>\n",
       "      <td>0.0</td>\n",
       "      <td>0.0</td>\n",
       "      <td>0.0</td>\n",
       "      <td>...</td>\n",
       "      <td>0.0</td>\n",
       "      <td>0.0</td>\n",
       "      <td>0.0</td>\n",
       "      <td>0.0</td>\n",
       "      <td>0.0</td>\n",
       "      <td>0.0</td>\n",
       "      <td>0.0</td>\n",
       "      <td>0.0</td>\n",
       "      <td>0.0</td>\n",
       "      <td>1.0</td>\n",
       "    </tr>\n",
       "    <tr>\n",
       "      <th>2</th>\n",
       "      <td>F100001</td>\n",
       "      <td>Boomers+</td>\n",
       "      <td>Branch</td>\n",
       "      <td>PA</td>\n",
       "      <td>1</td>\n",
       "      <td>0.0</td>\n",
       "      <td>0.0</td>\n",
       "      <td>0.0</td>\n",
       "      <td>0.0</td>\n",
       "      <td>0.0</td>\n",
       "      <td>...</td>\n",
       "      <td>0.0</td>\n",
       "      <td>0.0</td>\n",
       "      <td>0.0</td>\n",
       "      <td>1.0</td>\n",
       "      <td>0.0</td>\n",
       "      <td>0.0</td>\n",
       "      <td>0.0</td>\n",
       "      <td>0.0</td>\n",
       "      <td>0.0</td>\n",
       "      <td>0.0</td>\n",
       "    </tr>\n",
       "    <tr>\n",
       "      <th>3</th>\n",
       "      <td>F1000013</td>\n",
       "      <td>Gen X</td>\n",
       "      <td>Branch</td>\n",
       "      <td>MA</td>\n",
       "      <td>1</td>\n",
       "      <td>0.0</td>\n",
       "      <td>0.0</td>\n",
       "      <td>0.0</td>\n",
       "      <td>0.0</td>\n",
       "      <td>0.0</td>\n",
       "      <td>...</td>\n",
       "      <td>0.0</td>\n",
       "      <td>1.0</td>\n",
       "      <td>0.0</td>\n",
       "      <td>1.0</td>\n",
       "      <td>1.0</td>\n",
       "      <td>0.0</td>\n",
       "      <td>0.0</td>\n",
       "      <td>0.0</td>\n",
       "      <td>0.0</td>\n",
       "      <td>0.0</td>\n",
       "    </tr>\n",
       "    <tr>\n",
       "      <th>4</th>\n",
       "      <td>F1000030</td>\n",
       "      <td>Boomers+</td>\n",
       "      <td>Branch</td>\n",
       "      <td>PA</td>\n",
       "      <td>1</td>\n",
       "      <td>0.0</td>\n",
       "      <td>0.0</td>\n",
       "      <td>0.0</td>\n",
       "      <td>0.0</td>\n",
       "      <td>0.0</td>\n",
       "      <td>...</td>\n",
       "      <td>0.0</td>\n",
       "      <td>0.0</td>\n",
       "      <td>0.0</td>\n",
       "      <td>0.0</td>\n",
       "      <td>1.0</td>\n",
       "      <td>0.0</td>\n",
       "      <td>0.0</td>\n",
       "      <td>0.0</td>\n",
       "      <td>0.0</td>\n",
       "      <td>1.0</td>\n",
       "    </tr>\n",
       "  </tbody>\n",
       "</table>\n",
       "<p>5 rows × 33 columns</p>\n",
       "</div>"
      ],
      "text/plain": [
       "     CustID Customergroups Channel State  Closed  Auto  Business_Cd  \\\n",
       "0    F10000       Boomers+  Branch    RI       1   0.0          0.0   \n",
       "1  F1000008       Boomers+  Branch    CT       1   0.0          0.0   \n",
       "2   F100001       Boomers+  Branch    PA       1   0.0          0.0   \n",
       "3  F1000013          Gen X  Branch    MA       1   0.0          0.0   \n",
       "4  F1000030       Boomers+  Branch    PA       1   0.0          0.0   \n",
       "\n",
       "   Business_Checking  Business_Money_Market  Business_Odloc   ...     \\\n",
       "0                0.0                    0.0             0.0   ...      \n",
       "1                0.0                    0.0             0.0   ...      \n",
       "2                0.0                    0.0             0.0   ...      \n",
       "3                0.0                    0.0             0.0   ...      \n",
       "4                0.0                    0.0             0.0   ...      \n",
       "\n",
       "   Loansavings_Secured  Loc  Locpersonal  Money_Market  Mortgage  Odloc  \\\n",
       "0                  0.0  0.0          0.0           1.0       0.0    0.0   \n",
       "1                  0.0  0.0          0.0           0.0       0.0    0.0   \n",
       "2                  0.0  0.0          0.0           1.0       0.0    0.0   \n",
       "3                  0.0  1.0          0.0           1.0       1.0    0.0   \n",
       "4                  0.0  0.0          0.0           0.0       1.0    0.0   \n",
       "\n",
       "   Other  Other_Loan  Safe_Box  Savings  \n",
       "0    0.0         0.0       0.0      0.0  \n",
       "1    0.0         0.0       0.0      1.0  \n",
       "2    0.0         0.0       0.0      0.0  \n",
       "3    0.0         0.0       0.0      0.0  \n",
       "4    0.0         0.0       0.0      1.0  \n",
       "\n",
       "[5 rows x 33 columns]"
      ]
     },
     "execution_count": 29,
     "metadata": {},
     "output_type": "execute_result"
    }
   ],
   "source": [
    "groupedWide.head()"
   ]
  },
  {
   "cell_type": "code",
   "execution_count": 30,
   "metadata": {
    "collapsed": true
   },
   "outputs": [],
   "source": [
    "# now sum across\n",
    "groupedWide['NumProducts'] = groupedWide.iloc[:, 5:].sum(axis = 1)"
   ]
  },
  {
   "cell_type": "code",
   "execution_count": 31,
   "metadata": {
    "collapsed": false
   },
   "outputs": [
    {
     "data": {
      "text/html": [
       "<div>\n",
       "<table border=\"1\" class=\"dataframe\">\n",
       "  <thead>\n",
       "    <tr style=\"text-align: right;\">\n",
       "      <th></th>\n",
       "      <th>CustID</th>\n",
       "      <th>Customergroups</th>\n",
       "      <th>Channel</th>\n",
       "      <th>State</th>\n",
       "      <th>Closed</th>\n",
       "      <th>Auto</th>\n",
       "      <th>Business_Cd</th>\n",
       "      <th>Business_Checking</th>\n",
       "      <th>Business_Money_Market</th>\n",
       "      <th>Business_Odloc</th>\n",
       "      <th>...</th>\n",
       "      <th>Loc</th>\n",
       "      <th>Locpersonal</th>\n",
       "      <th>Money_Market</th>\n",
       "      <th>Mortgage</th>\n",
       "      <th>Odloc</th>\n",
       "      <th>Other</th>\n",
       "      <th>Other_Loan</th>\n",
       "      <th>Safe_Box</th>\n",
       "      <th>Savings</th>\n",
       "      <th>NumProducts</th>\n",
       "    </tr>\n",
       "  </thead>\n",
       "  <tbody>\n",
       "    <tr>\n",
       "      <th>0</th>\n",
       "      <td>F10000</td>\n",
       "      <td>Boomers+</td>\n",
       "      <td>Branch</td>\n",
       "      <td>RI</td>\n",
       "      <td>1</td>\n",
       "      <td>0.0</td>\n",
       "      <td>0.0</td>\n",
       "      <td>0.0</td>\n",
       "      <td>0.0</td>\n",
       "      <td>0.0</td>\n",
       "      <td>...</td>\n",
       "      <td>0.0</td>\n",
       "      <td>0.0</td>\n",
       "      <td>1.0</td>\n",
       "      <td>0.0</td>\n",
       "      <td>0.0</td>\n",
       "      <td>0.0</td>\n",
       "      <td>0.0</td>\n",
       "      <td>0.0</td>\n",
       "      <td>0.0</td>\n",
       "      <td>3.0</td>\n",
       "    </tr>\n",
       "    <tr>\n",
       "      <th>1</th>\n",
       "      <td>F1000008</td>\n",
       "      <td>Boomers+</td>\n",
       "      <td>Branch</td>\n",
       "      <td>CT</td>\n",
       "      <td>1</td>\n",
       "      <td>0.0</td>\n",
       "      <td>0.0</td>\n",
       "      <td>0.0</td>\n",
       "      <td>0.0</td>\n",
       "      <td>0.0</td>\n",
       "      <td>...</td>\n",
       "      <td>0.0</td>\n",
       "      <td>0.0</td>\n",
       "      <td>0.0</td>\n",
       "      <td>0.0</td>\n",
       "      <td>0.0</td>\n",
       "      <td>0.0</td>\n",
       "      <td>0.0</td>\n",
       "      <td>0.0</td>\n",
       "      <td>1.0</td>\n",
       "      <td>3.0</td>\n",
       "    </tr>\n",
       "    <tr>\n",
       "      <th>2</th>\n",
       "      <td>F100001</td>\n",
       "      <td>Boomers+</td>\n",
       "      <td>Branch</td>\n",
       "      <td>PA</td>\n",
       "      <td>1</td>\n",
       "      <td>0.0</td>\n",
       "      <td>0.0</td>\n",
       "      <td>0.0</td>\n",
       "      <td>0.0</td>\n",
       "      <td>0.0</td>\n",
       "      <td>...</td>\n",
       "      <td>0.0</td>\n",
       "      <td>0.0</td>\n",
       "      <td>1.0</td>\n",
       "      <td>0.0</td>\n",
       "      <td>0.0</td>\n",
       "      <td>0.0</td>\n",
       "      <td>0.0</td>\n",
       "      <td>0.0</td>\n",
       "      <td>0.0</td>\n",
       "      <td>5.0</td>\n",
       "    </tr>\n",
       "    <tr>\n",
       "      <th>3</th>\n",
       "      <td>F1000013</td>\n",
       "      <td>Gen X</td>\n",
       "      <td>Branch</td>\n",
       "      <td>MA</td>\n",
       "      <td>1</td>\n",
       "      <td>0.0</td>\n",
       "      <td>0.0</td>\n",
       "      <td>0.0</td>\n",
       "      <td>0.0</td>\n",
       "      <td>0.0</td>\n",
       "      <td>...</td>\n",
       "      <td>1.0</td>\n",
       "      <td>0.0</td>\n",
       "      <td>1.0</td>\n",
       "      <td>1.0</td>\n",
       "      <td>0.0</td>\n",
       "      <td>0.0</td>\n",
       "      <td>0.0</td>\n",
       "      <td>0.0</td>\n",
       "      <td>0.0</td>\n",
       "      <td>6.0</td>\n",
       "    </tr>\n",
       "    <tr>\n",
       "      <th>4</th>\n",
       "      <td>F1000030</td>\n",
       "      <td>Boomers+</td>\n",
       "      <td>Branch</td>\n",
       "      <td>PA</td>\n",
       "      <td>1</td>\n",
       "      <td>0.0</td>\n",
       "      <td>0.0</td>\n",
       "      <td>0.0</td>\n",
       "      <td>0.0</td>\n",
       "      <td>0.0</td>\n",
       "      <td>...</td>\n",
       "      <td>0.0</td>\n",
       "      <td>0.0</td>\n",
       "      <td>0.0</td>\n",
       "      <td>1.0</td>\n",
       "      <td>0.0</td>\n",
       "      <td>0.0</td>\n",
       "      <td>0.0</td>\n",
       "      <td>0.0</td>\n",
       "      <td>1.0</td>\n",
       "      <td>4.0</td>\n",
       "    </tr>\n",
       "  </tbody>\n",
       "</table>\n",
       "<p>5 rows × 34 columns</p>\n",
       "</div>"
      ],
      "text/plain": [
       "     CustID Customergroups Channel State  Closed  Auto  Business_Cd  \\\n",
       "0    F10000       Boomers+  Branch    RI       1   0.0          0.0   \n",
       "1  F1000008       Boomers+  Branch    CT       1   0.0          0.0   \n",
       "2   F100001       Boomers+  Branch    PA       1   0.0          0.0   \n",
       "3  F1000013          Gen X  Branch    MA       1   0.0          0.0   \n",
       "4  F1000030       Boomers+  Branch    PA       1   0.0          0.0   \n",
       "\n",
       "   Business_Checking  Business_Money_Market  Business_Odloc     ...       Loc  \\\n",
       "0                0.0                    0.0             0.0     ...       0.0   \n",
       "1                0.0                    0.0             0.0     ...       0.0   \n",
       "2                0.0                    0.0             0.0     ...       0.0   \n",
       "3                0.0                    0.0             0.0     ...       1.0   \n",
       "4                0.0                    0.0             0.0     ...       0.0   \n",
       "\n",
       "   Locpersonal  Money_Market  Mortgage  Odloc  Other  Other_Loan  Safe_Box  \\\n",
       "0          0.0           1.0       0.0    0.0    0.0         0.0       0.0   \n",
       "1          0.0           0.0       0.0    0.0    0.0         0.0       0.0   \n",
       "2          0.0           1.0       0.0    0.0    0.0         0.0       0.0   \n",
       "3          0.0           1.0       1.0    0.0    0.0         0.0       0.0   \n",
       "4          0.0           0.0       1.0    0.0    0.0         0.0       0.0   \n",
       "\n",
       "   Savings  NumProducts  \n",
       "0      0.0          3.0  \n",
       "1      1.0          3.0  \n",
       "2      0.0          5.0  \n",
       "3      0.0          6.0  \n",
       "4      1.0          4.0  \n",
       "\n",
       "[5 rows x 34 columns]"
      ]
     },
     "execution_count": 31,
     "metadata": {},
     "output_type": "execute_result"
    }
   ],
   "source": [
    "groupedWide.head()"
   ]
  },
  {
   "cell_type": "code",
   "execution_count": 33,
   "metadata": {
    "collapsed": false
   },
   "outputs": [
    {
     "data": {
      "text/plain": [
       "count    967908.000000\n",
       "mean          2.774668\n",
       "std           1.575574\n",
       "min           1.000000\n",
       "25%           2.000000\n",
       "50%           2.000000\n",
       "75%           3.000000\n",
       "max          16.000000\n",
       "Name: NumProducts, dtype: float64"
      ]
     },
     "execution_count": 33,
     "metadata": {},
     "output_type": "execute_result"
    }
   ],
   "source": [
    "# get a view of the num products\n",
    "\n",
    "groupedWide['NumProducts'].describe()"
   ]
  },
  {
   "cell_type": "code",
   "execution_count": 35,
   "metadata": {
    "collapsed": false
   },
   "outputs": [
    {
     "data": {
      "text/plain": [
       "(array([  5.86873000e+05,   1.52922000e+05,   1.58139000e+05,\n",
       "          3.52100000e+04,   2.78070000e+04,   4.14100000e+03,\n",
       "          2.39200000e+03,   2.73000000e+02,   1.39000000e+02,\n",
       "          1.20000000e+01]),\n",
       " array([  1. ,   2.5,   4. ,   5.5,   7. ,   8.5,  10. ,  11.5,  13. ,\n",
       "         14.5,  16. ]),\n",
       " <a list of 10 Patch objects>)"
      ]
     },
     "execution_count": 35,
     "metadata": {},
     "output_type": "execute_result"
    },
    {
     "data": {
      "image/png": "[encoded data removed]",
      "text/plain": [
       "<matplotlib.figure.Figure at 0x8011fe10>"
      ]
     },
     "metadata": {},
     "output_type": "display_data"
    }
   ],
   "source": [
    "# make a histogram\n",
    "\n",
    "fig = plt.figure()\n",
    "ax = fig.add_subplot(111)\n",
    "data = groupedWide['NumProducts']\n",
    "ax.hist(data)"
   ]
  },
  {
   "cell_type": "code",
   "execution_count": 37,
   "metadata": {
    "collapsed": false
   },
   "outputs": [
    {
     "data": {
      "image/png": "[encoded data removed]",
      "text/plain": [
       "<matplotlib.figure.Figure at 0x190d27fd0>"
      ]
     },
     "metadata": {},
     "output_type": "display_data"
    }
   ],
   "source": [
    "p = sns.factorplot(x = 'NumProducts', data = groupedWide, kind = 'count', legend = 'True', hue = 'Channel', size = 6)"
   ]
  },
  {
   "cell_type": "code",
   "execution_count": 39,
   "metadata": {
    "collapsed": false
   },
   "outputs": [
    {
     "name": "stderr",
     "output_type": "stream",
     "text": [
      "C:\\Users\\n846490\\AppData\\Local\\Continuum\\Anaconda3\\lib\\site-packages\\statsmodels\\nonparametric\\kdetools.py:20: VisibleDeprecationWarning: using a non-integer number instead of an integer will result in an error in the future\n",
      "  y = X[:m/2+1] + np.r_[0,X[m/2+1:],0]*1j\n"
     ]
    },
    {
     "data": {
      "text/plain": [
       "<seaborn.axisgrid.FacetGrid at 0x81a42eb8>"
      ]
     },
     "execution_count": 39,
     "metadata": {},
     "output_type": "execute_result"
    },
    {
     "data": {
      "image/png": "[encoded data removed]",
      "text/plain": [
       "<matplotlib.figure.Figure at 0x8083a0f0>"
      ]
     },
     "metadata": {},
     "output_type": "display_data"
    }
   ],
   "source": [
    "# try a histogram\n",
    "\n",
    "sns.set(font_scale=2.0)\n",
    "\n",
    "fig = sns.FacetGrid(data=groupedWide, hue='Channel', size = 8)\n",
    "\n",
    "fig.map(sns.kdeplot,'NumProducts', shade = True)\n",
    "\n",
    "fig.add_legend(title='Channel')"
   ]
  },
  {
   "cell_type": "code",
   "execution_count": 42,
   "metadata": {
    "collapsed": false
   },
   "outputs": [
    {
     "name": "stdout",
     "output_type": "stream",
     "text": [
      "<class 'pandas.core.frame.DataFrame'>\n",
      "RangeIndex: 967908 entries, 0 to 967907\n",
      "Data columns (total 34 columns):\n",
      "CustID                       967908 non-null object\n",
      "Customergroups               967908 non-null object\n",
      "Channel                      967908 non-null object\n",
      "State                        912007 non-null object\n",
      "Closed                       967908 non-null int64\n",
      "Auto                         967908 non-null float64\n",
      "Business_Cd                  967908 non-null float64\n",
      "Business_Checking            967908 non-null float64\n",
      "Business_Money_Market        967908 non-null float64\n",
      "Business_Odloc               967908 non-null float64\n",
      "Business_Savings             967908 non-null float64\n",
      "Cdira                        967908 non-null float64\n",
      "Checking                     967908 non-null float64\n",
      "Commercial_Loan              967908 non-null float64\n",
      "Credit_Card                  967908 non-null float64\n",
      "Commercial_Iolta             967908 non-null float64\n",
      "Credit_Card.1                967908 non-null float64\n",
      "Escrow_Savings               967908 non-null float64\n",
      "Escrow_Standalone_Savings    967908 non-null float64\n",
      "Home_Equity                  967908 non-null float64\n",
      "Investments                  967908 non-null float64\n",
      "Loan                         967908 non-null float64\n",
      "Loanpersonal                 967908 non-null float64\n",
      "Loansavings_Secured          967908 non-null float64\n",
      "Loc                          967908 non-null float64\n",
      "Locpersonal                  967908 non-null float64\n",
      "Money_Market                 967908 non-null float64\n",
      "Mortgage                     967908 non-null float64\n",
      "Odloc                        967908 non-null float64\n",
      "Other                        967908 non-null float64\n",
      "Other_Loan                   967908 non-null float64\n",
      "Safe_Box                     967908 non-null float64\n",
      "Savings                      967908 non-null float64\n",
      "NumProducts                  967908 non-null float64\n",
      "dtypes: float64(29), int64(1), object(4)\n",
      "memory usage: 251.1+ MB\n"
     ]
    }
   ],
   "source": [
    "groupedWide.info()"
   ]
  },
  {
   "cell_type": "code",
   "execution_count": 40,
   "metadata": {
    "collapsed": false
   },
   "outputs": [
    {
     "data": {
      "text/plain": [
       "'C:\\\\Users\\\\n846490\\\\Documents\\\\Python Scripts\\\\SurvivalAnalysis'"
      ]
     },
     "execution_count": 40,
     "metadata": {},
     "output_type": "execute_result"
    }
   ],
   "source": [
    "# get the fields that we need\n",
    "# make two versions of the files\n",
    "\n",
    "# 'C:\\\\Users\\\\n846490\\\\Documents\\\\Python Scripts\\\\SurvivalAnalysis'\n",
    "\n",
    "groupedWideRed = groupedWide"
   ]
  },
  {
   "cell_type": "code",
   "execution_count": 41,
   "metadata": {
    "collapsed": true
   },
   "outputs": [],
   "source": [
    "# this is the full file for export\n",
    "\n",
    "groupedWide.to_csv('allProductCount.csv')"
   ]
  },
  {
   "cell_type": "code",
   "execution_count": null,
   "metadata": {
    "collapsed": false
   },
   "outputs": [],
   "source": [
    "groupedWideRed.head()"
   ]
  },
  {
   "cell_type": "code",
   "execution_count": null,
   "metadata": {
    "collapsed": false
   },
   "outputs": [],
   "source": [
    "groupedWideRed.info()"
   ]
  },
  {
   "cell_type": "code",
   "execution_count": null,
   "metadata": {
    "collapsed": false
   },
   "outputs": [],
   "source": [
    "groupedWideRed['Closed'].describe()"
   ]
  },
  {
   "cell_type": "code",
   "execution_count": null,
   "metadata": {
    "collapsed": false
   },
   "outputs": [],
   "source": [
    "# check the quantiles to find a good cutoff point\n",
    "\n",
    "groupedWideRed['Closed'].quantile(q=0.99)"
   ]
  },
  {
   "cell_type": "code",
   "execution_count": null,
   "metadata": {
    "collapsed": true
   },
   "outputs": [],
   "source": [
    "# clean up some ages\n",
    "# stop it out at 12\n",
    "\n",
    "def set_limit(total):\n",
    "    if float(total) > 12:\n",
    "        return float(12)\n",
    "    else:\n",
    "        return float(total)\n",
    "\n",
    "groupedWideRed['Closed'] = groupedWideRed['Closed'].apply(set_limit)"
   ]
  },
  {
   "cell_type": "code",
   "execution_count": null,
   "metadata": {
    "collapsed": false
   },
   "outputs": [],
   "source": [
    "groupedWideRed['Closed'].describe()"
   ]
  },
  {
   "cell_type": "code",
   "execution_count": null,
   "metadata": {
    "collapsed": false
   },
   "outputs": [],
   "source": [
    "groupedWideRed['Closed'].hist(bins=12, range = [0,12], align = 'mid', figsize=(15,5))"
   ]
  },
  {
   "cell_type": "code",
   "execution_count": null,
   "metadata": {
    "collapsed": false
   },
   "outputs": [],
   "source": [
    "# make a plot of account closed\n",
    "\n",
    "# formatter function takes tick label and tick position\n",
    "import matplotlib.ticker as tkr\n",
    "\n",
    "def func(x, pos):\n",
    "   s = '{:,.0f}'.format(float(x))\n",
    "   return s\n",
    "\n",
    "# make formatter\n",
    "y_format = tkr.FuncFormatter(func)\n",
    "\n",
    "# look at the checking data for closed by age group\n",
    "p = sns.factorplot(x = 'Closed', data = groupedWideRed, kind = 'count', legend = 'True', hue = 'Customergroups', size = 8)\n",
    "\n",
    "\n",
    "# apply the formatter\n",
    "p.ax.yaxis.set_major_formatter(y_format)"
   ]
  },
  {
   "cell_type": "code",
   "execution_count": null,
   "metadata": {
    "collapsed": false
   },
   "outputs": [],
   "source": [
    "\n",
    "# export the data\n",
    "\n",
    "# write this to a csv\n",
    "# export the clean data\n",
    "\n",
    "groupedWideRed.to_csv('wideDataClean.csv')"
   ]
  },
  {
   "cell_type": "code",
   "execution_count": null,
   "metadata": {
    "collapsed": true
   },
   "outputs": [],
   "source": []
  }
 ],
 "metadata": {
  "anaconda-cloud": {},
  "kernelspec": {
   "display_name": "Python [Root]",
   "language": "python",
   "name": "Python [Root]"
  },
  "language_info": {
   "codemirror_mode": {
    "name": "ipython",
    "version": 3
   },
   "file_extension": ".py",
   "mimetype": "text/x-python",
   "name": "python",
   "nbconvert_exporter": "python",
   "pygments_lexer": "ipython3",
   "version": "3.5.1"
  }
 },
 "nbformat": 4,
 "nbformat_minor": 0
}
