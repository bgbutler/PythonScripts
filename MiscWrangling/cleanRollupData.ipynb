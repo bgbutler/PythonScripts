{
 "cells": [
  {
   "cell_type": "code",
   "execution_count": 1,
   "metadata": {
    "collapsed": true
   },
   "outputs": [],
   "source": [
    "# cleaning and joining the balance data with the product data\n",
    "\n",
    "# standard libraries\n",
    "import pandas as pd\n",
    "import numpy as np\n",
    "from pandas import Series, DataFrame\n",
    "import os\n",
    "\n",
    "# plotting libraries\n",
    "import matplotlib as mpl\n",
    "import matplotlib.pyplot as plt\n",
    "import seaborn as sns\n",
    "%matplotlib inline\n",
    "\n",
    "# get the datetime library for date & time calcs\n",
    "from datetime import datetime, timedelta"
   ]
  },
  {
   "cell_type": "code",
   "execution_count": 2,
   "metadata": {
    "collapsed": true
   },
   "outputs": [],
   "source": [
    "# load the the main data sets\n",
    "activeData = os.path.normpath(\"C:/Users/n846490/Documents/DataScience/CSVs/checkingVintageRaw.csv\")\n",
    "vintageData = pd.read_csv(activeData)"
   ]
  },
  {
   "cell_type": "code",
   "execution_count": 3,
   "metadata": {
    "collapsed": false
   },
   "outputs": [
    {
     "data": {
      "text/html": [
       "<div>\n",
       "<table border=\"1\" class=\"dataframe\">\n",
       "  <thead>\n",
       "    <tr style=\"text-align: right;\">\n",
       "      <th></th>\n",
       "      <th>H1424_IDCENT</th>\n",
       "      <th>H1424_IDPROD</th>\n",
       "      <th>H1424_IDCONTRN</th>\n",
       "      <th>H1424_FECCONTR</th>\n",
       "      <th>H1424_FECBAJA</th>\n",
       "      <th>H1424_TIPOPERS</th>\n",
       "      <th>H1424_CODPERS</th>\n",
       "      <th>H1424_CDCANAL</th>\n",
       "      <th>Category</th>\n",
       "      <th>H9776_NOMPROV1</th>\n",
       "      <th>H1451_EDADPER</th>\n",
       "      <th>Cust_Start</th>\n",
       "    </tr>\n",
       "  </thead>\n",
       "  <tbody>\n",
       "    <tr>\n",
       "      <th>0</th>\n",
       "      <td>1</td>\n",
       "      <td>113</td>\n",
       "      <td>12</td>\n",
       "      <td>29NOV1989</td>\n",
       "      <td>20SEP2016</td>\n",
       "      <td>F</td>\n",
       "      <td>354668</td>\n",
       "      <td>RED</td>\n",
       "      <td>MORTGAGE</td>\n",
       "      <td>PA</td>\n",
       "      <td>67</td>\n",
       "      <td>NaN</td>\n",
       "    </tr>\n",
       "    <tr>\n",
       "      <th>1</th>\n",
       "      <td>1</td>\n",
       "      <td>113</td>\n",
       "      <td>30</td>\n",
       "      <td>30SEP1996</td>\n",
       "      <td>17SEP2012</td>\n",
       "      <td>F</td>\n",
       "      <td>132166</td>\n",
       "      <td>RED</td>\n",
       "      <td>MORTGAGE</td>\n",
       "      <td>PA</td>\n",
       "      <td>71</td>\n",
       "      <td>09/19/1996</td>\n",
       "    </tr>\n",
       "    <tr>\n",
       "      <th>2</th>\n",
       "      <td>1</td>\n",
       "      <td>113</td>\n",
       "      <td>37</td>\n",
       "      <td>26MAR1999</td>\n",
       "      <td>14DEC2010</td>\n",
       "      <td>F</td>\n",
       "      <td>5272647</td>\n",
       "      <td>RED</td>\n",
       "      <td>MORTGAGE</td>\n",
       "      <td>PA</td>\n",
       "      <td>56</td>\n",
       "      <td>03/19/1999</td>\n",
       "    </tr>\n",
       "    <tr>\n",
       "      <th>3</th>\n",
       "      <td>1</td>\n",
       "      <td>113</td>\n",
       "      <td>40</td>\n",
       "      <td>02NOV2001</td>\n",
       "      <td>27DEC2007</td>\n",
       "      <td>F</td>\n",
       "      <td>131869</td>\n",
       "      <td>RED</td>\n",
       "      <td>MORTGAGE</td>\n",
       "      <td>PA</td>\n",
       "      <td>56</td>\n",
       "      <td>NaN</td>\n",
       "    </tr>\n",
       "    <tr>\n",
       "      <th>4</th>\n",
       "      <td>1</td>\n",
       "      <td>113</td>\n",
       "      <td>40</td>\n",
       "      <td>02NOV2001</td>\n",
       "      <td>27DEC2007</td>\n",
       "      <td>F</td>\n",
       "      <td>1019639</td>\n",
       "      <td>RED</td>\n",
       "      <td>MORTGAGE</td>\n",
       "      <td>PA</td>\n",
       "      <td>60</td>\n",
       "      <td>04/27/2013</td>\n",
       "    </tr>\n",
       "  </tbody>\n",
       "</table>\n",
       "</div>"
      ],
      "text/plain": [
       "   H1424_IDCENT  H1424_IDPROD  H1424_IDCONTRN H1424_FECCONTR H1424_FECBAJA  \\\n",
       "0             1           113              12      29NOV1989     20SEP2016   \n",
       "1             1           113              30      30SEP1996     17SEP2012   \n",
       "2             1           113              37      26MAR1999     14DEC2010   \n",
       "3             1           113              40      02NOV2001     27DEC2007   \n",
       "4             1           113              40      02NOV2001     27DEC2007   \n",
       "\n",
       "  H1424_TIPOPERS  H1424_CODPERS H1424_CDCANAL  Category H9776_NOMPROV1  \\\n",
       "0              F         354668           RED  MORTGAGE             PA   \n",
       "1              F         132166           RED  MORTGAGE             PA   \n",
       "2              F        5272647           RED  MORTGAGE             PA   \n",
       "3              F         131869           RED  MORTGAGE             PA   \n",
       "4              F        1019639           RED  MORTGAGE             PA   \n",
       "\n",
       "   H1451_EDADPER  Cust_Start  \n",
       "0             67         NaN  \n",
       "1             71  09/19/1996  \n",
       "2             56  03/19/1999  \n",
       "3             56         NaN  \n",
       "4             60  04/27/2013  "
      ]
     },
     "execution_count": 3,
     "metadata": {},
     "output_type": "execute_result"
    }
   ],
   "source": [
    "vintageData.head()"
   ]
  },
  {
   "cell_type": "code",
   "execution_count": null,
   "metadata": {
    "collapsed": true
   },
   "outputs": [],
   "source": [
    "# need to change the column names to make more sense\n",
    "# do this with mapping\n",
    "\n",
    "newNames = {'H1424_IDCENT': 'CostCenter', 'H1424_IDPROD':'ProductType', 'H1424_IDCONTRN':'ContractNumber', 'H1424_FECCONTR':'DateOpened', 'H1424_FECBAJA':'DateClosed', 'H1424_TIPOPERS':'PersonType', 'H1424_CODPERS':'PersonCode', 'H1424_CDCANAL':'Channel', 'Category':'Category', 'H9776_NOMPROV1':'State', 'H1451_EDADPER':'CustomerAge', 'Cust_Start':'CustomerStart'}\n",
    "\n",
    "vintageData.rename(columns=newNames, inplace=True)"
   ]
  },
  {
   "cell_type": "code",
   "execution_count": null,
   "metadata": {
    "collapsed": false
   },
   "outputs": [],
   "source": [
    "vintageData.head()"
   ]
  },
  {
   "cell_type": "code",
   "execution_count": null,
   "metadata": {
    "collapsed": false
   },
   "outputs": [],
   "source": [
    "#make customer ID\n",
    "\n",
    "vintageData['CustID'] = vintageData['PersonType'] + str(vintageData['PersonCode'])"
   ]
  },
  {
   "cell_type": "code",
   "execution_count": null,
   "metadata": {
    "collapsed": false
   },
   "outputs": [],
   "source": [
    "# check the data types\n",
    "vintageData.dtypes"
   ]
  },
  {
   "cell_type": "code",
   "execution_count": null,
   "metadata": {
    "collapsed": true
   },
   "outputs": [],
   "source": []
  }
 ],
 "metadata": {
  "anaconda-cloud": {},
  "kernelspec": {
   "display_name": "Python [Root]",
   "language": "python",
   "name": "Python [Root]"
  },
  "language_info": {
   "codemirror_mode": {
    "name": "ipython",
    "version": 3
   },
   "file_extension": ".py",
   "mimetype": "text/x-python",
   "name": "python",
   "nbconvert_exporter": "python",
   "pygments_lexer": "ipython3",
   "version": "3.5.1"
  }
 },
 "nbformat": 4,
 "nbformat_minor": 0
}
