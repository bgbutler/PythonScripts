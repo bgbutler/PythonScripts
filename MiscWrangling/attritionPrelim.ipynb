{
 "cells": [
  {
   "cell_type": "code",
   "execution_count": 1,
   "metadata": {
    "collapsed": true
   },
   "outputs": [],
   "source": [
    "# do the lifelines analysis on checking data\n",
    "\n",
    "# standard libraries\n",
    "import pandas as pd\n",
    "import numpy as np\n",
    "from pandas import Series, DataFrame\n",
    "import os\n",
    "\n",
    "# plotting libraries\n",
    "import matplotlib as mpl\n",
    "import matplotlib.pyplot as plt\n",
    "import seaborn as sns\n",
    "%matplotlib inline\n",
    "\n",
    "# get the datetime library for date & time calcs\n",
    "from datetime import datetime, timedelta"
   ]
  },
  {
   "cell_type": "code",
   "execution_count": 2,
   "metadata": {
    "collapsed": true
   },
   "outputs": [],
   "source": [
    "# get the different data sets\n",
    "\n",
    "# load the the main data sets\n",
    "url = os.path.normpath('C:/Users/n846490/Documents/Python Scripts/SurvivalAnalysis/crossSell.csv')\n",
    "xSell = pd.read_csv(url)"
   ]
  },
  {
   "cell_type": "code",
   "execution_count": 3,
   "metadata": {
    "collapsed": false
   },
   "outputs": [
    {
     "data": {
      "text/html": [
       "<div>\n",
       "<table border=\"1\" class=\"dataframe\">\n",
       "  <thead>\n",
       "    <tr style=\"text-align: right;\">\n",
       "      <th></th>\n",
       "      <th>CustID</th>\n",
       "      <th>Channel</th>\n",
       "      <th>Customergroups</th>\n",
       "      <th>Closed</th>\n",
       "      <th>NumAccounts</th>\n",
       "      <th>AcctOpen</th>\n",
       "      <th>AcctClosed</th>\n",
       "    </tr>\n",
       "  </thead>\n",
       "  <tbody>\n",
       "    <tr>\n",
       "      <th>0</th>\n",
       "      <td>F10000</td>\n",
       "      <td>Branch</td>\n",
       "      <td>Boomers+</td>\n",
       "      <td>Open</td>\n",
       "      <td>1</td>\n",
       "      <td>1</td>\n",
       "      <td>0</td>\n",
       "    </tr>\n",
       "    <tr>\n",
       "      <th>1</th>\n",
       "      <td>F10000</td>\n",
       "      <td>Branch</td>\n",
       "      <td>Boomers+</td>\n",
       "      <td>Closed</td>\n",
       "      <td>1</td>\n",
       "      <td>0</td>\n",
       "      <td>1</td>\n",
       "    </tr>\n",
       "    <tr>\n",
       "      <th>2</th>\n",
       "      <td>F1000008</td>\n",
       "      <td>Branch</td>\n",
       "      <td>Boomers+</td>\n",
       "      <td>Open</td>\n",
       "      <td>2</td>\n",
       "      <td>2</td>\n",
       "      <td>0</td>\n",
       "    </tr>\n",
       "    <tr>\n",
       "      <th>3</th>\n",
       "      <td>F1000008</td>\n",
       "      <td>Branch</td>\n",
       "      <td>Boomers+</td>\n",
       "      <td>Closed</td>\n",
       "      <td>0</td>\n",
       "      <td>0</td>\n",
       "      <td>0</td>\n",
       "    </tr>\n",
       "    <tr>\n",
       "      <th>4</th>\n",
       "      <td>F100001</td>\n",
       "      <td>Branch</td>\n",
       "      <td>Boomers+</td>\n",
       "      <td>Open</td>\n",
       "      <td>4</td>\n",
       "      <td>4</td>\n",
       "      <td>0</td>\n",
       "    </tr>\n",
       "  </tbody>\n",
       "</table>\n",
       "</div>"
      ],
      "text/plain": [
       "     CustID Channel Customergroups  Closed  NumAccounts  AcctOpen  AcctClosed\n",
       "0    F10000  Branch       Boomers+    Open            1         1           0\n",
       "1    F10000  Branch       Boomers+  Closed            1         0           1\n",
       "2  F1000008  Branch       Boomers+    Open            2         2           0\n",
       "3  F1000008  Branch       Boomers+  Closed            0         0           0\n",
       "4   F100001  Branch       Boomers+    Open            4         4           0"
      ]
     },
     "execution_count": 3,
     "metadata": {},
     "output_type": "execute_result"
    }
   ],
   "source": [
    "# view the data\n",
    "xSell.head()"
   ]
  },
  {
   "cell_type": "code",
   "execution_count": 5,
   "metadata": {
    "collapsed": false
   },
   "outputs": [
    {
     "data": {
      "text/plain": [
       "1437507"
      ]
     },
     "execution_count": 5,
     "metadata": {},
     "output_type": "execute_result"
    }
   ],
   "source": [
    "# get the number of rows for reference\n",
    "\n",
    "xSell.shape[0]"
   ]
  },
  {
   "cell_type": "code",
   "execution_count": 4,
   "metadata": {
    "collapsed": false
   },
   "outputs": [
    {
     "data": {
      "text/html": [
       "<div>\n",
       "<table border=\"1\" class=\"dataframe\">\n",
       "  <thead>\n",
       "    <tr style=\"text-align: right;\">\n",
       "      <th></th>\n",
       "      <th>CustID</th>\n",
       "      <th>Channel</th>\n",
       "      <th>Customergroups</th>\n",
       "      <th>Closed</th>\n",
       "      <th>Open</th>\n",
       "    </tr>\n",
       "  </thead>\n",
       "  <tbody>\n",
       "    <tr>\n",
       "      <th>0</th>\n",
       "      <td>F10000</td>\n",
       "      <td>Branch</td>\n",
       "      <td>Boomers+</td>\n",
       "      <td>1</td>\n",
       "      <td>1</td>\n",
       "    </tr>\n",
       "    <tr>\n",
       "      <th>1</th>\n",
       "      <td>F1000008</td>\n",
       "      <td>Branch</td>\n",
       "      <td>Boomers+</td>\n",
       "      <td>0</td>\n",
       "      <td>2</td>\n",
       "    </tr>\n",
       "    <tr>\n",
       "      <th>2</th>\n",
       "      <td>F100001</td>\n",
       "      <td>Branch</td>\n",
       "      <td>Boomers+</td>\n",
       "      <td>2</td>\n",
       "      <td>4</td>\n",
       "    </tr>\n",
       "    <tr>\n",
       "      <th>3</th>\n",
       "      <td>F1000013</td>\n",
       "      <td>Branch</td>\n",
       "      <td>Gen X</td>\n",
       "      <td>2</td>\n",
       "      <td>2</td>\n",
       "    </tr>\n",
       "    <tr>\n",
       "      <th>4</th>\n",
       "      <td>F1000030</td>\n",
       "      <td>Branch</td>\n",
       "      <td>Boomers+</td>\n",
       "      <td>1</td>\n",
       "      <td>2</td>\n",
       "    </tr>\n",
       "  </tbody>\n",
       "</table>\n",
       "</div>"
      ],
      "text/plain": [
       "     CustID Channel Customergroups  Closed  Open\n",
       "0    F10000  Branch       Boomers+       1     1\n",
       "1  F1000008  Branch       Boomers+       0     2\n",
       "2   F100001  Branch       Boomers+       2     4\n",
       "3  F1000013  Branch          Gen X       2     2\n",
       "4  F1000030  Branch       Boomers+       1     2"
      ]
     },
     "execution_count": 4,
     "metadata": {},
     "output_type": "execute_result"
    }
   ],
   "source": [
    "# get cross clean\n",
    "\n",
    "url = os.path.normpath('C:/Users/n846490/Documents/Python Scripts/SurvivalAnalysis/crossClean.csv')\n",
    "xSellClean = pd.read_csv(url)\n",
    "\n",
    "xSellClean.head()"
   ]
  },
  {
   "cell_type": "code",
   "execution_count": 6,
   "metadata": {
    "collapsed": false
   },
   "outputs": [
    {
     "data": {
      "text/plain": [
       "993716"
      ]
     },
     "execution_count": 6,
     "metadata": {},
     "output_type": "execute_result"
    }
   ],
   "source": [
    "xSellClean.shape[0]"
   ]
  },
  {
   "cell_type": "code",
   "execution_count": 29,
   "metadata": {
    "collapsed": false
   },
   "outputs": [
    {
     "data": {
      "text/html": [
       "<div>\n",
       "<table border=\"1\" class=\"dataframe\">\n",
       "  <thead>\n",
       "    <tr style=\"text-align: right;\">\n",
       "      <th></th>\n",
       "      <th>H1453_TIPOPERS</th>\n",
       "      <th>H1453_CODPERS</th>\n",
       "      <th>O2903_INC360</th>\n",
       "      <th>O2903_TOTASSTS</th>\n",
       "      <th>O2903_EQISCORE</th>\n",
       "      <th>O2903_VINSCORE</th>\n",
       "      <th>MAX_of_CKG_Flag</th>\n",
       "      <th>Income_2016</th>\n",
       "      <th>Expense_2016</th>\n",
       "      <th>Fees_2016</th>\n",
       "      <th>Income_2015</th>\n",
       "      <th>Expense_2015</th>\n",
       "      <th>Fees_2015</th>\n",
       "      <th>Income_2014</th>\n",
       "      <th>Expense_2014</th>\n",
       "      <th>Fees_2014</th>\n",
       "    </tr>\n",
       "  </thead>\n",
       "  <tbody>\n",
       "    <tr>\n",
       "      <th>0</th>\n",
       "      <td>F</td>\n",
       "      <td>14</td>\n",
       "      <td>48087.0</td>\n",
       "      <td>190891.0</td>\n",
       "      <td>704.0</td>\n",
       "      <td>753.0</td>\n",
       "      <td>1</td>\n",
       "      <td>0.52</td>\n",
       "      <td>0.00</td>\n",
       "      <td>0.00</td>\n",
       "      <td>0.00</td>\n",
       "      <td>0.00</td>\n",
       "      <td>0.0</td>\n",
       "      <td>0.00</td>\n",
       "      <td>0.00</td>\n",
       "      <td>0.0</td>\n",
       "    </tr>\n",
       "    <tr>\n",
       "      <th>1</th>\n",
       "      <td>F</td>\n",
       "      <td>143</td>\n",
       "      <td>41421.0</td>\n",
       "      <td>34675.0</td>\n",
       "      <td>700.0</td>\n",
       "      <td>755.0</td>\n",
       "      <td>0</td>\n",
       "      <td>1.66</td>\n",
       "      <td>0.46</td>\n",
       "      <td>0.00</td>\n",
       "      <td>1.33</td>\n",
       "      <td>0.01</td>\n",
       "      <td>0.0</td>\n",
       "      <td>-29.91</td>\n",
       "      <td>0.45</td>\n",
       "      <td>0.0</td>\n",
       "    </tr>\n",
       "    <tr>\n",
       "      <th>2</th>\n",
       "      <td>F</td>\n",
       "      <td>538</td>\n",
       "      <td>26096.0</td>\n",
       "      <td>19632.0</td>\n",
       "      <td>635.0</td>\n",
       "      <td>691.0</td>\n",
       "      <td>1</td>\n",
       "      <td>0.26</td>\n",
       "      <td>0.00</td>\n",
       "      <td>210.76</td>\n",
       "      <td>0.01</td>\n",
       "      <td>0.00</td>\n",
       "      <td>35.0</td>\n",
       "      <td>0.00</td>\n",
       "      <td>0.00</td>\n",
       "      <td>0.0</td>\n",
       "    </tr>\n",
       "    <tr>\n",
       "      <th>3</th>\n",
       "      <td>F</td>\n",
       "      <td>879</td>\n",
       "      <td>47729.0</td>\n",
       "      <td>320.0</td>\n",
       "      <td>739.0</td>\n",
       "      <td>791.0</td>\n",
       "      <td>1</td>\n",
       "      <td>0.00</td>\n",
       "      <td>0.00</td>\n",
       "      <td>0.00</td>\n",
       "      <td>0.86</td>\n",
       "      <td>90.00</td>\n",
       "      <td>38.4</td>\n",
       "      <td>1.32</td>\n",
       "      <td>0.00</td>\n",
       "      <td>0.0</td>\n",
       "    </tr>\n",
       "    <tr>\n",
       "      <th>4</th>\n",
       "      <td>F</td>\n",
       "      <td>1496</td>\n",
       "      <td>51707.0</td>\n",
       "      <td>11590.0</td>\n",
       "      <td>651.0</td>\n",
       "      <td>700.0</td>\n",
       "      <td>1</td>\n",
       "      <td>0.00</td>\n",
       "      <td>0.00</td>\n",
       "      <td>0.00</td>\n",
       "      <td>10.76</td>\n",
       "      <td>0.05</td>\n",
       "      <td>0.0</td>\n",
       "      <td>0.00</td>\n",
       "      <td>0.00</td>\n",
       "      <td>0.0</td>\n",
       "    </tr>\n",
       "  </tbody>\n",
       "</table>\n",
       "</div>"
      ],
      "text/plain": [
       "  H1453_TIPOPERS  H1453_CODPERS  O2903_INC360  O2903_TOTASSTS  O2903_EQISCORE  \\\n",
       "0              F             14       48087.0        190891.0           704.0   \n",
       "1              F            143       41421.0         34675.0           700.0   \n",
       "2              F            538       26096.0         19632.0           635.0   \n",
       "3              F            879       47729.0           320.0           739.0   \n",
       "4              F           1496       51707.0         11590.0           651.0   \n",
       "\n",
       "   O2903_VINSCORE  MAX_of_CKG_Flag  Income_2016  Expense_2016  Fees_2016  \\\n",
       "0           753.0                1         0.52          0.00       0.00   \n",
       "1           755.0                0         1.66          0.46       0.00   \n",
       "2           691.0                1         0.26          0.00     210.76   \n",
       "3           791.0                1         0.00          0.00       0.00   \n",
       "4           700.0                1         0.00          0.00       0.00   \n",
       "\n",
       "   Income_2015  Expense_2015  Fees_2015  Income_2014  Expense_2014  Fees_2014  \n",
       "0         0.00          0.00        0.0         0.00          0.00        0.0  \n",
       "1         1.33          0.01        0.0       -29.91          0.45        0.0  \n",
       "2         0.01          0.00       35.0         0.00          0.00        0.0  \n",
       "3         0.86         90.00       38.4         1.32          0.00        0.0  \n",
       "4        10.76          0.05        0.0         0.00          0.00        0.0  "
      ]
     },
     "execution_count": 29,
     "metadata": {},
     "output_type": "execute_result"
    }
   ],
   "source": [
    "# get the balances and IXI data\n",
    "\n",
    "url = os.path.normpath('C:/Users/n846490/Documents/DataScience/CSVs/Revenue_IXI.csv')\n",
    "revData = pd.read_csv(url)\n",
    "\n",
    "revData.head()"
   ]
  },
  {
   "cell_type": "code",
   "execution_count": 30,
   "metadata": {
    "collapsed": false
   },
   "outputs": [
    {
     "data": {
      "text/plain": [
       "1118487"
      ]
     },
     "execution_count": 30,
     "metadata": {},
     "output_type": "execute_result"
    }
   ],
   "source": [
    "revData.shape[0]"
   ]
  },
  {
   "cell_type": "code",
   "execution_count": 31,
   "metadata": {
    "collapsed": false
   },
   "outputs": [
    {
     "data": {
      "text/html": [
       "<div>\n",
       "<table border=\"1\" class=\"dataframe\">\n",
       "  <thead>\n",
       "    <tr style=\"text-align: right;\">\n",
       "      <th></th>\n",
       "      <th>PersonType</th>\n",
       "      <th>PersonCode</th>\n",
       "      <th>EHI</th>\n",
       "      <th>TotAssets</th>\n",
       "      <th>EqiScore</th>\n",
       "      <th>VinScore</th>\n",
       "      <th>OpenedChecking</th>\n",
       "      <th>Inc2016</th>\n",
       "      <th>Exp2016</th>\n",
       "      <th>Fees2016</th>\n",
       "      <th>Inc2015</th>\n",
       "      <th>Exp2015</th>\n",
       "      <th>Fees2015</th>\n",
       "      <th>Inc2014</th>\n",
       "      <th>Exp2014</th>\n",
       "      <th>Fees2014</th>\n",
       "    </tr>\n",
       "  </thead>\n",
       "  <tbody>\n",
       "    <tr>\n",
       "      <th>0</th>\n",
       "      <td>F</td>\n",
       "      <td>14</td>\n",
       "      <td>48087.0</td>\n",
       "      <td>190891.0</td>\n",
       "      <td>704.0</td>\n",
       "      <td>753.0</td>\n",
       "      <td>1</td>\n",
       "      <td>0.52</td>\n",
       "      <td>0.00</td>\n",
       "      <td>0.00</td>\n",
       "      <td>0.00</td>\n",
       "      <td>0.00</td>\n",
       "      <td>0.0</td>\n",
       "      <td>0.00</td>\n",
       "      <td>0.00</td>\n",
       "      <td>0.0</td>\n",
       "    </tr>\n",
       "    <tr>\n",
       "      <th>1</th>\n",
       "      <td>F</td>\n",
       "      <td>143</td>\n",
       "      <td>41421.0</td>\n",
       "      <td>34675.0</td>\n",
       "      <td>700.0</td>\n",
       "      <td>755.0</td>\n",
       "      <td>0</td>\n",
       "      <td>1.66</td>\n",
       "      <td>0.46</td>\n",
       "      <td>0.00</td>\n",
       "      <td>1.33</td>\n",
       "      <td>0.01</td>\n",
       "      <td>0.0</td>\n",
       "      <td>-29.91</td>\n",
       "      <td>0.45</td>\n",
       "      <td>0.0</td>\n",
       "    </tr>\n",
       "    <tr>\n",
       "      <th>2</th>\n",
       "      <td>F</td>\n",
       "      <td>538</td>\n",
       "      <td>26096.0</td>\n",
       "      <td>19632.0</td>\n",
       "      <td>635.0</td>\n",
       "      <td>691.0</td>\n",
       "      <td>1</td>\n",
       "      <td>0.26</td>\n",
       "      <td>0.00</td>\n",
       "      <td>210.76</td>\n",
       "      <td>0.01</td>\n",
       "      <td>0.00</td>\n",
       "      <td>35.0</td>\n",
       "      <td>0.00</td>\n",
       "      <td>0.00</td>\n",
       "      <td>0.0</td>\n",
       "    </tr>\n",
       "    <tr>\n",
       "      <th>3</th>\n",
       "      <td>F</td>\n",
       "      <td>879</td>\n",
       "      <td>47729.0</td>\n",
       "      <td>320.0</td>\n",
       "      <td>739.0</td>\n",
       "      <td>791.0</td>\n",
       "      <td>1</td>\n",
       "      <td>0.00</td>\n",
       "      <td>0.00</td>\n",
       "      <td>0.00</td>\n",
       "      <td>0.86</td>\n",
       "      <td>90.00</td>\n",
       "      <td>38.4</td>\n",
       "      <td>1.32</td>\n",
       "      <td>0.00</td>\n",
       "      <td>0.0</td>\n",
       "    </tr>\n",
       "    <tr>\n",
       "      <th>4</th>\n",
       "      <td>F</td>\n",
       "      <td>1496</td>\n",
       "      <td>51707.0</td>\n",
       "      <td>11590.0</td>\n",
       "      <td>651.0</td>\n",
       "      <td>700.0</td>\n",
       "      <td>1</td>\n",
       "      <td>0.00</td>\n",
       "      <td>0.00</td>\n",
       "      <td>0.00</td>\n",
       "      <td>10.76</td>\n",
       "      <td>0.05</td>\n",
       "      <td>0.0</td>\n",
       "      <td>0.00</td>\n",
       "      <td>0.00</td>\n",
       "      <td>0.0</td>\n",
       "    </tr>\n",
       "  </tbody>\n",
       "</table>\n",
       "</div>"
      ],
      "text/plain": [
       "  PersonType  PersonCode      EHI  TotAssets  EqiScore  VinScore  \\\n",
       "0          F          14  48087.0   190891.0     704.0     753.0   \n",
       "1          F         143  41421.0    34675.0     700.0     755.0   \n",
       "2          F         538  26096.0    19632.0     635.0     691.0   \n",
       "3          F         879  47729.0      320.0     739.0     791.0   \n",
       "4          F        1496  51707.0    11590.0     651.0     700.0   \n",
       "\n",
       "   OpenedChecking  Inc2016  Exp2016  Fees2016  Inc2015  Exp2015  Fees2015  \\\n",
       "0               1     0.52     0.00      0.00     0.00     0.00       0.0   \n",
       "1               0     1.66     0.46      0.00     1.33     0.01       0.0   \n",
       "2               1     0.26     0.00    210.76     0.01     0.00      35.0   \n",
       "3               1     0.00     0.00      0.00     0.86    90.00      38.4   \n",
       "4               1     0.00     0.00      0.00    10.76     0.05       0.0   \n",
       "\n",
       "   Inc2014  Exp2014  Fees2014  \n",
       "0     0.00     0.00       0.0  \n",
       "1   -29.91     0.45       0.0  \n",
       "2     0.00     0.00       0.0  \n",
       "3     1.32     0.00       0.0  \n",
       "4     0.00     0.00       0.0  "
      ]
     },
     "execution_count": 31,
     "metadata": {},
     "output_type": "execute_result"
    }
   ],
   "source": [
    "# clean up the columns names from the IXI file\n",
    "\n",
    "newNames = {'H1453_TIPOPERS':'PersonType', 'H1453_CODPERS':'PersonCode', 'O2903_INC360':'EHI', 'O2903_TOTASSTS':'TotAssets', 'O2903_EQISCORE':'EqiScore', 'O2903_VINSCORE':'VinScore', 'MAX_of_CKG_Flag':'OpenedChecking', 'Income_2016':'Inc2016', 'Expense_2016':'Exp2016', 'Fees_2016':'Fees2016', 'Income_2015':'Inc2015', 'Expense_2015':'Exp2015', 'Fees_2015':'Fees2015','Income_2014':'Inc2014', 'Expense_2014':'Exp2014', 'Fees_2014':'Fees2014'}\n",
    "\n",
    "revData.rename(columns=newNames, inplace=True)\n",
    "\n",
    "# get a view of the data and headers\n",
    "revData.head()\n"
   ]
  },
  {
   "cell_type": "code",
   "execution_count": 32,
   "metadata": {
    "collapsed": false
   },
   "outputs": [
    {
     "name": "stdout",
     "output_type": "stream",
     "text": [
      "<class 'pandas.core.frame.DataFrame'>\n",
      "RangeIndex: 1118487 entries, 0 to 1118486\n",
      "Data columns (total 16 columns):\n",
      "PersonType        1118487 non-null object\n",
      "PersonCode        1118487 non-null int64\n",
      "EHI               826474 non-null float64\n",
      "TotAssets         826474 non-null float64\n",
      "EqiScore          826474 non-null float64\n",
      "VinScore          826474 non-null float64\n",
      "OpenedChecking    1118487 non-null int64\n",
      "Inc2016           1118487 non-null float64\n",
      "Exp2016           1118487 non-null float64\n",
      "Fees2016          1118487 non-null float64\n",
      "Inc2015           1118487 non-null float64\n",
      "Exp2015           1118487 non-null float64\n",
      "Fees2015          1118487 non-null float64\n",
      "Inc2014           1118487 non-null float64\n",
      "Exp2014           1118487 non-null float64\n",
      "Fees2014          1118487 non-null float64\n",
      "dtypes: float64(13), int64(2), object(1)\n",
      "memory usage: 136.5+ MB\n"
     ]
    }
   ],
   "source": [
    "revData.info()"
   ]
  },
  {
   "cell_type": "code",
   "execution_count": 33,
   "metadata": {
    "collapsed": false
   },
   "outputs": [],
   "source": [
    "# convert the PersonCode to string for concatonation\n",
    "# revData['PersonCode'].apply(str)\n",
    "\n",
    "revData['PersonCode'] = revData.applymap(str).iloc[:,1]"
   ]
  },
  {
   "cell_type": "code",
   "execution_count": 34,
   "metadata": {
    "collapsed": true
   },
   "outputs": [],
   "source": [
    "# make the new column CustID\n",
    "\n",
    "revData['CustID'] = revData['PersonType'] + revData['PersonCode']"
   ]
  },
  {
   "cell_type": "code",
   "execution_count": 37,
   "metadata": {
    "collapsed": false
   },
   "outputs": [
    {
     "data": {
      "text/html": [
       "<div>\n",
       "<table border=\"1\" class=\"dataframe\">\n",
       "  <thead>\n",
       "    <tr style=\"text-align: right;\">\n",
       "      <th></th>\n",
       "      <th>PersonType</th>\n",
       "      <th>PersonCode</th>\n",
       "      <th>EHI</th>\n",
       "      <th>TotAssets</th>\n",
       "      <th>EqiScore</th>\n",
       "      <th>VinScore</th>\n",
       "      <th>OpenedChecking</th>\n",
       "      <th>Inc2016</th>\n",
       "      <th>Exp2016</th>\n",
       "      <th>Fees2016</th>\n",
       "      <th>Inc2015</th>\n",
       "      <th>Exp2015</th>\n",
       "      <th>Fees2015</th>\n",
       "      <th>Inc2014</th>\n",
       "      <th>Exp2014</th>\n",
       "      <th>Fees2014</th>\n",
       "      <th>CustID</th>\n",
       "      <th>Rev2016</th>\n",
       "      <th>Rev2015</th>\n",
       "      <th>Rev2014</th>\n",
       "    </tr>\n",
       "  </thead>\n",
       "  <tbody>\n",
       "    <tr>\n",
       "      <th>0</th>\n",
       "      <td>F</td>\n",
       "      <td>14</td>\n",
       "      <td>48087.0</td>\n",
       "      <td>190891.0</td>\n",
       "      <td>704.0</td>\n",
       "      <td>753.0</td>\n",
       "      <td>1</td>\n",
       "      <td>0.52</td>\n",
       "      <td>0.00</td>\n",
       "      <td>0.00</td>\n",
       "      <td>0.00</td>\n",
       "      <td>0.00</td>\n",
       "      <td>0.0</td>\n",
       "      <td>0.00</td>\n",
       "      <td>0.00</td>\n",
       "      <td>0.0</td>\n",
       "      <td>F14</td>\n",
       "      <td>0.52</td>\n",
       "      <td>0.00</td>\n",
       "      <td>0.00</td>\n",
       "    </tr>\n",
       "    <tr>\n",
       "      <th>1</th>\n",
       "      <td>F</td>\n",
       "      <td>143</td>\n",
       "      <td>41421.0</td>\n",
       "      <td>34675.0</td>\n",
       "      <td>700.0</td>\n",
       "      <td>755.0</td>\n",
       "      <td>0</td>\n",
       "      <td>1.66</td>\n",
       "      <td>0.46</td>\n",
       "      <td>0.00</td>\n",
       "      <td>1.33</td>\n",
       "      <td>0.01</td>\n",
       "      <td>0.0</td>\n",
       "      <td>-29.91</td>\n",
       "      <td>0.45</td>\n",
       "      <td>0.0</td>\n",
       "      <td>F143</td>\n",
       "      <td>1.20</td>\n",
       "      <td>1.32</td>\n",
       "      <td>-30.36</td>\n",
       "    </tr>\n",
       "    <tr>\n",
       "      <th>2</th>\n",
       "      <td>F</td>\n",
       "      <td>538</td>\n",
       "      <td>26096.0</td>\n",
       "      <td>19632.0</td>\n",
       "      <td>635.0</td>\n",
       "      <td>691.0</td>\n",
       "      <td>1</td>\n",
       "      <td>0.26</td>\n",
       "      <td>0.00</td>\n",
       "      <td>210.76</td>\n",
       "      <td>0.01</td>\n",
       "      <td>0.00</td>\n",
       "      <td>35.0</td>\n",
       "      <td>0.00</td>\n",
       "      <td>0.00</td>\n",
       "      <td>0.0</td>\n",
       "      <td>F538</td>\n",
       "      <td>211.02</td>\n",
       "      <td>35.01</td>\n",
       "      <td>0.00</td>\n",
       "    </tr>\n",
       "    <tr>\n",
       "      <th>3</th>\n",
       "      <td>F</td>\n",
       "      <td>879</td>\n",
       "      <td>47729.0</td>\n",
       "      <td>320.0</td>\n",
       "      <td>739.0</td>\n",
       "      <td>791.0</td>\n",
       "      <td>1</td>\n",
       "      <td>0.00</td>\n",
       "      <td>0.00</td>\n",
       "      <td>0.00</td>\n",
       "      <td>0.86</td>\n",
       "      <td>90.00</td>\n",
       "      <td>38.4</td>\n",
       "      <td>1.32</td>\n",
       "      <td>0.00</td>\n",
       "      <td>0.0</td>\n",
       "      <td>F879</td>\n",
       "      <td>0.00</td>\n",
       "      <td>-50.74</td>\n",
       "      <td>1.32</td>\n",
       "    </tr>\n",
       "    <tr>\n",
       "      <th>4</th>\n",
       "      <td>F</td>\n",
       "      <td>1496</td>\n",
       "      <td>51707.0</td>\n",
       "      <td>11590.0</td>\n",
       "      <td>651.0</td>\n",
       "      <td>700.0</td>\n",
       "      <td>1</td>\n",
       "      <td>0.00</td>\n",
       "      <td>0.00</td>\n",
       "      <td>0.00</td>\n",
       "      <td>10.76</td>\n",
       "      <td>0.05</td>\n",
       "      <td>0.0</td>\n",
       "      <td>0.00</td>\n",
       "      <td>0.00</td>\n",
       "      <td>0.0</td>\n",
       "      <td>F1496</td>\n",
       "      <td>0.00</td>\n",
       "      <td>10.71</td>\n",
       "      <td>0.00</td>\n",
       "    </tr>\n",
       "  </tbody>\n",
       "</table>\n",
       "</div>"
      ],
      "text/plain": [
       "  PersonType PersonCode      EHI  TotAssets  EqiScore  VinScore  \\\n",
       "0          F         14  48087.0   190891.0     704.0     753.0   \n",
       "1          F        143  41421.0    34675.0     700.0     755.0   \n",
       "2          F        538  26096.0    19632.0     635.0     691.0   \n",
       "3          F        879  47729.0      320.0     739.0     791.0   \n",
       "4          F       1496  51707.0    11590.0     651.0     700.0   \n",
       "\n",
       "   OpenedChecking  Inc2016  Exp2016  Fees2016  Inc2015  Exp2015  Fees2015  \\\n",
       "0               1     0.52     0.00      0.00     0.00     0.00       0.0   \n",
       "1               0     1.66     0.46      0.00     1.33     0.01       0.0   \n",
       "2               1     0.26     0.00    210.76     0.01     0.00      35.0   \n",
       "3               1     0.00     0.00      0.00     0.86    90.00      38.4   \n",
       "4               1     0.00     0.00      0.00    10.76     0.05       0.0   \n",
       "\n",
       "   Inc2014  Exp2014  Fees2014 CustID  Rev2016  Rev2015  Rev2014  \n",
       "0     0.00     0.00       0.0    F14     0.52     0.00     0.00  \n",
       "1   -29.91     0.45       0.0   F143     1.20     1.32   -30.36  \n",
       "2     0.00     0.00       0.0   F538   211.02    35.01     0.00  \n",
       "3     1.32     0.00       0.0   F879     0.00   -50.74     1.32  \n",
       "4     0.00     0.00       0.0  F1496     0.00    10.71     0.00  "
      ]
     },
     "execution_count": 37,
     "metadata": {},
     "output_type": "execute_result"
    }
   ],
   "source": [
    "revData.head()"
   ]
  },
  {
   "cell_type": "code",
   "execution_count": 36,
   "metadata": {
    "collapsed": false
   },
   "outputs": [],
   "source": [
    "# create new revenue columns\n",
    "\n",
    "revData['Rev2016'] = revData['Inc2016'] + revData['Fees2016'] - revData['Exp2016'] \n",
    "\n",
    "revData['Rev2015'] = revData['Inc2015'] + revData['Fees2015'] - revData['Exp2015'] \n",
    "\n",
    "revData['Rev2014'] = revData['Inc2014'] + revData['Fees2014'] - revData['Exp2014'] "
   ]
  },
  {
   "cell_type": "code",
   "execution_count": 41,
   "metadata": {
    "collapsed": false
   },
   "outputs": [],
   "source": [
    "# reduce the size of the data frame\n",
    "\n",
    "revDataRed = revData[['CustID', 'OpenedChecking', 'EHI', 'TotAssets', 'EqiScore', 'VinScore', 'Rev2016', 'Rev2015', 'Rev2014']]"
   ]
  },
  {
   "cell_type": "code",
   "execution_count": 42,
   "metadata": {
    "collapsed": false
   },
   "outputs": [
    {
     "data": {
      "text/html": [
       "<div>\n",
       "<table border=\"1\" class=\"dataframe\">\n",
       "  <thead>\n",
       "    <tr style=\"text-align: right;\">\n",
       "      <th></th>\n",
       "      <th>CustID</th>\n",
       "      <th>OpenedChecking</th>\n",
       "      <th>EHI</th>\n",
       "      <th>TotAssets</th>\n",
       "      <th>EqiScore</th>\n",
       "      <th>VinScore</th>\n",
       "      <th>Rev2016</th>\n",
       "      <th>Rev2015</th>\n",
       "      <th>Rev2014</th>\n",
       "    </tr>\n",
       "  </thead>\n",
       "  <tbody>\n",
       "    <tr>\n",
       "      <th>0</th>\n",
       "      <td>F14</td>\n",
       "      <td>1</td>\n",
       "      <td>48087.0</td>\n",
       "      <td>190891.0</td>\n",
       "      <td>704.0</td>\n",
       "      <td>753.0</td>\n",
       "      <td>0.52</td>\n",
       "      <td>0.00</td>\n",
       "      <td>0.00</td>\n",
       "    </tr>\n",
       "    <tr>\n",
       "      <th>1</th>\n",
       "      <td>F143</td>\n",
       "      <td>0</td>\n",
       "      <td>41421.0</td>\n",
       "      <td>34675.0</td>\n",
       "      <td>700.0</td>\n",
       "      <td>755.0</td>\n",
       "      <td>1.20</td>\n",
       "      <td>1.32</td>\n",
       "      <td>-30.36</td>\n",
       "    </tr>\n",
       "    <tr>\n",
       "      <th>2</th>\n",
       "      <td>F538</td>\n",
       "      <td>1</td>\n",
       "      <td>26096.0</td>\n",
       "      <td>19632.0</td>\n",
       "      <td>635.0</td>\n",
       "      <td>691.0</td>\n",
       "      <td>211.02</td>\n",
       "      <td>35.01</td>\n",
       "      <td>0.00</td>\n",
       "    </tr>\n",
       "    <tr>\n",
       "      <th>3</th>\n",
       "      <td>F879</td>\n",
       "      <td>1</td>\n",
       "      <td>47729.0</td>\n",
       "      <td>320.0</td>\n",
       "      <td>739.0</td>\n",
       "      <td>791.0</td>\n",
       "      <td>0.00</td>\n",
       "      <td>-50.74</td>\n",
       "      <td>1.32</td>\n",
       "    </tr>\n",
       "    <tr>\n",
       "      <th>4</th>\n",
       "      <td>F1496</td>\n",
       "      <td>1</td>\n",
       "      <td>51707.0</td>\n",
       "      <td>11590.0</td>\n",
       "      <td>651.0</td>\n",
       "      <td>700.0</td>\n",
       "      <td>0.00</td>\n",
       "      <td>10.71</td>\n",
       "      <td>0.00</td>\n",
       "    </tr>\n",
       "  </tbody>\n",
       "</table>\n",
       "</div>"
      ],
      "text/plain": [
       "  CustID  OpenedChecking      EHI  TotAssets  EqiScore  VinScore  Rev2016  \\\n",
       "0    F14               1  48087.0   190891.0     704.0     753.0     0.52   \n",
       "1   F143               0  41421.0    34675.0     700.0     755.0     1.20   \n",
       "2   F538               1  26096.0    19632.0     635.0     691.0   211.02   \n",
       "3   F879               1  47729.0      320.0     739.0     791.0     0.00   \n",
       "4  F1496               1  51707.0    11590.0     651.0     700.0     0.00   \n",
       "\n",
       "   Rev2015  Rev2014  \n",
       "0     0.00     0.00  \n",
       "1     1.32   -30.36  \n",
       "2    35.01     0.00  \n",
       "3   -50.74     1.32  \n",
       "4    10.71     0.00  "
      ]
     },
     "execution_count": 42,
     "metadata": {},
     "output_type": "execute_result"
    }
   ],
   "source": [
    "revDataRed.head()"
   ]
  },
  {
   "cell_type": "code",
   "execution_count": 56,
   "metadata": {
    "collapsed": false
   },
   "outputs": [
    {
     "data": {
      "text/plain": [
       "'C:\\\\Users\\\\n846490\\\\Documents\\\\Python Scripts\\\\SurvivalAnalysis'"
      ]
     },
     "execution_count": 56,
     "metadata": {},
     "output_type": "execute_result"
    }
   ],
   "source": [
    "os.getcwd()\n",
    "\n",
    "# os.chdir(os.path.normpath('C:/Users/n846490/Documents/Python Scripts/SurvivalAnalysis'))"
   ]
  },
  {
   "cell_type": "code",
   "execution_count": 57,
   "metadata": {
    "collapsed": true
   },
   "outputs": [],
   "source": [
    "# write this to a csv for additional cleaning\n",
    "# export the clean data\n",
    "\n",
    "revDataRed.to_csv('custRevenueTable.csv')"
   ]
  },
  {
   "cell_type": "code",
   "execution_count": 63,
   "metadata": {
    "collapsed": false
   },
   "outputs": [
    {
     "data": {
      "text/html": [
       "<div>\n",
       "<table border=\"1\" class=\"dataframe\">\n",
       "  <thead>\n",
       "    <tr style=\"text-align: right;\">\n",
       "      <th></th>\n",
       "      <th>Unnamed: 0</th>\n",
       "      <th>Personcode</th>\n",
       "      <th>Customergroups</th>\n",
       "      <th>Closed</th>\n",
       "      <th>NumAccount</th>\n",
       "    </tr>\n",
       "  </thead>\n",
       "  <tbody>\n",
       "    <tr>\n",
       "      <th>0</th>\n",
       "      <td>0</td>\n",
       "      <td>14</td>\n",
       "      <td>Boomers+</td>\n",
       "      <td>1.0</td>\n",
       "      <td>4.0</td>\n",
       "    </tr>\n",
       "    <tr>\n",
       "      <th>1</th>\n",
       "      <td>1</td>\n",
       "      <td>143</td>\n",
       "      <td>Boomers+</td>\n",
       "      <td>1.0</td>\n",
       "      <td>7.0</td>\n",
       "    </tr>\n",
       "    <tr>\n",
       "      <th>2</th>\n",
       "      <td>2</td>\n",
       "      <td>538</td>\n",
       "      <td>Gen X</td>\n",
       "      <td>1.0</td>\n",
       "      <td>4.0</td>\n",
       "    </tr>\n",
       "    <tr>\n",
       "      <th>3</th>\n",
       "      <td>3</td>\n",
       "      <td>879</td>\n",
       "      <td>Gen X</td>\n",
       "      <td>3.0</td>\n",
       "      <td>6.0</td>\n",
       "    </tr>\n",
       "    <tr>\n",
       "      <th>4</th>\n",
       "      <td>4</td>\n",
       "      <td>1496</td>\n",
       "      <td>Gen X</td>\n",
       "      <td>3.0</td>\n",
       "      <td>6.0</td>\n",
       "    </tr>\n",
       "  </tbody>\n",
       "</table>\n",
       "</div>"
      ],
      "text/plain": [
       "   Unnamed: 0  Personcode Customergroups  Closed  NumAccount\n",
       "0           0          14       Boomers+     1.0         4.0\n",
       "1           1         143       Boomers+     1.0         7.0\n",
       "2           2         538          Gen X     1.0         4.0\n",
       "3           3         879          Gen X     3.0         6.0\n",
       "4           4        1496          Gen X     3.0         6.0"
      ]
     },
     "execution_count": 63,
     "metadata": {},
     "output_type": "execute_result"
    }
   ],
   "source": [
    "# load the the wide data\n",
    "\n",
    "url = os.path.normpath('C:/Users/n846490/Documents/Python Scripts/SurvivalAnalysis/wideDataClean.csv')\n",
    "wideData = pd.read_csv(url)\n",
    "\n",
    "wideData.head()"
   ]
  },
  {
   "cell_type": "code",
   "execution_count": 64,
   "metadata": {
    "collapsed": false
   },
   "outputs": [
    {
     "name": "stdout",
     "output_type": "stream",
     "text": [
      "<class 'pandas.core.frame.DataFrame'>\n",
      "RangeIndex: 967860 entries, 0 to 967859\n",
      "Data columns (total 5 columns):\n",
      "Unnamed: 0        967860 non-null int64\n",
      "Personcode        967860 non-null int64\n",
      "Customergroups    967860 non-null object\n",
      "Closed            967860 non-null float64\n",
      "NumAccount        967860 non-null float64\n",
      "dtypes: float64(2), int64(2), object(1)\n",
      "memory usage: 36.9+ MB\n"
     ]
    }
   ],
   "source": [
    "wideData.info()"
   ]
  },
  {
   "cell_type": "code",
   "execution_count": null,
   "metadata": {
    "collapsed": true
   },
   "outputs": [],
   "source": [
    "wideDataRed = wideData[['Persontype', 'Personcode', 'Branch', 'State', ]]"
   ]
  }
 ],
 "metadata": {
  "anaconda-cloud": {},
  "kernelspec": {
   "display_name": "Python [Root]",
   "language": "python",
   "name": "Python [Root]"
  },
  "language_info": {
   "codemirror_mode": {
    "name": "ipython",
    "version": 3
   },
   "file_extension": ".py",
   "mimetype": "text/x-python",
   "name": "python",
   "nbconvert_exporter": "python",
   "pygments_lexer": "ipython3",
   "version": "3.5.1"
  }
 },
 "nbformat": 4,
 "nbformat_minor": 0
}
