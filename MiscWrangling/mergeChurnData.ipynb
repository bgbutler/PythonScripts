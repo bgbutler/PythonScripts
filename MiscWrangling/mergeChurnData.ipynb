{
 "cells": [
  {
   "cell_type": "code",
   "execution_count": 1,
   "metadata": {
    "collapsed": true
   },
   "outputs": [],
   "source": [
    "# this notebook is for merging data only\n",
    "\n",
    "# standard libraries\n",
    "import pandas as pd\n",
    "import numpy as np\n",
    "from pandas import Series, DataFrame\n",
    "import os\n",
    "\n",
    "# plotting libraries\n",
    "import matplotlib as mpl\n",
    "import matplotlib.pyplot as plt\n",
    "import seaborn as sns\n",
    "%matplotlib inline\n",
    "\n",
    "# get the datetime library for date & time calcs\n",
    "from datetime import datetime, timedelta"
   ]
  },
  {
   "cell_type": "code",
   "execution_count": 2,
   "metadata": {
    "collapsed": true
   },
   "outputs": [],
   "source": [
    "# get the revenue table\n",
    "\n",
    "urlRev = os.path.normpath('C:/Users/n846490/Documents/Python Scripts/SurvivalAnalysis/ChurnModelFiles/custRevenueTable.csv')\n",
    "revData = pd.read_csv(urlRev)"
   ]
  },
  {
   "cell_type": "code",
   "execution_count": 3,
   "metadata": {
    "collapsed": false
   },
   "outputs": [
    {
     "data": {
      "text/html": [
       "<div>\n",
       "<table border=\"1\" class=\"dataframe\">\n",
       "  <thead>\n",
       "    <tr style=\"text-align: right;\">\n",
       "      <th></th>\n",
       "      <th>Unnamed: 0</th>\n",
       "      <th>CustID</th>\n",
       "      <th>OpenedChecking</th>\n",
       "      <th>EHI</th>\n",
       "      <th>TotAssets</th>\n",
       "      <th>EqiScore</th>\n",
       "      <th>VinScore</th>\n",
       "      <th>Rev2016</th>\n",
       "      <th>Rev2015</th>\n",
       "      <th>Rev2014</th>\n",
       "    </tr>\n",
       "  </thead>\n",
       "  <tbody>\n",
       "    <tr>\n",
       "      <th>0</th>\n",
       "      <td>0</td>\n",
       "      <td>F14</td>\n",
       "      <td>1</td>\n",
       "      <td>48087.0</td>\n",
       "      <td>190891.0</td>\n",
       "      <td>704.0</td>\n",
       "      <td>753.0</td>\n",
       "      <td>0.52</td>\n",
       "      <td>0.00</td>\n",
       "      <td>0.00</td>\n",
       "    </tr>\n",
       "    <tr>\n",
       "      <th>1</th>\n",
       "      <td>1</td>\n",
       "      <td>F143</td>\n",
       "      <td>0</td>\n",
       "      <td>41421.0</td>\n",
       "      <td>34675.0</td>\n",
       "      <td>700.0</td>\n",
       "      <td>755.0</td>\n",
       "      <td>1.20</td>\n",
       "      <td>1.32</td>\n",
       "      <td>-30.36</td>\n",
       "    </tr>\n",
       "    <tr>\n",
       "      <th>2</th>\n",
       "      <td>2</td>\n",
       "      <td>F538</td>\n",
       "      <td>1</td>\n",
       "      <td>26096.0</td>\n",
       "      <td>19632.0</td>\n",
       "      <td>635.0</td>\n",
       "      <td>691.0</td>\n",
       "      <td>211.02</td>\n",
       "      <td>35.01</td>\n",
       "      <td>0.00</td>\n",
       "    </tr>\n",
       "    <tr>\n",
       "      <th>3</th>\n",
       "      <td>3</td>\n",
       "      <td>F879</td>\n",
       "      <td>1</td>\n",
       "      <td>47729.0</td>\n",
       "      <td>320.0</td>\n",
       "      <td>739.0</td>\n",
       "      <td>791.0</td>\n",
       "      <td>0.00</td>\n",
       "      <td>-50.74</td>\n",
       "      <td>1.32</td>\n",
       "    </tr>\n",
       "    <tr>\n",
       "      <th>4</th>\n",
       "      <td>4</td>\n",
       "      <td>F1496</td>\n",
       "      <td>1</td>\n",
       "      <td>51707.0</td>\n",
       "      <td>11590.0</td>\n",
       "      <td>651.0</td>\n",
       "      <td>700.0</td>\n",
       "      <td>0.00</td>\n",
       "      <td>10.71</td>\n",
       "      <td>0.00</td>\n",
       "    </tr>\n",
       "  </tbody>\n",
       "</table>\n",
       "</div>"
      ],
      "text/plain": [
       "   Unnamed: 0 CustID  OpenedChecking      EHI  TotAssets  EqiScore  VinScore  \\\n",
       "0           0    F14               1  48087.0   190891.0     704.0     753.0   \n",
       "1           1   F143               0  41421.0    34675.0     700.0     755.0   \n",
       "2           2   F538               1  26096.0    19632.0     635.0     691.0   \n",
       "3           3   F879               1  47729.0      320.0     739.0     791.0   \n",
       "4           4  F1496               1  51707.0    11590.0     651.0     700.0   \n",
       "\n",
       "   Rev2016  Rev2015  Rev2014  \n",
       "0     0.52     0.00     0.00  \n",
       "1     1.20     1.32   -30.36  \n",
       "2   211.02    35.01     0.00  \n",
       "3     0.00   -50.74     1.32  \n",
       "4     0.00    10.71     0.00  "
      ]
     },
     "execution_count": 3,
     "metadata": {},
     "output_type": "execute_result"
    }
   ],
   "source": [
    "revData.head()"
   ]
  },
  {
   "cell_type": "code",
   "execution_count": 4,
   "metadata": {
    "collapsed": true
   },
   "outputs": [],
   "source": [
    "# get the product table\n",
    "\n",
    "urlProd = os.path.normpath('C:/Users/n846490/Documents/Python Scripts/SurvivalAnalysis/ChurnModelFiles/keyProductsRollup.csv')\n",
    "prodData = pd.read_csv(urlProd)"
   ]
  },
  {
   "cell_type": "code",
   "execution_count": 5,
   "metadata": {
    "collapsed": false
   },
   "outputs": [
    {
     "data": {
      "text/html": [
       "<div>\n",
       "<table border=\"1\" class=\"dataframe\">\n",
       "  <thead>\n",
       "    <tr style=\"text-align: right;\">\n",
       "      <th></th>\n",
       "      <th>Unnamed: 0</th>\n",
       "      <th>CustID</th>\n",
       "      <th>State</th>\n",
       "      <th>Channel</th>\n",
       "      <th>Age</th>\n",
       "      <th>Cleancuststart</th>\n",
       "      <th>Custyears</th>\n",
       "      <th>Closed</th>\n",
       "      <th>Footprint</th>\n",
       "      <th>NumProducts</th>\n",
       "      <th>Open</th>\n",
       "      <th>OpenAccts</th>\n",
       "      <th>CdiraOpen</th>\n",
       "      <th>CheckingOpen</th>\n",
       "      <th>Credit_CardOpen</th>\n",
       "      <th>InvestmentsOpen</th>\n",
       "      <th>MortgageOpen</th>\n",
       "      <th>SavingsOpen</th>\n",
       "    </tr>\n",
       "  </thead>\n",
       "  <tbody>\n",
       "    <tr>\n",
       "      <th>0</th>\n",
       "      <td>0</td>\n",
       "      <td>F10000</td>\n",
       "      <td>RI</td>\n",
       "      <td>Branch</td>\n",
       "      <td>52.0</td>\n",
       "      <td>1999-11-23</td>\n",
       "      <td>17.073973</td>\n",
       "      <td>1</td>\n",
       "      <td>In</td>\n",
       "      <td>3.0</td>\n",
       "      <td>2</td>\n",
       "      <td>2.0</td>\n",
       "      <td>0.0</td>\n",
       "      <td>1.0</td>\n",
       "      <td>0.0</td>\n",
       "      <td>0.0</td>\n",
       "      <td>0.0</td>\n",
       "      <td>0.0</td>\n",
       "    </tr>\n",
       "    <tr>\n",
       "      <th>1</th>\n",
       "      <td>1</td>\n",
       "      <td>F1000008</td>\n",
       "      <td>CT</td>\n",
       "      <td>Branch</td>\n",
       "      <td>60.0</td>\n",
       "      <td>2001-04-04</td>\n",
       "      <td>15.709589</td>\n",
       "      <td>2</td>\n",
       "      <td>In</td>\n",
       "      <td>6.0</td>\n",
       "      <td>4</td>\n",
       "      <td>4.0</td>\n",
       "      <td>1.0</td>\n",
       "      <td>2.0</td>\n",
       "      <td>0.0</td>\n",
       "      <td>0.0</td>\n",
       "      <td>0.0</td>\n",
       "      <td>1.0</td>\n",
       "    </tr>\n",
       "    <tr>\n",
       "      <th>2</th>\n",
       "      <td>2</td>\n",
       "      <td>F100001</td>\n",
       "      <td>PA</td>\n",
       "      <td>Branch</td>\n",
       "      <td>73.0</td>\n",
       "      <td>1993-05-03</td>\n",
       "      <td>23.635616</td>\n",
       "      <td>7</td>\n",
       "      <td>In</td>\n",
       "      <td>14.0</td>\n",
       "      <td>7</td>\n",
       "      <td>7.0</td>\n",
       "      <td>3.0</td>\n",
       "      <td>1.0</td>\n",
       "      <td>0.0</td>\n",
       "      <td>1.0</td>\n",
       "      <td>0.0</td>\n",
       "      <td>0.0</td>\n",
       "    </tr>\n",
       "    <tr>\n",
       "      <th>3</th>\n",
       "      <td>3</td>\n",
       "      <td>F1000013</td>\n",
       "      <td>MA</td>\n",
       "      <td>Branch</td>\n",
       "      <td>47.0</td>\n",
       "      <td>2001-04-04</td>\n",
       "      <td>15.709589</td>\n",
       "      <td>5</td>\n",
       "      <td>In</td>\n",
       "      <td>8.0</td>\n",
       "      <td>3</td>\n",
       "      <td>3.0</td>\n",
       "      <td>0.0</td>\n",
       "      <td>1.0</td>\n",
       "      <td>1.0</td>\n",
       "      <td>0.0</td>\n",
       "      <td>1.0</td>\n",
       "      <td>0.0</td>\n",
       "    </tr>\n",
       "    <tr>\n",
       "      <th>4</th>\n",
       "      <td>4</td>\n",
       "      <td>F1000030</td>\n",
       "      <td>PA</td>\n",
       "      <td>Branch</td>\n",
       "      <td>56.0</td>\n",
       "      <td>2001-04-04</td>\n",
       "      <td>15.709589</td>\n",
       "      <td>1</td>\n",
       "      <td>In</td>\n",
       "      <td>4.0</td>\n",
       "      <td>3</td>\n",
       "      <td>3.0</td>\n",
       "      <td>0.0</td>\n",
       "      <td>1.0</td>\n",
       "      <td>0.0</td>\n",
       "      <td>0.0</td>\n",
       "      <td>1.0</td>\n",
       "      <td>1.0</td>\n",
       "    </tr>\n",
       "  </tbody>\n",
       "</table>\n",
       "</div>"
      ],
      "text/plain": [
       "   Unnamed: 0    CustID State Channel   Age Cleancuststart  Custyears  Closed  \\\n",
       "0           0    F10000    RI  Branch  52.0     1999-11-23  17.073973       1   \n",
       "1           1  F1000008    CT  Branch  60.0     2001-04-04  15.709589       2   \n",
       "2           2   F100001    PA  Branch  73.0     1993-05-03  23.635616       7   \n",
       "3           3  F1000013    MA  Branch  47.0     2001-04-04  15.709589       5   \n",
       "4           4  F1000030    PA  Branch  56.0     2001-04-04  15.709589       1   \n",
       "\n",
       "  Footprint  NumProducts  Open  OpenAccts  CdiraOpen  CheckingOpen  \\\n",
       "0        In          3.0     2        2.0        0.0           1.0   \n",
       "1        In          6.0     4        4.0        1.0           2.0   \n",
       "2        In         14.0     7        7.0        3.0           1.0   \n",
       "3        In          8.0     3        3.0        0.0           1.0   \n",
       "4        In          4.0     3        3.0        0.0           1.0   \n",
       "\n",
       "   Credit_CardOpen  InvestmentsOpen  MortgageOpen  SavingsOpen  \n",
       "0              0.0              0.0           0.0          0.0  \n",
       "1              0.0              0.0           0.0          1.0  \n",
       "2              0.0              1.0           0.0          0.0  \n",
       "3              1.0              0.0           1.0          0.0  \n",
       "4              0.0              0.0           1.0          1.0  "
      ]
     },
     "execution_count": 5,
     "metadata": {},
     "output_type": "execute_result"
    }
   ],
   "source": [
    "prodData.head()"
   ]
  },
  {
   "cell_type": "code",
   "execution_count": 6,
   "metadata": {
    "collapsed": false
   },
   "outputs": [],
   "source": [
    "# drop the Unnamed: 0 fields\n",
    "\n",
    "revData = revData.iloc[:,1:]"
   ]
  },
  {
   "cell_type": "code",
   "execution_count": 7,
   "metadata": {
    "collapsed": false
   },
   "outputs": [],
   "source": [
    "prodData = prodData.iloc[:,1:]"
   ]
  },
  {
   "cell_type": "code",
   "execution_count": 8,
   "metadata": {
    "collapsed": false
   },
   "outputs": [
    {
     "data": {
      "text/plain": [
       "978541"
      ]
     },
     "execution_count": 8,
     "metadata": {},
     "output_type": "execute_result"
    }
   ],
   "source": [
    "# check the lengths of each data frame\n",
    "\n",
    "# revData 1,118,487\n",
    "# revData.shape[0]\n",
    "\n",
    "# prodData 978,541\n",
    "prodData.shape[0]"
   ]
  },
  {
   "cell_type": "code",
   "execution_count": 9,
   "metadata": {
    "collapsed": true
   },
   "outputs": [],
   "source": [
    "# test to see if we have to collapse the F numbers\n",
    "\n",
    "prodRevData = pd.merge(revData, prodData, on = 'CustID')"
   ]
  },
  {
   "cell_type": "code",
   "execution_count": 10,
   "metadata": {
    "collapsed": false
   },
   "outputs": [
    {
     "data": {
      "text/html": [
       "<div>\n",
       "<table border=\"1\" class=\"dataframe\">\n",
       "  <thead>\n",
       "    <tr style=\"text-align: right;\">\n",
       "      <th></th>\n",
       "      <th>CustID</th>\n",
       "      <th>OpenedChecking</th>\n",
       "      <th>EHI</th>\n",
       "      <th>TotAssets</th>\n",
       "      <th>EqiScore</th>\n",
       "      <th>VinScore</th>\n",
       "      <th>Rev2016</th>\n",
       "      <th>Rev2015</th>\n",
       "      <th>Rev2014</th>\n",
       "      <th>State</th>\n",
       "      <th>...</th>\n",
       "      <th>Footprint</th>\n",
       "      <th>NumProducts</th>\n",
       "      <th>Open</th>\n",
       "      <th>OpenAccts</th>\n",
       "      <th>CdiraOpen</th>\n",
       "      <th>CheckingOpen</th>\n",
       "      <th>Credit_CardOpen</th>\n",
       "      <th>InvestmentsOpen</th>\n",
       "      <th>MortgageOpen</th>\n",
       "      <th>SavingsOpen</th>\n",
       "    </tr>\n",
       "  </thead>\n",
       "  <tbody>\n",
       "    <tr>\n",
       "      <th>0</th>\n",
       "      <td>F14</td>\n",
       "      <td>1</td>\n",
       "      <td>48087.0</td>\n",
       "      <td>190891.0</td>\n",
       "      <td>704.0</td>\n",
       "      <td>753.0</td>\n",
       "      <td>0.52</td>\n",
       "      <td>0.00</td>\n",
       "      <td>0.00</td>\n",
       "      <td>MA</td>\n",
       "      <td>...</td>\n",
       "      <td>In</td>\n",
       "      <td>3.0</td>\n",
       "      <td>2</td>\n",
       "      <td>2.0</td>\n",
       "      <td>0.0</td>\n",
       "      <td>1.0</td>\n",
       "      <td>0.0</td>\n",
       "      <td>0.0</td>\n",
       "      <td>0.0</td>\n",
       "      <td>1.0</td>\n",
       "    </tr>\n",
       "    <tr>\n",
       "      <th>1</th>\n",
       "      <td>F143</td>\n",
       "      <td>0</td>\n",
       "      <td>41421.0</td>\n",
       "      <td>34675.0</td>\n",
       "      <td>700.0</td>\n",
       "      <td>755.0</td>\n",
       "      <td>1.20</td>\n",
       "      <td>1.32</td>\n",
       "      <td>-30.36</td>\n",
       "      <td>PA</td>\n",
       "      <td>...</td>\n",
       "      <td>In</td>\n",
       "      <td>6.0</td>\n",
       "      <td>5</td>\n",
       "      <td>5.0</td>\n",
       "      <td>0.0</td>\n",
       "      <td>1.0</td>\n",
       "      <td>2.0</td>\n",
       "      <td>0.0</td>\n",
       "      <td>0.0</td>\n",
       "      <td>1.0</td>\n",
       "    </tr>\n",
       "    <tr>\n",
       "      <th>2</th>\n",
       "      <td>F538</td>\n",
       "      <td>1</td>\n",
       "      <td>26096.0</td>\n",
       "      <td>19632.0</td>\n",
       "      <td>635.0</td>\n",
       "      <td>691.0</td>\n",
       "      <td>211.02</td>\n",
       "      <td>35.01</td>\n",
       "      <td>0.00</td>\n",
       "      <td>CT</td>\n",
       "      <td>...</td>\n",
       "      <td>In</td>\n",
       "      <td>3.0</td>\n",
       "      <td>2</td>\n",
       "      <td>2.0</td>\n",
       "      <td>0.0</td>\n",
       "      <td>1.0</td>\n",
       "      <td>0.0</td>\n",
       "      <td>0.0</td>\n",
       "      <td>0.0</td>\n",
       "      <td>1.0</td>\n",
       "    </tr>\n",
       "    <tr>\n",
       "      <th>3</th>\n",
       "      <td>F879</td>\n",
       "      <td>1</td>\n",
       "      <td>47729.0</td>\n",
       "      <td>320.0</td>\n",
       "      <td>739.0</td>\n",
       "      <td>791.0</td>\n",
       "      <td>0.00</td>\n",
       "      <td>-50.74</td>\n",
       "      <td>1.32</td>\n",
       "      <td>CT</td>\n",
       "      <td>...</td>\n",
       "      <td>In</td>\n",
       "      <td>3.0</td>\n",
       "      <td>0</td>\n",
       "      <td>0.0</td>\n",
       "      <td>0.0</td>\n",
       "      <td>0.0</td>\n",
       "      <td>0.0</td>\n",
       "      <td>0.0</td>\n",
       "      <td>0.0</td>\n",
       "      <td>0.0</td>\n",
       "    </tr>\n",
       "    <tr>\n",
       "      <th>4</th>\n",
       "      <td>F1496</td>\n",
       "      <td>1</td>\n",
       "      <td>51707.0</td>\n",
       "      <td>11590.0</td>\n",
       "      <td>651.0</td>\n",
       "      <td>700.0</td>\n",
       "      <td>0.00</td>\n",
       "      <td>10.71</td>\n",
       "      <td>0.00</td>\n",
       "      <td>CT</td>\n",
       "      <td>...</td>\n",
       "      <td>In</td>\n",
       "      <td>3.0</td>\n",
       "      <td>0</td>\n",
       "      <td>0.0</td>\n",
       "      <td>0.0</td>\n",
       "      <td>0.0</td>\n",
       "      <td>0.0</td>\n",
       "      <td>0.0</td>\n",
       "      <td>0.0</td>\n",
       "      <td>0.0</td>\n",
       "    </tr>\n",
       "  </tbody>\n",
       "</table>\n",
       "<p>5 rows × 25 columns</p>\n",
       "</div>"
      ],
      "text/plain": [
       "  CustID  OpenedChecking      EHI  TotAssets  EqiScore  VinScore  Rev2016  \\\n",
       "0    F14               1  48087.0   190891.0     704.0     753.0     0.52   \n",
       "1   F143               0  41421.0    34675.0     700.0     755.0     1.20   \n",
       "2   F538               1  26096.0    19632.0     635.0     691.0   211.02   \n",
       "3   F879               1  47729.0      320.0     739.0     791.0     0.00   \n",
       "4  F1496               1  51707.0    11590.0     651.0     700.0     0.00   \n",
       "\n",
       "   Rev2015  Rev2014 State     ...      Footprint  NumProducts Open  OpenAccts  \\\n",
       "0     0.00     0.00    MA     ...             In          3.0    2        2.0   \n",
       "1     1.32   -30.36    PA     ...             In          6.0    5        5.0   \n",
       "2    35.01     0.00    CT     ...             In          3.0    2        2.0   \n",
       "3   -50.74     1.32    CT     ...             In          3.0    0        0.0   \n",
       "4    10.71     0.00    CT     ...             In          3.0    0        0.0   \n",
       "\n",
       "   CdiraOpen CheckingOpen  Credit_CardOpen  InvestmentsOpen  MortgageOpen  \\\n",
       "0        0.0          1.0              0.0              0.0           0.0   \n",
       "1        0.0          1.0              2.0              0.0           0.0   \n",
       "2        0.0          1.0              0.0              0.0           0.0   \n",
       "3        0.0          0.0              0.0              0.0           0.0   \n",
       "4        0.0          0.0              0.0              0.0           0.0   \n",
       "\n",
       "   SavingsOpen  \n",
       "0          1.0  \n",
       "1          1.0  \n",
       "2          1.0  \n",
       "3          0.0  \n",
       "4          0.0  \n",
       "\n",
       "[5 rows x 25 columns]"
      ]
     },
     "execution_count": 10,
     "metadata": {},
     "output_type": "execute_result"
    }
   ],
   "source": [
    "prodRevData.head()"
   ]
  },
  {
   "cell_type": "code",
   "execution_count": 11,
   "metadata": {
    "collapsed": false
   },
   "outputs": [
    {
     "data": {
      "text/plain": [
       "936358"
      ]
     },
     "execution_count": 11,
     "metadata": {},
     "output_type": "execute_result"
    }
   ],
   "source": [
    "prodRevData.shape[0]"
   ]
  },
  {
   "cell_type": "code",
   "execution_count": 12,
   "metadata": {
    "collapsed": false
   },
   "outputs": [
    {
     "data": {
      "text/plain": [
       "'C:\\\\Users\\\\n846490\\\\Documents\\\\Python Scripts\\\\SurvivalAnalysis'"
      ]
     },
     "execution_count": 12,
     "metadata": {},
     "output_type": "execute_result"
    }
   ],
   "source": [
    "os.getcwd()"
   ]
  },
  {
   "cell_type": "code",
   "execution_count": 13,
   "metadata": {
    "collapsed": false
   },
   "outputs": [],
   "source": [
    "os.chdir(os.path.normpath('C:/Users/n846490/Documents/Python Scripts/SurvivalAnalysis/ChurnModelFiles/'))"
   ]
  },
  {
   "cell_type": "code",
   "execution_count": 14,
   "metadata": {
    "collapsed": true
   },
   "outputs": [],
   "source": [
    "prodRevData.to_csv('prodRevData.csv')"
   ]
  },
  {
   "cell_type": "code",
   "execution_count": 15,
   "metadata": {
    "collapsed": false
   },
   "outputs": [
    {
     "data": {
      "text/plain": [
       "count    936358.000000\n",
       "mean          1.548427\n",
       "std           2.345951\n",
       "min           0.000000\n",
       "25%           0.000000\n",
       "50%           1.000000\n",
       "75%           2.000000\n",
       "max         214.000000\n",
       "Name: Closed, dtype: float64"
      ]
     },
     "execution_count": 15,
     "metadata": {},
     "output_type": "execute_result"
    }
   ],
   "source": [
    "prodRevData['Closed'].describe()"
   ]
  },
  {
   "cell_type": "code",
   "execution_count": 24,
   "metadata": {
    "collapsed": false
   },
   "outputs": [],
   "source": [
    "# create a total revenue column\n",
    "\n",
    "prodRevData['TotRev'] = prodRevData['Rev2014'] + prodRevData['Rev2015'] + prodRevData['Rev2016']"
   ]
  },
  {
   "cell_type": "code",
   "execution_count": 19,
   "metadata": {
    "collapsed": false
   },
   "outputs": [
    {
     "data": {
      "text/plain": [
       "<seaborn.axisgrid.FacetGrid at 0xc09f630>"
      ]
     },
     "execution_count": 19,
     "metadata": {},
     "output_type": "execute_result"
    },
    {
     "data": {
      "image/png": "[encoded data removed]",
      "text/plain": [
       "<matplotlib.figure.Figure at 0xc09f8d0>"
      ]
     },
     "metadata": {},
     "output_type": "display_data"
    }
   ],
   "source": [
    "sns.set(font_scale=1.5)\n",
    "\n",
    "p = sns.factorplot(data = prodRevData, x = 'Footprint', col = 'Channel', y = 'OpenAccts', hue = 'Channel', kind = 'box', size= 5)\n",
    "p.set(ylim=(0, 10))"
   ]
  },
  {
   "cell_type": "code",
   "execution_count": 22,
   "metadata": {
    "collapsed": false
   },
   "outputs": [
    {
     "data": {
      "text/plain": [
       "<seaborn.axisgrid.FacetGrid at 0x3f12f320>"
      ]
     },
     "execution_count": 22,
     "metadata": {},
     "output_type": "execute_result"
    },
    {
     "data": {
      "image/png": "[encoded data removed]",
      "text/plain": [
       "<matplotlib.figure.Figure at 0x3f12f4e0>"
      ]
     },
     "metadata": {},
     "output_type": "display_data"
    }
   ],
   "source": [
    "\n",
    "p = sns.factorplot(data = prodRevData, x = 'Footprint', col = 'Channel', y = 'EHI', hue = 'Channel', kind = 'violin', size= 6)\n",
    "p.set(ylim=(-2, 500000))"
   ]
  },
  {
   "cell_type": "code",
   "execution_count": 35,
   "metadata": {
    "collapsed": false
   },
   "outputs": [
    {
     "data": {
      "text/plain": [
       "<seaborn.axisgrid.FacetGrid at 0x1e0f9438>"
      ]
     },
     "execution_count": 35,
     "metadata": {},
     "output_type": "execute_result"
    },
    {
     "data": {
      "image/png": "[encoded data removed]",
      "text/plain": [
       "<matplotlib.figure.Figure at 0x6687be80>"
      ]
     },
     "metadata": {},
     "output_type": "display_data"
    }
   ],
   "source": [
    "fig = sns.FacetGrid(data=prodRevData, hue='Footprint', size = 7)\n",
    "\n",
    "fig.map(sns.distplot,'TotRev', bins = 5000, kde = False)\n",
    "\n",
    "fig.set(xlim=(-1000,5000))\n",
    "\n",
    "fig.add_legend(title='Footprint')"
   ]
  },
  {
   "cell_type": "code",
   "execution_count": 1,
   "metadata": {
    "collapsed": false
   },
   "outputs": [
    {
     "ename": "NameError",
     "evalue": "name 'sns' is not defined",
     "output_type": "error",
     "traceback": [
      "\u001b[1;31m---------------------------------------------------------------------------\u001b[0m",
      "\u001b[1;31mNameError\u001b[0m                                 Traceback (most recent call last)",
      "\u001b[1;32m<ipython-input-1-1f355a44a97b>\u001b[0m in \u001b[0;36m<module>\u001b[1;34m()\u001b[0m\n\u001b[0;32m      1\u001b[0m \u001b[1;31m# zoom in to the center of data\u001b[0m\u001b[1;33m\u001b[0m\u001b[1;33m\u001b[0m\u001b[0m\n\u001b[0;32m      2\u001b[0m \u001b[1;33m\u001b[0m\u001b[0m\n\u001b[1;32m----> 3\u001b[1;33m \u001b[0mfig\u001b[0m \u001b[1;33m=\u001b[0m \u001b[0msns\u001b[0m\u001b[1;33m.\u001b[0m\u001b[0mFacetGrid\u001b[0m\u001b[1;33m(\u001b[0m\u001b[0mdata\u001b[0m\u001b[1;33m=\u001b[0m\u001b[0mprodRevData\u001b[0m\u001b[1;33m,\u001b[0m \u001b[0mhue\u001b[0m\u001b[1;33m=\u001b[0m\u001b[1;34m'Footprint'\u001b[0m\u001b[1;33m,\u001b[0m \u001b[0msize\u001b[0m \u001b[1;33m=\u001b[0m \u001b[1;36m7\u001b[0m\u001b[1;33m)\u001b[0m\u001b[1;33m\u001b[0m\u001b[0m\n\u001b[0m\u001b[0;32m      4\u001b[0m \u001b[1;33m\u001b[0m\u001b[0m\n\u001b[0;32m      5\u001b[0m \u001b[0mfig\u001b[0m\u001b[1;33m.\u001b[0m\u001b[0mmap\u001b[0m\u001b[1;33m(\u001b[0m\u001b[0msns\u001b[0m\u001b[1;33m.\u001b[0m\u001b[0mdistplot\u001b[0m\u001b[1;33m,\u001b[0m\u001b[1;34m'TotRev'\u001b[0m\u001b[1;33m,\u001b[0m \u001b[0mkde\u001b[0m \u001b[1;33m=\u001b[0m \u001b[1;32mFalse\u001b[0m\u001b[1;33m)\u001b[0m\u001b[1;33m\u001b[0m\u001b[0m\n",
      "\u001b[1;31mNameError\u001b[0m: name 'sns' is not defined"
     ]
    }
   ],
   "source": [
    "# zoom in to the center of data\n",
    "\n",
    "fig = sns.FacetGrid(data=prodRevData, hue='Footprint', size = 7)\n",
    "\n",
    "fig.map(sns.distplot,'TotRev', kde = False)\n",
    "\n",
    "fig.set(xlim=(-100,500))\n",
    "\n",
    "fig.add_legend(title='Footprint')"
   ]
  },
  {
   "cell_type": "code",
   "execution_count": null,
   "metadata": {
    "collapsed": true
   },
   "outputs": [],
   "source": []
  }
 ],
 "metadata": {
  "kernelspec": {
   "display_name": "Python [Root]",
   "language": "python",
   "name": "Python [Root]"
  },
  "language_info": {
   "codemirror_mode": {
    "name": "ipython",
    "version": 3
   },
   "file_extension": ".py",
   "mimetype": "text/x-python",
   "name": "python",
   "nbconvert_exporter": "python",
   "pygments_lexer": "ipython3",
   "version": "3.5.1"
  }
 },
 "nbformat": 4,
 "nbformat_minor": 0
}
