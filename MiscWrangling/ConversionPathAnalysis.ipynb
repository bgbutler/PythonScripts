{
 "cells": [
  {
   "cell_type": "code",
   "execution_count": null,
   "metadata": {
    "collapsed": true
   },
   "outputs": [],
   "source": [
    "# standard libraries\n",
    "import pandas as pd\n",
    "import numpy as np\n",
    "from pandas import Series, DataFrame\n",
    "import os\n",
    "import re\n",
    "\n",
    "# plotting libraries\n",
    "import matplotlib as mpl\n",
    "import matplotlib.pyplot as plt\n",
    "import seaborn as sns\n",
    "%matplotlib inline\n",
    "\n",
    "# get the datetime library for date & time calcs\n",
    "from datetime import datetime, timedelta"
   ]
  },
  {
   "cell_type": "code",
   "execution_count": null,
   "metadata": {
    "collapsed": true
   },
   "outputs": [],
   "source": [
    "os.chdir(os.path.normpath('C:/Users/n846490/Documents/DigitalAnalytics/XLSX/MktgAnalysis/'))"
   ]
  },
  {
   "cell_type": "code",
   "execution_count": null,
   "metadata": {
    "collapsed": false
   },
   "outputs": [],
   "source": [
    "url = os.path.normpath('CountConversionPaths.csv')\n",
    "conv = pd.read_csv(url)\n",
    "\n",
    "conv.head()"
   ]
  },
  {
   "cell_type": "code",
   "execution_count": null,
   "metadata": {
    "collapsed": false
   },
   "outputs": [],
   "source": [
    "conv.info()"
   ]
  },
  {
   "cell_type": "code",
   "execution_count": null,
   "metadata": {
    "collapsed": false
   },
   "outputs": [],
   "source": [
    "# make a joint plot to compare conversions to CPM\n",
    "# sns.jointplot(x=\"x\", y=\"y\", data=df)\n",
    "\n",
    "sns.set(font_scale=1.5)\n",
    "p = sns.jointplot(x = 'CountDisplay', y = 'Conversions', data = conv, xlim = (0,500), ylim = (0,26000), size = 8)\n"
   ]
  },
  {
   "cell_type": "code",
   "execution_count": null,
   "metadata": {
    "collapsed": false
   },
   "outputs": [],
   "source": [
    "# zoom in a little more\n",
    "\n",
    "p = sns.jointplot(x = 'CountDisplay', y = 'Conversions', data = conv, xlim = (0,100), ylim = (0,5000), size = 8)"
   ]
  },
  {
   "cell_type": "code",
   "execution_count": null,
   "metadata": {
    "collapsed": false
   },
   "outputs": [],
   "source": [
    "# get a jointplot of the Display and Impressions\n",
    "\n",
    "conv['CountDisplay'].describe()"
   ]
  },
  {
   "cell_type": "code",
   "execution_count": null,
   "metadata": {
    "collapsed": false
   },
   "outputs": [],
   "source": [
    "conv['Conversions'].describe()"
   ]
  },
  {
   "cell_type": "code",
   "execution_count": null,
   "metadata": {
    "collapsed": false
   },
   "outputs": [],
   "source": [
    "# let's look at the first couple of splits\n",
    "# this does a limit using the value of 2\n",
    "# paths = test['MCF Channel Grouping Path'].str.split('>', 2, expand=True)\n",
    "\n",
    "# do a full expansion\n",
    "\n",
    "paths = conv['MCFChannelGroupingPath'].str.split('>', expand=True)\n",
    "\n",
    "paths.head()"
   ]
  },
  {
   "cell_type": "code",
   "execution_count": null,
   "metadata": {
    "collapsed": false
   },
   "outputs": [],
   "source": [
    "paths.shape[0]"
   ]
  },
  {
   "cell_type": "code",
   "execution_count": null,
   "metadata": {
    "collapsed": false
   },
   "outputs": [],
   "source": [
    "paths = paths.add_prefix('Path')\n",
    "\n",
    "paths.head()"
   ]
  },
  {
   "cell_type": "code",
   "execution_count": null,
   "metadata": {
    "collapsed": false
   },
   "outputs": [],
   "source": [
    "# join the conversions on it\n",
    "\n",
    "conversions = conv[['Conversions']].copy()\n",
    "\n",
    "ConversionSplits = conversions.join(paths)\n",
    "\n",
    "ConversionSplits.head()"
   ]
  },
  {
   "cell_type": "code",
   "execution_count": null,
   "metadata": {
    "collapsed": false
   },
   "outputs": [],
   "source": [
    "# get a sum of all of the conversions\n",
    "\n",
    "ConversionSplits['Conversions'].sum(axis=0)\n"
   ]
  },
  {
   "cell_type": "code",
   "execution_count": null,
   "metadata": {
    "collapsed": false
   },
   "outputs": [],
   "source": [
    "# count the number of None in the paths\n",
    "# Path2 = 218\n",
    "# Path3 = 498\n",
    "# Path4 = 784\n",
    "\n",
    "ConversionSplits['Path4'].isnull().sum()\n"
   ]
  },
  {
   "cell_type": "code",
   "execution_count": null,
   "metadata": {
    "collapsed": false
   },
   "outputs": [],
   "source": [
    "    i = 10\n",
    "    \n",
    "    \n",
    "    # add 2 to the index becuse it si not included\n",
    "    reduced = ConversionSplits.iloc[:, 0: 2 + i]\n",
    "    \n",
    "    # this is the last column included in the dataset\n",
    "    last_column = 1 + i\n",
    "    \n",
    "    last = 'Path' + str(i)\n",
    "    \n",
    "    reduced.head()\n",
    "    \n",
    "    # need to slice it to reduce the None\n",
    "    # get only the columns that have nulls in the path; end of the path\n",
    "    \n",
    "    # closed = rollupData[rollupData['Closed'] == 1].copy()\n",
    "    \n",
    "    redSlice = reduced[pd.isnull(reduced[last])]\n",
    "    \n",
    "    redSlice.head()\n",
    "    \n",
    "    # redSlice = reduced[reduced.iloc[:, last_column] == 'None'].copy()"
   ]
  },
  {
   "cell_type": "code",
   "execution_count": null,
   "metadata": {
    "collapsed": false
   },
   "outputs": [],
   "source": [
    "redSlice.shape[0]"
   ]
  },
  {
   "cell_type": "code",
   "execution_count": null,
   "metadata": {
    "collapsed": false
   },
   "outputs": [],
   "source": [
    "max_conversions = ConversionSplits['Conversions'].sum(axis = 0)\n",
    "\n",
    "net_conversions = redSlice['Conversions'].sum(axis = 0)\n",
    "\n",
    "percent = net_conversions/max_conversions\n",
    "\n",
    "percent"
   ]
  },
  {
   "cell_type": "code",
   "execution_count": null,
   "metadata": {
    "collapsed": false
   },
   "outputs": [],
   "source": [
    "# now set a max path length\n",
    "# let's automate it and let it find 80%\n",
    "\n",
    "def get_max_path(col, limit):\n",
    "    \n",
    "    \n",
    "    # marks = {}.fromkeys(['Math','English','Science'], 0)\n",
    "    percentages = {}\n",
    "    \n",
    "    percent = 0 \n",
    "    \n",
    "    i = col\n",
    "    \n",
    "    while percent < limit:\n",
    "        \n",
    "        last = 'Path' + str(i)\n",
    "    \n",
    "        max_conversions = ConversionSplits['Conversions'].sum(axis = 0)\n",
    "    \n",
    "        # add 2 to the index becuse it is not included\n",
    "        reduced = ConversionSplits.iloc[:, 0: 2 + i]\n",
    "    \n",
    "        # need to slice it to reduce the None\n",
    "    \n",
    "        redSlice = reduced[pd.isnull(reduced[last])]\n",
    "\n",
    "        net_conversions = redSlice['Conversions'].sum(axis = 0)\n",
    "    \n",
    "        percent = net_conversions/max_conversions\n",
    "        \n",
    "        # i becomes the Path, 0 is the root, 1 is the first assist\n",
    "        percentages[i] = percent\n",
    "        \n",
    "        # now index the counter\n",
    "        i = i + 1\n",
    "        \n",
    "    return percentages\n",
    "   \n"
   ]
  },
  {
   "cell_type": "code",
   "execution_count": null,
   "metadata": {
    "collapsed": false
   },
   "outputs": [],
   "source": [
    "get_max_path(2, .9)"
   ]
  },
  {
   "cell_type": "code",
   "execution_count": null,
   "metadata": {
    "collapsed": false
   },
   "outputs": [],
   "source": [
    "# df = pd.DataFrame.from_dict(d, orient='index').reset_index()\n",
    "\n",
    "dfPercent = pd.DataFrame.from_dict(get_max_path(2,.95), orient = 'index').reset_index()\n"
   ]
  },
  {
   "cell_type": "code",
   "execution_count": null,
   "metadata": {
    "collapsed": false
   },
   "outputs": [],
   "source": [
    "dfPercent.head(10)"
   ]
  },
  {
   "cell_type": "code",
   "execution_count": null,
   "metadata": {
    "collapsed": false
   },
   "outputs": [],
   "source": [
    "dfPercent.rename(columns={'index': 'PathLength', 0: 'CumPercent'}, inplace=True)\n",
    "\n",
    "dfPercent.head()"
   ]
  },
  {
   "cell_type": "code",
   "execution_count": null,
   "metadata": {
    "collapsed": false
   },
   "outputs": [],
   "source": [
    "# now plot it\n",
    "# set the figure size\n",
    "\n",
    "from matplotlib.ticker import MultipleLocator, FormatStrFormatter\n",
    "\n",
    "fig = plt.figure(figsize = (15,10))\n",
    "\n",
    "ml = MultipleLocator(10)\n",
    "\n",
    "# the the conversions as a function of path length\n",
    "ax1 = fig.add_subplot(111)\n",
    "ax1.plot(dfPercent.PathLength, dfPercent.CumPercent, color = 'red', lw = 3, label = 'Path Length')\n",
    "\n",
    "# plot the legend for the first plot\n",
    "ax1.legend(loc = 'upper right', fontsize = 14)\n",
    "\n",
    "# Add labels to the plot\n",
    "style = dict(size=14, color='black')\n",
    "ax1.text(200, .90, \"Max Path Length = 1987\", **style)\n",
    "\n",
    "# set the fontsize for the top plot\n",
    "plt.ylabel('Cumulative Conversions', fontsize=16)\n",
    "plt.xlabel('Number of Times Ad Shown', fontsize=16)\n",
    "plt.setp(ax1.get_yticklabels(), fontsize=14)\n",
    "\n",
    "ax1.grid(True, which = 'both', axis = 'x', color='grey', linestyle='--', alpha = 0.3)\n",
    "ax1.minorticks_on()\n",
    "\n",
    "plt.axes().xaxis.set_minor_locator(ml)\n",
    "\n",
    "plt.show()\n",
    "\n"
   ]
  },
  {
   "cell_type": "code",
   "execution_count": null,
   "metadata": {
    "collapsed": false
   },
   "outputs": [],
   "source": [
    "os.getcwd()"
   ]
  },
  {
   "cell_type": "code",
   "execution_count": null,
   "metadata": {
    "collapsed": false
   },
   "outputs": [],
   "source": [
    "# get the goal conversion data\n",
    "\n",
    "url = os.path.normpath('Conversions2016andQ1_2017.csv')\n",
    "goal = pd.read_csv(url)\n",
    "\n",
    "goal.head()"
   ]
  },
  {
   "cell_type": "code",
   "execution_count": null,
   "metadata": {
    "collapsed": false
   },
   "outputs": [],
   "source": [
    "goal.info()"
   ]
  },
  {
   "cell_type": "code",
   "execution_count": null,
   "metadata": {
    "collapsed": false
   },
   "outputs": [],
   "source": [
    "goal.rename(columns={'Day Index': 'Day', 'Goal Completions': 'GoalsCompleted'}, inplace=True)\n",
    "\n",
    "goal.head()\n"
   ]
  },
  {
   "cell_type": "code",
   "execution_count": null,
   "metadata": {
    "collapsed": false
   },
   "outputs": [],
   "source": [
    "# change the date to a date format\n",
    "\n",
    "goal['Day'] = pd.to_datetime(goal['Day'], format='%m/%d/%Y')\n"
   ]
  },
  {
   "cell_type": "code",
   "execution_count": null,
   "metadata": {
    "collapsed": false
   },
   "outputs": [],
   "source": [
    "goal.info()"
   ]
  },
  {
   "cell_type": "code",
   "execution_count": null,
   "metadata": {
    "collapsed": true
   },
   "outputs": [],
   "source": [
    "# remove the nan\n",
    "goal = goal.iloc[0:459,0:2].copy()"
   ]
  },
  {
   "cell_type": "code",
   "execution_count": null,
   "metadata": {
    "collapsed": false
   },
   "outputs": [],
   "source": [
    "goal.iloc[458,0]"
   ]
  },
  {
   "cell_type": "code",
   "execution_count": null,
   "metadata": {
    "collapsed": false
   },
   "outputs": [],
   "source": [
    "# make and ols fit\n",
    "# calc the trendline (it is simply a linear fitting)\n",
    "import statsmodels.api as sm\n",
    "\n",
    "lrResults = pd.DataFrame()\n",
    "\n",
    "X = goal['Day']\n",
    "y = goal['GoalsCompleted']\n",
    "\n",
    "model = sm.formula.ols(formula='y ~ X', data=goal)\n",
    "res = model.fit()\n",
    "\n",
    "# res.summary()\n",
    "\n",
    "lrResults = lrResults.assign(day=X,origy=y,fit=res.fittedvalues)\n",
    "\n",
    "lrResults.head()\n"
   ]
  },
  {
   "cell_type": "code",
   "execution_count": null,
   "metadata": {
    "collapsed": false
   },
   "outputs": [],
   "source": [
    "# Plot the Goals Over time\n",
    "\n",
    "# now plot it\n",
    "# set the figure size\n",
    "\n",
    "from matplotlib.ticker import MultipleLocator, FormatStrFormatter\n",
    "\n",
    "fig = plt.figure(figsize = (15,8))\n",
    "\n",
    "X = goal['Day']\n",
    "y = goal['GoalsCompleted']\n",
    "\n",
    "# the the conversions as a function of path length\n",
    "ax1 = fig.add_subplot(111)\n",
    "ax1.plot(X, y, color = 'red', lw = 1.5, label = 'Conversions')\n",
    "\n",
    "# set the fontsize for the top plot\n",
    "plt.ylabel('Daily Conversions', fontsize=16)\n",
    "plt.setp(ax1.get_yticklabels(), fontsize=14)\n",
    "\n",
    "plt.show()"
   ]
  },
  {
   "cell_type": "code",
   "execution_count": null,
   "metadata": {
    "collapsed": false
   },
   "outputs": [],
   "source": [
    "# this originally does it as a function\n",
    "\n",
    "# first define r_squared\n",
    "def r_squared(actual, ideal):\n",
    "    actual_mean = np.mean(actual)\n",
    "    ideal_dev = np.sum([(val - actual_mean)**2 for val in ideal])\n",
    "    actual_dev = np.sum([(val - actual_mean)**2 for val in actual])\n",
    "\n",
    "    return ideal_dev / actual_dev\n",
    "\n",
    "\n",
    "# def temp_plot(dates, conversions):\n",
    "\n",
    "# add day and dates since not using a function\n",
    "dates = goal['Day']\n",
    "conversions = goal['GoalsCompleted']\n",
    "\n",
    "year_start = datetime(2016, 1, 1)\n",
    "days = np.array([(d - year_start).days + 1 for d in dates])\n",
    "\n",
    "fig = plt.figure(figsize = (15,6))\n",
    "plt.title('Goal Conversions')\n",
    "plt.ylabel('Conversion Count')\n",
    "plt.xlabel('Day of Year')\n",
    "\n",
    "plt.plot(days, conversions, marker='o')\n",
    "\n",
    "slope, intercept = np.polyfit(days, conversions, 1)\n",
    "ideal_convs = intercept + (slope * days)\n",
    "r_sq = r_squared(conversions, ideal_convs)\n",
    "\n",
    "fit_label = 'Linear fit ({0:.2f})'.format(slope)\n",
    "plt.plot(days, ideal_convs, color='red', linestyle='--', label=fit_label)\n",
    "plt.annotate('r^2 = {0:.2f}'.format(r_sq), (0.05, 0.9), xycoords='axes fraction')\n",
    "plt.legend(loc='lower right')\n",
    "\n",
    "plt.show()\n",
    "\n",
    "#    return fig"
   ]
  },
  {
   "cell_type": "code",
   "execution_count": null,
   "metadata": {
    "collapsed": false,
    "scrolled": false
   },
   "outputs": [],
   "source": [
    "# make a combined plot\n",
    "\n",
    "from mpl_toolkits.axes_grid1 import host_subplot\n",
    "import mpl_toolkits.axisartist as AA\n",
    "\n",
    "##########################################  Perform a Linear Regression for Fitting\n",
    "dates = goal['Day']\n",
    "conversions = goal['GoalsCompleted']\n",
    "\n",
    "year_start = datetime(2016, 1, 1)\n",
    "days = np.array([(d - year_start).days + 1 for d in dates])\n",
    "\n",
    "# make the linear fit\n",
    "slope, intercept = np.polyfit(days, conversions, 1)\n",
    "ideal_convs = intercept + (slope * days)\n",
    "r_sq = r_squared(conversions, ideal_convs)\n",
    "\n",
    "############################################   This is all for plotting\n",
    "\n",
    "fig = plt.subplots(figsize = (15,8))\n",
    "\n",
    "# set up for sharing axes\n",
    "host = host_subplot(111, axes_class=AA.Axes)\n",
    "plt.subplots_adjust(bottom=.5)\n",
    "\n",
    "# allows for multiple axes being shared\n",
    "par1 = host.twiny()\n",
    "\n",
    "# this is the offset from the bottom                                       \n",
    "offset = -40\n",
    "new_fixed_axis = par1.get_grid_helper().new_fixed_axis\n",
    "# puts the second label on the bottom\n",
    "par1.axis[\"top\"] = new_fixed_axis(loc=\"bottom\",\n",
    "                                     axes=par1,\n",
    "                                     offset=(0, offset))\n",
    "\n",
    "par1.axis[\"bottom\"].toggle(all=True)\n",
    "\n",
    "\n",
    "# host is the original data\n",
    "# par 1 is the fitted trendline\n",
    "# need to create date objects \n",
    "\n",
    "host.set_ylabel(\"Conversions\")\n",
    "par1.set_xlabel(\"Trendline\")\n",
    "\n",
    "# plot the date series\n",
    "p1, = host.plot(goal.Day, conversions, label=\"Conversions\")\n",
    "\n",
    "# plot the linear trend series\n",
    "fit_label = 'Linear Trend ({0:.2f})'.format(slope)\n",
    "p2, = par1.plot(days, ideal_convs, label=fit_label)\n",
    "\n",
    "# annotate and add legend\n",
    "plt.annotate('r^2 = {0:.2f}'.format(r_sq), (0.05, 0.9), xycoords='axes fraction', size = 14)\n",
    "host.legend(loc='upper right')\n",
    "\n",
    "host.set_xlim(dstart,dend)\n",
    "par1.set_xlim(1, 458)\n",
    "\n",
    "par1.axis[\"bottom\"].label.set_color(p1.get_color())\n",
    "host.tick_params(labeltop='off')\n",
    "\n",
    "plt.show()"
   ]
  },
  {
   "cell_type": "code",
   "execution_count": null,
   "metadata": {
    "collapsed": false
   },
   "outputs": [],
   "source": [
    "# To make things reproducible...\n",
    "np.random.seed(1977)\n",
    "\n",
    "fig, ax = plt.subplots()\n",
    "\n",
    "# Twin the x-axis twice to make independent y-axes.\n",
    "axes = [ax, ax.twinx(), ax.twinx()]\n",
    "\n",
    "# Make some space on the right side for the extra y-axis.\n",
    "fig.subplots_adjust(right=0.75)\n",
    "\n",
    "# Move the last y-axis spine over to the right by 20% of the width of the axes\n",
    "axes[-1].spines['right'].set_position(('axes', 1.2))\n",
    "\n",
    "# To make the border of the right-most axis visible, we need to turn the frame\n",
    "# on. This hides the other plots, however, so we need to turn its fill off.\n",
    "axes[-1].set_frame_on(True)\n",
    "axes[-1].patch.set_visible(False)\n",
    "\n",
    "# And finally we get to plot things...\n",
    "colors = ('Green', 'Red', 'Blue')\n",
    "for ax, color in zip(axes, colors):\n",
    "    data = np.random.random(1) * np.random.random(10)\n",
    "    ax.plot(data, marker='o', linestyle='none', color=color)\n",
    "    ax.set_ylabel('%s Thing' % color, color=color)\n",
    "    ax.tick_params(axis='y', colors=color)\n",
    "axes[0].set_xlabel('X-axis')\n",
    "\n",
    "plt.show()"
   ]
  },
  {
   "cell_type": "code",
   "execution_count": null,
   "metadata": {
    "collapsed": false
   },
   "outputs": [],
   "source": [
    "# make a combined plot\n",
    "\n",
    "##########################################  Perform a Linear Regression for Fitting\n",
    "dates = goal['Day']\n",
    "conversions = goal['GoalsCompleted']\n",
    "\n",
    "year_start = datetime(2016, 1, 1)\n",
    "days = np.array([(d - year_start).days + 1 for d in dates])\n",
    "\n",
    "# make the linear fit\n",
    "slope, intercept = np.polyfit(days, conversions, 1)\n",
    "ideal_convs = intercept + (slope * days)\n",
    "r_sq = r_squared(conversions, ideal_convs)\n",
    "\n",
    "############################################   This is all for plotting\n",
    "\n",
    "fig, ax = plt.subplots(figsize = (15,8))\n",
    "\n",
    "axes = [ax, ax.twiny()]\n",
    "\n",
    "# Move the last y-axis spine over to the bottom by 20% of the width of the axes\n",
    "axes[1].spines['top'].set_position(('axes', -.20))\n",
    "                                       \n",
    "axes[1].set_frame_on(True)\n",
    "axes[1].patch.set_visible(False)\n",
    "\n",
    "colors = ('blue', 'red')\n",
    "# create the label\n",
    "fit_label = 'Linear Trend ({0:.2f})'.format(slope)\n",
    "\n",
    "for ax,colors in zip(axes,colors):\n",
    "    if colors == 'blue':\n",
    "        X,y = dates, conversions\n",
    "        \n",
    "        dstart = datetime(2016, 1, 1)\n",
    "        dend = datetime(2017, 4, 3)\n",
    "        \n",
    "        ax.set_xlim(dstart,dend)\n",
    "        ax.set_xlabel('Date', color=colors)\n",
    "        lab = 'Actual'\n",
    "        \n",
    "        ax.tick_params(axis='x', colors=colors)\n",
    "\n",
    "    else:\n",
    "        X,y = days, ideal_convs      \n",
    "        ax.set_xlim(1, 458)\n",
    "        ax.set_xlabel('Days', color=colors)    \n",
    "        ax.tick_params(axis='x', colors=colors)\n",
    "    ax.plot(X,y, color = colors, label = fit_label)\n",
    "\n",
    "axes[0].set_ylabel('Conversions')\n",
    "\n",
    "# annotate and add legend\n",
    "plt.annotate('r^2 = {0:.2f}'.format(r_sq), (0.07, 0.90), xycoords='axes fraction', size = 14)\n",
    "plt.legend(loc='upper left')\n",
    "                                                                                                                                                                                                                                                                                                                                                                                                                                                                                                                                                                                                                                                                                                                                                                                                                                                                                                                \n",
    "\n",
    "plt.show()"
   ]
  },
  {
   "cell_type": "code",
   "execution_count": null,
   "metadata": {
    "collapsed": false
   },
   "outputs": [],
   "source": [
    "# one last option\n",
    "\n",
    "##########################################  Perform a Linear Regression for Fitting\n",
    "dates = goal['Day']\n",
    "conversions = goal['GoalsCompleted']\n",
    "\n",
    "year_start = datetime(2016, 1, 1)\n",
    "days = np.array([(d - year_start).days + 1 for d in dates])\n",
    "\n",
    "# make the linear fit\n",
    "slope, intercept = np.polyfit(days, conversions, 1)\n",
    "ideal_convs = intercept + (slope * days)\n",
    "r_sq = r_squared(conversions, ideal_convs)\n",
    "\n",
    "############################################   This is all for plotting\n",
    "\n",
    "X1 = dates\n",
    "y1 = conversions\n",
    "\n",
    "X2 = days\n",
    "y2 = ideal_convs\n",
    "\n",
    "fig = plt.figure(figsize = (15,8))\n",
    "ax1 = fig.add_subplot(111)\n",
    "ax1.plot(X1, y1, label = 'Conversions')\n",
    "ax1.set_ylabel('Conversions')\n",
    "ax2 = ax1.twiny()   # this is the important function\n",
    "ax2.plot(X2, y2, 'r', label = 'Linear Trend')\n",
    "ax2.set_xlim([1,458])\n",
    "ax2.set_xlabel('Time in Days')\n",
    "\n",
    "# this moves the axis to the bottom\n",
    "ax2.spines['top'].set_position(('axes', -.20))\n",
    "ax2.set_frame_on(True)\n",
    "ax2.patch.set_visible(False)\n",
    "\n",
    "# annotate and add legend\n",
    "plt.annotate('r^2 = {0:.2f}'.format(r_sq), (0.07, 0.90), xycoords='axes fraction', size = 14)\n",
    "plt.legend(loc='upper left')                                   \n",
    "\n",
    "plt.show() \n"
   ]
  },
  {
   "cell_type": "code",
   "execution_count": null,
   "metadata": {
    "collapsed": true
   },
   "outputs": [],
   "source": []
  }
 ],
 "metadata": {
  "kernelspec": {
   "display_name": "Python [Root]",
   "language": "python",
   "name": "Python [Root]"
  },
  "language_info": {
   "codemirror_mode": {
    "name": "ipython",
    "version": 3
   },
   "file_extension": ".py",
   "mimetype": "text/x-python",
   "name": "python",
   "nbconvert_exporter": "python",
   "pygments_lexer": "ipython3",
   "version": "3.5.1"
  }
 },
 "nbformat": 4,
 "nbformat_minor": 0
}
