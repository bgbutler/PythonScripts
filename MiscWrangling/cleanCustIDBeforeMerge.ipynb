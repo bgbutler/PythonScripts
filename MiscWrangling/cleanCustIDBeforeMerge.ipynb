{
 "cells": [
  {
   "cell_type": "code",
   "execution_count": 1,
   "metadata": {
    "collapsed": true
   },
   "outputs": [],
   "source": [
    "# standard libraries\n",
    "import pandas as pd\n",
    "import numpy as np\n",
    "from pandas import Series, DataFrame\n",
    "import os\n",
    "import re\n",
    "\n",
    "# plotting libraries\n",
    "import matplotlib as mpl\n",
    "import matplotlib.pyplot as plt\n",
    "import seaborn as sns\n",
    "%matplotlib inline\n",
    "\n",
    "# get the datetime library for date & time calcs\n",
    "from datetime import datetime, timedelta\n",
    "\n",
    "# for handling excel\n",
    "from openpyxl import Workbook\n",
    "from openpyxl import load_workbook"
   ]
  },
  {
   "cell_type": "code",
   "execution_count": 2,
   "metadata": {
    "collapsed": true
   },
   "outputs": [],
   "source": [
    "os.chdir(os.path.normpath('C:/Users/n846490/Documents/Python Scripts/SurvivalAnalysis/ChurnModelFiles/'))"
   ]
  },
  {
   "cell_type": "code",
   "execution_count": 3,
   "metadata": {
    "collapsed": true
   },
   "outputs": [],
   "source": [
    "# get the revenue table\n",
    "\n",
    "urlRev = os.path.normpath('C:/Users/n846490/Documents/Python Scripts/SurvivalAnalysis/ChurnModelFiles/prodRevData.csv')\n",
    "data = pd.read_csv(urlRev, index_col=0)"
   ]
  },
  {
   "cell_type": "code",
   "execution_count": 4,
   "metadata": {
    "collapsed": true
   },
   "outputs": [],
   "source": [
    "# get the csat data\n",
    "urlRev = os.path.normpath('C:/Users/n846490/Documents/Python Scripts/SurvivalAnalysis/ChurnModelFiles/csatGroupedDummy.csv')\n",
    "csat = pd.read_csv(urlRev, index_col=0)"
   ]
  },
  {
   "cell_type": "code",
   "execution_count": 5,
   "metadata": {
    "collapsed": false
   },
   "outputs": [
    {
     "data": {
      "text/html": [
       "<div>\n",
       "<table border=\"1\" class=\"dataframe\">\n",
       "  <thead>\n",
       "    <tr style=\"text-align: right;\">\n",
       "      <th></th>\n",
       "      <th>CustID</th>\n",
       "      <th>SurveyDate</th>\n",
       "      <th>MonthYear</th>\n",
       "      <th>Dissatisfied</th>\n",
       "      <th>Highly Dissatisfied</th>\n",
       "      <th>Highly Satisfied</th>\n",
       "      <th>Neutral</th>\n",
       "      <th>Satisfied</th>\n",
       "      <th>Unknown</th>\n",
       "    </tr>\n",
       "  </thead>\n",
       "  <tbody>\n",
       "    <tr>\n",
       "      <th>0</th>\n",
       "      <td>F000002021</td>\n",
       "      <td>2014-02-21</td>\n",
       "      <td>Feb-14</td>\n",
       "      <td>0.0</td>\n",
       "      <td>0.0</td>\n",
       "      <td>0.0</td>\n",
       "      <td>0.0</td>\n",
       "      <td>1.0</td>\n",
       "      <td>0.0</td>\n",
       "    </tr>\n",
       "    <tr>\n",
       "      <th>1</th>\n",
       "      <td>F000004727</td>\n",
       "      <td>2015-12-11</td>\n",
       "      <td>Dec-15</td>\n",
       "      <td>0.0</td>\n",
       "      <td>0.0</td>\n",
       "      <td>1.0</td>\n",
       "      <td>0.0</td>\n",
       "      <td>0.0</td>\n",
       "      <td>0.0</td>\n",
       "    </tr>\n",
       "    <tr>\n",
       "      <th>2</th>\n",
       "      <td>F000007264</td>\n",
       "      <td>2016-03-16</td>\n",
       "      <td>Mar-16</td>\n",
       "      <td>0.0</td>\n",
       "      <td>0.0</td>\n",
       "      <td>1.0</td>\n",
       "      <td>0.0</td>\n",
       "      <td>0.0</td>\n",
       "      <td>0.0</td>\n",
       "    </tr>\n",
       "    <tr>\n",
       "      <th>3</th>\n",
       "      <td>F000010067</td>\n",
       "      <td>2016-08-15</td>\n",
       "      <td>Aug-16</td>\n",
       "      <td>0.0</td>\n",
       "      <td>0.0</td>\n",
       "      <td>0.0</td>\n",
       "      <td>0.0</td>\n",
       "      <td>1.0</td>\n",
       "      <td>0.0</td>\n",
       "    </tr>\n",
       "    <tr>\n",
       "      <th>4</th>\n",
       "      <td>F000010523</td>\n",
       "      <td>2016-08-16</td>\n",
       "      <td>Aug-16</td>\n",
       "      <td>0.0</td>\n",
       "      <td>0.0</td>\n",
       "      <td>0.0</td>\n",
       "      <td>0.0</td>\n",
       "      <td>1.0</td>\n",
       "      <td>0.0</td>\n",
       "    </tr>\n",
       "  </tbody>\n",
       "</table>\n",
       "</div>"
      ],
      "text/plain": [
       "       CustID  SurveyDate MonthYear  Dissatisfied  Highly Dissatisfied  \\\n",
       "0  F000002021  2014-02-21    Feb-14           0.0                  0.0   \n",
       "1  F000004727  2015-12-11    Dec-15           0.0                  0.0   \n",
       "2  F000007264  2016-03-16    Mar-16           0.0                  0.0   \n",
       "3  F000010067  2016-08-15    Aug-16           0.0                  0.0   \n",
       "4  F000010523  2016-08-16    Aug-16           0.0                  0.0   \n",
       "\n",
       "   Highly Satisfied  Neutral  Satisfied  Unknown  \n",
       "0               0.0      0.0        1.0      0.0  \n",
       "1               1.0      0.0        0.0      0.0  \n",
       "2               1.0      0.0        0.0      0.0  \n",
       "3               0.0      0.0        1.0      0.0  \n",
       "4               0.0      0.0        1.0      0.0  "
      ]
     },
     "execution_count": 5,
     "metadata": {},
     "output_type": "execute_result"
    }
   ],
   "source": [
    "csat.head()"
   ]
  },
  {
   "cell_type": "code",
   "execution_count": 6,
   "metadata": {
    "collapsed": false
   },
   "outputs": [
    {
     "data": {
      "text/html": [
       "<div>\n",
       "<table border=\"1\" class=\"dataframe\">\n",
       "  <thead>\n",
       "    <tr style=\"text-align: right;\">\n",
       "      <th></th>\n",
       "      <th>CustID</th>\n",
       "      <th>SurveyDate</th>\n",
       "      <th>MonthYear</th>\n",
       "      <th>Dissatisfied</th>\n",
       "      <th>Highly Dissatisfied</th>\n",
       "      <th>Highly Satisfied</th>\n",
       "      <th>Neutral</th>\n",
       "      <th>Satisfied</th>\n",
       "      <th>Unknown</th>\n",
       "      <th>LenID</th>\n",
       "    </tr>\n",
       "  </thead>\n",
       "  <tbody>\n",
       "    <tr>\n",
       "      <th>0</th>\n",
       "      <td>F000002021</td>\n",
       "      <td>2014-02-21</td>\n",
       "      <td>Feb-14</td>\n",
       "      <td>0.0</td>\n",
       "      <td>0.0</td>\n",
       "      <td>0.0</td>\n",
       "      <td>0.0</td>\n",
       "      <td>1.0</td>\n",
       "      <td>0.0</td>\n",
       "      <td>10</td>\n",
       "    </tr>\n",
       "    <tr>\n",
       "      <th>1</th>\n",
       "      <td>F000004727</td>\n",
       "      <td>2015-12-11</td>\n",
       "      <td>Dec-15</td>\n",
       "      <td>0.0</td>\n",
       "      <td>0.0</td>\n",
       "      <td>1.0</td>\n",
       "      <td>0.0</td>\n",
       "      <td>0.0</td>\n",
       "      <td>0.0</td>\n",
       "      <td>10</td>\n",
       "    </tr>\n",
       "    <tr>\n",
       "      <th>2</th>\n",
       "      <td>F000007264</td>\n",
       "      <td>2016-03-16</td>\n",
       "      <td>Mar-16</td>\n",
       "      <td>0.0</td>\n",
       "      <td>0.0</td>\n",
       "      <td>1.0</td>\n",
       "      <td>0.0</td>\n",
       "      <td>0.0</td>\n",
       "      <td>0.0</td>\n",
       "      <td>10</td>\n",
       "    </tr>\n",
       "    <tr>\n",
       "      <th>3</th>\n",
       "      <td>F000010067</td>\n",
       "      <td>2016-08-15</td>\n",
       "      <td>Aug-16</td>\n",
       "      <td>0.0</td>\n",
       "      <td>0.0</td>\n",
       "      <td>0.0</td>\n",
       "      <td>0.0</td>\n",
       "      <td>1.0</td>\n",
       "      <td>0.0</td>\n",
       "      <td>10</td>\n",
       "    </tr>\n",
       "    <tr>\n",
       "      <th>4</th>\n",
       "      <td>F000010523</td>\n",
       "      <td>2016-08-16</td>\n",
       "      <td>Aug-16</td>\n",
       "      <td>0.0</td>\n",
       "      <td>0.0</td>\n",
       "      <td>0.0</td>\n",
       "      <td>0.0</td>\n",
       "      <td>1.0</td>\n",
       "      <td>0.0</td>\n",
       "      <td>10</td>\n",
       "    </tr>\n",
       "  </tbody>\n",
       "</table>\n",
       "</div>"
      ],
      "text/plain": [
       "       CustID  SurveyDate MonthYear  Dissatisfied  Highly Dissatisfied  \\\n",
       "0  F000002021  2014-02-21    Feb-14           0.0                  0.0   \n",
       "1  F000004727  2015-12-11    Dec-15           0.0                  0.0   \n",
       "2  F000007264  2016-03-16    Mar-16           0.0                  0.0   \n",
       "3  F000010067  2016-08-15    Aug-16           0.0                  0.0   \n",
       "4  F000010523  2016-08-16    Aug-16           0.0                  0.0   \n",
       "\n",
       "   Highly Satisfied  Neutral  Satisfied  Unknown  LenID  \n",
       "0               0.0      0.0        1.0      0.0     10  \n",
       "1               1.0      0.0        0.0      0.0     10  \n",
       "2               1.0      0.0        0.0      0.0     10  \n",
       "3               0.0      0.0        1.0      0.0     10  \n",
       "4               0.0      0.0        1.0      0.0     10  "
      ]
     },
     "execution_count": 6,
     "metadata": {},
     "output_type": "execute_result"
    }
   ],
   "source": [
    "csat['LenID'] = csat['CustID'].str.len()\n",
    "\n",
    "csat.head()"
   ]
  },
  {
   "cell_type": "code",
   "execution_count": null,
   "metadata": {
    "collapsed": false
   },
   "outputs": [],
   "source": [
    "csat['LenID'].describe()"
   ]
  },
  {
   "cell_type": "code",
   "execution_count": null,
   "metadata": {
    "collapsed": false
   },
   "outputs": [],
   "source": [
    "data.head()"
   ]
  },
  {
   "cell_type": "code",
   "execution_count": null,
   "metadata": {
    "collapsed": true
   },
   "outputs": [],
   "source": [
    "data['CustKey'] = data['CustID'].str[0]"
   ]
  },
  {
   "cell_type": "code",
   "execution_count": null,
   "metadata": {
    "collapsed": false
   },
   "outputs": [],
   "source": [
    "def clean_custid(row):\n",
    "    custNum = row[1:]\n",
    "    \n",
    "    return custNum\n",
    "    \n",
    "    return strLength\n",
    "\n",
    "data['LenID'] = data['CustID'].apply(clean_custid)"
   ]
  },
  {
   "cell_type": "code",
   "execution_count": null,
   "metadata": {
    "collapsed": false
   },
   "outputs": [],
   "source": [
    "data.head(10)"
   ]
  },
  {
   "cell_type": "code",
   "execution_count": null,
   "metadata": {
    "collapsed": false
   },
   "outputs": [],
   "source": [
    "# df.code_x.apply(lambda x: str(int(x)).zfill(6))\n",
    "# use the zfill to pad the zeroes\n",
    "\n",
    "data['CleanCust'] = data['LenID'].apply(lambda x: str(int(x)).zfill(9))"
   ]
  },
  {
   "cell_type": "code",
   "execution_count": null,
   "metadata": {
    "collapsed": false
   },
   "outputs": [],
   "source": [
    "data.info()"
   ]
  },
  {
   "cell_type": "code",
   "execution_count": null,
   "metadata": {
    "collapsed": true
   },
   "outputs": [],
   "source": [
    "# ensure that CleanCust is a string\n",
    "\n",
    "data['CleanCust'] = data['CleanCust'].astype(str)"
   ]
  },
  {
   "cell_type": "code",
   "execution_count": null,
   "metadata": {
    "collapsed": false
   },
   "outputs": [],
   "source": [
    "data['CustID'] = data['CustKey'] + data['CleanCust']\n",
    "\n",
    "data.head()"
   ]
  },
  {
   "cell_type": "code",
   "execution_count": null,
   "metadata": {
    "collapsed": false
   },
   "outputs": [],
   "source": [
    "data = data.ix[:, 'CustID':'TotRev']\n",
    "\n",
    "data.shape[0]"
   ]
  },
  {
   "cell_type": "code",
   "execution_count": null,
   "metadata": {
    "collapsed": false
   },
   "outputs": [],
   "source": [
    "data.head()"
   ]
  },
  {
   "cell_type": "code",
   "execution_count": null,
   "metadata": {
    "collapsed": false
   },
   "outputs": [],
   "source": [
    "csat = csat.ix[:, 'CustID':'Unknown']\n",
    "\n",
    "csat.head()"
   ]
  },
  {
   "cell_type": "code",
   "execution_count": null,
   "metadata": {
    "collapsed": true
   },
   "outputs": [],
   "source": [
    "data.to_csv('cleanCustIDDataForMerge.csv')"
   ]
  },
  {
   "cell_type": "code",
   "execution_count": null,
   "metadata": {
    "collapsed": true
   },
   "outputs": [],
   "source": [
    "# make the merge\n",
    "\n",
    "# make the join on the customer revenue data\n",
    "\n",
    "combined = data.merge(csat, how = 'left')"
   ]
  },
  {
   "cell_type": "code",
   "execution_count": null,
   "metadata": {
    "collapsed": false
   },
   "outputs": [],
   "source": [
    "combined.head()"
   ]
  },
  {
   "cell_type": "code",
   "execution_count": null,
   "metadata": {
    "collapsed": false
   },
   "outputs": [],
   "source": [
    "# count the NaN in the combined\n",
    "\n",
    "combined['SurveyDate'].isnull().sum()"
   ]
  },
  {
   "cell_type": "code",
   "execution_count": null,
   "metadata": {
    "collapsed": false
   },
   "outputs": [],
   "source": [
    "# rename the SurveyDate column to SurveyTaken\n",
    "# df.rename(columns={'oldName1': 'newName1', 'oldName2': 'newName2'}, inplace=True)\n",
    "\n",
    "combined.rename(columns={'SurveyDate' : 'SurveyTaken'}, inplace = True)\n",
    "\n",
    "combined.head()\n"
   ]
  },
  {
   "cell_type": "code",
   "execution_count": null,
   "metadata": {
    "collapsed": false
   },
   "outputs": [],
   "source": [
    "combined.info()"
   ]
  },
  {
   "cell_type": "code",
   "execution_count": null,
   "metadata": {
    "collapsed": false
   },
   "outputs": [],
   "source": [
    "# fill the NaN from the merge with zeros\n",
    "\n",
    "def clean_nan(row):\n",
    "    if pd.isnull(row):\n",
    "        return int(0)\n",
    "    else:\n",
    "        return int(row)"
   ]
  },
  {
   "cell_type": "code",
   "execution_count": null,
   "metadata": {
    "collapsed": false
   },
   "outputs": [],
   "source": [
    "# apply the function to the survey data columns\n",
    "\n",
    "for i in range(28,34):\n",
    "    combined.iloc[:, i] = combined.iloc[:,i].apply(clean_nan)\n",
    "    \n",
    "combined.head()"
   ]
  },
  {
   "cell_type": "code",
   "execution_count": null,
   "metadata": {
    "collapsed": false
   },
   "outputs": [],
   "source": [
    "# check the difference survey taken\n",
    "\n",
    "combined.groupby('Highly Satisfied').agg({'Highly Satisfied' : pd.Series.count})"
   ]
  },
  {
   "cell_type": "code",
   "execution_count": null,
   "metadata": {
    "collapsed": false
   },
   "outputs": [],
   "source": [
    "combined.head()"
   ]
  },
  {
   "cell_type": "code",
   "execution_count": null,
   "metadata": {
    "collapsed": false
   },
   "outputs": [],
   "source": [
    "# fill the NaN from the merge with zeros\n",
    "# this is for the string dates\n",
    "\n",
    "def clean_date(row):\n",
    "    if pd.isnull(row):\n",
    "        return int(0)\n",
    "    else:\n",
    "        return int(1)\n",
    "    \n",
    "combined['SurveyTaken'] = combined['SurveyTaken'].apply(clean_date)\n",
    "\n",
    "combined.head()"
   ]
  },
  {
   "cell_type": "code",
   "execution_count": null,
   "metadata": {
    "collapsed": false
   },
   "outputs": [],
   "source": [
    "# check the difference survey taken\n",
    "\n",
    "combined.groupby('SurveyTaken').agg({'SurveyTaken' : pd.Series.count})"
   ]
  },
  {
   "cell_type": "code",
   "execution_count": null,
   "metadata": {
    "collapsed": false
   },
   "outputs": [],
   "source": [
    "# fill the NaN from the merge with zeros\n",
    "# this is for the string dates\n",
    "\n",
    "def clean_month(row):\n",
    "    if pd.isnull(row):\n",
    "        return str(0)\n",
    "    else:\n",
    "        return row\n",
    "    \n",
    "combined['MonthYear'] = combined['MonthYear'].apply(clean_date)\n",
    "\n",
    "combined.head()"
   ]
  },
  {
   "cell_type": "code",
   "execution_count": null,
   "metadata": {
    "collapsed": true
   },
   "outputs": [],
   "source": [
    "# one last export\n",
    "\n",
    "combined.to_csv('csatRevenueDataCombined.csv')"
   ]
  },
  {
   "cell_type": "code",
   "execution_count": null,
   "metadata": {
    "collapsed": true
   },
   "outputs": [],
   "source": []
  }
 ],
 "metadata": {
  "kernelspec": {
   "display_name": "Python [Root]",
   "language": "python",
   "name": "Python [Root]"
  },
  "language_info": {
   "codemirror_mode": {
    "name": "ipython",
    "version": 3
   },
   "file_extension": ".py",
   "mimetype": "text/x-python",
   "name": "python",
   "nbconvert_exporter": "python",
   "pygments_lexer": "ipython3",
   "version": "3.5.1"
  }
 },
 "nbformat": 4,
 "nbformat_minor": 0
}
