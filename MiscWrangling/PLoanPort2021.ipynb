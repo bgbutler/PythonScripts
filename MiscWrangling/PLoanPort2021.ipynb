{
 "cells": [
  {
   "cell_type": "code",
   "execution_count": 1,
   "metadata": {
    "ExecuteTime": {
     "end_time": "2021-10-13T15:26:06.876234Z",
     "start_time": "2021-10-13T15:26:06.856234Z"
    }
   },
   "outputs": [
    {
     "name": "stdout",
     "output_type": "stream",
     "text": [
      "3.8.5 (default, Sep  3 2020, 21:29:08) [MSC v.1916 64 bit (AMD64)]\n",
      "C:\\ProgramData\\Anaconda3\\python.exe\n"
     ]
    },
    {
     "data": {
      "text/plain": [
       "'C:\\\\Users\\\\bbutler\\\\BButlerStuff\\\\PLoan'"
      ]
     },
     "execution_count": 1,
     "metadata": {},
     "output_type": "execute_result"
    }
   ],
   "source": [
    "# Standard imports\n",
    "\n",
    "# get the environment\n",
    "import sys\n",
    "print(sys.version)\n",
    "print(sys.executable)\n",
    "import os\n",
    "os.getcwd()"
   ]
  },
  {
   "cell_type": "code",
   "execution_count": 2,
   "metadata": {
    "ExecuteTime": {
     "end_time": "2021-10-13T15:26:08.635093Z",
     "start_time": "2021-10-13T15:26:08.619092Z"
    }
   },
   "outputs": [
    {
     "name": "stdout",
     "output_type": "stream",
     "text": [
      "There are 16 cores available.\n"
     ]
    }
   ],
   "source": [
    "import multiprocessing\n",
    "cores = multiprocessing.cpu_count()\n",
    "print(f\"There are {cores} cores available.\")"
   ]
  },
  {
   "cell_type": "code",
   "execution_count": 3,
   "metadata": {
    "ExecuteTime": {
     "end_time": "2021-10-13T15:26:11.531901Z",
     "start_time": "2021-10-13T15:26:10.408873Z"
    }
   },
   "outputs": [],
   "source": [
    "# import base libraries\n",
    "import pandas as pd\n",
    "import numpy as np\n",
    "\n",
    "\n",
    "# set options\n",
    "pd.set_option('display.max_columns', 20)\n",
    "pd.set_option('display.max_rows', 100)\n",
    "pd.options.display.float_format = '{:.4f}'.format"
   ]
  },
  {
   "cell_type": "markdown",
   "metadata": {},
   "source": [
    "# Overview\n",
    "## This model is designed to take in loan terms (contract amount, term and apr) and then\n",
    "## returns the financial values of each loan: Monthly Payment, Interest Income,\n",
    "## Total Costs, Profit and NPV of Profit"
   ]
  },
  {
   "cell_type": "markdown",
   "metadata": {},
   "source": [
    "# Get the Data and Create a Function to Calculate Monthly Payment"
   ]
  },
  {
   "cell_type": "code",
   "execution_count": 31,
   "metadata": {
    "ExecuteTime": {
     "end_time": "2021-10-13T15:52:18.875982Z",
     "start_time": "2021-10-13T15:52:18.851986Z"
    }
   },
   "outputs": [
    {
     "data": {
      "text/html": [
       "<div>\n",
       "<style scoped>\n",
       "    .dataframe tbody tr th:only-of-type {\n",
       "        vertical-align: middle;\n",
       "    }\n",
       "\n",
       "    .dataframe tbody tr th {\n",
       "        vertical-align: top;\n",
       "    }\n",
       "\n",
       "    .dataframe thead th {\n",
       "        text-align: right;\n",
       "    }\n",
       "</style>\n",
       "<table border=\"1\" class=\"dataframe\">\n",
       "  <thead>\n",
       "    <tr style=\"text-align: right;\">\n",
       "      <th></th>\n",
       "      <th>AppId</th>\n",
       "      <th>CustomerNumber</th>\n",
       "      <th>ContractNum</th>\n",
       "      <th>contractAmt</th>\n",
       "      <th>Term</th>\n",
       "      <th>Interest Rate</th>\n",
       "    </tr>\n",
       "  </thead>\n",
       "  <tbody>\n",
       "    <tr>\n",
       "      <th>0</th>\n",
       "      <td>2027</td>\n",
       "      <td>1453250</td>\n",
       "      <td>3750000223</td>\n",
       "      <td>13000</td>\n",
       "      <td>60</td>\n",
       "      <td>9.49</td>\n",
       "    </tr>\n",
       "    <tr>\n",
       "      <th>1</th>\n",
       "      <td>2041</td>\n",
       "      <td>00000458159</td>\n",
       "      <td>3750000215</td>\n",
       "      <td>5000</td>\n",
       "      <td>60</td>\n",
       "      <td>9.49</td>\n",
       "    </tr>\n",
       "    <tr>\n",
       "      <th>2</th>\n",
       "      <td>2046</td>\n",
       "      <td>00001118347</td>\n",
       "      <td>3750000219</td>\n",
       "      <td>12000</td>\n",
       "      <td>60</td>\n",
       "      <td>9.49</td>\n",
       "    </tr>\n",
       "    <tr>\n",
       "      <th>3</th>\n",
       "      <td>2069</td>\n",
       "      <td>00002287661</td>\n",
       "      <td>3750000233</td>\n",
       "      <td>7500</td>\n",
       "      <td>60</td>\n",
       "      <td>9.49</td>\n",
       "    </tr>\n",
       "    <tr>\n",
       "      <th>4</th>\n",
       "      <td>2073</td>\n",
       "      <td>00001428711</td>\n",
       "      <td>3750000227</td>\n",
       "      <td>4555</td>\n",
       "      <td>36</td>\n",
       "      <td>9.49</td>\n",
       "    </tr>\n",
       "  </tbody>\n",
       "</table>\n",
       "</div>"
      ],
      "text/plain": [
       "  AppId CustomerNumber ContractNum contractAmt Term Interest Rate\n",
       "0  2027        1453250  3750000223       13000   60          9.49\n",
       "1  2041    00000458159  3750000215        5000   60          9.49\n",
       "2  2046    00001118347  3750000219       12000   60          9.49\n",
       "3  2069    00002287661  3750000233        7500   60          9.49\n",
       "4  2073    00001428711  3750000227        4555   36          9.49"
      ]
     },
     "execution_count": 31,
     "metadata": {},
     "output_type": "execute_result"
    }
   ],
   "source": [
    "# set the directory\n",
    "loanDir = 'C:\\\\Users\\\\bbutler\\\\BButlerStuff\\\\PLoan\\\\PortSep2021'\n",
    "\n",
    "os.chdir(loanDir)\n",
    "\n",
    "# get the file\n",
    "# bring in balances\n",
    "\n",
    "fileName = 'PLoanPort2021.csv'\n",
    "\n",
    "ploanPort = pd.read_csv(fileName,low_memory=False, dtype=str)\n",
    "ploanPort.head()"
   ]
  },
  {
   "cell_type": "code",
   "execution_count": 32,
   "metadata": {
    "ExecuteTime": {
     "end_time": "2021-10-13T15:52:21.664132Z",
     "start_time": "2021-10-13T15:52:21.642841Z"
    }
   },
   "outputs": [
    {
     "name": "stdout",
     "output_type": "stream",
     "text": [
      "<class 'pandas.core.frame.DataFrame'>\n",
      "RangeIndex: 5222 entries, 0 to 5221\n",
      "Data columns (total 6 columns):\n",
      " #   Column          Non-Null Count  Dtype \n",
      "---  ------          --------------  ----- \n",
      " 0   AppId           5222 non-null   object\n",
      " 1   CustomerNumber  5222 non-null   object\n",
      " 2   ContractNum     5222 non-null   object\n",
      " 3   contractAmt     5222 non-null   object\n",
      " 4   Term            5222 non-null   object\n",
      " 5   Interest Rate   5222 non-null   object\n",
      "dtypes: object(6)\n",
      "memory usage: 244.9+ KB\n"
     ]
    }
   ],
   "source": [
    "ploanPort.info()"
   ]
  },
  {
   "cell_type": "code",
   "execution_count": 33,
   "metadata": {
    "ExecuteTime": {
     "end_time": "2021-10-13T15:52:23.766711Z",
     "start_time": "2021-10-13T15:52:23.743992Z"
    }
   },
   "outputs": [
    {
     "data": {
      "text/html": [
       "<div>\n",
       "<style scoped>\n",
       "    .dataframe tbody tr th:only-of-type {\n",
       "        vertical-align: middle;\n",
       "    }\n",
       "\n",
       "    .dataframe tbody tr th {\n",
       "        vertical-align: top;\n",
       "    }\n",
       "\n",
       "    .dataframe thead th {\n",
       "        text-align: right;\n",
       "    }\n",
       "</style>\n",
       "<table border=\"1\" class=\"dataframe\">\n",
       "  <thead>\n",
       "    <tr style=\"text-align: right;\">\n",
       "      <th></th>\n",
       "      <th>AppId</th>\n",
       "      <th>CustomerNum</th>\n",
       "      <th>ContractNum</th>\n",
       "      <th>ContractAmt</th>\n",
       "      <th>Term</th>\n",
       "      <th>APR</th>\n",
       "    </tr>\n",
       "  </thead>\n",
       "  <tbody>\n",
       "    <tr>\n",
       "      <th>0</th>\n",
       "      <td>2027</td>\n",
       "      <td>1453250</td>\n",
       "      <td>3750000223</td>\n",
       "      <td>13000</td>\n",
       "      <td>60</td>\n",
       "      <td>0.0949</td>\n",
       "    </tr>\n",
       "    <tr>\n",
       "      <th>1</th>\n",
       "      <td>2041</td>\n",
       "      <td>00000458159</td>\n",
       "      <td>3750000215</td>\n",
       "      <td>5000</td>\n",
       "      <td>60</td>\n",
       "      <td>0.0949</td>\n",
       "    </tr>\n",
       "    <tr>\n",
       "      <th>2</th>\n",
       "      <td>2046</td>\n",
       "      <td>00001118347</td>\n",
       "      <td>3750000219</td>\n",
       "      <td>12000</td>\n",
       "      <td>60</td>\n",
       "      <td>0.0949</td>\n",
       "    </tr>\n",
       "    <tr>\n",
       "      <th>3</th>\n",
       "      <td>2069</td>\n",
       "      <td>00002287661</td>\n",
       "      <td>3750000233</td>\n",
       "      <td>7500</td>\n",
       "      <td>60</td>\n",
       "      <td>0.0949</td>\n",
       "    </tr>\n",
       "    <tr>\n",
       "      <th>4</th>\n",
       "      <td>2073</td>\n",
       "      <td>00001428711</td>\n",
       "      <td>3750000227</td>\n",
       "      <td>4555</td>\n",
       "      <td>36</td>\n",
       "      <td>0.0949</td>\n",
       "    </tr>\n",
       "  </tbody>\n",
       "</table>\n",
       "</div>"
      ],
      "text/plain": [
       "  AppId  CustomerNum ContractNum  ContractAmt  Term    APR\n",
       "0  2027      1453250  3750000223        13000    60 0.0949\n",
       "1  2041  00000458159  3750000215         5000    60 0.0949\n",
       "2  2046  00001118347  3750000219        12000    60 0.0949\n",
       "3  2069  00002287661  3750000233         7500    60 0.0949\n",
       "4  2073  00001428711  3750000227         4555    36 0.0949"
      ]
     },
     "execution_count": 33,
     "metadata": {},
     "output_type": "execute_result"
    }
   ],
   "source": [
    "# change the interest rate \n",
    "\n",
    "ploanPort['Interest Rate'] = ploanPort['Interest Rate'].astype(float)/100\n",
    "ploanPort['Term'] = ploanPort['Term'].astype(int)\n",
    "ploanPort['contractAmt'] = ploanPort['contractAmt'].astype(int)\n",
    "ploanPort.columns = ['AppId', 'CustomerNum', 'ContractNum', 'ContractAmt', 'Term', 'APR']\n",
    "# ploanPort['AppId'] = ploanPort['AppId'].astype(str)\n",
    "# ploanPort['ContractNum'] = ploanPort['ContractNum'].astype(str)\n",
    "ploanPort.head()"
   ]
  },
  {
   "cell_type": "code",
   "execution_count": 34,
   "metadata": {
    "ExecuteTime": {
     "end_time": "2021-10-13T15:52:25.321811Z",
     "start_time": "2021-10-13T15:52:25.306811Z"
    }
   },
   "outputs": [
    {
     "name": "stdout",
     "output_type": "stream",
     "text": [
      "<class 'pandas.core.frame.DataFrame'>\n",
      "RangeIndex: 5222 entries, 0 to 5221\n",
      "Data columns (total 6 columns):\n",
      " #   Column       Non-Null Count  Dtype  \n",
      "---  ------       --------------  -----  \n",
      " 0   AppId        5222 non-null   object \n",
      " 1   CustomerNum  5222 non-null   object \n",
      " 2   ContractNum  5222 non-null   object \n",
      " 3   ContractAmt  5222 non-null   int32  \n",
      " 4   Term         5222 non-null   int32  \n",
      " 5   APR          5222 non-null   float64\n",
      "dtypes: float64(1), int32(2), object(3)\n",
      "memory usage: 204.1+ KB\n"
     ]
    }
   ],
   "source": [
    "ploanPort.info()"
   ]
  },
  {
   "cell_type": "code",
   "execution_count": 35,
   "metadata": {
    "ExecuteTime": {
     "end_time": "2021-10-13T15:52:28.461746Z",
     "start_time": "2021-10-13T15:52:28.456746Z"
    }
   },
   "outputs": [],
   "source": [
    "# formula to calculate the payment\n",
    "def calcPayment(origBalance, term, apr):\n",
    "    \"\"\"\n",
    "    Function calculates the monthly payment for a Loan given the balance, term and apr\n",
    "    \n",
    "    term: should be a period in months\n",
    "    \n",
    "    \n",
    "    \"\"\"\n",
    "    # break formula into numerator and denominator\n",
    "    numerator = (origBalance * (apr/12) * (1+(apr/12))**term)\n",
    "    denominator = (((1+(apr/12))**term) - 1)\n",
    "    \n",
    "    monthPayment = numerator/denominator\n",
    "    \n",
    "    return monthPayment"
   ]
  },
  {
   "cell_type": "code",
   "execution_count": 36,
   "metadata": {
    "ExecuteTime": {
     "end_time": "2021-10-13T15:52:39.084251Z",
     "start_time": "2021-10-13T15:52:38.956213Z"
    }
   },
   "outputs": [
    {
     "data": {
      "text/html": [
       "<div>\n",
       "<style scoped>\n",
       "    .dataframe tbody tr th:only-of-type {\n",
       "        vertical-align: middle;\n",
       "    }\n",
       "\n",
       "    .dataframe tbody tr th {\n",
       "        vertical-align: top;\n",
       "    }\n",
       "\n",
       "    .dataframe thead th {\n",
       "        text-align: right;\n",
       "    }\n",
       "</style>\n",
       "<table border=\"1\" class=\"dataframe\">\n",
       "  <thead>\n",
       "    <tr style=\"text-align: right;\">\n",
       "      <th></th>\n",
       "      <th>AppId</th>\n",
       "      <th>CustomerNum</th>\n",
       "      <th>ContractNum</th>\n",
       "      <th>ContractAmt</th>\n",
       "      <th>Term</th>\n",
       "      <th>APR</th>\n",
       "      <th>CalcPayment</th>\n",
       "    </tr>\n",
       "  </thead>\n",
       "  <tbody>\n",
       "    <tr>\n",
       "      <th>0</th>\n",
       "      <td>2027</td>\n",
       "      <td>1453250</td>\n",
       "      <td>3750000223</td>\n",
       "      <td>13000</td>\n",
       "      <td>60</td>\n",
       "      <td>0.0949</td>\n",
       "      <td>272.9607</td>\n",
       "    </tr>\n",
       "    <tr>\n",
       "      <th>1</th>\n",
       "      <td>2041</td>\n",
       "      <td>00000458159</td>\n",
       "      <td>3750000215</td>\n",
       "      <td>5000</td>\n",
       "      <td>60</td>\n",
       "      <td>0.0949</td>\n",
       "      <td>104.9849</td>\n",
       "    </tr>\n",
       "    <tr>\n",
       "      <th>2</th>\n",
       "      <td>2046</td>\n",
       "      <td>00001118347</td>\n",
       "      <td>3750000219</td>\n",
       "      <td>12000</td>\n",
       "      <td>60</td>\n",
       "      <td>0.0949</td>\n",
       "      <td>251.9637</td>\n",
       "    </tr>\n",
       "    <tr>\n",
       "      <th>3</th>\n",
       "      <td>2069</td>\n",
       "      <td>00002287661</td>\n",
       "      <td>3750000233</td>\n",
       "      <td>7500</td>\n",
       "      <td>60</td>\n",
       "      <td>0.0949</td>\n",
       "      <td>157.4773</td>\n",
       "    </tr>\n",
       "    <tr>\n",
       "      <th>4</th>\n",
       "      <td>2073</td>\n",
       "      <td>00001428711</td>\n",
       "      <td>3750000227</td>\n",
       "      <td>4555</td>\n",
       "      <td>36</td>\n",
       "      <td>0.0949</td>\n",
       "      <td>145.8888</td>\n",
       "    </tr>\n",
       "  </tbody>\n",
       "</table>\n",
       "</div>"
      ],
      "text/plain": [
       "  AppId  CustomerNum ContractNum  ContractAmt  Term    APR  CalcPayment\n",
       "0  2027      1453250  3750000223        13000    60 0.0949     272.9607\n",
       "1  2041  00000458159  3750000215         5000    60 0.0949     104.9849\n",
       "2  2046  00001118347  3750000219        12000    60 0.0949     251.9637\n",
       "3  2069  00002287661  3750000233         7500    60 0.0949     157.4773\n",
       "4  2073  00001428711  3750000227         4555    36 0.0949     145.8888"
      ]
     },
     "execution_count": 36,
     "metadata": {},
     "output_type": "execute_result"
    }
   ],
   "source": [
    "# create payment \n",
    "\n",
    "ploanPort['CalcPayment'] = ploanPort.apply(lambda df: calcPayment(df.ContractAmt, df.Term, df.APR), axis = 1)\n",
    "ploanPort.head()"
   ]
  },
  {
   "cell_type": "markdown",
   "metadata": {},
   "source": [
    "# Set up Key Inputs & Model Parameters"
   ]
  },
  {
   "cell_type": "markdown",
   "metadata": {
    "ExecuteTime": {
     "end_time": "2020-12-10T16:52:29.424757Z",
     "start_time": "2020-12-10T16:52:29.421761Z"
    }
   },
   "source": [
    "## The model utilizes two data frames to perform all calculations.\n",
    "## 1. Input dataframe contains the loan ID, and loan details: contract amt, term and apr\n",
    "## 2. The second dataframe calculates the details of the loan for each month of the loan term and applies discounting to generate the NPV of the loan.\n",
    "\n",
    "## The model loops through all of the loans in the 1st dataframe to generate a 2nd temporary dataframe for each loan which is rolled up and the values are transferred back to the 1st dataframe with the rest of the financial resolts."
   ]
  },
  {
   "cell_type": "markdown",
   "metadata": {},
   "source": [
    "# Step 1: Calculate Interest (This is the Loan Revenue)"
   ]
  },
  {
   "cell_type": "code",
   "execution_count": 37,
   "metadata": {
    "ExecuteTime": {
     "end_time": "2021-10-13T15:53:03.659895Z",
     "start_time": "2021-10-13T15:53:03.644896Z"
    }
   },
   "outputs": [
    {
     "data": {
      "text/html": [
       "<div>\n",
       "<style scoped>\n",
       "    .dataframe tbody tr th:only-of-type {\n",
       "        vertical-align: middle;\n",
       "    }\n",
       "\n",
       "    .dataframe tbody tr th {\n",
       "        vertical-align: top;\n",
       "    }\n",
       "\n",
       "    .dataframe thead th {\n",
       "        text-align: right;\n",
       "    }\n",
       "</style>\n",
       "<table border=\"1\" class=\"dataframe\">\n",
       "  <thead>\n",
       "    <tr style=\"text-align: right;\">\n",
       "      <th></th>\n",
       "      <th>AppId</th>\n",
       "      <th>CustomerNum</th>\n",
       "      <th>ContractNum</th>\n",
       "      <th>ContractAmt</th>\n",
       "      <th>Term</th>\n",
       "      <th>APR</th>\n",
       "      <th>CalcPayment</th>\n",
       "      <th>Interest</th>\n",
       "    </tr>\n",
       "  </thead>\n",
       "  <tbody>\n",
       "    <tr>\n",
       "      <th>0</th>\n",
       "      <td>2027</td>\n",
       "      <td>1453250</td>\n",
       "      <td>3750000223</td>\n",
       "      <td>13000</td>\n",
       "      <td>60</td>\n",
       "      <td>0.0949</td>\n",
       "      <td>272.9607</td>\n",
       "      <td>3377.6403</td>\n",
       "    </tr>\n",
       "    <tr>\n",
       "      <th>1</th>\n",
       "      <td>2041</td>\n",
       "      <td>00000458159</td>\n",
       "      <td>3750000215</td>\n",
       "      <td>5000</td>\n",
       "      <td>60</td>\n",
       "      <td>0.0949</td>\n",
       "      <td>104.9849</td>\n",
       "      <td>1299.0924</td>\n",
       "    </tr>\n",
       "    <tr>\n",
       "      <th>2</th>\n",
       "      <td>2046</td>\n",
       "      <td>00001118347</td>\n",
       "      <td>3750000219</td>\n",
       "      <td>12000</td>\n",
       "      <td>60</td>\n",
       "      <td>0.0949</td>\n",
       "      <td>251.9637</td>\n",
       "      <td>3117.8218</td>\n",
       "    </tr>\n",
       "    <tr>\n",
       "      <th>3</th>\n",
       "      <td>2069</td>\n",
       "      <td>00002287661</td>\n",
       "      <td>3750000233</td>\n",
       "      <td>7500</td>\n",
       "      <td>60</td>\n",
       "      <td>0.0949</td>\n",
       "      <td>157.4773</td>\n",
       "      <td>1948.6386</td>\n",
       "    </tr>\n",
       "    <tr>\n",
       "      <th>4</th>\n",
       "      <td>2073</td>\n",
       "      <td>00001428711</td>\n",
       "      <td>3750000227</td>\n",
       "      <td>4555</td>\n",
       "      <td>36</td>\n",
       "      <td>0.0949</td>\n",
       "      <td>145.8888</td>\n",
       "      <td>696.9966</td>\n",
       "    </tr>\n",
       "  </tbody>\n",
       "</table>\n",
       "</div>"
      ],
      "text/plain": [
       "  AppId  CustomerNum ContractNum  ContractAmt  Term    APR  CalcPayment  \\\n",
       "0  2027      1453250  3750000223        13000    60 0.0949     272.9607   \n",
       "1  2041  00000458159  3750000215         5000    60 0.0949     104.9849   \n",
       "2  2046  00001118347  3750000219        12000    60 0.0949     251.9637   \n",
       "3  2069  00002287661  3750000233         7500    60 0.0949     157.4773   \n",
       "4  2073  00001428711  3750000227         4555    36 0.0949     145.8888   \n",
       "\n",
       "   Interest  \n",
       "0 3377.6403  \n",
       "1 1299.0924  \n",
       "2 3117.8218  \n",
       "3 1948.6386  \n",
       "4  696.9966  "
      ]
     },
     "execution_count": 37,
     "metadata": {},
     "output_type": "execute_result"
    }
   ],
   "source": [
    "ploanPort['Interest'] = (ploanPort['CalcPayment']*ploanPort['Term']) - ploanPort['ContractAmt']\n",
    "ploanPort.head()"
   ]
  },
  {
   "cell_type": "markdown",
   "metadata": {},
   "source": [
    "# Build out the 2nd dataframe of loan details (revenue and costs)"
   ]
  },
  {
   "cell_type": "code",
   "execution_count": 38,
   "metadata": {
    "ExecuteTime": {
     "end_time": "2021-10-13T15:53:11.584905Z",
     "start_time": "2021-10-13T15:53:11.563904Z"
    }
   },
   "outputs": [
    {
     "data": {
      "text/html": [
       "<div>\n",
       "<style scoped>\n",
       "    .dataframe tbody tr th:only-of-type {\n",
       "        vertical-align: middle;\n",
       "    }\n",
       "\n",
       "    .dataframe tbody tr th {\n",
       "        vertical-align: top;\n",
       "    }\n",
       "\n",
       "    .dataframe thead th {\n",
       "        text-align: right;\n",
       "    }\n",
       "</style>\n",
       "<table border=\"1\" class=\"dataframe\">\n",
       "  <thead>\n",
       "    <tr style=\"text-align: right;\">\n",
       "      <th></th>\n",
       "      <th>AppId</th>\n",
       "      <th>CustomerNum</th>\n",
       "    </tr>\n",
       "  </thead>\n",
       "  <tbody>\n",
       "    <tr>\n",
       "      <th>0</th>\n",
       "      <td>2027</td>\n",
       "      <td>1453250</td>\n",
       "    </tr>\n",
       "    <tr>\n",
       "      <th>1</th>\n",
       "      <td>2041</td>\n",
       "      <td>00000458159</td>\n",
       "    </tr>\n",
       "    <tr>\n",
       "      <th>2</th>\n",
       "      <td>2046</td>\n",
       "      <td>00001118347</td>\n",
       "    </tr>\n",
       "    <tr>\n",
       "      <th>3</th>\n",
       "      <td>2069</td>\n",
       "      <td>00002287661</td>\n",
       "    </tr>\n",
       "    <tr>\n",
       "      <th>4</th>\n",
       "      <td>2073</td>\n",
       "      <td>00001428711</td>\n",
       "    </tr>\n",
       "  </tbody>\n",
       "</table>\n",
       "</div>"
      ],
      "text/plain": [
       "  AppId  CustomerNum\n",
       "0  2027      1453250\n",
       "1  2041  00000458159\n",
       "2  2046  00001118347\n",
       "3  2069  00002287661\n",
       "4  2073  00001428711"
      ]
     },
     "execution_count": 38,
     "metadata": {},
     "output_type": "execute_result"
    }
   ],
   "source": [
    "# drop AppID\n",
    "df = ploanPort[['AppId', 'CustomerNum']].copy()\n",
    "df['AppId'] = df['AppId'].astype('str')\n",
    "df.head()\n"
   ]
  },
  {
   "cell_type": "code",
   "execution_count": 40,
   "metadata": {
    "ExecuteTime": {
     "end_time": "2021-10-13T15:53:28.915965Z",
     "start_time": "2021-10-13T15:53:28.899951Z"
    }
   },
   "outputs": [
    {
     "data": {
      "text/html": [
       "<div>\n",
       "<style scoped>\n",
       "    .dataframe tbody tr th:only-of-type {\n",
       "        vertical-align: middle;\n",
       "    }\n",
       "\n",
       "    .dataframe tbody tr th {\n",
       "        vertical-align: top;\n",
       "    }\n",
       "\n",
       "    .dataframe thead th {\n",
       "        text-align: right;\n",
       "    }\n",
       "</style>\n",
       "<table border=\"1\" class=\"dataframe\">\n",
       "  <thead>\n",
       "    <tr style=\"text-align: right;\">\n",
       "      <th></th>\n",
       "      <th>ContractNum</th>\n",
       "      <th>ContractAmt</th>\n",
       "      <th>Term</th>\n",
       "      <th>APR</th>\n",
       "      <th>CalcPayment</th>\n",
       "      <th>Interest</th>\n",
       "    </tr>\n",
       "  </thead>\n",
       "  <tbody>\n",
       "    <tr>\n",
       "      <th>0</th>\n",
       "      <td>3750000223</td>\n",
       "      <td>13000</td>\n",
       "      <td>60</td>\n",
       "      <td>0.0949</td>\n",
       "      <td>272.9607</td>\n",
       "      <td>3377.6403</td>\n",
       "    </tr>\n",
       "    <tr>\n",
       "      <th>1</th>\n",
       "      <td>3750000215</td>\n",
       "      <td>5000</td>\n",
       "      <td>60</td>\n",
       "      <td>0.0949</td>\n",
       "      <td>104.9849</td>\n",
       "      <td>1299.0924</td>\n",
       "    </tr>\n",
       "    <tr>\n",
       "      <th>2</th>\n",
       "      <td>3750000219</td>\n",
       "      <td>12000</td>\n",
       "      <td>60</td>\n",
       "      <td>0.0949</td>\n",
       "      <td>251.9637</td>\n",
       "      <td>3117.8218</td>\n",
       "    </tr>\n",
       "    <tr>\n",
       "      <th>3</th>\n",
       "      <td>3750000233</td>\n",
       "      <td>7500</td>\n",
       "      <td>60</td>\n",
       "      <td>0.0949</td>\n",
       "      <td>157.4773</td>\n",
       "      <td>1948.6386</td>\n",
       "    </tr>\n",
       "    <tr>\n",
       "      <th>4</th>\n",
       "      <td>3750000227</td>\n",
       "      <td>4555</td>\n",
       "      <td>36</td>\n",
       "      <td>0.0949</td>\n",
       "      <td>145.8888</td>\n",
       "      <td>696.9966</td>\n",
       "    </tr>\n",
       "  </tbody>\n",
       "</table>\n",
       "</div>"
      ],
      "text/plain": [
       "  ContractNum  ContractAmt  Term    APR  CalcPayment  Interest\n",
       "0  3750000223        13000    60 0.0949     272.9607 3377.6403\n",
       "1  3750000215         5000    60 0.0949     104.9849 1299.0924\n",
       "2  3750000219        12000    60 0.0949     251.9637 3117.8218\n",
       "3  3750000233         7500    60 0.0949     157.4773 1948.6386\n",
       "4  3750000227         4555    36 0.0949     145.8888  696.9966"
      ]
     },
     "execution_count": 40,
     "metadata": {},
     "output_type": "execute_result"
    }
   ],
   "source": [
    "ploanPort = ploanPort.drop(['AppId', 'CustomerNum'], axis = 1)\n",
    "ploanPort.head()"
   ]
  },
  {
   "cell_type": "code",
   "execution_count": 41,
   "metadata": {
    "ExecuteTime": {
     "end_time": "2021-10-13T15:53:32.932806Z",
     "start_time": "2021-10-13T15:53:32.924792Z"
    }
   },
   "outputs": [
    {
     "data": {
      "text/plain": [
       "5222"
      ]
     },
     "execution_count": 41,
     "metadata": {},
     "output_type": "execute_result"
    }
   ],
   "source": [
    "numLoans = len(ploanPort)\n",
    "numLoans"
   ]
  },
  {
   "cell_type": "code",
   "execution_count": 42,
   "metadata": {
    "ExecuteTime": {
     "end_time": "2021-10-13T15:56:41.368858Z",
     "start_time": "2021-10-13T15:53:36.531650Z"
    },
    "scrolled": true
   },
   "outputs": [],
   "source": [
    "# key parameters\n",
    "numLoans = len(ploanPort)\n",
    "ln = 0\n",
    "\n",
    "while ln < numLoans:\n",
    "\n",
    "    ########################  MODEL INPUTS FROM THE CSV\n",
    "    monthly = ploanPort['CalcPayment'][ln]\n",
    "    orig = ploanPort['ContractAmt'][ln]\n",
    "    term = ploanPort['Term'][ln].astype(int)\n",
    "    rate = ploanPort['APR'][ln]\n",
    "\n",
    "\n",
    "    ######################  COST PARAMS TO BE PROVIDED BY PRODUCT\n",
    "    # inputs for loan costs\n",
    "    costOfFunds = .025\n",
    "    provisions = .01\n",
    "    servicingCosts = 13.34\n",
    "    nplRate = .0025\n",
    "    originationCosts = 54.72\n",
    "    earlyPayoff = .0043\n",
    "    docSupport = 19.56\n",
    "    discountRate = .10\n",
    "\n",
    "    #############    BEGIN THE DATAFRAME BUILD\n",
    "    # populate period for first loan\n",
    "    periods = np.array(range(0,term + 1))\n",
    "\n",
    "    # create the empty data frame\n",
    "    dict = {'Period': periods}\n",
    "\n",
    "    loanDf = pd.DataFrame(dict)\n",
    "\n",
    "    # fill in the monthly\n",
    "    loanDf['MonthlyPayment'] = monthly\n",
    "\n",
    "    # zero out monthly payment for first month\n",
    "    loanDf.loc[0, 'MonthlyPayment'] = 0\n",
    "\n",
    "    # get the beginning balance\n",
    "    loanDf['BeginBal'] = orig\n",
    "\n",
    "    # now iterate through to generate outstanding balance for each subsequent term\n",
    "    loanDf.loc[0, 'OutBal'] = loanDf.loc[0, 'BeginBal'] - loanDf.loc[0, 'MonthlyPayment']\n",
    "\n",
    "    for i in range(1, len(loanDf)):\n",
    "        loanDf.loc[i, 'BeginBal'] = loanDf.loc[i - 1, 'OutBal']\n",
    "        loanDf.loc[i, 'OutBal'] = loanDf.loc[i, 'BeginBal'] * (1 + rate/12) - loanDf.loc[i, 'MonthlyPayment']\n",
    "\n",
    "    # then drop row zero will only need to calculate for terms 1 to n (end)\n",
    "    loanDf = loanDf.drop(0)\n",
    "\n",
    "    # create interest income\n",
    "    loanDf['IntIncome'] = (loanDf['BeginBal']*(1+rate/12))-loanDf['BeginBal']\n",
    "\n",
    "\n",
    "    # create all of the cost columns from the inputs\n",
    "    # append them all to a list\n",
    "    loanDf['CostOfFunds'] = loanDf['OutBal'] * costOfFunds/12\n",
    "    loanDf['Provisions'] = loanDf['OutBal'] * provisions/12\n",
    "    loanDf['ServicingCosts'] = loanDf['Period'].apply(lambda x: servicingCosts if x < term else 0)\n",
    "    loanDf['OriginationCosts'] = originationCosts/term\n",
    "    loanDf['DocSupport'] = docSupport/term\n",
    "    loanDf['EarlyPayment'] = loanDf['OutBal'] * earlyPayoff/12\n",
    "\n",
    "\n",
    "    # select the columns to add up for costs\n",
    "    costCols = ['CostOfFunds', 'Provisions', 'ServicingCosts',\n",
    "             'OriginationCosts', 'DocSupport', 'EarlyPayment']\n",
    "\n",
    "    # make a total cost by summing up the cost columns\n",
    "    loanDf['TotalCost'] = loanDf.loc[:,costCols].sum(axis=1)\n",
    "\n",
    "    # calculate undiscounted profit/loss\n",
    "    loanDf['Profit'] = loanDf['IntIncome'] - loanDf['TotalCost']\n",
    "\n",
    "    # calculate NPV for the loan at each term\n",
    "    loanDf['NPV'] = loanDf['Profit']/((1+discountRate/12)**loanDf['Period'])\n",
    "\n",
    "\n",
    "    # roll it all up into a new aggregate dataframe\n",
    "    loanTotal = loanDf.groupby(['MonthlyPayment'],\n",
    "                            as_index=False).agg({'IntIncome': np.sum,\n",
    "                                                 'TotalCost': np.sum,\n",
    "                                                 'Profit': np.sum,\n",
    "                                                 'NPV': np.sum})\n",
    "\n",
    "\n",
    "    # set the columns to append last three: TotalCost, Profit, NPV\n",
    "    cols = loanTotal.columns[2:].values.tolist()\n",
    "\n",
    "    # create the colums in the original dataframe\n",
    "    ploanPort = pd.concat([ploanPort,pd.DataFrame(columns=list(cols))])\n",
    "\n",
    "    # set the columns to append last three: TotalCost, Profit, NPV\n",
    "    cols = loanTotal.columns[2:].values.tolist()\n",
    "\n",
    "    # create the colums in the original dataframe\n",
    "    ploanPort = pd.concat([ploanPort,pd.DataFrame(columns=list(cols))])\n",
    "    ploanPort.head()\n",
    "\n",
    "    # put this in the porfolio DB\n",
    "    j = 1\n",
    "\n",
    "    for i in range(2,5):\n",
    "        ploanPort.iloc[ln,j+5] = loanTotal.iloc[0,i]\n",
    "        j += 1\n",
    "    \n",
    "    # go to the next loan\n",
    "    ln +=1\n",
    "    \n",
    "    "
   ]
  },
  {
   "cell_type": "markdown",
   "metadata": {},
   "source": [
    "# Get the Final Update Worksheet"
   ]
  },
  {
   "cell_type": "code",
   "execution_count": 43,
   "metadata": {
    "ExecuteTime": {
     "end_time": "2021-10-13T15:57:26.782962Z",
     "start_time": "2021-10-13T15:57:26.770960Z"
    }
   },
   "outputs": [
    {
     "data": {
      "text/html": [
       "<div>\n",
       "<style scoped>\n",
       "    .dataframe tbody tr th:only-of-type {\n",
       "        vertical-align: middle;\n",
       "    }\n",
       "\n",
       "    .dataframe tbody tr th {\n",
       "        vertical-align: top;\n",
       "    }\n",
       "\n",
       "    .dataframe thead th {\n",
       "        text-align: right;\n",
       "    }\n",
       "</style>\n",
       "<table border=\"1\" class=\"dataframe\">\n",
       "  <thead>\n",
       "    <tr style=\"text-align: right;\">\n",
       "      <th></th>\n",
       "      <th>ContractNum</th>\n",
       "      <th>ContractAmt</th>\n",
       "      <th>Term</th>\n",
       "      <th>APR</th>\n",
       "      <th>CalcPayment</th>\n",
       "      <th>Interest</th>\n",
       "      <th>TotalCost</th>\n",
       "      <th>Profit</th>\n",
       "      <th>NPV</th>\n",
       "    </tr>\n",
       "  </thead>\n",
       "  <tbody>\n",
       "    <tr>\n",
       "      <th>0</th>\n",
       "      <td>3750000223</td>\n",
       "      <td>13000.0000</td>\n",
       "      <td>60.0000</td>\n",
       "      <td>0.0949</td>\n",
       "      <td>272.9607</td>\n",
       "      <td>3377.6403</td>\n",
       "      <td>2217.5138</td>\n",
       "      <td>1160.1265</td>\n",
       "      <td>1022.7960</td>\n",
       "    </tr>\n",
       "    <tr>\n",
       "      <th>1</th>\n",
       "      <td>3750000215</td>\n",
       "      <td>5000.0000</td>\n",
       "      <td>60.0000</td>\n",
       "      <td>0.0949</td>\n",
       "      <td>104.9849</td>\n",
       "      <td>1299.0924</td>\n",
       "      <td>1382.9453</td>\n",
       "      <td>-83.8529</td>\n",
       "      <td>-23.8545</td>\n",
       "    </tr>\n",
       "    <tr>\n",
       "      <th>2</th>\n",
       "      <td>3750000219</td>\n",
       "      <td>12000.0000</td>\n",
       "      <td>60.0000</td>\n",
       "      <td>0.0949</td>\n",
       "      <td>251.9637</td>\n",
       "      <td>3117.8218</td>\n",
       "      <td>2113.1928</td>\n",
       "      <td>1004.6290</td>\n",
       "      <td>891.9647</td>\n",
       "    </tr>\n",
       "    <tr>\n",
       "      <th>3</th>\n",
       "      <td>3750000233</td>\n",
       "      <td>7500.0000</td>\n",
       "      <td>60.0000</td>\n",
       "      <td>0.0949</td>\n",
       "      <td>157.4773</td>\n",
       "      <td>1948.6386</td>\n",
       "      <td>1643.7480</td>\n",
       "      <td>304.8907</td>\n",
       "      <td>303.2238</td>\n",
       "    </tr>\n",
       "    <tr>\n",
       "      <th>4</th>\n",
       "      <td>3750000227</td>\n",
       "      <td>4555.0000</td>\n",
       "      <td>36.0000</td>\n",
       "      <td>0.0949</td>\n",
       "      <td>145.8888</td>\n",
       "      <td>696.9966</td>\n",
       "      <td>814.9027</td>\n",
       "      <td>-117.9061</td>\n",
       "      <td>-87.0421</td>\n",
       "    </tr>\n",
       "  </tbody>\n",
       "</table>\n",
       "</div>"
      ],
      "text/plain": [
       "  ContractNum  ContractAmt    Term    APR  CalcPayment  Interest TotalCost  \\\n",
       "0  3750000223   13000.0000 60.0000 0.0949     272.9607 3377.6403 2217.5138   \n",
       "1  3750000215    5000.0000 60.0000 0.0949     104.9849 1299.0924 1382.9453   \n",
       "2  3750000219   12000.0000 60.0000 0.0949     251.9637 3117.8218 2113.1928   \n",
       "3  3750000233    7500.0000 60.0000 0.0949     157.4773 1948.6386 1643.7480   \n",
       "4  3750000227    4555.0000 36.0000 0.0949     145.8888  696.9966  814.9027   \n",
       "\n",
       "     Profit       NPV  \n",
       "0 1160.1265 1022.7960  \n",
       "1  -83.8529  -23.8545  \n",
       "2 1004.6290  891.9647  \n",
       "3  304.8907  303.2238  \n",
       "4 -117.9061  -87.0421  "
      ]
     },
     "execution_count": 43,
     "metadata": {},
     "output_type": "execute_result"
    }
   ],
   "source": [
    "ploanPort.head()"
   ]
  },
  {
   "cell_type": "code",
   "execution_count": 44,
   "metadata": {
    "ExecuteTime": {
     "end_time": "2021-10-13T15:57:32.125479Z",
     "start_time": "2021-10-13T15:57:32.109414Z"
    }
   },
   "outputs": [
    {
     "data": {
      "text/html": [
       "<div>\n",
       "<style scoped>\n",
       "    .dataframe tbody tr th:only-of-type {\n",
       "        vertical-align: middle;\n",
       "    }\n",
       "\n",
       "    .dataframe tbody tr th {\n",
       "        vertical-align: top;\n",
       "    }\n",
       "\n",
       "    .dataframe thead th {\n",
       "        text-align: right;\n",
       "    }\n",
       "</style>\n",
       "<table border=\"1\" class=\"dataframe\">\n",
       "  <thead>\n",
       "    <tr style=\"text-align: right;\">\n",
       "      <th></th>\n",
       "      <th>ContractNum</th>\n",
       "      <th>ContractAmt</th>\n",
       "      <th>Term</th>\n",
       "      <th>APR</th>\n",
       "      <th>CalcPayment</th>\n",
       "      <th>Interest</th>\n",
       "      <th>TotalCost</th>\n",
       "      <th>Profit</th>\n",
       "      <th>NPV</th>\n",
       "      <th>AppId</th>\n",
       "      <th>CustomerNum</th>\n",
       "    </tr>\n",
       "  </thead>\n",
       "  <tbody>\n",
       "    <tr>\n",
       "      <th>0</th>\n",
       "      <td>3750000223</td>\n",
       "      <td>13000.0000</td>\n",
       "      <td>60.0000</td>\n",
       "      <td>0.0949</td>\n",
       "      <td>272.9607</td>\n",
       "      <td>3377.6403</td>\n",
       "      <td>2217.5138</td>\n",
       "      <td>1160.1265</td>\n",
       "      <td>1022.7960</td>\n",
       "      <td>2027</td>\n",
       "      <td>1453250</td>\n",
       "    </tr>\n",
       "    <tr>\n",
       "      <th>1</th>\n",
       "      <td>3750000215</td>\n",
       "      <td>5000.0000</td>\n",
       "      <td>60.0000</td>\n",
       "      <td>0.0949</td>\n",
       "      <td>104.9849</td>\n",
       "      <td>1299.0924</td>\n",
       "      <td>1382.9453</td>\n",
       "      <td>-83.8529</td>\n",
       "      <td>-23.8545</td>\n",
       "      <td>2041</td>\n",
       "      <td>00000458159</td>\n",
       "    </tr>\n",
       "    <tr>\n",
       "      <th>2</th>\n",
       "      <td>3750000219</td>\n",
       "      <td>12000.0000</td>\n",
       "      <td>60.0000</td>\n",
       "      <td>0.0949</td>\n",
       "      <td>251.9637</td>\n",
       "      <td>3117.8218</td>\n",
       "      <td>2113.1928</td>\n",
       "      <td>1004.6290</td>\n",
       "      <td>891.9647</td>\n",
       "      <td>2046</td>\n",
       "      <td>00001118347</td>\n",
       "    </tr>\n",
       "    <tr>\n",
       "      <th>3</th>\n",
       "      <td>3750000233</td>\n",
       "      <td>7500.0000</td>\n",
       "      <td>60.0000</td>\n",
       "      <td>0.0949</td>\n",
       "      <td>157.4773</td>\n",
       "      <td>1948.6386</td>\n",
       "      <td>1643.7480</td>\n",
       "      <td>304.8907</td>\n",
       "      <td>303.2238</td>\n",
       "      <td>2069</td>\n",
       "      <td>00002287661</td>\n",
       "    </tr>\n",
       "    <tr>\n",
       "      <th>4</th>\n",
       "      <td>3750000227</td>\n",
       "      <td>4555.0000</td>\n",
       "      <td>36.0000</td>\n",
       "      <td>0.0949</td>\n",
       "      <td>145.8888</td>\n",
       "      <td>696.9966</td>\n",
       "      <td>814.9027</td>\n",
       "      <td>-117.9061</td>\n",
       "      <td>-87.0421</td>\n",
       "      <td>2073</td>\n",
       "      <td>00001428711</td>\n",
       "    </tr>\n",
       "  </tbody>\n",
       "</table>\n",
       "</div>"
      ],
      "text/plain": [
       "  ContractNum  ContractAmt    Term    APR  CalcPayment  Interest TotalCost  \\\n",
       "0  3750000223   13000.0000 60.0000 0.0949     272.9607 3377.6403 2217.5138   \n",
       "1  3750000215    5000.0000 60.0000 0.0949     104.9849 1299.0924 1382.9453   \n",
       "2  3750000219   12000.0000 60.0000 0.0949     251.9637 3117.8218 2113.1928   \n",
       "3  3750000233    7500.0000 60.0000 0.0949     157.4773 1948.6386 1643.7480   \n",
       "4  3750000227    4555.0000 36.0000 0.0949     145.8888  696.9966  814.9027   \n",
       "\n",
       "     Profit       NPV AppId  CustomerNum  \n",
       "0 1160.1265 1022.7960  2027      1453250  \n",
       "1  -83.8529  -23.8545  2041  00000458159  \n",
       "2 1004.6290  891.9647  2046  00001118347  \n",
       "3  304.8907  303.2238  2069  00002287661  \n",
       "4 -117.9061  -87.0421  2073  00001428711  "
      ]
     },
     "execution_count": 44,
     "metadata": {},
     "output_type": "execute_result"
    }
   ],
   "source": [
    "# bind app id\n",
    "ploanPort['AppId'] = df['AppId'].copy()\n",
    "ploanPort['CustomerNum'] = df['CustomerNum'].copy()\n",
    "ploanPort.head()"
   ]
  },
  {
   "cell_type": "code",
   "execution_count": 47,
   "metadata": {
    "ExecuteTime": {
     "end_time": "2021-10-13T15:58:08.571705Z",
     "start_time": "2021-10-13T15:58:08.551706Z"
    }
   },
   "outputs": [
    {
     "data": {
      "text/html": [
       "<div>\n",
       "<style scoped>\n",
       "    .dataframe tbody tr th:only-of-type {\n",
       "        vertical-align: middle;\n",
       "    }\n",
       "\n",
       "    .dataframe tbody tr th {\n",
       "        vertical-align: top;\n",
       "    }\n",
       "\n",
       "    .dataframe thead th {\n",
       "        text-align: right;\n",
       "    }\n",
       "</style>\n",
       "<table border=\"1\" class=\"dataframe\">\n",
       "  <thead>\n",
       "    <tr style=\"text-align: right;\">\n",
       "      <th></th>\n",
       "      <th>AppId</th>\n",
       "      <th>CustomerNum</th>\n",
       "      <th>ContractNum</th>\n",
       "      <th>ContractAmt</th>\n",
       "      <th>Term</th>\n",
       "      <th>APR</th>\n",
       "      <th>CalcPayment</th>\n",
       "      <th>Interest</th>\n",
       "      <th>TotalCost</th>\n",
       "      <th>Profit</th>\n",
       "      <th>NPV</th>\n",
       "    </tr>\n",
       "  </thead>\n",
       "  <tbody>\n",
       "    <tr>\n",
       "      <th>0</th>\n",
       "      <td>2027</td>\n",
       "      <td>1453250</td>\n",
       "      <td>3750000223</td>\n",
       "      <td>13000.0000</td>\n",
       "      <td>60.0000</td>\n",
       "      <td>0.0949</td>\n",
       "      <td>272.9607</td>\n",
       "      <td>3377.6403</td>\n",
       "      <td>2217.5138</td>\n",
       "      <td>1160.1265</td>\n",
       "      <td>1022.7960</td>\n",
       "    </tr>\n",
       "    <tr>\n",
       "      <th>1</th>\n",
       "      <td>2041</td>\n",
       "      <td>00000458159</td>\n",
       "      <td>3750000215</td>\n",
       "      <td>5000.0000</td>\n",
       "      <td>60.0000</td>\n",
       "      <td>0.0949</td>\n",
       "      <td>104.9849</td>\n",
       "      <td>1299.0924</td>\n",
       "      <td>1382.9453</td>\n",
       "      <td>-83.8529</td>\n",
       "      <td>-23.8545</td>\n",
       "    </tr>\n",
       "    <tr>\n",
       "      <th>2</th>\n",
       "      <td>2046</td>\n",
       "      <td>00001118347</td>\n",
       "      <td>3750000219</td>\n",
       "      <td>12000.0000</td>\n",
       "      <td>60.0000</td>\n",
       "      <td>0.0949</td>\n",
       "      <td>251.9637</td>\n",
       "      <td>3117.8218</td>\n",
       "      <td>2113.1928</td>\n",
       "      <td>1004.6290</td>\n",
       "      <td>891.9647</td>\n",
       "    </tr>\n",
       "    <tr>\n",
       "      <th>3</th>\n",
       "      <td>2069</td>\n",
       "      <td>00002287661</td>\n",
       "      <td>3750000233</td>\n",
       "      <td>7500.0000</td>\n",
       "      <td>60.0000</td>\n",
       "      <td>0.0949</td>\n",
       "      <td>157.4773</td>\n",
       "      <td>1948.6386</td>\n",
       "      <td>1643.7480</td>\n",
       "      <td>304.8907</td>\n",
       "      <td>303.2238</td>\n",
       "    </tr>\n",
       "    <tr>\n",
       "      <th>4</th>\n",
       "      <td>2073</td>\n",
       "      <td>00001428711</td>\n",
       "      <td>3750000227</td>\n",
       "      <td>4555.0000</td>\n",
       "      <td>36.0000</td>\n",
       "      <td>0.0949</td>\n",
       "      <td>145.8888</td>\n",
       "      <td>696.9966</td>\n",
       "      <td>814.9027</td>\n",
       "      <td>-117.9061</td>\n",
       "      <td>-87.0421</td>\n",
       "    </tr>\n",
       "  </tbody>\n",
       "</table>\n",
       "</div>"
      ],
      "text/plain": [
       "  AppId  CustomerNum ContractNum  ContractAmt    Term    APR  CalcPayment  \\\n",
       "0  2027      1453250  3750000223   13000.0000 60.0000 0.0949     272.9607   \n",
       "1  2041  00000458159  3750000215    5000.0000 60.0000 0.0949     104.9849   \n",
       "2  2046  00001118347  3750000219   12000.0000 60.0000 0.0949     251.9637   \n",
       "3  2069  00002287661  3750000233    7500.0000 60.0000 0.0949     157.4773   \n",
       "4  2073  00001428711  3750000227    4555.0000 36.0000 0.0949     145.8888   \n",
       "\n",
       "   Interest TotalCost    Profit       NPV  \n",
       "0 3377.6403 2217.5138 1160.1265 1022.7960  \n",
       "1 1299.0924 1382.9453  -83.8529  -23.8545  \n",
       "2 3117.8218 2113.1928 1004.6290  891.9647  \n",
       "3 1948.6386 1643.7480  304.8907  303.2238  \n",
       "4  696.9966  814.9027 -117.9061  -87.0421  "
      ]
     },
     "execution_count": 47,
     "metadata": {},
     "output_type": "execute_result"
    }
   ],
   "source": [
    "finalPort = ploanPort[['AppId', 'CustomerNum', 'ContractNum', 'ContractAmt','Term', 'APR', 'CalcPayment', 'Interest',\n",
    "       'TotalCost', 'Profit', 'NPV']]\n",
    "finalPort.head()"
   ]
  },
  {
   "cell_type": "code",
   "execution_count": 48,
   "metadata": {
    "ExecuteTime": {
     "end_time": "2021-10-13T15:58:12.506090Z",
     "start_time": "2021-10-13T15:58:12.502101Z"
    }
   },
   "outputs": [
    {
     "data": {
      "text/plain": [
       "(5222, 11)"
      ]
     },
     "execution_count": 48,
     "metadata": {},
     "output_type": "execute_result"
    }
   ],
   "source": [
    "finalPort.shape"
   ]
  },
  {
   "cell_type": "code",
   "execution_count": 49,
   "metadata": {
    "ExecuteTime": {
     "end_time": "2021-10-13T15:58:16.876349Z",
     "start_time": "2021-10-13T15:58:16.862349Z"
    }
   },
   "outputs": [
    {
     "data": {
      "text/html": [
       "<div>\n",
       "<style scoped>\n",
       "    .dataframe tbody tr th:only-of-type {\n",
       "        vertical-align: middle;\n",
       "    }\n",
       "\n",
       "    .dataframe tbody tr th {\n",
       "        vertical-align: top;\n",
       "    }\n",
       "\n",
       "    .dataframe thead th {\n",
       "        text-align: right;\n",
       "    }\n",
       "</style>\n",
       "<table border=\"1\" class=\"dataframe\">\n",
       "  <thead>\n",
       "    <tr style=\"text-align: right;\">\n",
       "      <th></th>\n",
       "      <th>AppId</th>\n",
       "      <th>CustomerNum</th>\n",
       "      <th>AccountNum</th>\n",
       "      <th>ContractAmt</th>\n",
       "      <th>Term</th>\n",
       "      <th>APR</th>\n",
       "      <th>CalcPayment</th>\n",
       "      <th>Interest</th>\n",
       "      <th>TotalCost</th>\n",
       "      <th>Profit</th>\n",
       "      <th>NPV</th>\n",
       "    </tr>\n",
       "  </thead>\n",
       "  <tbody>\n",
       "    <tr>\n",
       "      <th>0</th>\n",
       "      <td>2027</td>\n",
       "      <td>1453250</td>\n",
       "      <td>3750000223</td>\n",
       "      <td>13000.0000</td>\n",
       "      <td>60.0000</td>\n",
       "      <td>0.0949</td>\n",
       "      <td>272.9607</td>\n",
       "      <td>3377.6403</td>\n",
       "      <td>2217.5138</td>\n",
       "      <td>1160.1265</td>\n",
       "      <td>1022.7960</td>\n",
       "    </tr>\n",
       "    <tr>\n",
       "      <th>1</th>\n",
       "      <td>2041</td>\n",
       "      <td>00000458159</td>\n",
       "      <td>3750000215</td>\n",
       "      <td>5000.0000</td>\n",
       "      <td>60.0000</td>\n",
       "      <td>0.0949</td>\n",
       "      <td>104.9849</td>\n",
       "      <td>1299.0924</td>\n",
       "      <td>1382.9453</td>\n",
       "      <td>-83.8529</td>\n",
       "      <td>-23.8545</td>\n",
       "    </tr>\n",
       "    <tr>\n",
       "      <th>2</th>\n",
       "      <td>2046</td>\n",
       "      <td>00001118347</td>\n",
       "      <td>3750000219</td>\n",
       "      <td>12000.0000</td>\n",
       "      <td>60.0000</td>\n",
       "      <td>0.0949</td>\n",
       "      <td>251.9637</td>\n",
       "      <td>3117.8218</td>\n",
       "      <td>2113.1928</td>\n",
       "      <td>1004.6290</td>\n",
       "      <td>891.9647</td>\n",
       "    </tr>\n",
       "    <tr>\n",
       "      <th>3</th>\n",
       "      <td>2069</td>\n",
       "      <td>00002287661</td>\n",
       "      <td>3750000233</td>\n",
       "      <td>7500.0000</td>\n",
       "      <td>60.0000</td>\n",
       "      <td>0.0949</td>\n",
       "      <td>157.4773</td>\n",
       "      <td>1948.6386</td>\n",
       "      <td>1643.7480</td>\n",
       "      <td>304.8907</td>\n",
       "      <td>303.2238</td>\n",
       "    </tr>\n",
       "    <tr>\n",
       "      <th>4</th>\n",
       "      <td>2073</td>\n",
       "      <td>00001428711</td>\n",
       "      <td>3750000227</td>\n",
       "      <td>4555.0000</td>\n",
       "      <td>36.0000</td>\n",
       "      <td>0.0949</td>\n",
       "      <td>145.8888</td>\n",
       "      <td>696.9966</td>\n",
       "      <td>814.9027</td>\n",
       "      <td>-117.9061</td>\n",
       "      <td>-87.0421</td>\n",
       "    </tr>\n",
       "  </tbody>\n",
       "</table>\n",
       "</div>"
      ],
      "text/plain": [
       "  AppId  CustomerNum  AccountNum  ContractAmt    Term    APR  CalcPayment  \\\n",
       "0  2027      1453250  3750000223   13000.0000 60.0000 0.0949     272.9607   \n",
       "1  2041  00000458159  3750000215    5000.0000 60.0000 0.0949     104.9849   \n",
       "2  2046  00001118347  3750000219   12000.0000 60.0000 0.0949     251.9637   \n",
       "3  2069  00002287661  3750000233    7500.0000 60.0000 0.0949     157.4773   \n",
       "4  2073  00001428711  3750000227    4555.0000 36.0000 0.0949     145.8888   \n",
       "\n",
       "   Interest TotalCost    Profit       NPV  \n",
       "0 3377.6403 2217.5138 1160.1265 1022.7960  \n",
       "1 1299.0924 1382.9453  -83.8529  -23.8545  \n",
       "2 3117.8218 2113.1928 1004.6290  891.9647  \n",
       "3 1948.6386 1643.7480  304.8907  303.2238  \n",
       "4  696.9966  814.9027 -117.9061  -87.0421  "
      ]
     },
     "execution_count": 49,
     "metadata": {},
     "output_type": "execute_result"
    }
   ],
   "source": [
    "# change contractNum to AccountNum\n",
    "newName = {'ContractNum': 'AccountNum'}\n",
    "finalPort.rename(columns=newName, inplace=True)\n",
    "finalPort.head()"
   ]
  },
  {
   "cell_type": "code",
   "execution_count": 50,
   "metadata": {
    "ExecuteTime": {
     "end_time": "2021-10-13T15:58:24.644413Z",
     "start_time": "2021-10-13T15:58:24.558375Z"
    }
   },
   "outputs": [],
   "source": [
    "# write to csv\n",
    "finalPort.to_csv('ploanPort_2021Q1Booked.csv', index=False)"
   ]
  },
  {
   "cell_type": "code",
   "execution_count": 52,
   "metadata": {
    "ExecuteTime": {
     "end_time": "2021-10-13T19:02:20.359597Z",
     "start_time": "2021-10-13T19:02:20.340584Z"
    }
   },
   "outputs": [
    {
     "data": {
      "text/plain": [
       "'C:\\\\Users\\\\bbutler\\\\BButlerStuff\\\\PLoan\\\\PortSep2021'"
      ]
     },
     "execution_count": 52,
     "metadata": {},
     "output_type": "execute_result"
    }
   ],
   "source": [
    "os.getcwd()"
   ]
  },
  {
   "cell_type": "code",
   "execution_count": null,
   "metadata": {},
   "outputs": [],
   "source": []
  }
 ],
 "metadata": {
  "kernelspec": {
   "display_name": "Python 3",
   "language": "python",
   "name": "python3"
  },
  "language_info": {
   "codemirror_mode": {
    "name": "ipython",
    "version": 3
   },
   "file_extension": ".py",
   "mimetype": "text/x-python",
   "name": "python",
   "nbconvert_exporter": "python",
   "pygments_lexer": "ipython3",
   "version": "3.7.7"
  },
  "toc": {
   "base_numbering": 1,
   "nav_menu": {},
   "number_sections": true,
   "sideBar": true,
   "skip_h1_title": false,
   "title_cell": "Table of Contents",
   "title_sidebar": "Contents",
   "toc_cell": false,
   "toc_position": {},
   "toc_section_display": true,
   "toc_window_display": false
  }
 },
 "nbformat": 4,
 "nbformat_minor": 4
}
