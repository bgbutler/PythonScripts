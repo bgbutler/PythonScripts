{
 "cells": [
  {
   "cell_type": "code",
   "execution_count": null,
   "metadata": {
    "collapsed": true
   },
   "outputs": [],
   "source": [
    "# standard libraries\n",
    "import pandas as pd\n",
    "import numpy as np\n",
    "from pandas import Series, DataFrame\n",
    "import os\n",
    "import re\n",
    "\n",
    "# plotting libraries\n",
    "import matplotlib as mpl\n",
    "import matplotlib.pyplot as plt\n",
    "import seaborn as sns\n",
    "%matplotlib inline\n",
    "\n",
    "# get the datetime library for date & time calcs\n",
    "from datetime import datetime, timedelta\n",
    "\n",
    "# for handling excel\n",
    "from openpyxl import Workbook\n",
    "from openpyxl import load_workbook\n",
    "\n",
    "# lifelines for survival analysis\n",
    "import lifelines as lf"
   ]
  },
  {
   "cell_type": "code",
   "execution_count": null,
   "metadata": {
    "collapsed": true
   },
   "outputs": [],
   "source": [
    "os.chdir(os.path.normpath('C:/Users/n846490/Documents/Python Scripts/SurvivalAnalysis/ChurnModelFiles/'))"
   ]
  },
  {
   "cell_type": "code",
   "execution_count": null,
   "metadata": {
    "collapsed": true
   },
   "outputs": [],
   "source": [
    "# get the csat table\n",
    "\n",
    "url = os.path.normpath('C:/Users/n846490/Documents/Python Scripts/SurvivalAnalysis/ChurnModelFiles/csatAttritionForSurvival.csv')\n",
    "csat = pd.read_csv(url, index_col=0)"
   ]
  },
  {
   "cell_type": "code",
   "execution_count": null,
   "metadata": {
    "collapsed": false
   },
   "outputs": [],
   "source": [
    "csat.info()"
   ]
  },
  {
   "cell_type": "code",
   "execution_count": null,
   "metadata": {
    "collapsed": false
   },
   "outputs": [],
   "source": [
    "# convert objects to dates\n",
    "# need to convert the SurveyDate, Datecsat and End_Date\n",
    "\n",
    "# convert the End_Dates that were just created\n",
    "csat['End_Date'] = pd.to_datetime(csat['End_Date'], format='%Y-%m-%d')\n",
    "\n",
    "# convert the SurveyDate that were just created\n",
    "csat['SurveyDate'] = pd.to_datetime(csat['SurveyDate'], format='%Y-%m-%d')\n",
    "\n",
    "# convert the Datecsat that were just created\n",
    "csat['DateLeft'] = pd.to_datetime(csat['DateLeft'], format='%Y-%m-%d')"
   ]
  },
  {
   "cell_type": "code",
   "execution_count": null,
   "metadata": {
    "collapsed": false
   },
   "outputs": [],
   "source": [
    "# calculate days from survey\n",
    "\n",
    "# calculate the time from survey to attrition\n",
    "\n",
    "csat['SurveyTenure'] = csat.iloc[:,9] - csat.iloc[:,1]\n",
    "\n",
    "# this works to convert days into years using the hours first\n",
    "csat['DaysToLeave'] = (csat.iloc[:,12].astype('timedelta64[h]'))/(24)\n",
    "\n",
    "csat.head()"
   ]
  },
  {
   "cell_type": "code",
   "execution_count": null,
   "metadata": {
    "collapsed": false
   },
   "outputs": [],
   "source": [
    "# get a slice of people that left the bank\n",
    "\n",
    "left = csat[(csat['LeftBank'] == 1)].copy()\n",
    "\n",
    "left.head()"
   ]
  },
  {
   "cell_type": "code",
   "execution_count": null,
   "metadata": {
    "collapsed": false
   },
   "outputs": [],
   "source": [
    "left.info()"
   ]
  },
  {
   "cell_type": "code",
   "execution_count": null,
   "metadata": {
    "collapsed": false
   },
   "outputs": [],
   "source": [
    "# clean out the negative values\n",
    "\n",
    "cleanLeft = left[(left['DaysToLeave'] > 0)]\n",
    "                 \n",
    "cleanLeft.head()"
   ]
  },
  {
   "cell_type": "code",
   "execution_count": null,
   "metadata": {
    "collapsed": false
   },
   "outputs": [],
   "source": [
    "# melt the dataframe for plotting\n",
    "# m = pd.melt(df, id_vars=['Year'], var_name='Name')\n",
    "\n",
    "meltLeft = pd.melt(cleanLeft, id_vars = ['CustID', 'SurveyDate', 'MonthYear', 'DateLeft', 'LeftBank', 'End_Date', 'SurveyTenure', 'DaysToLeave'],var_name = 'Satisfaction',\n",
    "                   )\n",
    "meltLeft.head()"
   ]
  },
  {
   "cell_type": "code",
   "execution_count": null,
   "metadata": {
    "collapsed": false
   },
   "outputs": [],
   "source": [
    "# sort by customer id to check the melting\n",
    "\n",
    "meltLeft.sort_values(by='CustID', inplace = True)\n",
    "\n",
    "meltLeft = meltLeft.reset_index(drop = True)\n",
    "\n",
    "meltLeft.head(20)"
   ]
  },
  {
   "cell_type": "code",
   "execution_count": null,
   "metadata": {
    "collapsed": false
   },
   "outputs": [],
   "source": [
    "# multiply the value y the days to leave for the column\n",
    "\n",
    "meltLeft['SatisfactionDays'] = meltLeft['value'] * meltLeft['DaysToLeave']"
   ]
  },
  {
   "cell_type": "code",
   "execution_count": null,
   "metadata": {
    "collapsed": false
   },
   "outputs": [],
   "source": [
    "meltLeft.head(20)"
   ]
  },
  {
   "cell_type": "code",
   "execution_count": null,
   "metadata": {
    "collapsed": false
   },
   "outputs": [],
   "source": [
    "meltLeft.drop('value', axis = 1, inplace = True)\n",
    "\n",
    "meltLeft.head()"
   ]
  },
  {
   "cell_type": "code",
   "execution_count": null,
   "metadata": {
    "collapsed": false
   },
   "outputs": [],
   "source": [
    "# drop a few unnecessary columns\n",
    "\n",
    "meltRed = meltLeft.iloc[:,[0,1,2,3,5,7,8,9]].copy()\n",
    "\n",
    "meltRed.head()"
   ]
  },
  {
   "cell_type": "code",
   "execution_count": null,
   "metadata": {
    "collapsed": false
   },
   "outputs": [],
   "source": [
    "# drop the satisfaction days = 0 and Unknown Satisfaction\n",
    "\n",
    "cleanMelt = meltRed[(meltRed['SatisfactionDays'] != 0) & (meltRed['Satisfaction'] != 'Unknown')].copy()\n",
    "cleanMelt.head(20)"
   ]
  },
  {
   "cell_type": "code",
   "execution_count": null,
   "metadata": {
    "collapsed": false
   },
   "outputs": [],
   "source": [
    "# find out how many negative days\n",
    "# there are none\n",
    "# df[(df['A']>0)].count()\n",
    "\n",
    "print(cleanMelt[cleanMelt.SatisfactionDays < 0].shape[0])"
   ]
  },
  {
   "cell_type": "code",
   "execution_count": null,
   "metadata": {
    "collapsed": false
   },
   "outputs": [],
   "source": [
    "# convert satisfacion to an ordered categorical\n",
    "# make an ordered factor\n",
    "# raw_cat = pd.Categorical([\"a\",\"b\",\"c\",\"a\"], categories=[\"b\",\"c\",\"d\"],ordered=True)\n",
    "\n",
    "labels = ['Highly Satisfied', 'Satisfied', 'Neutral', 'Dissatisfied', 'Highly Dissatisfied']\n",
    "\n",
    "cleanMelt['Satisfaction'] = pd.Categorical(cleanMelt['Satisfaction'], categories = labels, ordered=True)\n",
    "\n",
    "# leave out the unknown\n",
    "# cleanMelt.drop(['Satisfaction'] == 'Unknown', axis = 0, inplace = True)\n",
    "\n",
    "# dtest.numdept.cat.remove_unused_categories()\n",
    "# this removes the unused category\n",
    "\n",
    "# cleanMelt.Satisfaction.cat.remove_unused_categories()\n"
   ]
  },
  {
   "cell_type": "code",
   "execution_count": null,
   "metadata": {
    "collapsed": false
   },
   "outputs": [],
   "source": [
    "\n",
    "sns.set(font_scale=1.25)\n",
    "\n",
    "p = sns.factorplot(data = cleanMelt, x = 'Satisfaction', y = 'SatisfactionDays', hue = 'Satisfaction', kind = 'violin', size= 6, aspect = 2.5)\n",
    "p.set(ylim=(0, 1200))"
   ]
  },
  {
   "cell_type": "code",
   "execution_count": null,
   "metadata": {
    "collapsed": false
   },
   "outputs": [],
   "source": [
    "# look at the data as a density plot\n",
    "\n",
    "sns.set(font_scale=1.5)\n",
    "\n",
    "fig = sns.FacetGrid(data=cleanMelt, hue='Satisfaction', size = 5, aspect = 2.5)\n",
    "\n",
    "fig.map(sns.kdeplot,'SatisfactionDays', shade = True, alpha = .6)\n",
    "\n",
    "fig.set(xlim=(0,1400))\n",
    "\n",
    "fig.add_legend(title='Satisfaction')"
   ]
  },
  {
   "cell_type": "code",
   "execution_count": null,
   "metadata": {
    "collapsed": false
   },
   "outputs": [],
   "source": [
    "# make a table from days to leave\n",
    "\n",
    "# get the stats\n",
    "\n",
    "def get_stats(group):\n",
    "    return {'median': group.median(), 'max': group.max(), 'count': group.count(), 'mean': group.mean()}\n",
    "\n",
    "\n",
    "# df['postTestScore'].groupby(df['categories']).apply(get_stats).unstack()\n",
    "\n",
    "cleanMelt['DaysToLeave'].groupby(cleanMelt['Satisfaction']).apply(get_stats).unstack()"
   ]
  },
  {
   "cell_type": "code",
   "execution_count": null,
   "metadata": {
    "collapsed": false
   },
   "outputs": [],
   "source": [
    "# df.groupby('series_id')['value'].describe()\n",
    "\n",
    "cleanMelt.groupby('Satisfaction')['DaysToLeave'].describe().unstack()"
   ]
  },
  {
   "cell_type": "code",
   "execution_count": null,
   "metadata": {
    "collapsed": false
   },
   "outputs": [],
   "source": [
    "# plot of multiple histograms overlayed on one it's not the best\n",
    "# df[df['B']==3]['A']\n",
    "\n",
    "fig = plt.figure(figsize = (15,8))\n",
    "\n",
    "# get the separate series\n",
    "x1 = cleanMelt[cleanMelt['Satisfaction'] == 'Highly Satisfied']['SatisfactionDays']\n",
    "\n",
    "x2 = cleanMelt[cleanMelt['Satisfaction'] == 'Satisfied']['SatisfactionDays']\n",
    "\n",
    "x3 = cleanMelt[cleanMelt['Satisfaction'] == 'Neutral']['SatisfactionDays']\n",
    "\n",
    "x4 = cleanMelt[cleanMelt['Satisfaction'] == 'Dissatisfied']['SatisfactionDays']\n",
    "\n",
    "x5 = cleanMelt[cleanMelt['Satisfaction'] == 'Highly Dissatisfied']['SatisfactionDays']\n",
    "\n",
    "n_bins = 100\n",
    "\n",
    "# cut the grid into 3 rows and 2 columns with a large one at the bottom\n",
    "ax0 = plt.subplot2grid((3,2), (0,0), rowspan = 1, colspan = 1)  # Upper left\n",
    "ax1 = plt.subplot2grid((3,2), (0,1), rowspan = 1, colspan = 1)  # Upper Right\n",
    "ax2 = plt.subplot2grid((3,2), (1,0), rowspan = 1, colspan = 1)  # Middle Left\n",
    "ax3 = plt.subplot2grid((3,2), (1,1), rowspan = 1, colspan = 1)  # Middle Right\n",
    "ax4 = plt.subplot2grid((3,2), (2,0), rowspan = 1, colspan = 2)  # Entire Bottom\n",
    "\n",
    "ax0.hist(x1, n_bins, normed=0, histtype='bar', color='blue')\n",
    "ax0.set_title('Highly Satisfied')\n",
    "\n",
    "ax1.hist(x2, n_bins, normed=0, histtype='bar', color = 'forestgreen')\n",
    "ax1.set_title('Satisfied')\n",
    "\n",
    "ax2.hist(x3, n_bins, normed=0, histtype='bar', color = 'tan')\n",
    "ax2.set_title('Neutral')\n",
    "         \n",
    "ax3.hist(x4, n_bins, normed=0, histtype='bar', color = 'orange')\n",
    "ax3.set_title('Dissatisfied')\n",
    "         \n",
    "ax4.hist(x5, n_bins, normed=0, histtype='bar', color = 'red')\n",
    "ax4.set_xlim(0,600)\n",
    "ax4.set_title('Highly Dissatisfied')                \n",
    "         \n",
    "fig.tight_layout()\n",
    "plt.show()\n"
   ]
  },
  {
   "cell_type": "code",
   "execution_count": null,
   "metadata": {
    "collapsed": false
   },
   "outputs": [],
   "source": [
    "# plot of multiple histograms \n",
    "# df[df['B']==3]['A']\n",
    "\n",
    "sns.set(font_scale=1.25)\n",
    "\n",
    "fig = plt.figure(figsize = (15,10))\n",
    "\n",
    "# get the separate series\n",
    "x1 = cleanMelt[cleanMelt['Satisfaction'] == 'Highly Satisfied']['SatisfactionDays']\n",
    "\n",
    "x2 = cleanMelt[cleanMelt['Satisfaction'] == 'Satisfied']['SatisfactionDays']\n",
    "\n",
    "x3 = cleanMelt[cleanMelt['Satisfaction'] == 'Neutral']['SatisfactionDays']\n",
    "\n",
    "x4 = cleanMelt[cleanMelt['Satisfaction'] == 'Dissatisfied']['SatisfactionDays']\n",
    "\n",
    "x5 = cleanMelt[cleanMelt['Satisfaction'] == 'Highly Dissatisfied']['SatisfactionDays']\n",
    "\n",
    "n_bins = 100\n",
    "\n",
    "# combine them for multiplotting\n",
    "labels = ['Highly Satisfied', 'Satisfied', 'Neutral', 'Dissatisfied', 'Highly Dissatisfied']\n",
    "\n",
    "xnames={'0': 'Highly Satisfied', '1': 'Satisfied', '2': 'Neutral', '3': 'Dissatisfied', '4': 'Highly Dissatisfied'}\n",
    "\n",
    "x = pd.concat([x1, x2, x3, x4, x5], axis = 1, ignore_index = True)\n",
    "x.rename(columns=xnames, inplace=True)\n",
    "\n",
    "\n",
    "# cut the grid into 3 rows and 2 columns with a large one at the bottom\n",
    "ax0 = plt.subplot2grid((4,2), (0,0), rowspan = 1, colspan = 2)  # Entire Top\n",
    "ax1 = plt.subplot2grid((4,2), (1,0), rowspan = 1, colspan = 1)  # Upper left\n",
    "ax2 = plt.subplot2grid((4,2), (1,1), rowspan = 1, colspan = 1)  # Upper Right\n",
    "ax3 = plt.subplot2grid((4,2), (2,0), rowspan = 1, colspan = 1)  # Middle Left\n",
    "ax4 = plt.subplot2grid((4,2), (2,1), rowspan = 1, colspan = 2)  # Middle Right\n",
    "ax5 = plt.subplot2grid((4,2), (3,0), rowspan = 1, colspan = 2)  # Entire Bottom\n",
    "\n",
    "colors = ['blue', 'forestgreen', 'tan', 'orange', 'red']\n",
    "\n",
    "\n",
    "# the first is a multiplot of all series and then the rest are individual\n",
    "# the NaN gives problems with the combined plot\n",
    "\n",
    "x.plot.hist(ax = ax0, bins = 100, color = colors, alpha=0.6, histtype='bar', stacked = True)\n",
    "ax0.legend(prop={'size': 12}, labels = labels)\n",
    "ax0.set_xlim(0,1200)\n",
    "ax0.set_title('All Satisfaction')\n",
    "\n",
    "ax1.hist(x1, n_bins, normed=0, histtype='bar', color=colors[0])\n",
    "ax1.set_title('Highly Satisfied')\n",
    "\n",
    "ax2.hist(x2, n_bins, normed=0, histtype='bar', color = colors[1])\n",
    "ax2.set_title('Satisfied')\n",
    "\n",
    "ax3.hist(x3, n_bins, normed=0, histtype='bar', color = colors[2])\n",
    "ax3.set_title('Neutral')\n",
    "         \n",
    "ax4.hist(x4, n_bins, normed=0, histtype='bar', color = colors[3])\n",
    "ax4.set_title('Dissatisfied')\n",
    "         \n",
    "ax5.hist(x5, n_bins, normed=0, histtype='bar', color = colors[4])\n",
    "ax5.set_xlim(0,600)\n",
    "ax5.set_title('Highly Dissatisfied')                \n",
    "         \n",
    "fig.tight_layout()\n",
    "# fig.suptitle('Distribution of Days to Attrition', fontsize=18)\n",
    "\n",
    "# plt.subplots_adjust(top=0.92)\n",
    "\n",
    "plt.show()\n",
    "\n",
    "\n",
    "# subplots_adjust(left=None, bottom=None, right=None, top=None, wspace=None, hspace=None)\n",
    "\n",
    "# left  = 0.125  # the left side of the subplots of the figure\n",
    "# right = 0.9    # the right side of the subplots of the figure\n",
    "# bottom = 0.1   # the bottom of the subplots of the figure\n",
    "# top = 0.9      # the top of the subplots of the figure\n",
    "# wspace = 0.2   # the amount of width reserved for blank space between subplots\n",
    "# hspace = 0.2   # the amount of height reserved for white space between subplots"
   ]
  },
  {
   "cell_type": "code",
   "execution_count": null,
   "metadata": {
    "collapsed": false
   },
   "outputs": [],
   "source": [
    "# plot of multiple histograms overlayed on one it's not the best\n",
    "# df[df['B']==3]['A']\n",
    "\n",
    "fig = plt.figure(figsize = (15,8))\n",
    "\n",
    "# get the separate series\n",
    "x1 = cleanMelt[cleanMelt['Satisfaction'] == 'Highly Satisfied']['SatisfactionDays']\n",
    "\n",
    "x2 = cleanMelt[cleanMelt['Satisfaction'] == 'Satisfied']['SatisfactionDays']\n",
    "\n",
    "x3 = cleanMelt[cleanMelt['Satisfaction'] == 'Neutral']['SatisfactionDays']\n",
    "\n",
    "x4 = cleanMelt[cleanMelt['Satisfaction'] == 'Dissatisfied']['SatisfactionDays']\n",
    "\n",
    "x5 = cleanMelt[cleanMelt['Satisfaction'] == 'Highly Dissatisfied']['SatisfactionDays']\n",
    "\n",
    "n_bins = 100\n",
    "\n",
    "# cut the grid into 3 rows and 2 columns with a large one at the bottom\n",
    "ax0 = plt.subplot2grid((3,2), (0,0), rowspan = 1, colspan = 1)  # Upper left\n",
    "ax1 = plt.subplot2grid((3,2), (0,1), rowspan = 1, colspan = 1)  # Upper Right\n",
    "ax2 = plt.subplot2grid((3,2), (1,0), rowspan = 1, colspan = 1)  # Middle Left\n",
    "ax3 = plt.subplot2grid((3,2), (1,1), rowspan = 1, colspan = 1)  # Middle Right\n",
    "ax4 = plt.subplot2grid((3,2), (2,0), rowspan = 1, colspan = 2)  # Entire Bottom\n",
    "\n",
    "sns.distplot(x1, color='blue', bins = n_bins, ax = ax0)\n",
    "ax0.set_xlim(0,1200)\n",
    "ax0.set_title('Highly Satisfied')\n",
    "\n",
    "sns.distplot(x2, color = 'forestgreen', bins = n_bins, ax = ax1)\n",
    "ax1.set_xlim(0,1200)\n",
    "ax1.set_title('Satisfied')\n",
    "\n",
    "sns.distplot(x3, color = 'tan', bins = n_bins, ax = ax2)\n",
    "ax2.set_xlim(0,1200)\n",
    "ax2.set_title('Neutral')\n",
    "         \n",
    "sns.distplot(x4, color = 'orange', bins = n_bins, ax = ax3)\n",
    "ax3.set_xlim(0,1200)\n",
    "ax3.set_title('Dissatisfied')\n",
    "         \n",
    "sns.distplot(x5, color = 'red', bins = n_bins, ax = ax4)\n",
    "ax4.set_xlim(0,800)\n",
    "ax4.set_title('Highly Dissatisfied')                \n",
    "         \n",
    "fig.tight_layout()\n",
    "plt.show()\n"
   ]
  },
  {
   "cell_type": "code",
   "execution_count": null,
   "metadata": {
    "collapsed": false
   },
   "outputs": [],
   "source": [
    "csat.head()"
   ]
  },
  {
   "cell_type": "code",
   "execution_count": null,
   "metadata": {
    "collapsed": false
   },
   "outputs": [],
   "source": [
    "csat.SurveyTenure.describe()"
   ]
  },
  {
   "cell_type": "code",
   "execution_count": null,
   "metadata": {
    "collapsed": false
   },
   "outputs": [],
   "source": [
    "# need satisfaction as a category for survival\n",
    "# first drop the unknown satisfaction column\n",
    "\n",
    "csatRed = csat.ix[:, [0,1,2,3,4,5,6,7,9,10,11,12,13]]\n",
    "\n",
    "csatRed.head()\n"
   ]
  },
  {
   "cell_type": "code",
   "execution_count": null,
   "metadata": {
    "collapsed": false
   },
   "outputs": [],
   "source": [
    "meltCsat = pd.melt(csatRed, id_vars = ['CustID', 'SurveyDate', 'MonthYear', 'DateLeft', 'LeftBank', 'End_Date', 'SurveyTenure', 'DaysToLeave'],var_name = 'Satisfaction',\n",
    "                   )\n",
    "meltCsat.head()"
   ]
  },
  {
   "cell_type": "code",
   "execution_count": null,
   "metadata": {
    "collapsed": false
   },
   "outputs": [],
   "source": [
    "# sort by customer id to check the melting\n",
    "\n",
    "meltCsat.sort_values(by='CustID', inplace = True)\n",
    "\n",
    "meltCsat = meltCsat.reset_index(drop = True)\n",
    "\n",
    "meltCsat.head(20)"
   ]
  },
  {
   "cell_type": "code",
   "execution_count": null,
   "metadata": {
    "collapsed": false
   },
   "outputs": [],
   "source": [
    "# multiply the value y the days to leave for the column\n",
    "def clean_days(row):\n",
    "    if pd.isnull(row):\n",
    "        return int(0)\n",
    "    else:\n",
    "        return int(row)\n",
    "\n",
    "\n",
    "meltCsat['DaysToLeave'] = meltCsat['DaysToLeave'].apply(clean_days)\n",
    "\n",
    "meltCsat.head()\n"
   ]
  },
  {
   "cell_type": "code",
   "execution_count": null,
   "metadata": {
    "collapsed": false
   },
   "outputs": [],
   "source": [
    "meltCsat['SatisfactionDays'] = meltCsat['value'] * meltCsat['DaysToLeave']\n",
    "\n",
    "# drop the value column\n",
    "# meltCsat.drop('value', axis = 1, inplace = True)\n",
    "\n",
    "# drop the value = 0\n",
    "cleanCsat = meltCsat[(meltCsat['value'] != 0)].copy()\n",
    "\n",
    "cleanCsat.head(20)"
   ]
  },
  {
   "cell_type": "code",
   "execution_count": null,
   "metadata": {
    "collapsed": false
   },
   "outputs": [],
   "source": [
    "os.getcwd()"
   ]
  },
  {
   "cell_type": "code",
   "execution_count": null,
   "metadata": {
    "collapsed": true
   },
   "outputs": [],
   "source": [
    "# cleanCsat.to_csv('CsatSurvivalRaw.csv')"
   ]
  },
  {
   "cell_type": "code",
   "execution_count": null,
   "metadata": {
    "collapsed": true
   },
   "outputs": [],
   "source": [
    "# create the categorical\n",
    "\n",
    "labels = ['Highly Satisfied', 'Satisfied', 'Neutral', 'Dissatisfied', 'Highly Dissatisfied']\n",
    "\n",
    "cleanCsat['Satisfaction'] = pd.Categorical(cleanCsat['Satisfaction'], categories = labels, ordered=True)"
   ]
  },
  {
   "cell_type": "code",
   "execution_count": null,
   "metadata": {
    "collapsed": false
   },
   "outputs": [],
   "source": [
    "cleanCsat.SurveyTenure.describe()"
   ]
  },
  {
   "cell_type": "code",
   "execution_count": null,
   "metadata": {
    "collapsed": false
   },
   "outputs": [],
   "source": [
    "# calculate the time from survey to attrition\n",
    "\n",
    "cleanCsat['NotAttrite'] = cleanCsat.iloc[:,5] - cleanCsat.iloc[:,1]\n"
   ]
  },
  {
   "cell_type": "code",
   "execution_count": null,
   "metadata": {
    "collapsed": false
   },
   "outputs": [],
   "source": [
    "cleanCsat.info()"
   ]
  },
  {
   "cell_type": "code",
   "execution_count": null,
   "metadata": {
    "collapsed": false
   },
   "outputs": [],
   "source": [
    "cleanCsat.NotAttrite.dtype"
   ]
  },
  {
   "cell_type": "code",
   "execution_count": null,
   "metadata": {
    "collapsed": false
   },
   "outputs": [],
   "source": [
    "# this works to convert days into years using the hours first\n",
    "cleanCsat['NotAttriteClean'] = (cleanCsat['NotAttrite'].astype('timedelta64[h]'))/24\n",
    "\n",
    "cleanCsat.head()"
   ]
  },
  {
   "cell_type": "code",
   "execution_count": null,
   "metadata": {
    "collapsed": false
   },
   "outputs": [],
   "source": [
    "def get_days(row):\n",
    "    \n",
    "    # check if the value of SatisfactionDays = 0\n",
    "    # a value of 0 indicates that account is still open\n",
    "    # therefore we'll calculate the difference from now to the survey date\n",
    "    \n",
    "    if row['DaysToLeave'] == 0:\n",
    "        \n",
    "        return row['NotAttriteClean']\n",
    "         \n",
    "    \n",
    "    else:\n",
    "        \n",
    "        return row['DaysToLeave']\n",
    "        \n",
    "        "
   ]
  },
  {
   "cell_type": "code",
   "execution_count": null,
   "metadata": {
    "collapsed": false
   },
   "outputs": [],
   "source": [
    "# df['race_label'] = df.apply (lambda row: label_race (row),axis=1)\n",
    "# this applies the function row wise\n",
    "\n",
    "cleanCsat['CleanTenure'] = cleanCsat.apply (lambda row: get_days (row),axis=1)\n",
    "cleanCsat.head()"
   ]
  },
  {
   "cell_type": "code",
   "execution_count": null,
   "metadata": {
    "collapsed": false
   },
   "outputs": [],
   "source": [
    "# get a view where leftBank = 1\n",
    "\n",
    "test = cleanCsat[(cleanCsat['LeftBank'] == 1)]\n",
    "test.head()"
   ]
  },
  {
   "cell_type": "code",
   "execution_count": null,
   "metadata": {
    "collapsed": false
   },
   "outputs": [],
   "source": [
    "# spelling error caused additional coded needed for cleaning\n",
    "# observed = {'LeftBank' : 'Observed'}\n",
    "\n",
    "observed = {'Obsered' : 'Observed'}\n",
    "\n",
    "cleanCsat.rename(columns=observed, inplace=True)\n",
    "\n",
    "cleanCsat.head()"
   ]
  },
  {
   "cell_type": "code",
   "execution_count": null,
   "metadata": {
    "collapsed": false
   },
   "outputs": [],
   "source": [
    "os.getcwd()"
   ]
  },
  {
   "cell_type": "code",
   "execution_count": null,
   "metadata": {
    "collapsed": true
   },
   "outputs": [],
   "source": [
    "# export the cleaned dataset\n",
    "\n",
    "cleanCsat.to_csv('cleanCsatData.csv')"
   ]
  },
  {
   "cell_type": "code",
   "execution_count": null,
   "metadata": {
    "collapsed": true
   },
   "outputs": [],
   "source": []
  }
 ],
 "metadata": {
  "kernelspec": {
   "display_name": "Python [Root]",
   "language": "python",
   "name": "Python [Root]"
  },
  "language_info": {
   "codemirror_mode": {
    "name": "ipython",
    "version": 3
   },
   "file_extension": ".py",
   "mimetype": "text/x-python",
   "name": "python",
   "nbconvert_exporter": "python",
   "pygments_lexer": "ipython3",
   "version": "3.5.1"
  }
 },
 "nbformat": 4,
 "nbformat_minor": 0
}
