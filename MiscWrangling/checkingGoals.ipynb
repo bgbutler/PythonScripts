{
 "cells": [
  {
   "cell_type": "code",
   "execution_count": null,
   "metadata": {
    "collapsed": true
   },
   "outputs": [],
   "source": [
    "# standard libraries\n",
    "import pandas as pd\n",
    "import numpy as np\n",
    "from pandas import Series, DataFrame\n",
    "import os\n",
    "import re\n",
    "\n",
    "# plotting libraries\n",
    "import matplotlib as mpl\n",
    "import matplotlib.pyplot as plt\n",
    "import seaborn as sns\n",
    "%matplotlib inline\n",
    "\n",
    "# get the datetime library for date & time calcs\n",
    "from datetime import datetime, timedelta"
   ]
  },
  {
   "cell_type": "code",
   "execution_count": null,
   "metadata": {
    "collapsed": true
   },
   "outputs": [],
   "source": [
    "# set the directory\n",
    "\n",
    "checkingGoals = pd.ExcelFile(os.path.normpath('C:/Users/n846490/Documents/DigitalAnalytics/CheckingAnalysis/CheckingGoals20152016.xlsx'))"
   ]
  },
  {
   "cell_type": "code",
   "execution_count": null,
   "metadata": {
    "collapsed": false
   },
   "outputs": [],
   "source": [
    "goals = checkingGoals.parse('Dataset2')\n",
    "goals.head()\n",
    "\n"
   ]
  },
  {
   "cell_type": "code",
   "execution_count": null,
   "metadata": {
    "collapsed": false
   },
   "outputs": [],
   "source": [
    "goals.info()"
   ]
  },
  {
   "cell_type": "code",
   "execution_count": null,
   "metadata": {
    "collapsed": false
   },
   "outputs": [],
   "source": [
    "# let's plot some items in the data frame\n",
    "\n",
    "# set the figure size\n",
    "fig = plt.figure(figsize = (15,10))\n",
    "\n",
    "# use ax1 for plotting the Credit data\n",
    "# (211) cuts the subplot into two plots (rows), and 1 column, plot the first plot\n",
    "\n",
    "# the SRS\n",
    "ax1 = fig.add_subplot(211)\n",
    "ax1.plot(goals['Day Index'], goals.Goal1SRC, color = 'skyblue', label = 'SRC')\n",
    "\n",
    "# plot the legend for the first plot\n",
    "ax1.legend(loc = 'upper right', fontsize = 14)\n",
    "\n",
    "plt.ylabel('Checking Goal App Starts', fontsize=16)\n",
    "plt.setp(ax1.get_yticklabels(), fontsize=14) \n",
    "\n",
    "# Hide the top x axis\n",
    "ax1.axes.get_xaxis().set_visible(False)\n",
    "\n",
    "############################################################################################\n",
    "#######  NOW PLOT THE OTHER GOALS ON A SINGLE PLOT\n",
    "\n",
    "# plot 212 is the smaller series\n",
    "\n",
    "# plot the basic\n",
    "ax1 = fig.add_subplot(212)\n",
    "ax1.plot(goals['Day Index'], goals.Goal2Basic, color = 'salmon', label = 'Basic')\n",
    "\n",
    "# plot the student\n",
    "ax1 = fig.add_subplot(212)\n",
    "ax1.plot(goals['Day Index'], goals.Goal3Student, color = 'indigo', label = 'Student')\n",
    "\n",
    "# plot the premier\n",
    "ax1 = fig.add_subplot(212)\n",
    "ax1.plot(goals['Day Index'], goals.Goal4Premier, color = 'cyan', label = 'Premier')\n",
    "\n",
    "# plot the legend for the second plot\n",
    "ax1.legend(loc = 'upper right', fontsize = 14)\n",
    "\n",
    "# set the fontsize for the bottom plot\n",
    "plt.ylabel('Checking Goal App Starts', fontsize=16)\n",
    "plt.setp(ax1.get_yticklabels(), fontsize=14) \n",
    "plt.setp(ax1.get_xticklabels(), fontsize=14) \n",
    "\n",
    "\n",
    "plt.tight_layout()\n",
    "plt.show()"
   ]
  },
  {
   "cell_type": "code",
   "execution_count": null,
   "metadata": {
    "collapsed": true
   },
   "outputs": [],
   "source": [
    "# first define r_squared\n",
    "def r_squared(actual, ideal):\n",
    "    actual_mean = np.mean(actual)\n",
    "    ideal_dev = np.sum([(val - actual_mean)**2 for val in ideal])\n",
    "    actual_dev = np.sum([(val - actual_mean)**2 for val in actual])\n",
    "\n",
    "    return ideal_dev / actual_dev"
   ]
  },
  {
   "cell_type": "code",
   "execution_count": null,
   "metadata": {
    "collapsed": false
   },
   "outputs": [],
   "source": [
    "# combined and fit line\n",
    "\n",
    "from mpl_toolkits.axes_grid1 import host_subplot\n",
    "import mpl_toolkits.axisartist as AA\n",
    "\n",
    "##########################################  Perform a Linear Regression for Fitting\n",
    "dates = goals['Day Index']\n",
    "conversions = goals['TotalCheckingGoals']\n",
    "\n",
    "year_start = datetime(2015, 10, 1)\n",
    "days = np.array([(d - year_start).days + 1 for d in dates])\n",
    "\n",
    "# make the linear fit\n",
    "slope, intercept = np.polyfit(days, conversions, 1)\n",
    "ideal_convs = intercept + (slope * days)\n",
    "r_sq = r_squared(conversions, ideal_convs)\n",
    "\n",
    "############################################   This is all for plotting\n",
    "\n",
    "X1 = dates\n",
    "y1 = conversions\n",
    "\n",
    "X2 = days\n",
    "y2 = ideal_convs\n",
    "\n",
    "fit_label = 'Linear fit ({0:.2f})'.format(slope)\n",
    "\n",
    "\n",
    "fig = plt.figure(figsize = (15,8))\n",
    "ax1 = fig.add_subplot(111)\n",
    "ax1.plot(X1, y1, label = 'Conversions')\n",
    "ax1.set_ylabel('Conversions', fontsize = 14)\n",
    "ax2 = ax1.twiny()   # this is the important function\n",
    "ax2.plot(X2, y2, 'r', label = fit_label)\n",
    "ax2.set_xlim([1,469])\n",
    "# ax2.set_xlabel('Time in Days')\n",
    "\n",
    "# this moves the axis to the bottom\n",
    "ax2.spines['top'].set_position(('axes', -.20))\n",
    "ax2.set_frame_on(True)\n",
    "ax2.patch.set_visible(False)\n",
    "ax2.axes.get_xaxis().set_visible(False)\n",
    "\n",
    "# annotate and add legend\n",
    "plt.annotate('r^2 = {0:.2f}'.format(r_sq), (0.07, 0.90), xycoords='axes fraction', size = 14)\n",
    "plt.legend(loc='upper left', fontsize = 14) \n",
    "\n",
    "plt.setp(ax1.get_yticklabels(), fontsize=14) \n",
    "plt.setp(ax1.get_xticklabels(), fontsize=14) \n",
    "\n",
    "plt.show() \n"
   ]
  },
  {
   "cell_type": "code",
   "execution_count": null,
   "metadata": {
    "collapsed": true
   },
   "outputs": [],
   "source": []
  }
 ],
 "metadata": {
  "kernelspec": {
   "display_name": "Python [Root]",
   "language": "python",
   "name": "Python [Root]"
  },
  "language_info": {
   "codemirror_mode": {
    "name": "ipython",
    "version": 3
   },
   "file_extension": ".py",
   "mimetype": "text/x-python",
   "name": "python",
   "nbconvert_exporter": "python",
   "pygments_lexer": "ipython3",
   "version": "3.5.1"
  }
 },
 "nbformat": 4,
 "nbformat_minor": 0
}
