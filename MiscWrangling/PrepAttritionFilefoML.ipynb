{
 "cells": [
  {
   "cell_type": "code",
   "execution_count": null,
   "metadata": {
    "collapsed": true
   },
   "outputs": [],
   "source": [
    "# standard libraries\n",
    "import pandas as pd\n",
    "import numpy as np\n",
    "from pandas import Series, DataFrame\n",
    "from sklearn.preprocessing import Imputer\n",
    "import os\n",
    "import re\n",
    "\n",
    "# plotting libraries\n",
    "import matplotlib as mpl\n",
    "import matplotlib.pyplot as plt\n",
    "import seaborn as sns\n",
    "%matplotlib inline\n",
    "\n",
    "# get the datetime library for date & time calcs\n",
    "from datetime import datetime, timedelta"
   ]
  },
  {
   "cell_type": "code",
   "execution_count": null,
   "metadata": {
    "collapsed": false
   },
   "outputs": [],
   "source": [
    "os.chdir(os.path.normpath('C:/Users/n846490/Documents/Python Scripts/SurvivalAnalysis/ChurnModelFiles/'))"
   ]
  },
  {
   "cell_type": "code",
   "execution_count": null,
   "metadata": {
    "collapsed": false
   },
   "outputs": [],
   "source": [
    "url = os.path.normpath('C:/Users/n846490/Documents/Python Scripts/SurvivalAnalysis/ChurnModelFiles/AllAttritionClean.csv')\n",
    "data = pd.read_csv(url, index_col=0)\n",
    "data.head()"
   ]
  },
  {
   "cell_type": "code",
   "execution_count": null,
   "metadata": {
    "collapsed": false
   },
   "outputs": [],
   "source": [
    "# get the columns that need cleaning\n",
    "\n",
    "colsToTransform = data[['EHI', 'TotAssets', 'EqiScore', 'Age', 'Custyears']]\n",
    "\n",
    "colsToTransform.describe().transpose()"
   ]
  },
  {
   "cell_type": "code",
   "execution_count": null,
   "metadata": {
    "collapsed": false
   },
   "outputs": [],
   "source": [
    "########  Use the following values to impute for missing\n",
    "\n",
    "# ZERO TRANSFORMATIONS\n",
    "# 0,TotAssets use .01, Set NAN to Median INDEX = 3\n",
    "# 0, NAN EHI set to Median INDEX = 2\n",
    "\n",
    "# NAN TRANSFORMATIONS\n",
    "# EquiScore = Mean (lower than median) INDEX = 4\n",
    "# Age = Mean (mean and median nearly identical) INDEX = 11\n",
    "# Custyears = Mean (older accounts likely to have more error) INDEX = 13\n",
    "\n",
    "# handling some missing data\n",
    "\n",
    "imputerMean = Imputer(missing_values = 'NaN', strategy = 'mean', axis = 0)\n",
    "imputerMedian = Imputer(missing_values = 'NaN', strategy = 'median', axis = 0)\n",
    "\n",
    "# cols indexes are 2,4,11\n",
    "colsToMean = [4,11,13]\n",
    "colsToMedian = [2,3]\n",
    "\n",
    "imputerMean = imputerMean.fit(data.iloc[:, colsToMean])\n",
    "imputerMedian = imputerMedian.fit(data.iloc[:, colsToMedian])\n",
    "\n",
    "data.iloc[:,colsToMean] = imputerMean.transform(data.iloc[:,colsToMean])\n",
    "data.iloc[:,colsToMedian] = imputerMedian.transform(data.iloc[:,colsToMedian])\n",
    "\n",
    "# now check the transformations by viewing the distributions\n",
    "newCols = data[['EHI', 'TotAssets', 'EqiScore', 'Age', 'Custyears']]\n",
    "\n",
    "newCols.describe().transpose()"
   ]
  },
  {
   "cell_type": "code",
   "execution_count": null,
   "metadata": {
    "collapsed": false
   },
   "outputs": [],
   "source": [
    "# get a view of EHI\n",
    "\n",
    "fig = plt.figure(figsize = (10,5))\n",
    "\n",
    "sns.set(font_scale=1.25)\n",
    "\n",
    "fig = sns.distplot(data['EHI'], bins = 1000)\n",
    "\n",
    "fig.set(xlim=(0,500000))\n",
    "\n",
    "plt.show()"
   ]
  },
  {
   "cell_type": "code",
   "execution_count": null,
   "metadata": {
    "collapsed": false
   },
   "outputs": [],
   "source": [
    "# get a view of tot assets\n",
    "\n",
    "# get a view of EHI\n",
    "\n",
    "fig = plt.figure(figsize = (10,6))\n",
    "\n",
    "sns.set(font_scale=1.25)\n",
    "\n",
    "fig = sns.distplot(data['TotAssets'], bins = 1000)\n",
    "\n",
    "fig.set(xlim=(0,500000))\n",
    "\n",
    "plt.show()"
   ]
  },
  {
   "cell_type": "code",
   "execution_count": null,
   "metadata": {
    "collapsed": false
   },
   "outputs": [],
   "source": [
    "def clean_TotAssets_Zero(row):\n",
    "    \n",
    "    #logs of 0 or negative numbers will raise errors\n",
    "    \n",
    "    if row == 0:\n",
    "        return float(0.01)\n",
    "    else:\n",
    "        return row\n",
    "    \n",
    "data['TotAssets'] = data['TotAssets'].apply(clean_TotAssets_Zero)\n",
    "\n",
    "data.TotAssets.describe().transpose()"
   ]
  },
  {
   "cell_type": "code",
   "execution_count": null,
   "metadata": {
    "collapsed": false
   },
   "outputs": [],
   "source": [
    "# clean up the EHI\n",
    "\n",
    "replace_value = data['EHI'].quantile(0.50)\n",
    "\n",
    "def clean_EHI_zero(row):\n",
    "    \n",
    "    if row == 0:\n",
    "        return float(replace_value)\n",
    "    else:\n",
    "        return row\n",
    "    \n",
    "data['EHI'] = data['EHI'].apply(clean_EHI_zero)\n",
    "\n",
    "data.EHI.describe().transpose()"
   ]
  },
  {
   "cell_type": "code",
   "execution_count": null,
   "metadata": {
    "collapsed": false
   },
   "outputs": [],
   "source": [
    "data.drop('VinScore', axis = 1, inplace = True)\n",
    "\n",
    "data.describe().transpose()"
   ]
  },
  {
   "cell_type": "code",
   "execution_count": null,
   "metadata": {
    "collapsed": false
   },
   "outputs": [],
   "source": [
    "data.info()"
   ]
  },
  {
   "cell_type": "code",
   "execution_count": null,
   "metadata": {
    "collapsed": false
   },
   "outputs": [],
   "source": [
    "# make the log transforms\n",
    "\n",
    "data['LogEHI'] = np.log(data['EHI'])\n",
    "\n",
    "data['LogAssets'] = np.log(data['TotAssets'])\n",
    "\n",
    "data.drop('EHI', axis = 1, inplace = True)\n",
    "data.drop('TotAssets', axis = 1, inplace = True)\n",
    "\n",
    "data.describe().transpose()"
   ]
  },
  {
   "cell_type": "code",
   "execution_count": null,
   "metadata": {
    "collapsed": false
   },
   "outputs": [],
   "source": [
    "# re-arrange data\n",
    "\n",
    "Outcome = pd.DataFrame(data['LeftBank'].copy())\n",
    "\n",
    "Outcome.head()\n",
    "\n",
    "data.drop('LeftBank', axis = 1, inplace = True)\n",
    "\n",
    "# recombine at end\n",
    "\n",
    "frames = [data, Outcome]\n",
    "\n",
    "data = pd.concat(frames, axis = 1)\n",
    "\n",
    "data.head()"
   ]
  },
  {
   "cell_type": "code",
   "execution_count": null,
   "metadata": {
    "collapsed": false
   },
   "outputs": [],
   "source": [
    "os.getcwd()"
   ]
  },
  {
   "cell_type": "code",
   "execution_count": null,
   "metadata": {
    "collapsed": false
   },
   "outputs": [],
   "source": [
    "data.info()"
   ]
  },
  {
   "cell_type": "code",
   "execution_count": null,
   "metadata": {
    "collapsed": true
   },
   "outputs": [],
   "source": [
    "# create an indicator for footprint\n",
    "\n",
    "# create a condition to check\n",
    "\n",
    "def footprint_col(colCheck):\n",
    "    \n",
    "    footprint = ['ME', 'VT', 'NH', 'MA', 'RI', 'CT', 'NY', 'NJ', 'PA']\n",
    "    \n",
    "    if colCheck in footprint:\n",
    "        return 1\n",
    "    else:\n",
    "        return 0"
   ]
  },
  {
   "cell_type": "code",
   "execution_count": null,
   "metadata": {
    "collapsed": false
   },
   "outputs": [],
   "source": [
    "# now apply the function to create a new column called footprint\n",
    "\n",
    "data['Footprint'] = data['State'].apply(footprint_col)\n",
    "\n",
    "data.head()"
   ]
  },
  {
   "cell_type": "code",
   "execution_count": null,
   "metadata": {
    "collapsed": true
   },
   "outputs": [],
   "source": [
    "# get the numeric columns only\n",
    "\n",
    "mlData = data._get_numeric_data()"
   ]
  },
  {
   "cell_type": "code",
   "execution_count": null,
   "metadata": {
    "collapsed": false
   },
   "outputs": [],
   "source": [
    "mlData.info()"
   ]
  },
  {
   "cell_type": "code",
   "execution_count": null,
   "metadata": {
    "collapsed": true
   },
   "outputs": [],
   "source": [
    "# removed the closed columns\n",
    "# in most cases the closed = num accounts\n",
    "# also remove open\n",
    "\n",
    "# first rename num accounts\n",
    "# data.rename(columns={'gdp':'log(gdp)'}, inplace=True)\n",
    "\n",
    "# mlData.rename(columns = {'NumProducts': 'MaxNumProd'}, inplace = True)\n",
    "\n",
    "# mlData.drop('Closed', axis = 1, inplace = True)\n",
    "# mlData.drop('Open', axis = 1, inplace = True)\n",
    "mlData.drop('OpenAccts', axis = 1, inplace = True)\n",
    "\n"
   ]
  },
  {
   "cell_type": "code",
   "execution_count": null,
   "metadata": {
    "collapsed": true
   },
   "outputs": [],
   "source": [
    "mlData.to_csv('CleanAttritionDataForML.csv')"
   ]
  },
  {
   "cell_type": "code",
   "execution_count": null,
   "metadata": {
    "collapsed": false
   },
   "outputs": [],
   "source": [
    "# check the footprint distribution\n",
    "\n",
    "mlData.groupby(['Footprint']).agg({'Footprint' : pd.Series.count})"
   ]
  },
  {
   "cell_type": "code",
   "execution_count": null,
   "metadata": {
    "collapsed": false
   },
   "outputs": [],
   "source": [
    "# gt a vew of the closed accounts\n",
    "# use the following template: mask = (checkingData['DateOpened'] > '2013-12-31')\n",
    "# newChecking = checkingData.loc[mask]\n",
    "\n",
    "mask = (mlData['LeftBank'] == 1)\n",
    "\n",
    "closed = mlData.loc[mask].copy()\n",
    "\n",
    "closed.info()"
   ]
  },
  {
   "cell_type": "code",
   "execution_count": null,
   "metadata": {
    "collapsed": false
   },
   "outputs": [],
   "source": [
    "closed.head(25)"
   ]
  },
  {
   "cell_type": "code",
   "execution_count": null,
   "metadata": {
    "collapsed": false
   },
   "outputs": [],
   "source": [
    "mlData.head(10)"
   ]
  },
  {
   "cell_type": "code",
   "execution_count": null,
   "metadata": {
    "collapsed": false
   },
   "outputs": [],
   "source": [
    "fig = plt.figure(figsize = (8,4))\n",
    "\n",
    "sns.set(font_scale=1.25)\n",
    "\n",
    "fig = sns.distplot(closed['OpenAccts'], bins = 11)\n",
    "\n",
    "# fig.set(xlim=(0,500000))\n",
    "\n",
    "plt.show()"
   ]
  },
  {
   "cell_type": "code",
   "execution_count": null,
   "metadata": {
    "collapsed": false
   },
   "outputs": [],
   "source": [
    "closed.groupby(['OpenAccts']).agg({'OpenAccts' : pd.Series.count})"
   ]
  },
  {
   "cell_type": "code",
   "execution_count": null,
   "metadata": {
    "collapsed": true
   },
   "outputs": [],
   "source": []
  }
 ],
 "metadata": {
  "anaconda-cloud": {},
  "kernelspec": {
   "display_name": "Python [Root]",
   "language": "python",
   "name": "Python [Root]"
  },
  "language_info": {
   "codemirror_mode": {
    "name": "ipython",
    "version": 3
   },
   "file_extension": ".py",
   "mimetype": "text/x-python",
   "name": "python",
   "nbconvert_exporter": "python",
   "pygments_lexer": "ipython3",
   "version": "3.5.1"
  }
 },
 "nbformat": 4,
 "nbformat_minor": 0
}
