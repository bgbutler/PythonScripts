{
 "cells": [
  {
   "cell_type": "code",
   "execution_count": 2,
   "metadata": {
    "ExecuteTime": {
     "end_time": "2020-10-15T14:39:18.420915Z",
     "start_time": "2020-10-15T14:39:18.035676Z"
    }
   },
   "outputs": [],
   "source": [
    "from bokeh.models import ColumnDataSource, Label, LabelSet, Range1d\n",
    "from bokeh.plotting import figure, output_file, show\n",
    "\n",
    "output_file(\"label.html\", title=\"label.py example\")\n",
    "\n",
    "source = ColumnDataSource(data=dict(height=[66, 71, 72, 68, 58, 62],\n",
    "                                    weight=[165, 189, 220, 141, 260, 174],\n",
    "                                    names=['Mark', 'Amir', 'Matt', 'Greg',\n",
    "                                           'Owen', 'Juan']))\n",
    "\n",
    "p = figure(title='Dist. of 10th Grade Students at Lee High',\n",
    "           x_range=Range1d(140, 275))\n",
    "p.scatter(x='weight', y='height', size=8, source=source)\n",
    "p.xaxis[0].axis_label = 'Weight (lbs)'\n",
    "p.yaxis[0].axis_label = 'Height (in)'\n",
    "\n",
    "labels = LabelSet(x='weight', y='height', text='names', level='glyph',\n",
    "              x_offset=5, y_offset=5, source=source, render_mode='canvas')\n",
    "\n",
    "citation = Label(x=70, y=70, x_units='screen', y_units='screen',\n",
    "                 text='Collected by Luke C. 2016-04-01', render_mode='css',\n",
    "                 border_line_color='black', border_line_alpha=1.0,\n",
    "                 background_fill_color='white', background_fill_alpha=1.0)\n",
    "\n",
    "p.add_layout(labels)\n",
    "p.add_layout(citation)\n",
    "\n",
    "show(p)\n"
   ]
  },
  {
   "cell_type": "code",
   "execution_count": null,
   "metadata": {},
   "outputs": [],
   "source": []
  }
 ],
 "metadata": {
  "kernelspec": {
   "display_name": "Python 3",
   "language": "python",
   "name": "python3"
  },
  "language_info": {
   "codemirror_mode": {
    "name": "ipython",
    "version": 3
   },
   "file_extension": ".py",
   "mimetype": "text/x-python",
   "name": "python",
   "nbconvert_exporter": "python",
   "pygments_lexer": "ipython3",
   "version": "3.6.8"
  }
 },
 "nbformat": 4,
 "nbformat_minor": 4
}
