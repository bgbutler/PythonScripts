{
 "cells": [
  {
   "cell_type": "code",
   "execution_count": 1,
   "metadata": {
    "ExecuteTime": {
     "end_time": "2020-10-13T13:09:17.307449Z",
     "start_time": "2020-10-13T13:09:16.606851Z"
    }
   },
   "outputs": [
    {
     "data": {
      "text/plain": [
       "'2.2.1'"
      ]
     },
     "execution_count": 1,
     "metadata": {},
     "output_type": "execute_result"
    }
   ],
   "source": [
    "# imports\n",
    "import bokeh\n",
    "from bokeh.plotting import figure\n",
    "from bokeh.io import output_file, show\n",
    "from bokeh.sampledata.iris import flowers\n",
    "from bokeh.models import Range1d, PanTool, ResetTool, HoverTool\n",
    "\n",
    "bokeh.__version__"
   ]
  },
  {
   "cell_type": "code",
   "execution_count": 2,
   "metadata": {
    "ExecuteTime": {
     "end_time": "2020-10-13T13:09:17.314118Z",
     "start_time": "2020-10-13T13:09:17.310240Z"
    }
   },
   "outputs": [],
   "source": [
    "import os\n",
    "os.getcwd()\n",
    "\n",
    "# define the output file path\n",
    "output_file('iris.html')"
   ]
  },
  {
   "cell_type": "code",
   "execution_count": 3,
   "metadata": {
    "ExecuteTime": {
     "end_time": "2020-10-13T13:09:17.641375Z",
     "start_time": "2020-10-13T13:09:17.622326Z"
    }
   },
   "outputs": [
    {
     "data": {
      "text/html": [
       "<div>\n",
       "<style scoped>\n",
       "    .dataframe tbody tr th:only-of-type {\n",
       "        vertical-align: middle;\n",
       "    }\n",
       "\n",
       "    .dataframe tbody tr th {\n",
       "        vertical-align: top;\n",
       "    }\n",
       "\n",
       "    .dataframe thead th {\n",
       "        text-align: right;\n",
       "    }\n",
       "</style>\n",
       "<table border=\"1\" class=\"dataframe\">\n",
       "  <thead>\n",
       "    <tr style=\"text-align: right;\">\n",
       "      <th></th>\n",
       "      <th>sepal_length</th>\n",
       "      <th>sepal_width</th>\n",
       "      <th>petal_length</th>\n",
       "      <th>petal_width</th>\n",
       "      <th>species</th>\n",
       "    </tr>\n",
       "  </thead>\n",
       "  <tbody>\n",
       "    <tr>\n",
       "      <th>0</th>\n",
       "      <td>5.1</td>\n",
       "      <td>3.5</td>\n",
       "      <td>1.4</td>\n",
       "      <td>0.2</td>\n",
       "      <td>setosa</td>\n",
       "    </tr>\n",
       "    <tr>\n",
       "      <th>1</th>\n",
       "      <td>4.9</td>\n",
       "      <td>3.0</td>\n",
       "      <td>1.4</td>\n",
       "      <td>0.2</td>\n",
       "      <td>setosa</td>\n",
       "    </tr>\n",
       "    <tr>\n",
       "      <th>2</th>\n",
       "      <td>4.7</td>\n",
       "      <td>3.2</td>\n",
       "      <td>1.3</td>\n",
       "      <td>0.2</td>\n",
       "      <td>setosa</td>\n",
       "    </tr>\n",
       "    <tr>\n",
       "      <th>3</th>\n",
       "      <td>4.6</td>\n",
       "      <td>3.1</td>\n",
       "      <td>1.5</td>\n",
       "      <td>0.2</td>\n",
       "      <td>setosa</td>\n",
       "    </tr>\n",
       "    <tr>\n",
       "      <th>4</th>\n",
       "      <td>5.0</td>\n",
       "      <td>3.6</td>\n",
       "      <td>1.4</td>\n",
       "      <td>0.2</td>\n",
       "      <td>setosa</td>\n",
       "    </tr>\n",
       "  </tbody>\n",
       "</table>\n",
       "</div>"
      ],
      "text/plain": [
       "   sepal_length  sepal_width  petal_length  petal_width species\n",
       "0           5.1          3.5           1.4          0.2  setosa\n",
       "1           4.9          3.0           1.4          0.2  setosa\n",
       "2           4.7          3.2           1.3          0.2  setosa\n",
       "3           4.6          3.1           1.5          0.2  setosa\n",
       "4           5.0          3.6           1.4          0.2  setosa"
      ]
     },
     "execution_count": 3,
     "metadata": {},
     "output_type": "execute_result"
    }
   ],
   "source": [
    "flowers.head()"
   ]
  },
  {
   "cell_type": "code",
   "execution_count": 4,
   "metadata": {
    "ExecuteTime": {
     "end_time": "2020-10-13T13:09:18.467266Z",
     "start_time": "2020-10-13T13:09:18.461972Z"
    }
   },
   "outputs": [],
   "source": [
    "# add a color for each species\n",
    "import pandas as pd\n",
    "\n",
    "colormap={'setosa': 'red', 'versicolor': 'green', 'virginica': 'blue'}\n",
    "flowers['color'] = [colormap[x] for x in flowers['species']]"
   ]
  },
  {
   "cell_type": "code",
   "execution_count": 5,
   "metadata": {
    "ExecuteTime": {
     "end_time": "2020-10-13T13:09:19.231464Z",
     "start_time": "2020-10-13T13:09:19.222328Z"
    }
   },
   "outputs": [],
   "source": [
    "# create the figure\n",
    "f = figure()"
   ]
  },
  {
   "cell_type": "code",
   "execution_count": 6,
   "metadata": {
    "ExecuteTime": {
     "end_time": "2020-10-13T13:09:20.088214Z",
     "start_time": "2020-10-13T13:09:20.085602Z"
    }
   },
   "outputs": [],
   "source": [
    "# get list of tools\n",
    "import bokeh.models\n",
    "# dir(bokeh.models.tools)"
   ]
  },
  {
   "cell_type": "code",
   "execution_count": 8,
   "metadata": {
    "ExecuteTime": {
     "end_time": "2020-10-13T13:10:32.646830Z",
     "start_time": "2020-10-13T13:10:32.241407Z"
    }
   },
   "outputs": [],
   "source": [
    "# work with tools \n",
    "# f.tools=[PanTool(), ResetTool()]\n",
    "# f.add_tools(HoverTool())\n",
    "# f.toolbar_location='above'\n",
    "# f.toolbar.logo=None\n",
    "f.add_tools(hover)\n",
    "hover=HoverTool(tooltips=[('Species','@species'), ('Sepal Width', '@sepal_width')])\n",
    "\n",
    "\n",
    "# add styles\n",
    "f.plot_width=1100\n",
    "f.plot_height=650\n",
    "f.background_fill_color='olive'\n",
    "f.background_fill_alpha=0.3\n",
    "f.border_fill_color=None\n",
    "\n",
    "# add and style the title\n",
    "f.title.text='Iris Morphology'\n",
    "f.title.text_color='orange'\n",
    "f.title.text_font='times'\n",
    "# being passed as params to CSS\n",
    "f.title.text_font_size='44px'\n",
    "f.title.align='center'\n",
    "\n",
    "# style the axes\n",
    "f.xaxis.major_tick_line_color='green'\n",
    "f.yaxis.major_label_orientation='horizontal'\n",
    "# control visibility\n",
    "f.xaxis.visible=True\n",
    "# f.xaxis.minor_tick_line_color=None\n",
    "# set the ticks inside and outside the line\n",
    "# use negative to set the ticks from the axis\n",
    "f.xaxis.minor_tick_in=-6\n",
    "f.xaxis.minor_tick_out=10\n",
    "f.xaxis.axis_label='Petal Length'\n",
    "f.yaxis.axis_label='Petal Width'\n",
    "f.axis.axis_label_text_color='blue'\n",
    "f.axis.major_label_text_color='orange'\n",
    "\n",
    "# axes geometry\n",
    "# f.x_range=Range1d(start=0, end=10, bounds=(3,5))\n",
    "# f.xaxis.bounds=(2,5)\n",
    "# f.axis[0].ticker.desired_num_ticks=2\n",
    "\n",
    "# style the grid\n",
    "f.xgrid.grid_line_color='green'\n",
    "f.ygrid.grid_line_color='green'\n",
    "f.ygrid.grid_line_alpha=1.0\n",
    "# (5,3) specifies fill and space in dashes\n",
    "f.grid.grid_line_dash=(5,6)\n",
    "\n",
    "\n",
    "# adding glyphs\n",
    "# style the glyphs with size and color\n",
    "# add filters to get the lgend to work\n",
    "# layer each series on the plot\n",
    "f.circle(x=flowers['petal_length'][flowers['species']=='setosa'],\n",
    "         y=flowers['petal_width'][flowers['species']=='setosa'],\n",
    "         size=flowers['sepal_width'][flowers['species']=='setosa']*4,\n",
    "         fill_alpha=0.2, color=flowers['color'][flowers['species']=='setosa'],\n",
    "         line_dash=(5,3), legend_label='Setosa')\n",
    "\n",
    "f.circle(x=flowers['petal_length'][flowers['species']=='versicolor'],\n",
    "         y=flowers['petal_width'][flowers['species']=='versicolor'],\n",
    "         size=flowers['sepal_width'][flowers['species']=='versicolor']*4,\n",
    "         fill_alpha=0.2, color=flowers['color'][flowers['species']=='versicolor'],\n",
    "         line_dash=(5,3), legend_label='Versicolor')\n",
    "\n",
    "f.circle(x=flowers['petal_length'][flowers['species']=='virginica'],\n",
    "         y=flowers['petal_width'][flowers['species']=='virginica'],\n",
    "         size=flowers['sepal_width'][flowers['species']=='virginica']*4,\n",
    "         fill_alpha=0.2, color=flowers['color'][flowers['species']=='virginica'],\n",
    "         line_dash=(5,3), legend_label='Virginica')\n",
    "\n",
    "# style the legend\n",
    "f.legend.location=(55,420)\n",
    "f.legend.location='top_left'\n",
    "\n",
    "f.legend.background_fill_alpha=0.6\n",
    "f.legend.border_line_color='green'\n",
    "f.legend.margin=10\n",
    "f.legend.padding=20\n",
    "f.legend.label_text_color='olive'\n",
    "f.legend.label_text_font='times'\n",
    "f.legend.label_text_font_size='18px'\n",
    "\n",
    "show(f, browser=\"safari\")"
   ]
  },
  {
   "cell_type": "code",
   "execution_count": null,
   "metadata": {},
   "outputs": [],
   "source": []
  }
 ],
 "metadata": {
  "kernelspec": {
   "display_name": "Python 3",
   "language": "python",
   "name": "python3"
  },
  "language_info": {
   "codemirror_mode": {
    "name": "ipython",
    "version": 3
   },
   "file_extension": ".py",
   "mimetype": "text/x-python",
   "name": "python",
   "nbconvert_exporter": "python",
   "pygments_lexer": "ipython3",
   "version": "3.6.8"
  }
 },
 "nbformat": 4,
 "nbformat_minor": 2
}
