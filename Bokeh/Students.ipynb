{
 "cells": [
  {
   "cell_type": "code",
   "execution_count": 1,
   "metadata": {
    "ExecuteTime": {
     "end_time": "2020-10-20T22:49:42.994729Z",
     "start_time": "2020-10-20T22:49:41.796830Z"
    }
   },
   "outputs": [],
   "source": [
    "# categorical axes\n",
    "#Importing libraries\n",
    "from bokeh.plotting import figure\n",
    "from bokeh.io import output_file, show\n",
    "from bokeh.sampledata.periodic_table import elements\n",
    "from bokeh.models import Range1d, PanTool, ResetTool, HoverTool, ColumnDataSource, Label, LabelSet\n",
    "\n",
    "\n",
    "\n",
    "# prepar the output\n",
    "output_file('students.html')\n",
    "\n",
    "# LabelSet requires ColumnDataSource\n",
    "source = ColumnDataSource(data=dict(average_grades=['B+', 'A', 'D-'],\n",
    "                                    exam_grades=['A+', 'C', 'D'],\n",
    "                                    students=['Stephan', 'Helder', 'Riazudidn']))\n",
    "\n",
    "# create the figure\n",
    "f = figure(x_range=['F', 'D-', 'D', 'D+', 'C-', 'C', 'C+', 'B-', 'B', 'B+', 'A-', 'A', 'A+'],\n",
    "           y_range=['F', 'D-', 'D', 'D+', 'C-', 'C', 'C+', 'B-', 'B', 'B+', 'A-', 'A', 'A+'])\n",
    "\n",
    "# add labels for glyphs\n",
    "f.circle(x='average_grades', y='exam_grades', size=8, source=source)\n",
    "\n",
    "# add labels for glyphs\n",
    "labels=LabelSet(x='average_grades',\n",
    "                y='exam_grades',\n",
    "                text='students',\n",
    "                x_offset=5,\n",
    "                y_offset=5,\n",
    "                source=source)\n",
    "\n",
    "\n",
    "# add annotation\n",
    "description=Label(x=7,y=1, text=\"This graphs shows average and exam grades for 3rd grade students\",\n",
    "                 render_mode='css')\n",
    "\n",
    "f.add_layout(labels)\n",
    "f.add_layout(description)\n",
    "\n",
    "# create the glyphs\n",
    "# f.circle(x=['A', 'B'], y=['C', 'D'], size=8)\n",
    "\n",
    "show(f)"
   ]
  },
  {
   "cell_type": "code",
   "execution_count": null,
   "metadata": {},
   "outputs": [],
   "source": []
  },
  {
   "cell_type": "code",
   "execution_count": null,
   "metadata": {},
   "outputs": [],
   "source": []
  }
 ],
 "metadata": {
  "kernelspec": {
   "display_name": "Python 3",
   "language": "python",
   "name": "python3"
  },
  "language_info": {
   "codemirror_mode": {
    "name": "ipython",
    "version": 3
   },
   "file_extension": ".py",
   "mimetype": "text/x-python",
   "name": "python",
   "nbconvert_exporter": "python",
   "pygments_lexer": "ipython3",
   "version": "3.6.8"
  }
 },
 "nbformat": 4,
 "nbformat_minor": 2
}
