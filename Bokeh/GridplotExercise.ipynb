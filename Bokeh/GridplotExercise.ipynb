{
 "cells": [
  {
   "cell_type": "code",
   "execution_count": 6,
   "metadata": {
    "ExecuteTime": {
     "end_time": "2020-10-15T13:20:02.577685Z",
     "start_time": "2020-10-15T13:20:02.572387Z"
    }
   },
   "outputs": [],
   "source": [
    "#Plotting periodic table elements \n",
    " \n",
    "#Importing libraries\n",
    "from bokeh.plotting import figure\n",
    "from bokeh.layouts import gridplot\n",
    "from bokeh.io import output_file, show\n",
    "from bokeh.sampledata.periodic_table import elements\n",
    "from bokeh.models import Range1d, PanTool, ResetTool, HoverTool, ColumnDataSource, LabelSet\n",
    "import pandas"
   ]
  },
  {
   "cell_type": "code",
   "execution_count": 7,
   "metadata": {
    "ExecuteTime": {
     "end_time": "2020-10-15T13:20:03.524393Z",
     "start_time": "2020-10-15T13:20:03.515959Z"
    }
   },
   "outputs": [],
   "source": [
    "#Remove rows with NaN values and then map standard states to colors\n",
    "elements.dropna(inplace=True) #if inplace is not set to True the changes are not written to the dataframe\n",
    "colormap = {'gas':'yellow', 'liquid':'orange', 'solid':'red'}\n",
    "elements['color'] = [colormap[x] for x in elements['standard state']]\n",
    "elements['size'] = elements[\"van der Waals radius\"] / 10\n",
    " "
   ]
  },
  {
   "cell_type": "code",
   "execution_count": 11,
   "metadata": {
    "ExecuteTime": {
     "end_time": "2020-10-15T13:21:46.233820Z",
     "start_time": "2020-10-15T13:21:45.843792Z"
    }
   },
   "outputs": [],
   "source": [
    "#Create three ColumnDataSources for elements of unique standard states\n",
    "gas = ColumnDataSource(elements[elements['standard state']=='gas'])\n",
    "liquid = ColumnDataSource(elements[elements['standard state']=='liquid'])\n",
    "solid = ColumnDataSource(elements[elements['standard state']=='solid'])\n",
    " \n",
    "#Define the output file path\n",
    "output_file(\"elements.html\")\n",
    " \n",
    "#Create the figure object\n",
    "f1 = figure()\n",
    "\n",
    "#adding glyphs\n",
    "f1.circle(x=\"atomic radius\", y=\"boiling point\", size='size', fill_alpha=0.2, color=\"color\",\n",
    "         legend_label='Gas',source=gas)\n",
    "\n",
    "f2 = figure()\n",
    "f2.circle(x=\"atomic radius\", y=\"boiling point\", size='size', fill_alpha=0.2, color=\"color\",\n",
    "         legend_label='Liquid', source=liquid)\n",
    "\n",
    "f3 = figure()\n",
    "f3.circle(x=\"atomic radius\", y=\"boiling point\", size='size', fill_alpha=0.2, color=\"color\",\n",
    "         legend_label='Solid', source=solid)\n",
    "\n",
    "\n",
    "# make a grid\n",
    "grid = gridplot([[f1, f2], [f3, None]], plot_width=400, plot_height=400)\n",
    "\n",
    "show(grid)"
   ]
  },
  {
   "cell_type": "code",
   "execution_count": null,
   "metadata": {},
   "outputs": [],
   "source": []
  }
 ],
 "metadata": {
  "kernelspec": {
   "display_name": "Python 3",
   "language": "python",
   "name": "python3"
  },
  "language_info": {
   "codemirror_mode": {
    "name": "ipython",
    "version": 3
   },
   "file_extension": ".py",
   "mimetype": "text/x-python",
   "name": "python",
   "nbconvert_exporter": "python",
   "pygments_lexer": "ipython3",
   "version": "3.6.8"
  }
 },
 "nbformat": 4,
 "nbformat_minor": 4
}
