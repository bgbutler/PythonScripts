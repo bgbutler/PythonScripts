{
 "cells": [
  {
   "cell_type": "code",
   "execution_count": 1,
   "metadata": {
    "ExecuteTime": {
     "end_time": "2020-10-15T13:03:17.429157Z",
     "start_time": "2020-10-15T13:03:17.422361Z"
    }
   },
   "outputs": [
    {
     "data": {
      "text/plain": [
       "'/Users/Bryan/Documents/Programming/Python_Courses/Bokeh'"
      ]
     },
     "execution_count": 1,
     "metadata": {},
     "output_type": "execute_result"
    }
   ],
   "source": [
    "import os\n",
    "os.getcwd()"
   ]
  },
  {
   "cell_type": "code",
   "execution_count": 12,
   "metadata": {
    "ExecuteTime": {
     "end_time": "2020-10-15T13:29:31.680080Z",
     "start_time": "2020-10-15T13:29:31.319190Z"
    }
   },
   "outputs": [],
   "source": [
    "# multiple grid plots with gridplot\n",
    "import bokeh\n",
    "from bokeh.layouts import gridplot\n",
    "from bokeh.io import output_file, show\n",
    "from bokeh.plotting import figure\n",
    "\n",
    "# add a span\n",
    "from bokeh.models.annotations import Span, BoxAnnotation\n",
    "\n",
    "# prepare the output file\n",
    "output_file('layout.html')\n",
    "\n",
    "# make some data\n",
    "x1,y1 = list(range(0,10)), list(range(10,20))\n",
    "x2,y2 = list(range(20,30)), list(range(30,40))\n",
    "x3,y3 = list(range(40,50)), list(range(50,60))\n",
    "\n",
    "# create the new plot\n",
    "f1 = figure(width=250, plot_height=250, title='Circles')\n",
    "f1.circle(x1,y1,size=10, color='navy', alpha=0.5)\n",
    "\n",
    "# create the new plot\n",
    "f2 = figure(width=250, plot_height=250, title='Triangles')\n",
    "f2.triangle(x2,y2,size=10, color='red', alpha=0.5)\n",
    "\n",
    "# create the new plot\n",
    "f3 = figure(width=250, plot_height=250, title='Squares')\n",
    "f3.square(x3,y3,size=10, color='green', alpha=0.5)\n",
    "\n",
    "# add a span as a vertical line\n",
    "span_4 = Span(location=4, dimension='height', line_color='green', line_width=2)\n",
    "\n",
    "# Box Annotation fill from 2 to 6\n",
    "box_2_6 = BoxAnnotation(left=2, right=6, fill_color='firebrick', fill_alpha=0.3)\n",
    "f1.add_layout(box_2_6)\n",
    "\n",
    "# add the instance\n",
    "f1.add_layout(span_4)\n",
    "\n",
    "\n",
    "\n",
    "# make a grid\n",
    "grid = gridplot([[f1, f2], [f3, None]])\n",
    "\n",
    "show(grid)"
   ]
  },
  {
   "cell_type": "code",
   "execution_count": null,
   "metadata": {},
   "outputs": [],
   "source": []
  }
 ],
 "metadata": {
  "kernelspec": {
   "display_name": "Python 3",
   "language": "python",
   "name": "python3"
  },
  "language_info": {
   "codemirror_mode": {
    "name": "ipython",
    "version": 3
   },
   "file_extension": ".py",
   "mimetype": "text/x-python",
   "name": "python",
   "nbconvert_exporter": "python",
   "pygments_lexer": "ipython3",
   "version": "3.6.8"
  }
 },
 "nbformat": 4,
 "nbformat_minor": 4
}
