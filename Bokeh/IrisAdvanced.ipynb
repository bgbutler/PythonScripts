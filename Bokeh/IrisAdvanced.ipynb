{
 "cells": [
  {
   "cell_type": "code",
   "execution_count": 1,
   "metadata": {
    "ExecuteTime": {
     "end_time": "2020-10-14T13:39:29.691417Z",
     "start_time": "2020-10-14T13:39:29.347235Z"
    }
   },
   "outputs": [],
   "source": [
    "import os\n",
    "os.getcwd()\n",
    "\n",
    "# add a color for each species\n",
    "import pandas as pd\n",
    "\n"
   ]
  },
  {
   "cell_type": "code",
   "execution_count": 10,
   "metadata": {
    "ExecuteTime": {
     "end_time": "2020-10-14T14:04:04.821065Z",
     "start_time": "2020-10-14T14:04:04.468698Z"
    }
   },
   "outputs": [],
   "source": [
    "# imports\n",
    "import bokeh\n",
    "from bokeh.plotting import figure\n",
    "from bokeh.io import output_file, show\n",
    "from bokeh.sampledata.iris import flowers\n",
    "from bokeh.models import Range1d, PanTool, ResetTool, HoverTool, ColumnDataSource\n",
    "\n",
    "\n",
    "colormap={'setosa': 'red', 'versicolor': 'green', 'virginica': 'blue'}\n",
    "flowers['color'] = [colormap[x] for x in flowers['species']]\n",
    "flowers['sepal_width_scaled'] = flowers['sepal_width'] * 4\n",
    "\n",
    "# url images\n",
    "urlmap = {'setosa':'https://upload.wikimedia.org/wikipedia/commons/thumb/5/56/Kosaciec_szczecinkowaty_Iris_setosa.jpg/800px-Kosaciec_szczecinkowaty_Iris_setosa.jpg',\n",
    "        'versicolor':'https://upload.wikimedia.org/wikipedia/commons/thumb/2/27/Blue_Flag%2C_Ottawa.jpg/800px-Blue_Flag%2C_Ottawa.jpg',\n",
    "        'virginica':'https://upload.wikimedia.org/wikipedia/commons/thumb/9/9f/Iris_virginica.jpg/800px-Iris_virginica.jpg'}\n",
    "flowers['imgs'] = [urlmap[x] for x in flowers['species']]\n",
    "\n",
    "\n",
    "setosa = ColumnDataSource(flowers[flowers['species'] == 'setosa'])\n",
    "versicolor = ColumnDataSource(flowers[flowers['species'] == 'versicolor'])\n",
    "virginica = ColumnDataSource(flowers[flowers['species'] == 'virginica'])\n",
    "\n",
    "# define the output file path\n",
    "output_file('iris.html')\n",
    "\n",
    "\n",
    "f=figure()\n",
    "\n",
    "# adding glyphs\n",
    "# style the glyphs with size and color\n",
    "# add filters to get the lgend to work\n",
    "# layer each series on the plot\n",
    "f.circle(x='petal_length',\n",
    "         y='petal_width',\n",
    "         size='sepal_width_scaled',\n",
    "         fill_alpha=0.2, color='color',\n",
    "         line_dash=(5,3), legend_label='Setosa', source=setosa)\n",
    "\n",
    "f.circle(x='petal_length',\n",
    "         y='petal_width',\n",
    "         size='sepal_width_scaled',\n",
    "         fill_alpha=0.2, color='color',\n",
    "         line_dash=(5,3), legend_label='Versicolor', source=versicolor)\n",
    "\n",
    "f.circle(x='petal_length',\n",
    "         y='petal_width',\n",
    "         size='sepal_width_scaled',\n",
    "         fill_alpha=0.2, color='color',\n",
    "         line_dash=(5,3), legend_label='Virginica', source=virginica)\n",
    "\n",
    "\n",
    "# work with tools \n",
    "f.tools=[PanTool(), ResetTool()]\n",
    "f.toolbar_location='above'\n",
    "f.toolbar.logo=None\n",
    "# hover=HoverTool(tooltips=[('Species','@species'), ('Sepal Width', '@sepal_width')])\n",
    "# use HTML for HoverTool\n",
    "hover=HoverTool(tooltips=\"\"\"\n",
    "     <div>\n",
    "            <div>\n",
    "                <img\n",
    "                    src=\"@imgs\" height=\"42\" alt=\"@imgs\" width=\"42\"\n",
    "                    style=\"float: left; margin: 0px 15px 15px 0px;\"\n",
    "                    border=\"2\"\n",
    "                ></img>\n",
    "            </div>\n",
    "            <div>\n",
    "                <span style=\"font-size: 15px; font-weight: bold;\">@species</span>\n",
    "            </div>\n",
    "            <div>\n",
    "                <span style=\"font-size: 10px; color: #696;\">Petal length: @petal_length</span><br>\n",
    "                <span style=\"font-size: 10px; color: #696;\">Petal width: @petal_width</span>\n",
    "            </div>\n",
    "        </div>\n",
    "\"\"\")\n",
    "f.add_tools(hover)\n",
    "\n",
    "\n",
    "\n",
    "# style the legend\n",
    "f.legend.location=(55,420)\n",
    "f.legend.location='top_left'\n",
    "\n",
    "f.legend.background_fill_alpha=0.6\n",
    "f.legend.border_line_color='green'\n",
    "f.legend.margin=10\n",
    "f.legend.padding=20\n",
    "f.legend.label_text_color='olive'\n",
    "f.legend.label_text_font='times'\n",
    "f.legend.label_text_font_size='18px'\n",
    "\n",
    "show(f, browser=\"safari\")"
   ]
  },
  {
   "cell_type": "code",
   "execution_count": null,
   "metadata": {
    "ExecuteTime": {
     "end_time": "2020-10-13T13:37:09.624312Z",
     "start_time": "2020-10-13T13:37:09.610832Z"
    }
   },
   "outputs": [],
   "source": [
    "setosa.data"
   ]
  },
  {
   "cell_type": "code",
   "execution_count": null,
   "metadata": {
    "ExecuteTime": {
     "end_time": "2020-10-13T13:38:44.118619Z",
     "start_time": "2020-10-13T13:38:44.112342Z"
    }
   },
   "outputs": [],
   "source": [
    "pw = setosa.data['petal_width']\n",
    "pw"
   ]
  },
  {
   "cell_type": "code",
   "execution_count": null,
   "metadata": {
    "ExecuteTime": {
     "end_time": "2020-10-13T13:39:26.947625Z",
     "start_time": "2020-10-13T13:39:26.942965Z"
    }
   },
   "outputs": [],
   "source": [
    "type(setosa.data)"
   ]
  },
  {
   "cell_type": "code",
   "execution_count": null,
   "metadata": {
    "ExecuteTime": {
     "end_time": "2020-10-13T13:39:54.222000Z",
     "start_time": "2020-10-13T13:39:54.215910Z"
    }
   },
   "outputs": [],
   "source": [
    "max(pw)"
   ]
  },
  {
   "cell_type": "code",
   "execution_count": null,
   "metadata": {
    "ExecuteTime": {
     "end_time": "2020-10-14T13:04:58.871423Z",
     "start_time": "2020-10-14T13:04:58.864721Z"
    }
   },
   "outputs": [],
   "source": [
    "setosa.data['petal_length']"
   ]
  },
  {
   "cell_type": "code",
   "execution_count": null,
   "metadata": {},
   "outputs": [],
   "source": []
  }
 ],
 "metadata": {
  "kernelspec": {
   "display_name": "Python 3",
   "language": "python",
   "name": "python3"
  },
  "language_info": {
   "codemirror_mode": {
    "name": "ipython",
    "version": 3
   },
   "file_extension": ".py",
   "mimetype": "text/x-python",
   "name": "python",
   "nbconvert_exporter": "python",
   "pygments_lexer": "ipython3",
   "version": "3.6.8"
  }
 },
 "nbformat": 4,
 "nbformat_minor": 4
}
