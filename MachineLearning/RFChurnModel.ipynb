{
 "cells": [
  {
   "cell_type": "code",
   "execution_count": null,
   "metadata": {
    "collapsed": true
   },
   "outputs": [],
   "source": [
    "# import the libraries\n",
    "import numpy as np\n",
    "\n",
    "import matplotlib as mpl\n",
    "import matplotlib.pyplot as plt\n",
    "import seaborn as sns\n",
    "%matplotlib inline\n",
    "\n",
    "import pandas as pd\n",
    "\n",
    "\n",
    "\n",
    "########## LOAD DATA SET AND PREP\n",
    "# load the data set\n",
    "import os\n",
    "\n",
    "dataFile = os.path.normpath(\"C:/Users/n846490/Documents/Python Scripts/SurvivalAnalysis/ChurnModelFiles/CleanAttritionDataForML.csv\")\n",
    "dataset = pd.read_csv(dataFile, index_col=0)\n",
    "\n",
    "# create the X and y values\n",
    "X = dataset.iloc[:, 0:26].values\n",
    "y = dataset.iloc[:, 26].values\n",
    "\n",
    "# Splitting the dataset into the Training set and Test set\n",
    "from sklearn.cross_validation import train_test_split\n",
    "X_train, X_test, y_train, y_test = train_test_split(X, y, test_size = 0.25, random_state = 0)\n",
    "\n",
    "# Feature Scaling\n",
    "from sklearn.preprocessing import StandardScaler\n",
    "sc = StandardScaler()\n",
    "X_train = sc.fit_transform(X_train)\n",
    "X_test = sc.transform(X_test)"
   ]
  },
  {
   "cell_type": "code",
   "execution_count": null,
   "metadata": {
    "collapsed": false
   },
   "outputs": [],
   "source": [
    "# Fitting Random Forest Classification to the Training set\n",
    "# max number of trees = 100\n",
    "from sklearn.ensemble import RandomForestClassifier\n",
    "classifier = RandomForestClassifier(n_estimators = 100, criterion = 'entropy', random_state = 0)\n",
    "classifier.fit(X_train, y_train)\n",
    "\n",
    "# Predicting the Test set results\n",
    "y_pred = classifier.predict(X_test)\n",
    "\n",
    "# Making the Confusion Matrix\n",
    "from sklearn.metrics import confusion_matrix\n",
    "cm = confusion_matrix(y_test, y_pred)\n",
    "cm"
   ]
  },
  {
   "cell_type": "code",
   "execution_count": null,
   "metadata": {
    "collapsed": false
   },
   "outputs": [],
   "source": [
    "# calculate accuracy\n",
    "acc = cm[0,0] + cm[1,1]\n",
    "miss = cm[0,1] + cm[1,0]\n",
    "\n",
    "totAcc = acc/(miss + acc)\n",
    "totAcc"
   ]
  },
  {
   "cell_type": "code",
   "execution_count": null,
   "metadata": {
    "collapsed": false
   },
   "outputs": [],
   "source": [
    "dumb = cm[0,0]/(miss + acc)\n",
    "dumb"
   ]
  },
  {
   "cell_type": "code",
   "execution_count": null,
   "metadata": {
    "collapsed": true
   },
   "outputs": [],
   "source": [
    "# get the variable importance\n",
    "importances = classifier.feature_importances_\n",
    "indices = np.argsort(importances)\n",
    "features = dataset.columns[0:26]"
   ]
  },
  {
   "cell_type": "code",
   "execution_count": null,
   "metadata": {
    "collapsed": false
   },
   "outputs": [],
   "source": [
    "plt.figure(1)\n",
    "\n",
    "plt.figure(figsize = (10,8))\n",
    "\n",
    "plt.title('Feature Importances', size = 20)\n",
    "plt.barh(range(len(indices)), importances[indices], color='skyblue', align='center')\n",
    "plt.yticks(range(len(indices)), features[indices], size = 14)\n",
    "plt.xticks(size = 14)\n",
    "plt.xlabel('Relative Importance', fontsize = 14)"
   ]
  },
  {
   "cell_type": "code",
   "execution_count": null,
   "metadata": {
    "collapsed": false
   },
   "outputs": [],
   "source": [
    "# get the roc curve and auc\n",
    "from sklearn import metrics\n",
    "preds = classifier.predict_proba(X_test)[:,1]\n",
    "fpr, tpr, _ = metrics.roc_curve(y_test, preds)\n",
    "roc_auc = metrics.auc(fpr, tpr)\n",
    "roc_auc\n",
    "\n",
    "# plot the curve from the data frame\n",
    "rocDf = pd.DataFrame(dict(fpr=fpr, tpr= tpr))\n",
    "rocDf.shape[0]\n",
    "\n",
    "\n",
    "plt.figure(figsize = (10,8))\n",
    "plt.title('Receiver Operating Characteristic', fontsize = 20)\n",
    "plt.plot(rocDf.fpr, rocDf.tpr, 'b',label='AUC = %0.2f'% roc_auc)\n",
    "plt.legend(loc='lower right', fontsize = 12)\n",
    "plt.plot([0,1],[0,1],'r--')\n",
    "plt.xlim([-0.1,1.1])\n",
    "plt.ylim([-0.1,1.1])\n",
    "plt.ylabel('True Positive Rate', fontsize = 14)\n",
    "plt.xlabel('False Positive Rate', fontsize = 14)\n",
    "plt.xticks(size = 12)\n",
    "plt.yticks(size = 12)\n",
    "plt.show()"
   ]
  },
  {
   "cell_type": "code",
   "execution_count": null,
   "metadata": {
    "collapsed": true
   },
   "outputs": [],
   "source": [
    "# get some tree information\n",
    "from sklearn.tree import export_graphviz\n",
    "import pydotplus\n",
    "\n",
    "os.getcwd() \n",
    "os.chdir(os.path.normpath('C:/Users/n846490/Documents/DataScience/OutputsMapsEtc'))"
   ]
  },
  {
   "cell_type": "code",
   "execution_count": null,
   "metadata": {
    "collapsed": false
   },
   "outputs": [],
   "source": [
    "# check the key variable\n",
    "\n",
    "dataset.groupby('CheckingOpen').agg({'LeftBank' : pd.Series.count})"
   ]
  },
  {
   "cell_type": "code",
   "execution_count": null,
   "metadata": {
    "collapsed": false
   },
   "outputs": [],
   "source": [
    "dataset['CheckingOpen'].describe()"
   ]
  },
  {
   "cell_type": "code",
   "execution_count": null,
   "metadata": {
    "collapsed": true
   },
   "outputs": [],
   "source": []
  }
 ],
 "metadata": {
  "kernelspec": {
   "display_name": "Python [Root]",
   "language": "python",
   "name": "Python [Root]"
  },
  "language_info": {
   "codemirror_mode": {
    "name": "ipython",
    "version": 3
   },
   "file_extension": ".py",
   "mimetype": "text/x-python",
   "name": "python",
   "nbconvert_exporter": "python",
   "pygments_lexer": "ipython3",
   "version": "3.5.1"
  }
 },
 "nbformat": 4,
 "nbformat_minor": 0
}
