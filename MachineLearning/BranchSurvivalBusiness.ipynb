{
 "cells": [
  {
   "cell_type": "code",
   "execution_count": 1,
   "metadata": {
    "collapsed": true
   },
   "outputs": [],
   "source": [
    "import lifelines as lf\n",
    "import pandas as pd\n",
    "import numpy as np\n",
    "from pandas import Series, DataFrame\n",
    "import os\n",
    "\n",
    "import matplotlib.pyplot as plt\n",
    "%matplotlib inline"
   ]
  },
  {
   "cell_type": "code",
   "execution_count": 2,
   "metadata": {
    "collapsed": false
   },
   "outputs": [],
   "source": [
    "#load the two differenet data sets\n",
    "activeData = os.path.normpath(\"C:/Users/n846490/Documents/DataScience/CSVs/SurviveActive.csv\")\n",
    "active = pd.read_csv(activeData)\n",
    "\n",
    "attritionData = os.path.normpath(\"C:/Users/n846490/Documents/DataScience/CSVs/SurviveAttrition.csv\")\n",
    "attrition = pd.read_csv(attritionData)"
   ]
  },
  {
   "cell_type": "code",
   "execution_count": 5,
   "metadata": {
    "collapsed": false
   },
   "outputs": [
    {
     "data": {
      "text/html": [
       "<div>\n",
       "<table border=\"1\" class=\"dataframe\">\n",
       "  <thead>\n",
       "    <tr style=\"text-align: right;\">\n",
       "      <th></th>\n",
       "      <th>EffDate</th>\n",
       "      <th>ID</th>\n",
       "      <th>CostCtr</th>\n",
       "      <th>JobCode</th>\n",
       "      <th>JobTitle</th>\n",
       "      <th>HireDate</th>\n",
       "      <th>Network</th>\n",
       "      <th>Duration</th>\n",
       "      <th>MC</th>\n",
       "      <th>ProdCat</th>\n",
       "      <th>JobGroup</th>\n",
       "      <th>Observed</th>\n",
       "    </tr>\n",
       "  </thead>\n",
       "  <tbody>\n",
       "    <tr>\n",
       "      <th>0</th>\n",
       "      <td>9/5/2016</td>\n",
       "      <td>642000</td>\n",
       "      <td>52</td>\n",
       "      <td>7766</td>\n",
       "      <td>Retail Banking PB Rep I-SBS</td>\n",
       "      <td>7/20/2015</td>\n",
       "      <td>X</td>\n",
       "      <td>14</td>\n",
       "      <td>X</td>\n",
       "      <td>Banker</td>\n",
       "      <td>PBR</td>\n",
       "      <td>0</td>\n",
       "    </tr>\n",
       "    <tr>\n",
       "      <th>1</th>\n",
       "      <td>9/5/2016</td>\n",
       "      <td>630006</td>\n",
       "      <td>2204</td>\n",
       "      <td>7766</td>\n",
       "      <td>Retail Banking PB Rep I-SBS</td>\n",
       "      <td>7/11/2011</td>\n",
       "      <td>X</td>\n",
       "      <td>62</td>\n",
       "      <td>X</td>\n",
       "      <td>Banker</td>\n",
       "      <td>PBR</td>\n",
       "      <td>0</td>\n",
       "    </tr>\n",
       "    <tr>\n",
       "      <th>2</th>\n",
       "      <td>9/5/2016</td>\n",
       "      <td>635935</td>\n",
       "      <td>2119</td>\n",
       "      <td>7766</td>\n",
       "      <td>Retail Banking PB Rep I-SBS</td>\n",
       "      <td>8/12/2013</td>\n",
       "      <td>X</td>\n",
       "      <td>37</td>\n",
       "      <td>X</td>\n",
       "      <td>Banker</td>\n",
       "      <td>PBR</td>\n",
       "      <td>0</td>\n",
       "    </tr>\n",
       "    <tr>\n",
       "      <th>3</th>\n",
       "      <td>9/5/2016</td>\n",
       "      <td>640860</td>\n",
       "      <td>2105</td>\n",
       "      <td>7766</td>\n",
       "      <td>Retail Banking PB Rep I-SBS</td>\n",
       "      <td>3/30/2015</td>\n",
       "      <td>X</td>\n",
       "      <td>18</td>\n",
       "      <td>X</td>\n",
       "      <td>Banker</td>\n",
       "      <td>PBR</td>\n",
       "      <td>0</td>\n",
       "    </tr>\n",
       "    <tr>\n",
       "      <th>4</th>\n",
       "      <td>9/5/2016</td>\n",
       "      <td>636705</td>\n",
       "      <td>2120</td>\n",
       "      <td>7766</td>\n",
       "      <td>Retail Banking PB Rep I-SBS</td>\n",
       "      <td>11/4/2013</td>\n",
       "      <td>X</td>\n",
       "      <td>34</td>\n",
       "      <td>X</td>\n",
       "      <td>Banker</td>\n",
       "      <td>PBR</td>\n",
       "      <td>0</td>\n",
       "    </tr>\n",
       "  </tbody>\n",
       "</table>\n",
       "</div>"
      ],
      "text/plain": [
       "    EffDate      ID  CostCtr JobCode                     JobTitle   HireDate  \\\n",
       "0  9/5/2016  642000       52    7766  Retail Banking PB Rep I-SBS  7/20/2015   \n",
       "1  9/5/2016  630006     2204    7766  Retail Banking PB Rep I-SBS  7/11/2011   \n",
       "2  9/5/2016  635935     2119    7766  Retail Banking PB Rep I-SBS  8/12/2013   \n",
       "3  9/5/2016  640860     2105    7766  Retail Banking PB Rep I-SBS  3/30/2015   \n",
       "4  9/5/2016  636705     2120    7766  Retail Banking PB Rep I-SBS  11/4/2013   \n",
       "\n",
       "  Network  Duration MC ProdCat JobGroup  Observed  \n",
       "0       X        14  X  Banker      PBR         0  \n",
       "1       X        62  X  Banker      PBR         0  \n",
       "2       X        37  X  Banker      PBR         0  \n",
       "3       X        18  X  Banker      PBR         0  \n",
       "4       X        34  X  Banker      PBR         0  "
      ]
     },
     "execution_count": 5,
     "metadata": {},
     "output_type": "execute_result"
    }
   ],
   "source": [
    "active.head()"
   ]
  },
  {
   "cell_type": "code",
   "execution_count": 4,
   "metadata": {
    "collapsed": false
   },
   "outputs": [],
   "source": [
    "active.columns = ['EffDate', 'ID', 'CostCtr', 'JobCode', 'JobTitle', 'HireDate', 'Network', 'Duration', 'MC',\n",
    "                 'ProdCat', 'JobGroup', 'Observed']"
   ]
  },
  {
   "cell_type": "code",
   "execution_count": 8,
   "metadata": {
    "collapsed": false,
    "scrolled": false
   },
   "outputs": [
    {
     "data": {
      "text/html": [
       "<div>\n",
       "<table border=\"1\" class=\"dataframe\">\n",
       "  <thead>\n",
       "    <tr style=\"text-align: right;\">\n",
       "      <th></th>\n",
       "      <th>EffDate</th>\n",
       "      <th>ID</th>\n",
       "      <th>JobTitle</th>\n",
       "      <th>CostCtr</th>\n",
       "      <th>LocnCode</th>\n",
       "      <th>HireDate</th>\n",
       "      <th>TermDate</th>\n",
       "      <th>Duration</th>\n",
       "      <th>MC</th>\n",
       "      <th>ProdCat</th>\n",
       "      <th>JobGroup</th>\n",
       "      <th>Observed</th>\n",
       "    </tr>\n",
       "  </thead>\n",
       "  <tbody>\n",
       "    <tr>\n",
       "      <th>0</th>\n",
       "      <td>8/29/2016</td>\n",
       "      <td>639603</td>\n",
       "      <td>Retail Banking PB Rep II-SBS</td>\n",
       "      <td>2284</td>\n",
       "      <td>2284</td>\n",
       "      <td>10/6/2014</td>\n",
       "      <td>7/8/2016</td>\n",
       "      <td>21</td>\n",
       "      <td>X</td>\n",
       "      <td>Banker</td>\n",
       "      <td>PBR</td>\n",
       "      <td>1</td>\n",
       "    </tr>\n",
       "    <tr>\n",
       "      <th>1</th>\n",
       "      <td>8/29/2016</td>\n",
       "      <td>629575</td>\n",
       "      <td>Retail Banking PB Rep II-SBS</td>\n",
       "      <td>34</td>\n",
       "      <td>34</td>\n",
       "      <td>5/23/2011</td>\n",
       "      <td>7/5/2016</td>\n",
       "      <td>62</td>\n",
       "      <td>X</td>\n",
       "      <td>Banker</td>\n",
       "      <td>PBR</td>\n",
       "      <td>1</td>\n",
       "    </tr>\n",
       "    <tr>\n",
       "      <th>2</th>\n",
       "      <td>8/29/2016</td>\n",
       "      <td>637084</td>\n",
       "      <td>Universal Banker I - SBS</td>\n",
       "      <td>2122</td>\n",
       "      <td>2122</td>\n",
       "      <td>12/30/2013</td>\n",
       "      <td>6/28/2016</td>\n",
       "      <td>30</td>\n",
       "      <td>X</td>\n",
       "      <td>Banker</td>\n",
       "      <td>UB</td>\n",
       "      <td>1</td>\n",
       "    </tr>\n",
       "    <tr>\n",
       "      <th>3</th>\n",
       "      <td>8/29/2016</td>\n",
       "      <td>628893</td>\n",
       "      <td>Branch Manager</td>\n",
       "      <td>2131</td>\n",
       "      <td>2131</td>\n",
       "      <td>2/14/2011</td>\n",
       "      <td>8/5/2016</td>\n",
       "      <td>66</td>\n",
       "      <td>X</td>\n",
       "      <td>BM</td>\n",
       "      <td>BM</td>\n",
       "      <td>1</td>\n",
       "    </tr>\n",
       "    <tr>\n",
       "      <th>4</th>\n",
       "      <td>8/29/2016</td>\n",
       "      <td>632836</td>\n",
       "      <td>Branch Manager</td>\n",
       "      <td>2111</td>\n",
       "      <td>2111</td>\n",
       "      <td>7/9/2012</td>\n",
       "      <td>5/31/2016</td>\n",
       "      <td>46</td>\n",
       "      <td>X</td>\n",
       "      <td>BM</td>\n",
       "      <td>BM</td>\n",
       "      <td>1</td>\n",
       "    </tr>\n",
       "  </tbody>\n",
       "</table>\n",
       "</div>"
      ],
      "text/plain": [
       "     EffDate      ID                      JobTitle  CostCtr  LocnCode  \\\n",
       "0  8/29/2016  639603  Retail Banking PB Rep II-SBS     2284      2284   \n",
       "1  8/29/2016  629575  Retail Banking PB Rep II-SBS       34        34   \n",
       "2  8/29/2016  637084      Universal Banker I - SBS     2122      2122   \n",
       "3  8/29/2016  628893                Branch Manager     2131      2131   \n",
       "4  8/29/2016  632836                Branch Manager     2111      2111   \n",
       "\n",
       "     HireDate   TermDate  Duration MC ProdCat JobGroup  Observed  \n",
       "0   10/6/2014   7/8/2016        21  X  Banker      PBR         1  \n",
       "1   5/23/2011   7/5/2016        62  X  Banker      PBR         1  \n",
       "2  12/30/2013  6/28/2016        30  X  Banker       UB         1  \n",
       "3   2/14/2011   8/5/2016        66  X      BM       BM         1  \n",
       "4    7/9/2012  5/31/2016        46  X      BM       BM         1  "
      ]
     },
     "execution_count": 8,
     "metadata": {},
     "output_type": "execute_result"
    }
   ],
   "source": [
    "attrition.head()"
   ]
  },
  {
   "cell_type": "code",
   "execution_count": 7,
   "metadata": {
    "collapsed": false
   },
   "outputs": [],
   "source": [
    "attrition.columns = ['EffDate', 'ID', 'JobTitle','CostCtr', 'LocnCode', 'HireDate', 'TermDate', 'Duration', 'MC', 'ProdCat', 'JobGroup', 'Observed']"
   ]
  },
  {
   "cell_type": "code",
   "execution_count": 9,
   "metadata": {
    "collapsed": false
   },
   "outputs": [
    {
     "data": {
      "text/html": [
       "<div>\n",
       "<table border=\"1\" class=\"dataframe\">\n",
       "  <thead>\n",
       "    <tr style=\"text-align: right;\">\n",
       "      <th></th>\n",
       "      <th>ProdCat</th>\n",
       "      <th>JobGroup</th>\n",
       "      <th>Duration</th>\n",
       "      <th>Observed</th>\n",
       "    </tr>\n",
       "  </thead>\n",
       "  <tbody>\n",
       "    <tr>\n",
       "      <th>0</th>\n",
       "      <td>Banker</td>\n",
       "      <td>PBR</td>\n",
       "      <td>21</td>\n",
       "      <td>1</td>\n",
       "    </tr>\n",
       "    <tr>\n",
       "      <th>1</th>\n",
       "      <td>Banker</td>\n",
       "      <td>PBR</td>\n",
       "      <td>62</td>\n",
       "      <td>1</td>\n",
       "    </tr>\n",
       "    <tr>\n",
       "      <th>2</th>\n",
       "      <td>Banker</td>\n",
       "      <td>UB</td>\n",
       "      <td>30</td>\n",
       "      <td>1</td>\n",
       "    </tr>\n",
       "    <tr>\n",
       "      <th>3</th>\n",
       "      <td>BM</td>\n",
       "      <td>BM</td>\n",
       "      <td>66</td>\n",
       "      <td>1</td>\n",
       "    </tr>\n",
       "    <tr>\n",
       "      <th>4</th>\n",
       "      <td>BM</td>\n",
       "      <td>BM</td>\n",
       "      <td>46</td>\n",
       "      <td>1</td>\n",
       "    </tr>\n",
       "  </tbody>\n",
       "</table>\n",
       "</div>"
      ],
      "text/plain": [
       "  ProdCat JobGroup  Duration  Observed\n",
       "0  Banker      PBR        21         1\n",
       "1  Banker      PBR        62         1\n",
       "2  Banker       UB        30         1\n",
       "3      BM       BM        66         1\n",
       "4      BM       BM        46         1"
      ]
     },
     "execution_count": 9,
     "metadata": {},
     "output_type": "execute_result"
    }
   ],
   "source": [
    "#Select and stack the dataframes into one\n",
    "att = attrition[['ProdCat', 'JobGroup', 'Duration', 'Observed']]\n",
    "\n",
    "act = active[['ProdCat', 'JobGroup', 'Duration', 'Observed']]\n",
    "\n",
    "frames = [att, act]\n",
    "\n",
    "allData = pd.concat(frames)\n",
    "\n",
    "allData.head()\n",
    "#allData.tail()"
   ]
  },
  {
   "cell_type": "code",
   "execution_count": 10,
   "metadata": {
    "collapsed": false
   },
   "outputs": [
    {
     "name": "stdout",
     "output_type": "stream",
     "text": [
      "<class 'pandas.core.frame.DataFrame'>\n",
      "Int64Index: 5360 entries, 0 to 4058\n",
      "Data columns (total 4 columns):\n",
      "ProdCat     5360 non-null object\n",
      "JobGroup    5360 non-null object\n",
      "Duration    5360 non-null int64\n",
      "Observed    5360 non-null int64\n",
      "dtypes: int64(2), object(2)\n",
      "memory usage: 209.4+ KB\n"
     ]
    }
   ],
   "source": [
    "# get the info on the stacked data\n",
    "allData.info()"
   ]
  },
  {
   "cell_type": "code",
   "execution_count": 11,
   "metadata": {
    "collapsed": false
   },
   "outputs": [],
   "source": [
    "#write the combined data to a csv for storing\n",
    "\n",
    "allData.to_csv(os.path.normpath(\"C:/Users/n846490/Documents/DataScience/CSVs/combinedAttrtionData2016.csv\"))"
   ]
  },
  {
   "cell_type": "code",
   "execution_count": 12,
   "metadata": {
    "collapsed": true
   },
   "outputs": [],
   "source": [
    "#first try the KaplainMeierFitter\n",
    "from lifelines import KaplanMeierFitter\n",
    "kmf = KaplanMeierFitter()"
   ]
  },
  {
   "cell_type": "code",
   "execution_count": 13,
   "metadata": {
    "collapsed": false
   },
   "outputs": [
    {
     "data": {
      "text/plain": [
       "<lifelines.KaplanMeierFitter: fitted with 5360 observations, 4059 censored>"
      ]
     },
     "execution_count": 13,
     "metadata": {},
     "output_type": "execute_result"
    }
   ],
   "source": [
    "T = allData[\"Duration\"]\n",
    "C = allData[\"Observed\"]\n",
    "\n",
    "kmf.fit(T, event_observed=C)"
   ]
  },
  {
   "cell_type": "code",
   "execution_count": 14,
   "metadata": {
    "collapsed": false
   },
   "outputs": [
    {
     "data": {
      "text/plain": [
       "<matplotlib.text.Text at 0xb402400>"
      ]
     },
     "execution_count": 14,
     "metadata": {},
     "output_type": "execute_result"
    },
    {
     "data": {
      "image/png": "[encoded data removed]",
      "text/plain": [
       "<matplotlib.figure.Figure at 0x4cd0940>"
      ]
     },
     "metadata": {},
     "output_type": "display_data"
    }
   ],
   "source": [
    "kmf.survival_function_.plot(figsize = (15,7))\n",
    "plt.title('Survival Function of Santander Branch Employees')"
   ]
  },
  {
   "cell_type": "code",
   "execution_count": 15,
   "metadata": {
    "collapsed": false
   },
   "outputs": [
    {
     "data": {
      "text/plain": [
       "<matplotlib.axes._subplots.AxesSubplot at 0xb454588>"
      ]
     },
     "execution_count": 15,
     "metadata": {},
     "output_type": "execute_result"
    },
    {
     "data": {
      "image/png": "[encoded data removed]",
      "text/plain": [
       "<matplotlib.figure.Figure at 0xb3cd860>"
      ]
     },
     "metadata": {},
     "output_type": "display_data"
    }
   ],
   "source": [
    "kmf.plot(figsize = (15,7))"
   ]
  },
  {
   "cell_type": "code",
   "execution_count": 16,
   "metadata": {
    "collapsed": false
   },
   "outputs": [
    {
     "data": {
      "text/plain": [
       "458.0"
      ]
     },
     "execution_count": 16,
     "metadata": {},
     "output_type": "execute_result"
    }
   ],
   "source": [
    "#find the median time people stay\n",
    "kmf.median_"
   ]
  },
  {
   "cell_type": "code",
   "execution_count": 17,
   "metadata": {
    "collapsed": false
   },
   "outputs": [
    {
     "data": {
      "text/plain": [
       "38.166666666666664"
      ]
     },
     "execution_count": 17,
     "metadata": {},
     "output_type": "execute_result"
    }
   ],
   "source": [
    "458/12"
   ]
  },
  {
   "cell_type": "code",
   "execution_count": 18,
   "metadata": {
    "collapsed": false
   },
   "outputs": [
    {
     "data": {
      "text/html": [
       "<div>\n",
       "<table border=\"1\" class=\"dataframe\">\n",
       "  <thead>\n",
       "    <tr style=\"text-align: right;\">\n",
       "      <th></th>\n",
       "      <th>JobGroup</th>\n",
       "      <th>Duration</th>\n",
       "      <th>Observed</th>\n",
       "    </tr>\n",
       "    <tr>\n",
       "      <th>ProdCat</th>\n",
       "      <th></th>\n",
       "      <th></th>\n",
       "      <th></th>\n",
       "    </tr>\n",
       "  </thead>\n",
       "  <tbody>\n",
       "    <tr>\n",
       "      <th>BBRM</th>\n",
       "      <td>8</td>\n",
       "      <td>8</td>\n",
       "      <td>8</td>\n",
       "    </tr>\n",
       "    <tr>\n",
       "      <th>BM</th>\n",
       "      <td>781</td>\n",
       "      <td>781</td>\n",
       "      <td>781</td>\n",
       "    </tr>\n",
       "    <tr>\n",
       "      <th>BOM</th>\n",
       "      <td>567</td>\n",
       "      <td>567</td>\n",
       "      <td>567</td>\n",
       "    </tr>\n",
       "    <tr>\n",
       "      <th>Banker</th>\n",
       "      <td>1795</td>\n",
       "      <td>1795</td>\n",
       "      <td>1795</td>\n",
       "    </tr>\n",
       "    <tr>\n",
       "      <th>DE</th>\n",
       "      <td>47</td>\n",
       "      <td>47</td>\n",
       "      <td>47</td>\n",
       "    </tr>\n",
       "    <tr>\n",
       "      <th>FC</th>\n",
       "      <td>46</td>\n",
       "      <td>46</td>\n",
       "      <td>46</td>\n",
       "    </tr>\n",
       "    <tr>\n",
       "      <th>MDO</th>\n",
       "      <td>37</td>\n",
       "      <td>37</td>\n",
       "      <td>37</td>\n",
       "    </tr>\n",
       "    <tr>\n",
       "      <th>Morg RSM</th>\n",
       "      <td>3</td>\n",
       "      <td>3</td>\n",
       "      <td>3</td>\n",
       "    </tr>\n",
       "    <tr>\n",
       "      <th>SBRM</th>\n",
       "      <td>33</td>\n",
       "      <td>33</td>\n",
       "      <td>33</td>\n",
       "    </tr>\n",
       "    <tr>\n",
       "      <th>Teller</th>\n",
       "      <td>1790</td>\n",
       "      <td>1790</td>\n",
       "      <td>1790</td>\n",
       "    </tr>\n",
       "    <tr>\n",
       "      <th>UOS</th>\n",
       "      <td>253</td>\n",
       "      <td>253</td>\n",
       "      <td>253</td>\n",
       "    </tr>\n",
       "  </tbody>\n",
       "</table>\n",
       "</div>"
      ],
      "text/plain": [
       "          JobGroup  Duration  Observed\n",
       "ProdCat                               \n",
       "BBRM             8         8         8\n",
       "BM             781       781       781\n",
       "BOM            567       567       567\n",
       "Banker        1795      1795      1795\n",
       "DE              47        47        47\n",
       "FC              46        46        46\n",
       "MDO             37        37        37\n",
       "Morg RSM         3         3         3\n",
       "SBRM            33        33        33\n",
       "Teller        1790      1790      1790\n",
       "UOS            253       253       253"
      ]
     },
     "execution_count": 18,
     "metadata": {},
     "output_type": "execute_result"
    }
   ],
   "source": [
    "#find the number of different positions\n",
    "allData.groupby('ProdCat').count()"
   ]
  },
  {
   "cell_type": "code",
   "execution_count": 19,
   "metadata": {
    "collapsed": false
   },
   "outputs": [
    {
     "data": {
      "text/html": [
       "<div>\n",
       "<table border=\"1\" class=\"dataframe\">\n",
       "  <thead>\n",
       "    <tr style=\"text-align: right;\">\n",
       "      <th></th>\n",
       "      <th>ProdCat</th>\n",
       "      <th>Duration</th>\n",
       "      <th>Observed</th>\n",
       "    </tr>\n",
       "    <tr>\n",
       "      <th>JobGroup</th>\n",
       "      <th></th>\n",
       "      <th></th>\n",
       "      <th></th>\n",
       "    </tr>\n",
       "  </thead>\n",
       "  <tbody>\n",
       "    <tr>\n",
       "      <th>BBRM</th>\n",
       "      <td>8</td>\n",
       "      <td>8</td>\n",
       "      <td>8</td>\n",
       "    </tr>\n",
       "    <tr>\n",
       "      <th>BM</th>\n",
       "      <td>781</td>\n",
       "      <td>781</td>\n",
       "      <td>781</td>\n",
       "    </tr>\n",
       "    <tr>\n",
       "      <th>BOM</th>\n",
       "      <td>567</td>\n",
       "      <td>567</td>\n",
       "      <td>567</td>\n",
       "    </tr>\n",
       "    <tr>\n",
       "      <th>DE</th>\n",
       "      <td>47</td>\n",
       "      <td>47</td>\n",
       "      <td>47</td>\n",
       "    </tr>\n",
       "    <tr>\n",
       "      <th>FC</th>\n",
       "      <td>46</td>\n",
       "      <td>46</td>\n",
       "      <td>46</td>\n",
       "    </tr>\n",
       "    <tr>\n",
       "      <th>MDO</th>\n",
       "      <td>37</td>\n",
       "      <td>37</td>\n",
       "      <td>37</td>\n",
       "    </tr>\n",
       "    <tr>\n",
       "      <th>Morg RSM</th>\n",
       "      <td>3</td>\n",
       "      <td>3</td>\n",
       "      <td>3</td>\n",
       "    </tr>\n",
       "    <tr>\n",
       "      <th>PBR</th>\n",
       "      <td>945</td>\n",
       "      <td>945</td>\n",
       "      <td>945</td>\n",
       "    </tr>\n",
       "    <tr>\n",
       "      <th>Premier</th>\n",
       "      <td>170</td>\n",
       "      <td>170</td>\n",
       "      <td>170</td>\n",
       "    </tr>\n",
       "    <tr>\n",
       "      <th>SBRM</th>\n",
       "      <td>33</td>\n",
       "      <td>33</td>\n",
       "      <td>33</td>\n",
       "    </tr>\n",
       "    <tr>\n",
       "      <th>SSR</th>\n",
       "      <td>3</td>\n",
       "      <td>3</td>\n",
       "      <td>3</td>\n",
       "    </tr>\n",
       "    <tr>\n",
       "      <th>Select</th>\n",
       "      <td>36</td>\n",
       "      <td>36</td>\n",
       "      <td>36</td>\n",
       "    </tr>\n",
       "    <tr>\n",
       "      <th>Teller</th>\n",
       "      <td>1790</td>\n",
       "      <td>1790</td>\n",
       "      <td>1790</td>\n",
       "    </tr>\n",
       "    <tr>\n",
       "      <th>UB</th>\n",
       "      <td>641</td>\n",
       "      <td>641</td>\n",
       "      <td>641</td>\n",
       "    </tr>\n",
       "    <tr>\n",
       "      <th>UOS</th>\n",
       "      <td>253</td>\n",
       "      <td>253</td>\n",
       "      <td>253</td>\n",
       "    </tr>\n",
       "  </tbody>\n",
       "</table>\n",
       "</div>"
      ],
      "text/plain": [
       "          ProdCat  Duration  Observed\n",
       "JobGroup                             \n",
       "BBRM            8         8         8\n",
       "BM            781       781       781\n",
       "BOM           567       567       567\n",
       "DE             47        47        47\n",
       "FC             46        46        46\n",
       "MDO            37        37        37\n",
       "Morg RSM        3         3         3\n",
       "PBR           945       945       945\n",
       "Premier       170       170       170\n",
       "SBRM           33        33        33\n",
       "SSR             3         3         3\n",
       "Select         36        36        36\n",
       "Teller       1790      1790      1790\n",
       "UB            641       641       641\n",
       "UOS           253       253       253"
      ]
     },
     "execution_count": 19,
     "metadata": {},
     "output_type": "execute_result"
    }
   ],
   "source": [
    "#check by jobgroup also\n",
    "allData.groupby('JobGroup').count()\n"
   ]
  },
  {
   "cell_type": "code",
   "execution_count": 20,
   "metadata": {
    "collapsed": false
   },
   "outputs": [
    {
     "data": {
      "text/plain": [
       "(array([ 0. ,  0.2,  0.4,  0.6,  0.8,  1. ]),\n",
       " <a list of 6 Text yticklabel objects>)"
      ]
     },
     "execution_count": 20,
     "metadata": {},
     "output_type": "execute_result"
    },
    {
     "data": {
      "image/png": "[encoded data removed]",
      "text/plain": [
       "<matplotlib.figure.Figure at 0xb4adbe0>"
      ]
     },
     "metadata": {},
     "output_type": "display_data"
    }
   ],
   "source": [
    "ax = plt.subplot(111)\n",
    "\n",
    "service = (allData[\"ProdCat\"] == \"BBRM\")\n",
    "kmf.fit(T[service], event_observed = C[service], label = \"BBRM\")\n",
    "kmf.plot(ax = ax, ci_force_lines = True)\n",
    "kmf.fit(T[~service], event_observed = C[~service], label = \"All Others\")\n",
    "kmf.plot(ax = ax, ci_force_lines=True, figsize = (15,7))\n",
    "\n",
    "plt.ylim(0,1)\n",
    "plt.title(\"Lifespans of BBRM and All Others\", size = 16)\n",
    "plt.legend(loc=1,prop={'size':14})\n",
    "plt.xticks(fontsize = 14)\n",
    "plt.ylabel(\"Fraction Remaining\", fontsize = 14)\n",
    "plt.yticks(fontsize = 14)"
   ]
  },
  {
   "cell_type": "code",
   "execution_count": 22,
   "metadata": {
    "collapsed": false
   },
   "outputs": [],
   "source": [
    "#create categories for essentially Service, Bankers, etc.\n",
    "#BOM, UOS and Tellers are Combined to service\n",
    "\n",
    "\n",
    "def createGroupings(row):\n",
    "    if row['ProdCat'] == 'BOM' :\n",
    "        return 'Service'\n",
    "    if row['ProdCat'] == 'UOS' :\n",
    "        return 'Service'\n",
    "    if row['ProdCat'] == 'Teller' :\n",
    "        return 'Service'\n",
    "    \n",
    "#combined the mortgage people    \n",
    "    if row['ProdCat'] == 'MDO' :\n",
    "        return 'MDOandRSM'\n",
    "    if row['ProdCat'] == 'Morg RSM' :\n",
    "        return 'MDOandRSM'   \n",
    "\n",
    "    #combine the small biz people    \n",
    "    if row['ProdCat'] == 'BBRM' :\n",
    "        return 'BBRM'    \n",
    "    if row['ProdCat'] == 'SBRM' :\n",
    "        return 'SBRM'    \n",
    "       \n",
    "#now we'll just return the others as is    \n",
    "    if row['ProdCat'] == 'Banker' :\n",
    "        return 'Banker' \n",
    "    if row['ProdCat'] == 'BM' :\n",
    "        return 'BranchMgr'\n",
    "    if row['ProdCat'] == 'DE' :\n",
    "        return 'DE'\n",
    "    if row['ProdCat'] == 'FC' :\n",
    "        return 'FC'"
   ]
  },
  {
   "cell_type": "code",
   "execution_count": 23,
   "metadata": {
    "collapsed": false
   },
   "outputs": [
    {
     "data": {
      "text/plain": [
       "0          Banker\n",
       "1          Banker\n",
       "2          Banker\n",
       "3       BranchMgr\n",
       "4       BranchMgr\n",
       "5       BranchMgr\n",
       "6       BranchMgr\n",
       "7       BranchMgr\n",
       "8       BranchMgr\n",
       "9       BranchMgr\n",
       "10      BranchMgr\n",
       "11      BranchMgr\n",
       "12      BranchMgr\n",
       "13      BranchMgr\n",
       "14      BranchMgr\n",
       "15      BranchMgr\n",
       "16      BranchMgr\n",
       "17      BranchMgr\n",
       "18      BranchMgr\n",
       "19      BranchMgr\n",
       "20      BranchMgr\n",
       "21      BranchMgr\n",
       "22      BranchMgr\n",
       "23      BranchMgr\n",
       "24      BranchMgr\n",
       "25      BranchMgr\n",
       "26      BranchMgr\n",
       "27      BranchMgr\n",
       "28      BranchMgr\n",
       "29      BranchMgr\n",
       "          ...    \n",
       "4029           DE\n",
       "4030           DE\n",
       "4031           DE\n",
       "4032           DE\n",
       "4033           DE\n",
       "4034           DE\n",
       "4035           DE\n",
       "4036           DE\n",
       "4037           DE\n",
       "4038           DE\n",
       "4039           DE\n",
       "4040           DE\n",
       "4041           DE\n",
       "4042           DE\n",
       "4043           DE\n",
       "4044           DE\n",
       "4045           DE\n",
       "4046           DE\n",
       "4047           DE\n",
       "4048           DE\n",
       "4049           DE\n",
       "4050           DE\n",
       "4051           DE\n",
       "4052           DE\n",
       "4053           DE\n",
       "4054           DE\n",
       "4055           DE\n",
       "4056           DE\n",
       "4057           DE\n",
       "4058           DE\n",
       "dtype: object"
      ]
     },
     "execution_count": 23,
     "metadata": {},
     "output_type": "execute_result"
    }
   ],
   "source": [
    "allData.apply (lambda row: createGroupings (row), axis = 1)"
   ]
  },
  {
   "cell_type": "code",
   "execution_count": 24,
   "metadata": {
    "collapsed": false
   },
   "outputs": [],
   "source": [
    "allData['BranchGroupings'] = allData.apply(lambda row: createGroupings(row), axis = 1)"
   ]
  },
  {
   "cell_type": "code",
   "execution_count": 25,
   "metadata": {
    "collapsed": false
   },
   "outputs": [
    {
     "data": {
      "text/plain": [
       "5360"
      ]
     },
     "execution_count": 25,
     "metadata": {},
     "output_type": "execute_result"
    }
   ],
   "source": [
    "#get length of DF before removing DE\n",
    "len(allData)\n"
   ]
  },
  {
   "cell_type": "code",
   "execution_count": 26,
   "metadata": {
    "collapsed": false
   },
   "outputs": [
    {
     "data": {
      "text/html": [
       "<div>\n",
       "<table border=\"1\" class=\"dataframe\">\n",
       "  <thead>\n",
       "    <tr style=\"text-align: right;\">\n",
       "      <th></th>\n",
       "      <th>ProdCat</th>\n",
       "      <th>JobGroup</th>\n",
       "      <th>Duration</th>\n",
       "      <th>Observed</th>\n",
       "      <th>BranchGroupings</th>\n",
       "    </tr>\n",
       "  </thead>\n",
       "  <tbody>\n",
       "    <tr>\n",
       "      <th>0</th>\n",
       "      <td>Banker</td>\n",
       "      <td>PBR</td>\n",
       "      <td>21</td>\n",
       "      <td>1</td>\n",
       "      <td>Banker</td>\n",
       "    </tr>\n",
       "    <tr>\n",
       "      <th>1</th>\n",
       "      <td>Banker</td>\n",
       "      <td>PBR</td>\n",
       "      <td>62</td>\n",
       "      <td>1</td>\n",
       "      <td>Banker</td>\n",
       "    </tr>\n",
       "    <tr>\n",
       "      <th>2</th>\n",
       "      <td>Banker</td>\n",
       "      <td>UB</td>\n",
       "      <td>30</td>\n",
       "      <td>1</td>\n",
       "      <td>Banker</td>\n",
       "    </tr>\n",
       "    <tr>\n",
       "      <th>3</th>\n",
       "      <td>BM</td>\n",
       "      <td>BM</td>\n",
       "      <td>66</td>\n",
       "      <td>1</td>\n",
       "      <td>BranchMgr</td>\n",
       "    </tr>\n",
       "    <tr>\n",
       "      <th>4</th>\n",
       "      <td>BM</td>\n",
       "      <td>BM</td>\n",
       "      <td>46</td>\n",
       "      <td>1</td>\n",
       "      <td>BranchMgr</td>\n",
       "    </tr>\n",
       "  </tbody>\n",
       "</table>\n",
       "</div>"
      ],
      "text/plain": [
       "  ProdCat JobGroup  Duration  Observed BranchGroupings\n",
       "0  Banker      PBR        21         1          Banker\n",
       "1  Banker      PBR        62         1          Banker\n",
       "2  Banker       UB        30         1          Banker\n",
       "3      BM       BM        66         1       BranchMgr\n",
       "4      BM       BM        46         1       BranchMgr"
      ]
     },
     "execution_count": 26,
     "metadata": {},
     "output_type": "execute_result"
    }
   ],
   "source": [
    "allData.head()"
   ]
  },
  {
   "cell_type": "code",
   "execution_count": 27,
   "metadata": {
    "collapsed": false
   },
   "outputs": [],
   "source": [
    "#write the combined data to a csv for storing\n",
    "\n",
    "allData.to_csv(os.path.normpath(\"C:/Users/n846490/Documents/DataScience/CSVs/combinedAttrtionData2016withGroupingsRev1.csv\"))"
   ]
  },
  {
   "cell_type": "code",
   "execution_count": 30,
   "metadata": {
    "collapsed": false
   },
   "outputs": [
    {
     "name": "stdout",
     "output_type": "stream",
     "text": [
      "Median Employment Duration of branch Service Employees : 36.0\n"
     ]
    },
    {
     "data": {
      "image/png": "[encoded data removed]",
      "text/plain": [
       "<matplotlib.figure.Figure at 0xc3c0c18>"
      ]
     },
     "metadata": {},
     "output_type": "display_data"
    }
   ],
   "source": [
    "ax = plt.subplot(111)\n",
    "\n",
    "t = np.linspace(0,50,51)\n",
    "kmf.fit(T[service], event_observed=C[service], timeline = t, label = \"Branch Service Employees\")\n",
    "ax = kmf.plot(ax=ax, figsize = (10,5))\n",
    "\n",
    "print(\"Median Employment Duration of branch Service Employees :\", kmf.median_)"
   ]
  },
  {
   "cell_type": "code",
   "execution_count": null,
   "metadata": {
    "collapsed": false,
    "scrolled": false
   },
   "outputs": [],
   "source": [
    "#check if there are differences\n",
    "\n",
    "\n",
    "from lifelines.statistics import logrank_test\n",
    "\n",
    "results = logrank_test(T[service], T[~service], C[service], C[~service], alpha  = .99)\n",
    "\n",
    "results.print_summary()"
   ]
  },
  {
   "cell_type": "code",
   "execution_count": 31,
   "metadata": {
    "collapsed": false
   },
   "outputs": [
    {
     "name": "stdout",
     "output_type": "stream",
     "text": [
      "['BranchMgr', 'Banker', 'Service', 'MDOandRSM', 'SBRM', 'BBRM', 'FC']\n"
     ]
    }
   ],
   "source": [
    "branchGroups = ['BranchMgr', 'Banker', 'Service', 'MDOandRSM', 'SBRM', 'BBRM','FC']\n",
    "\n",
    "print(branchGroups)"
   ]
  },
  {
   "cell_type": "code",
   "execution_count": 33,
   "metadata": {
    "collapsed": false
   },
   "outputs": [
    {
     "data": {
      "image/png": "[encoded data removed]",
      "text/plain": [
       "<matplotlib.figure.Figure at 0xcaf2780>"
      ]
     },
     "metadata": {},
     "output_type": "display_data"
    }
   ],
   "source": [
    "branchGroups = ['BranchMgr', 'Banker', 'Service', 'MDOandRSM', 'SBRM', 'BBRM']\n",
    "\n",
    "#branchGroups = allData['BranchGroupings'].unique()\n",
    "\n",
    "fig = plt.figure(figsize = (15,15))\n",
    "\n",
    "for i,branchGroups in enumerate(branchGroups):\n",
    "    ax = plt.subplot(3,3,i+1)\n",
    "    ix = allData['BranchGroupings'] == branchGroups\n",
    "    \n",
    "    kmf.fit(T[ix], C[ix], label=branchGroups)\n",
    "    \n",
    "    \n",
    "    kmf.plot(ax=ax, legend=False)\n",
    "    plt.title(branchGroups)\n",
    "    plt.xlabel('Timeline in Months', size = 14)\n",
    "    plt.legend(loc=1,prop={'size':14})\n",
    "    plt.xlim(0,150)\n",
    "    plt.yticks(fontsize = 14)\n",
    "    plt.xticks(fontsize = 14)\n",
    "    if  i ==0:\n",
    "        plt.ylabel('Frac Employed After $n$ Months', size = 14)\n",
    "    if  i ==3:\n",
    "        plt.ylabel('Frac Employed After $n$ Months', size = 14)\n",
    "        \n",
    "fig.tight_layout()\n",
    "fig.suptitle('Survivability of Branch Employees', size = 16)\n",
    "fig.subplots_adjust(top=0.88, hspace = .4)\n",
    "plt.show()"
   ]
  },
  {
   "cell_type": "code",
   "execution_count": 34,
   "metadata": {
    "collapsed": false
   },
   "outputs": [
    {
     "data": {
      "text/plain": [
       "<lifelines.NelsonAalenFitter: fitted with 5360 observations, 4059 censored>"
      ]
     },
     "execution_count": 34,
     "metadata": {},
     "output_type": "execute_result"
    }
   ],
   "source": [
    "#perfrom the NelsonAalenFitter to fined the cummulative hazard\n",
    "T = allData['Duration']\n",
    "C = allData['Observed']\n",
    "\n",
    "\n",
    "from lifelines import NelsonAalenFitter\n",
    "naf = NelsonAalenFitter()\n",
    "\n",
    "naf.fit(T,event_observed=C)"
   ]
  },
  {
   "cell_type": "code",
   "execution_count": 35,
   "metadata": {
    "collapsed": false
   },
   "outputs": [
    {
     "data": {
      "text/html": [
       "<div>\n",
       "<table border=\"1\" class=\"dataframe\">\n",
       "  <thead>\n",
       "    <tr style=\"text-align: right;\">\n",
       "      <th></th>\n",
       "      <th>NA_estimate</th>\n",
       "    </tr>\n",
       "    <tr>\n",
       "      <th>timeline</th>\n",
       "      <th></th>\n",
       "    </tr>\n",
       "  </thead>\n",
       "  <tbody>\n",
       "    <tr>\n",
       "      <th>0.0</th>\n",
       "      <td>0.004300</td>\n",
       "    </tr>\n",
       "    <tr>\n",
       "      <th>1.0</th>\n",
       "      <td>0.013213</td>\n",
       "    </tr>\n",
       "    <tr>\n",
       "      <th>2.0</th>\n",
       "      <td>0.021872</td>\n",
       "    </tr>\n",
       "    <tr>\n",
       "      <th>3.0</th>\n",
       "      <td>0.032005</td>\n",
       "    </tr>\n",
       "    <tr>\n",
       "      <th>4.0</th>\n",
       "      <td>0.042630</td>\n",
       "    </tr>\n",
       "  </tbody>\n",
       "</table>\n",
       "</div>"
      ],
      "text/plain": [
       "          NA_estimate\n",
       "timeline             \n",
       "0.0          0.004300\n",
       "1.0          0.013213\n",
       "2.0          0.021872\n",
       "3.0          0.032005\n",
       "4.0          0.042630"
      ]
     },
     "execution_count": 35,
     "metadata": {},
     "output_type": "execute_result"
    }
   ],
   "source": [
    "#now we can plot the cumulative hazard\n",
    "naf.cumulative_hazard_.head()"
   ]
  },
  {
   "cell_type": "code",
   "execution_count": 36,
   "metadata": {
    "collapsed": false
   },
   "outputs": [
    {
     "data": {
      "text/plain": [
       "<matplotlib.axes._subplots.AxesSubplot at 0xd3674a8>"
      ]
     },
     "execution_count": 36,
     "metadata": {},
     "output_type": "execute_result"
    },
    {
     "data": {
      "image/png": "[encoded data removed]",
      "text/plain": [
       "<matplotlib.figure.Figure at 0xcbaf1d0>"
      ]
     },
     "metadata": {},
     "output_type": "display_data"
    }
   ],
   "source": [
    "naf.plot()"
   ]
  },
  {
   "cell_type": "code",
   "execution_count": 38,
   "metadata": {
    "collapsed": false
   },
   "outputs": [
    {
     "data": {
      "image/png": "[encoded data removed]",
      "text/plain": [
       "<matplotlib.figure.Figure at 0xc577b38>"
      ]
     },
     "metadata": {},
     "output_type": "display_data"
    }
   ],
   "source": [
    "#try plotting the cumulative hazards by job\n",
    "\n",
    "branchGroups = ['BranchMgr', 'Banker', 'Service', 'MDOandRSM', 'SBRM', 'BBRM']\n",
    "\n",
    "#branchGroups = allData['BranchGroupings'].unique()\n",
    "\n",
    "fig2 = plt.figure(figsize = (15,15))\n",
    "\n",
    "for i,branchGroups in enumerate(branchGroups):\n",
    "    ax = plt.subplot(3,3,i+1)\n",
    "    idx = allData['BranchGroupings'] == branchGroups\n",
    "    \n",
    "    naf.fit(T[idx], C[idx], label=branchGroups)\n",
    "    \n",
    "    \n",
    "    naf.plot(ax=ax, legend=False)\n",
    "\n",
    "    plt.title(branchGroups)\n",
    "    plt.xlabel('Timeline in Months', size = 14)\n",
    "    plt.xlim(0,150)\n",
    "    plt.yticks(fontsize = 14)\n",
    "    plt.xticks(fontsize = 14)\n",
    "\n",
    "        \n",
    "fig2.tight_layout()\n",
    "fig2.suptitle('Cumulative Hazard Function of Employee Groups', size = 16)\n",
    "fig2.subplots_adjust(top=0.88, hspace = .4)\n",
    "plt.show()"
   ]
  },
  {
   "cell_type": "code",
   "execution_count": null,
   "metadata": {
    "collapsed": true
   },
   "outputs": [],
   "source": [
    "#create the slice using the .copy\n",
    "noDE = allData[['ProdCat', 'Duration', 'Observed', 'BranchGroupings']].copy()\n"
   ]
  },
  {
   "cell_type": "code",
   "execution_count": null,
   "metadata": {
    "collapsed": false
   },
   "outputs": [],
   "source": [
    "#remove the DE from the data set\n",
    "noDE = noDE.loc[noDE['BranchGroupings'] != 'DE']"
   ]
  },
  {
   "cell_type": "code",
   "execution_count": null,
   "metadata": {
    "collapsed": false
   },
   "outputs": [],
   "source": [
    "noDE.head()"
   ]
  },
  {
   "cell_type": "code",
   "execution_count": null,
   "metadata": {
    "collapsed": false
   },
   "outputs": [],
   "source": [
    "noDE.index.is_unique"
   ]
  },
  {
   "cell_type": "code",
   "execution_count": null,
   "metadata": {
    "collapsed": true
   },
   "outputs": [],
   "source": [
    "#reset the index so that it is unique\n",
    "noDE['index'] = np.arange(len(noDE))\n",
    "noDE = noDE.set_index('index')"
   ]
  },
  {
   "cell_type": "code",
   "execution_count": null,
   "metadata": {
    "collapsed": false
   },
   "outputs": [],
   "source": [
    "Groups = noDE['BranchGroupings'].unique()\n",
    "print(Groups)"
   ]
  },
  {
   "cell_type": "code",
   "execution_count": null,
   "metadata": {
    "collapsed": false
   },
   "outputs": [],
   "source": [
    "Groups = ['BranchMgr', 'Banker', 'Service', 'MDOandRSM', 'SBRMandBBRM','FC']\n",
    "\n",
    "fig3 = plt.figure(figsize = (15,15))\n",
    "\n",
    "for i,Groups in enumerate(Groups):\n",
    "    ax = plt.subplot(3,3,i+1)\n",
    "    idxx = noDE['BranchGroupings'] == Groups\n",
    "    \n",
    "    kmf.fit(T[idxx], C[idxx], label=Groups)\n",
    "    \n",
    "    \n",
    "    kmf.plot(ax=ax, legend=False)\n",
    "    plt.title(Groups)\n",
    "    plt.xlabel('Timeline in Months')\n",
    "    plt.xlim(0,150)\n",
    "    if  i ==0:\n",
    "        plt.ylabel('Frac Employed After $n$ Months')\n",
    "    if  i ==3:\n",
    "        plt.ylabel('Frac Employed After $n$ Months')\n",
    "        \n",
    "fig3.tight_layout()\n",
    "fig3.suptitle('Survivability of Branch Employees ex DE', size = 16)\n",
    "fig3.subplots_adjust(top=0.88, hspace = .4)\n",
    "plt.show()"
   ]
  },
  {
   "cell_type": "code",
   "execution_count": null,
   "metadata": {
    "collapsed": false,
    "scrolled": true
   },
   "outputs": [],
   "source": [
    "#plot the hazards with bandwith = 3\n",
    "b = 3.\n",
    "\n",
    "Groups = ['BranchMgr', 'Banker', 'Service', 'MDOandRSM', 'SBRMandBBRM','FC']\n",
    "\n",
    "fig4 = plt.figure(figsize = (15,15))\n",
    "\n",
    "for i,Groups in enumerate(Groups):\n",
    "    ax = plt.subplot(3,3,i+1)\n",
    "    idnx = noDE['BranchGroupings'] == Groups\n",
    "    \n",
    "    naf.fit(T[idnx], C[idnx], label=Groups)\n",
    "    \n",
    "    \n",
    "    naf.plot(ax=ax, bandwidth=b, legend=False)\n",
    "    \n",
    "    plt.title(Groups)\n",
    "    plt.xlabel('Timeline in Months')\n",
    "    plt.xlim(0,150)\n",
    "    if  i ==0:\n",
    "        plt.ylabel('Frac Employed After $n$ Months')\n",
    "    if  i ==3:\n",
    "        plt.ylabel('Frac Employed After $n$ Months')\n",
    "        \n",
    "fig4.tight_layout()\n",
    "fig4.suptitle(\"Hazard function of different Branch Employee Groups \\n Bandwith=%.1f\"%b, size = 16)\n",
    "fig4.subplots_adjust(top=0.88, hspace = .4)\n",
    "plt.show()\n"
   ]
  },
  {
   "cell_type": "code",
   "execution_count": null,
   "metadata": {
    "collapsed": true
   },
   "outputs": [],
   "source": []
  }
 ],
 "metadata": {
  "kernelspec": {
   "display_name": "Python [Root]",
   "language": "python",
   "name": "Python [Root]"
  },
  "language_info": {
   "codemirror_mode": {
    "name": "ipython",
    "version": 3
   },
   "file_extension": ".py",
   "mimetype": "text/x-python",
   "name": "python",
   "nbconvert_exporter": "python",
   "pygments_lexer": "ipython3",
   "version": "3.5.1"
  }
 },
 "nbformat": 4,
 "nbformat_minor": 0
}
