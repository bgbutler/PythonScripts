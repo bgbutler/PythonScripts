{
 "cells": [
  {
   "cell_type": "code",
   "execution_count": 1,
   "metadata": {
    "ExecuteTime": {
     "end_time": "2022-01-14T20:38:55.367282Z",
     "start_time": "2022-01-14T20:38:55.339753Z"
    }
   },
   "outputs": [
    {
     "name": "stdout",
     "output_type": "stream",
     "text": [
      "3.6.10 |Anaconda, Inc.| (default, Jan  7 2020, 15:01:53) \n",
      "[GCC 4.2.1 Compatible Clang 4.0.1 (tags/RELEASE_401/final)]\n",
      "/Users/Bryan/anaconda/envs/tensorflow2/bin/python\n"
     ]
    },
    {
     "data": {
      "text/plain": [
       "'/Users/Bryan/Documents/DSInfo/TextAnalytics'"
      ]
     },
     "execution_count": 1,
     "metadata": {},
     "output_type": "execute_result"
    }
   ],
   "source": [
    "# get the environment\n",
    "import sys\n",
    "print(sys.version)\n",
    "print(sys.executable)\n",
    "import os\n",
    "os.getcwd()"
   ]
  },
  {
   "cell_type": "code",
   "execution_count": 2,
   "metadata": {
    "ExecuteTime": {
     "end_time": "2022-01-14T20:39:17.527073Z",
     "start_time": "2022-01-14T20:38:57.129781Z"
    }
   },
   "outputs": [
    {
     "name": "stdout",
     "output_type": "stream",
     "text": [
      "Seaborn Version:  0.11.1\n"
     ]
    }
   ],
   "source": [
    "# Standard imports\n",
    "import sys\n",
    "import warnings\n",
    "warnings.simplefilter('ignore')\n",
    "import os\n",
    "import pandas as pd\n",
    "import numpy as np\n",
    "\n",
    "\n",
    "# plotting\n",
    "import textwrap\n",
    "import matplotlib.pyplot as plt\n",
    "import seaborn as sns\n",
    "# improve with plotly\n",
    "from plotly.offline import iplot, init_notebook_mode\n",
    "import plotly.graph_objs as go\n",
    "from plotly.offline import init_notebook_mode\n",
    "print('Seaborn Version: ', sns.__version__)\n",
    "# get UMAP for dimension reduction\n",
    "import umap\n",
    "\n",
    "\n",
    "%matplotlib inline\n",
    "\n",
    "# for dendograms\n",
    "from scipy.cluster.hierarchy import dendrogram, linkage\n",
    "from scipy.cluster import hierarchy\n",
    "\n",
    "# get the lDA algorithm\n",
    "from sklearn.decomposition import LatentDirichletAllocation\n",
    "from sklearn.model_selection import GridSearchCV\n",
    "\n",
    "# text libraries\n",
    "import nltk\n",
    "from wordcloud import WordCloud, STOPWORDS# preprocessing prior to lda\n",
    "from sklearn.feature_extraction.text import CountVectorizer\n",
    "from nltk.sentiment.vader import SentimentIntensityAnalyzer\n",
    "\n",
    "# use the TF-IDF vectorizor to give more weight to rare words\n",
    "# TF-IDF specific setup\n",
    "from sklearn.feature_extraction.text import TfidfVectorizer\n",
    "\n",
    "# set seed for reproducibility\n",
    "SEED = 42"
   ]
  },
  {
   "cell_type": "code",
   "execution_count": 3,
   "metadata": {
    "ExecuteTime": {
     "end_time": "2022-01-14T20:39:17.592553Z",
     "start_time": "2022-01-14T20:39:17.530374Z"
    }
   },
   "outputs": [],
   "source": [
    "# TF imports\n",
    "import tensorflow_hub as hub\n",
    "import tensorflow as tf"
   ]
  },
  {
   "cell_type": "code",
   "execution_count": 4,
   "metadata": {
    "ExecuteTime": {
     "end_time": "2022-01-14T20:39:19.171971Z",
     "start_time": "2022-01-14T20:39:19.167193Z"
    }
   },
   "outputs": [],
   "source": [
    "import ssl\n",
    "ssl._create_default_https_context = ssl._create_unverified_context"
   ]
  },
  {
   "cell_type": "code",
   "execution_count": 5,
   "metadata": {
    "ExecuteTime": {
     "end_time": "2022-01-14T20:39:22.987101Z",
     "start_time": "2022-01-14T20:39:22.013531Z"
    }
   },
   "outputs": [
    {
     "ename": "OSError",
     "evalue": "SavedModel file does not exist at: /var/folders/ts/8kt91kfx25719qws437qxsp00000gn/T/tfhub_modules/063d866c06683311b44b4992fd46003be952409c/{saved_model.pbtxt|saved_model.pb}",
     "output_type": "error",
     "traceback": [
      "\u001b[0;31m---------------------------------------------------------------------------\u001b[0m",
      "\u001b[0;31mOSError\u001b[0m                                   Traceback (most recent call last)",
      "\u001b[0;32m<ipython-input-5-cf2f1a7756a0>\u001b[0m in \u001b[0;36m<module>\u001b[0;34m\u001b[0m\n\u001b[1;32m      1\u001b[0m \u001b[0;31m# Load the GUSE model\u001b[0m\u001b[0;34m\u001b[0m\u001b[0;34m\u001b[0m\u001b[0;34m\u001b[0m\u001b[0m\n\u001b[0;32m----> 2\u001b[0;31m \u001b[0mguse\u001b[0m \u001b[0;34m=\u001b[0m \u001b[0mhub\u001b[0m\u001b[0;34m.\u001b[0m\u001b[0mload\u001b[0m\u001b[0;34m(\u001b[0m\u001b[0;34m\"https://tfhub.dev/google/universal-sentence-encoder/4\"\u001b[0m\u001b[0;34m)\u001b[0m\u001b[0;34m\u001b[0m\u001b[0;34m\u001b[0m\u001b[0m\n\u001b[0m\u001b[1;32m      3\u001b[0m \u001b[0;34m\u001b[0m\u001b[0m\n",
      "\u001b[0;32m~/anaconda/envs/tensorflow2/lib/python3.6/site-packages/tensorflow_hub/module_v2.py\u001b[0m in \u001b[0;36mload\u001b[0;34m(handle, tags, options)\u001b[0m\n\u001b[1;32m    104\u001b[0m         module_path, tags=tags, options=options)\n\u001b[1;32m    105\u001b[0m   \u001b[0;32melse\u001b[0m\u001b[0;34m:\u001b[0m\u001b[0;34m\u001b[0m\u001b[0;34m\u001b[0m\u001b[0m\n\u001b[0;32m--> 106\u001b[0;31m     \u001b[0mobj\u001b[0m \u001b[0;34m=\u001b[0m \u001b[0mtf\u001b[0m\u001b[0;34m.\u001b[0m\u001b[0mcompat\u001b[0m\u001b[0;34m.\u001b[0m\u001b[0mv1\u001b[0m\u001b[0;34m.\u001b[0m\u001b[0msaved_model\u001b[0m\u001b[0;34m.\u001b[0m\u001b[0mload_v2\u001b[0m\u001b[0;34m(\u001b[0m\u001b[0mmodule_path\u001b[0m\u001b[0;34m,\u001b[0m \u001b[0mtags\u001b[0m\u001b[0;34m=\u001b[0m\u001b[0mtags\u001b[0m\u001b[0;34m)\u001b[0m\u001b[0;34m\u001b[0m\u001b[0;34m\u001b[0m\u001b[0m\n\u001b[0m\u001b[1;32m    107\u001b[0m   \u001b[0mobj\u001b[0m\u001b[0;34m.\u001b[0m\u001b[0m_is_hub_module_v1\u001b[0m \u001b[0;34m=\u001b[0m \u001b[0mis_hub_module_v1\u001b[0m  \u001b[0;31m# pylint: disable=protected-access\u001b[0m\u001b[0;34m\u001b[0m\u001b[0;34m\u001b[0m\u001b[0m\n\u001b[1;32m    108\u001b[0m   \u001b[0;32mreturn\u001b[0m \u001b[0mobj\u001b[0m\u001b[0;34m\u001b[0m\u001b[0;34m\u001b[0m\u001b[0m\n",
      "\u001b[0;32m~/anaconda/envs/tensorflow2/lib/python3.6/site-packages/tensorflow_core/python/saved_model/load.py\u001b[0m in \u001b[0;36mload\u001b[0;34m(export_dir, tags)\u001b[0m\n\u001b[1;32m    515\u001b[0m     \u001b[0mValueError\u001b[0m\u001b[0;34m:\u001b[0m \u001b[0mIf\u001b[0m\u001b[0;31m \u001b[0m\u001b[0;31m`\u001b[0m\u001b[0mtags\u001b[0m\u001b[0;31m`\u001b[0m \u001b[0mdon\u001b[0m\u001b[0;31m'\u001b[0m\u001b[0mt\u001b[0m \u001b[0mmatch\u001b[0m \u001b[0ma\u001b[0m \u001b[0mMetaGraph\u001b[0m \u001b[0;32min\u001b[0m \u001b[0mthe\u001b[0m \u001b[0mSavedModel\u001b[0m\u001b[0;34m.\u001b[0m\u001b[0;34m\u001b[0m\u001b[0;34m\u001b[0m\u001b[0m\n\u001b[1;32m    516\u001b[0m   \"\"\"\n\u001b[0;32m--> 517\u001b[0;31m   \u001b[0;32mreturn\u001b[0m \u001b[0mload_internal\u001b[0m\u001b[0;34m(\u001b[0m\u001b[0mexport_dir\u001b[0m\u001b[0;34m,\u001b[0m \u001b[0mtags\u001b[0m\u001b[0;34m)\u001b[0m\u001b[0;34m\u001b[0m\u001b[0;34m\u001b[0m\u001b[0m\n\u001b[0m\u001b[1;32m    518\u001b[0m \u001b[0;34m\u001b[0m\u001b[0m\n\u001b[1;32m    519\u001b[0m \u001b[0;34m\u001b[0m\u001b[0m\n",
      "\u001b[0;32m~/anaconda/envs/tensorflow2/lib/python3.6/site-packages/tensorflow_core/python/saved_model/load.py\u001b[0m in \u001b[0;36mload_internal\u001b[0;34m(export_dir, tags, loader_cls)\u001b[0m\n\u001b[1;32m    524\u001b[0m     \u001b[0;31m# sequences for nest.flatten, so we put those through as-is.\u001b[0m\u001b[0;34m\u001b[0m\u001b[0;34m\u001b[0m\u001b[0;34m\u001b[0m\u001b[0m\n\u001b[1;32m    525\u001b[0m     \u001b[0mtags\u001b[0m \u001b[0;34m=\u001b[0m \u001b[0mnest\u001b[0m\u001b[0;34m.\u001b[0m\u001b[0mflatten\u001b[0m\u001b[0;34m(\u001b[0m\u001b[0mtags\u001b[0m\u001b[0;34m)\u001b[0m\u001b[0;34m\u001b[0m\u001b[0;34m\u001b[0m\u001b[0m\n\u001b[0;32m--> 526\u001b[0;31m   \u001b[0msaved_model_proto\u001b[0m \u001b[0;34m=\u001b[0m \u001b[0mloader_impl\u001b[0m\u001b[0;34m.\u001b[0m\u001b[0mparse_saved_model\u001b[0m\u001b[0;34m(\u001b[0m\u001b[0mexport_dir\u001b[0m\u001b[0;34m)\u001b[0m\u001b[0;34m\u001b[0m\u001b[0;34m\u001b[0m\u001b[0m\n\u001b[0m\u001b[1;32m    527\u001b[0m   if (len(saved_model_proto.meta_graphs) == 1\n\u001b[1;32m    528\u001b[0m       and saved_model_proto.meta_graphs[0].HasField(\"object_graph_def\")):\n",
      "\u001b[0;32m~/anaconda/envs/tensorflow2/lib/python3.6/site-packages/tensorflow_core/python/saved_model/loader_impl.py\u001b[0m in \u001b[0;36mparse_saved_model\u001b[0;34m(export_dir)\u001b[0m\n\u001b[1;32m     81\u001b[0m                   (export_dir,\n\u001b[1;32m     82\u001b[0m                    \u001b[0mconstants\u001b[0m\u001b[0;34m.\u001b[0m\u001b[0mSAVED_MODEL_FILENAME_PBTXT\u001b[0m\u001b[0;34m,\u001b[0m\u001b[0;34m\u001b[0m\u001b[0;34m\u001b[0m\u001b[0m\n\u001b[0;32m---> 83\u001b[0;31m                    constants.SAVED_MODEL_FILENAME_PB))\n\u001b[0m\u001b[1;32m     84\u001b[0m \u001b[0;34m\u001b[0m\u001b[0m\n\u001b[1;32m     85\u001b[0m \u001b[0;34m\u001b[0m\u001b[0m\n",
      "\u001b[0;31mOSError\u001b[0m: SavedModel file does not exist at: /var/folders/ts/8kt91kfx25719qws437qxsp00000gn/T/tfhub_modules/063d866c06683311b44b4992fd46003be952409c/{saved_model.pbtxt|saved_model.pb}"
     ]
    }
   ],
   "source": [
    "# Load the GUSE model\n",
    "guse = hub.load(\"https://tfhub.dev/google/universal-sentence-encoder/4\")\n",
    "\n"
   ]
  },
  {
   "cell_type": "code",
   "execution_count": 6,
   "metadata": {
    "ExecuteTime": {
     "end_time": "2022-01-14T14:33:45.465625Z",
     "start_time": "2022-01-14T14:33:44.850875Z"
    }
   },
   "outputs": [
    {
     "data": {
      "text/html": [
       "<div>\n",
       "<style scoped>\n",
       "    .dataframe tbody tr th:only-of-type {\n",
       "        vertical-align: middle;\n",
       "    }\n",
       "\n",
       "    .dataframe tbody tr th {\n",
       "        vertical-align: top;\n",
       "    }\n",
       "\n",
       "    .dataframe thead th {\n",
       "        text-align: right;\n",
       "    }\n",
       "</style>\n",
       "<table border=\"1\" class=\"dataframe\">\n",
       "  <thead>\n",
       "    <tr style=\"text-align: right;\">\n",
       "      <th></th>\n",
       "      <th>Respondent Id</th>\n",
       "      <th>Completed Date</th>\n",
       "      <th>Event_Trigger</th>\n",
       "      <th>What best describes your experience?*</th>\n",
       "      <th>Please say more.</th>\n",
       "      <th>OS</th>\n",
       "      <th>DeviceType</th>\n",
       "    </tr>\n",
       "  </thead>\n",
       "  <tbody>\n",
       "    <tr>\n",
       "      <th>0</th>\n",
       "      <td>5885486</td>\n",
       "      <td>04/22/2021 02:19:34 PM</td>\n",
       "      <td>accountsEvent</td>\n",
       "      <td>Not now</td>\n",
       "      <td>NaN</td>\n",
       "      <td>iOS 14.4.2</td>\n",
       "      <td>Phone</td>\n",
       "    </tr>\n",
       "    <tr>\n",
       "      <th>1</th>\n",
       "      <td>5885474</td>\n",
       "      <td>04/22/2021 01:58:51 PM</td>\n",
       "      <td>accountsEvent</td>\n",
       "      <td>Not now</td>\n",
       "      <td>NaN</td>\n",
       "      <td>iOS 14.4.2</td>\n",
       "      <td>Phone</td>\n",
       "    </tr>\n",
       "    <tr>\n",
       "      <th>2</th>\n",
       "      <td>5885463</td>\n",
       "      <td>04/22/2021 01:45:55 PM</td>\n",
       "      <td>accountsEvent</td>\n",
       "      <td>Had a pretty hard time</td>\n",
       "      <td>This mobile device app is not easy to use. Goi...</td>\n",
       "      <td>Android</td>\n",
       "      <td>Phone</td>\n",
       "    </tr>\n",
       "    <tr>\n",
       "      <th>3</th>\n",
       "      <td>5885462</td>\n",
       "      <td>04/22/2021 01:43:08 PM</td>\n",
       "      <td>depositEvent</td>\n",
       "      <td>Not now</td>\n",
       "      <td>NaN</td>\n",
       "      <td>Android</td>\n",
       "      <td>Phone</td>\n",
       "    </tr>\n",
       "    <tr>\n",
       "      <th>4</th>\n",
       "      <td>5885457</td>\n",
       "      <td>04/22/2021 01:34:22 PM</td>\n",
       "      <td>transferEvent</td>\n",
       "      <td>Not now</td>\n",
       "      <td>NaN</td>\n",
       "      <td>iOS 14.4.1</td>\n",
       "      <td>Phone</td>\n",
       "    </tr>\n",
       "  </tbody>\n",
       "</table>\n",
       "</div>"
      ],
      "text/plain": [
       "   Respondent Id          Completed Date  Event_Trigger  \\\n",
       "0        5885486  04/22/2021 02:19:34 PM  accountsEvent   \n",
       "1        5885474  04/22/2021 01:58:51 PM  accountsEvent   \n",
       "2        5885463  04/22/2021 01:45:55 PM  accountsEvent   \n",
       "3        5885462  04/22/2021 01:43:08 PM   depositEvent   \n",
       "4        5885457  04/22/2021 01:34:22 PM  transferEvent   \n",
       "\n",
       "  What best describes your experience?*  \\\n",
       "0                               Not now   \n",
       "1                               Not now   \n",
       "2                Had a pretty hard time   \n",
       "3                               Not now   \n",
       "4                               Not now   \n",
       "\n",
       "                                    Please say more.          OS DeviceType  \n",
       "0                                                NaN  iOS 14.4.2      Phone  \n",
       "1                                                NaN  iOS 14.4.2      Phone  \n",
       "2  This mobile device app is not easy to use. Goi...     Android      Phone  \n",
       "3                                                NaN     Android      Phone  \n",
       "4                                                NaN  iOS 14.4.1      Phone  "
      ]
     },
     "execution_count": 6,
     "metadata": {},
     "output_type": "execute_result"
    }
   ],
   "source": [
    "# get the data\n",
    "data = pd.read_csv('Transactio_4222021_240_PM.csv', low_memory=False)\n",
    "data.head()"
   ]
  },
  {
   "cell_type": "code",
   "execution_count": 7,
   "metadata": {
    "ExecuteTime": {
     "end_time": "2022-01-14T14:33:47.041607Z",
     "start_time": "2022-01-14T14:33:47.024595Z"
    }
   },
   "outputs": [
    {
     "data": {
      "text/plain": [
       "accountsEvent    12693\n",
       "depositEvent      5705\n",
       "transferEvent     4641\n",
       "billpayEvent       989\n",
       "Name: Event_Trigger, dtype: int64"
      ]
     },
     "execution_count": 7,
     "metadata": {},
     "output_type": "execute_result"
    }
   ],
   "source": [
    "data['Event_Trigger'].value_counts()"
   ]
  },
  {
   "cell_type": "code",
   "execution_count": 8,
   "metadata": {
    "ExecuteTime": {
     "end_time": "2022-01-14T14:33:50.279229Z",
     "start_time": "2022-01-14T14:33:50.262149Z"
    }
   },
   "outputs": [
    {
     "data": {
      "text/plain": [
       "Android       10031\n",
       "iOS 14.2       5105\n",
       "iOS 14.3       1985\n",
       "iOS 14.4       1433\n",
       "Android 8       532\n",
       "              ...  \n",
       "iOS 13.4          1\n",
       "iOS 10.3.4        1\n",
       "iOS 12.1.1        1\n",
       "iOS 12.4.4        1\n",
       "iOS 13.1.1        1\n",
       "Name: OS, Length: 65, dtype: int64"
      ]
     },
     "execution_count": 8,
     "metadata": {},
     "output_type": "execute_result"
    }
   ],
   "source": [
    "data['OS'].value_counts()"
   ]
  },
  {
   "cell_type": "code",
   "execution_count": 9,
   "metadata": {
    "ExecuteTime": {
     "end_time": "2022-01-14T14:33:53.793382Z",
     "start_time": "2022-01-14T14:33:53.774370Z"
    }
   },
   "outputs": [
    {
     "name": "stdout",
     "output_type": "stream",
     "text": [
      "<class 'pandas.core.frame.DataFrame'>\n",
      "RangeIndex: 24029 entries, 0 to 24028\n",
      "Data columns (total 7 columns):\n",
      " #   Column                                 Non-Null Count  Dtype \n",
      "---  ------                                 --------------  ----- \n",
      " 0   Respondent Id                          24029 non-null  int64 \n",
      " 1   Completed Date                         24029 non-null  object\n",
      " 2   Event_Trigger                          24028 non-null  object\n",
      " 3   What best describes your experience?*  24029 non-null  object\n",
      " 4   Please say more.                       2667 non-null   object\n",
      " 5   OS                                     22885 non-null  object\n",
      " 6   DeviceType                             22885 non-null  object\n",
      "dtypes: int64(1), object(6)\n",
      "memory usage: 1.3+ MB\n"
     ]
    }
   ],
   "source": [
    "data.info()"
   ]
  },
  {
   "cell_type": "code",
   "execution_count": 10,
   "metadata": {
    "ExecuteTime": {
     "end_time": "2022-01-14T14:33:56.221866Z",
     "start_time": "2022-01-14T14:33:56.204865Z"
    }
   },
   "outputs": [],
   "source": [
    "# regroup the OS\n",
    "\n",
    "def get_os(row):\n",
    "    if pd.isnull(row):\n",
    "        return 'None'\n",
    "    elif \"Android\" in row:\n",
    "        return row[0:10]\n",
    "    else:\n",
    "        return row[0:7]"
   ]
  },
  {
   "cell_type": "code",
   "execution_count": 11,
   "metadata": {
    "ExecuteTime": {
     "end_time": "2022-01-14T14:34:09.449688Z",
     "start_time": "2022-01-14T14:34:09.414542Z"
    }
   },
   "outputs": [
    {
     "data": {
      "text/html": [
       "<div>\n",
       "<style scoped>\n",
       "    .dataframe tbody tr th:only-of-type {\n",
       "        vertical-align: middle;\n",
       "    }\n",
       "\n",
       "    .dataframe tbody tr th {\n",
       "        vertical-align: top;\n",
       "    }\n",
       "\n",
       "    .dataframe thead th {\n",
       "        text-align: right;\n",
       "    }\n",
       "</style>\n",
       "<table border=\"1\" class=\"dataframe\">\n",
       "  <thead>\n",
       "    <tr style=\"text-align: right;\">\n",
       "      <th></th>\n",
       "      <th>Respondent Id</th>\n",
       "      <th>Completed Date</th>\n",
       "      <th>Event_Trigger</th>\n",
       "      <th>What best describes your experience?*</th>\n",
       "      <th>Please say more.</th>\n",
       "      <th>OS</th>\n",
       "      <th>DeviceType</th>\n",
       "      <th>OS_Group</th>\n",
       "    </tr>\n",
       "  </thead>\n",
       "  <tbody>\n",
       "    <tr>\n",
       "      <th>0</th>\n",
       "      <td>5885486</td>\n",
       "      <td>04/22/2021 02:19:34 PM</td>\n",
       "      <td>accountsEvent</td>\n",
       "      <td>Not now</td>\n",
       "      <td>NaN</td>\n",
       "      <td>iOS 14.4.2</td>\n",
       "      <td>Phone</td>\n",
       "      <td>iOS 14.</td>\n",
       "    </tr>\n",
       "    <tr>\n",
       "      <th>1</th>\n",
       "      <td>5885474</td>\n",
       "      <td>04/22/2021 01:58:51 PM</td>\n",
       "      <td>accountsEvent</td>\n",
       "      <td>Not now</td>\n",
       "      <td>NaN</td>\n",
       "      <td>iOS 14.4.2</td>\n",
       "      <td>Phone</td>\n",
       "      <td>iOS 14.</td>\n",
       "    </tr>\n",
       "    <tr>\n",
       "      <th>2</th>\n",
       "      <td>5885463</td>\n",
       "      <td>04/22/2021 01:45:55 PM</td>\n",
       "      <td>accountsEvent</td>\n",
       "      <td>Had a pretty hard time</td>\n",
       "      <td>This mobile device app is not easy to use. Goi...</td>\n",
       "      <td>Android</td>\n",
       "      <td>Phone</td>\n",
       "      <td>Android</td>\n",
       "    </tr>\n",
       "    <tr>\n",
       "      <th>3</th>\n",
       "      <td>5885462</td>\n",
       "      <td>04/22/2021 01:43:08 PM</td>\n",
       "      <td>depositEvent</td>\n",
       "      <td>Not now</td>\n",
       "      <td>NaN</td>\n",
       "      <td>Android</td>\n",
       "      <td>Phone</td>\n",
       "      <td>Android</td>\n",
       "    </tr>\n",
       "    <tr>\n",
       "      <th>4</th>\n",
       "      <td>5885457</td>\n",
       "      <td>04/22/2021 01:34:22 PM</td>\n",
       "      <td>transferEvent</td>\n",
       "      <td>Not now</td>\n",
       "      <td>NaN</td>\n",
       "      <td>iOS 14.4.1</td>\n",
       "      <td>Phone</td>\n",
       "      <td>iOS 14.</td>\n",
       "    </tr>\n",
       "    <tr>\n",
       "      <th>5</th>\n",
       "      <td>5885453</td>\n",
       "      <td>04/22/2021 01:30:09 PM</td>\n",
       "      <td>transferEvent</td>\n",
       "      <td>Not now</td>\n",
       "      <td>NaN</td>\n",
       "      <td>Android</td>\n",
       "      <td>Phone</td>\n",
       "      <td>Android</td>\n",
       "    </tr>\n",
       "    <tr>\n",
       "      <th>6</th>\n",
       "      <td>5885451</td>\n",
       "      <td>04/22/2021 01:26:39 PM</td>\n",
       "      <td>accountsEvent</td>\n",
       "      <td>Fast and easy</td>\n",
       "      <td>NaN</td>\n",
       "      <td>iOS 14.4.2</td>\n",
       "      <td>Phone</td>\n",
       "      <td>iOS 14.</td>\n",
       "    </tr>\n",
       "    <tr>\n",
       "      <th>7</th>\n",
       "      <td>5885442</td>\n",
       "      <td>04/22/2021 01:20:37 PM</td>\n",
       "      <td>accountsEvent</td>\n",
       "      <td>Fast and easy</td>\n",
       "      <td>NaN</td>\n",
       "      <td>Android</td>\n",
       "      <td>Phone</td>\n",
       "      <td>Android</td>\n",
       "    </tr>\n",
       "    <tr>\n",
       "      <th>8</th>\n",
       "      <td>5885430</td>\n",
       "      <td>04/22/2021 01:04:24 PM</td>\n",
       "      <td>depositEvent</td>\n",
       "      <td>Not now</td>\n",
       "      <td>NaN</td>\n",
       "      <td>Android</td>\n",
       "      <td>Phone</td>\n",
       "      <td>Android</td>\n",
       "    </tr>\n",
       "    <tr>\n",
       "      <th>9</th>\n",
       "      <td>5885428</td>\n",
       "      <td>04/22/2021 01:03:48 PM</td>\n",
       "      <td>depositEvent</td>\n",
       "      <td>Fast and easy</td>\n",
       "      <td>NaN</td>\n",
       "      <td>NaN</td>\n",
       "      <td>NaN</td>\n",
       "      <td>None</td>\n",
       "    </tr>\n",
       "  </tbody>\n",
       "</table>\n",
       "</div>"
      ],
      "text/plain": [
       "   Respondent Id          Completed Date  Event_Trigger  \\\n",
       "0        5885486  04/22/2021 02:19:34 PM  accountsEvent   \n",
       "1        5885474  04/22/2021 01:58:51 PM  accountsEvent   \n",
       "2        5885463  04/22/2021 01:45:55 PM  accountsEvent   \n",
       "3        5885462  04/22/2021 01:43:08 PM   depositEvent   \n",
       "4        5885457  04/22/2021 01:34:22 PM  transferEvent   \n",
       "5        5885453  04/22/2021 01:30:09 PM  transferEvent   \n",
       "6        5885451  04/22/2021 01:26:39 PM  accountsEvent   \n",
       "7        5885442  04/22/2021 01:20:37 PM  accountsEvent   \n",
       "8        5885430  04/22/2021 01:04:24 PM   depositEvent   \n",
       "9        5885428  04/22/2021 01:03:48 PM   depositEvent   \n",
       "\n",
       "  What best describes your experience?*  \\\n",
       "0                               Not now   \n",
       "1                               Not now   \n",
       "2                Had a pretty hard time   \n",
       "3                               Not now   \n",
       "4                               Not now   \n",
       "5                               Not now   \n",
       "6                         Fast and easy   \n",
       "7                         Fast and easy   \n",
       "8                               Not now   \n",
       "9                         Fast and easy   \n",
       "\n",
       "                                    Please say more.          OS DeviceType  \\\n",
       "0                                                NaN  iOS 14.4.2      Phone   \n",
       "1                                                NaN  iOS 14.4.2      Phone   \n",
       "2  This mobile device app is not easy to use. Goi...     Android      Phone   \n",
       "3                                                NaN     Android      Phone   \n",
       "4                                                NaN  iOS 14.4.1      Phone   \n",
       "5                                                NaN     Android      Phone   \n",
       "6                                                NaN  iOS 14.4.2      Phone   \n",
       "7                                                NaN     Android      Phone   \n",
       "8                                                NaN     Android      Phone   \n",
       "9                                                NaN         NaN        NaN   \n",
       "\n",
       "  OS_Group  \n",
       "0  iOS 14.  \n",
       "1  iOS 14.  \n",
       "2  Android  \n",
       "3  Android  \n",
       "4  iOS 14.  \n",
       "5  Android  \n",
       "6  iOS 14.  \n",
       "7  Android  \n",
       "8  Android  \n",
       "9     None  "
      ]
     },
     "execution_count": 11,
     "metadata": {},
     "output_type": "execute_result"
    }
   ],
   "source": [
    "data['OS_Group'] = data['OS'].apply(get_os)\n",
    "data.head(10)"
   ]
  },
  {
   "cell_type": "code",
   "execution_count": 12,
   "metadata": {
    "ExecuteTime": {
     "end_time": "2022-01-14T14:34:13.886734Z",
     "start_time": "2022-01-14T14:34:13.854733Z"
    }
   },
   "outputs": [
    {
     "data": {
      "text/html": [
       "<div>\n",
       "<style scoped>\n",
       "    .dataframe tbody tr th:only-of-type {\n",
       "        vertical-align: middle;\n",
       "    }\n",
       "\n",
       "    .dataframe tbody tr th {\n",
       "        vertical-align: top;\n",
       "    }\n",
       "\n",
       "    .dataframe thead th {\n",
       "        text-align: right;\n",
       "    }\n",
       "</style>\n",
       "<table border=\"1\" class=\"dataframe\">\n",
       "  <thead>\n",
       "    <tr style=\"text-align: right;\">\n",
       "      <th></th>\n",
       "      <th>Respondent Id</th>\n",
       "      <th>Completed Date</th>\n",
       "      <th>Event_Trigger</th>\n",
       "      <th>What best describes your experience?*</th>\n",
       "      <th>Please say more.</th>\n",
       "      <th>OS</th>\n",
       "      <th>DeviceType</th>\n",
       "      <th>OS_Group</th>\n",
       "    </tr>\n",
       "  </thead>\n",
       "  <tbody>\n",
       "    <tr>\n",
       "      <th>0</th>\n",
       "      <td>5885486</td>\n",
       "      <td>04/22/2021 02:19:34 PM</td>\n",
       "      <td>accountsEvent</td>\n",
       "      <td>Not now</td>\n",
       "      <td>NaN</td>\n",
       "      <td>iOS 14.4.2</td>\n",
       "      <td>Phone</td>\n",
       "      <td>iOS 14</td>\n",
       "    </tr>\n",
       "    <tr>\n",
       "      <th>1</th>\n",
       "      <td>5885474</td>\n",
       "      <td>04/22/2021 01:58:51 PM</td>\n",
       "      <td>accountsEvent</td>\n",
       "      <td>Not now</td>\n",
       "      <td>NaN</td>\n",
       "      <td>iOS 14.4.2</td>\n",
       "      <td>Phone</td>\n",
       "      <td>iOS 14</td>\n",
       "    </tr>\n",
       "    <tr>\n",
       "      <th>2</th>\n",
       "      <td>5885463</td>\n",
       "      <td>04/22/2021 01:45:55 PM</td>\n",
       "      <td>accountsEvent</td>\n",
       "      <td>Had a pretty hard time</td>\n",
       "      <td>This mobile device app is not easy to use. Goi...</td>\n",
       "      <td>Android</td>\n",
       "      <td>Phone</td>\n",
       "      <td>Android</td>\n",
       "    </tr>\n",
       "    <tr>\n",
       "      <th>3</th>\n",
       "      <td>5885462</td>\n",
       "      <td>04/22/2021 01:43:08 PM</td>\n",
       "      <td>depositEvent</td>\n",
       "      <td>Not now</td>\n",
       "      <td>NaN</td>\n",
       "      <td>Android</td>\n",
       "      <td>Phone</td>\n",
       "      <td>Android</td>\n",
       "    </tr>\n",
       "    <tr>\n",
       "      <th>4</th>\n",
       "      <td>5885457</td>\n",
       "      <td>04/22/2021 01:34:22 PM</td>\n",
       "      <td>transferEvent</td>\n",
       "      <td>Not now</td>\n",
       "      <td>NaN</td>\n",
       "      <td>iOS 14.4.1</td>\n",
       "      <td>Phone</td>\n",
       "      <td>iOS 14</td>\n",
       "    </tr>\n",
       "    <tr>\n",
       "      <th>5</th>\n",
       "      <td>5885453</td>\n",
       "      <td>04/22/2021 01:30:09 PM</td>\n",
       "      <td>transferEvent</td>\n",
       "      <td>Not now</td>\n",
       "      <td>NaN</td>\n",
       "      <td>Android</td>\n",
       "      <td>Phone</td>\n",
       "      <td>Android</td>\n",
       "    </tr>\n",
       "    <tr>\n",
       "      <th>6</th>\n",
       "      <td>5885451</td>\n",
       "      <td>04/22/2021 01:26:39 PM</td>\n",
       "      <td>accountsEvent</td>\n",
       "      <td>Fast and easy</td>\n",
       "      <td>NaN</td>\n",
       "      <td>iOS 14.4.2</td>\n",
       "      <td>Phone</td>\n",
       "      <td>iOS 14</td>\n",
       "    </tr>\n",
       "    <tr>\n",
       "      <th>7</th>\n",
       "      <td>5885442</td>\n",
       "      <td>04/22/2021 01:20:37 PM</td>\n",
       "      <td>accountsEvent</td>\n",
       "      <td>Fast and easy</td>\n",
       "      <td>NaN</td>\n",
       "      <td>Android</td>\n",
       "      <td>Phone</td>\n",
       "      <td>Android</td>\n",
       "    </tr>\n",
       "    <tr>\n",
       "      <th>8</th>\n",
       "      <td>5885430</td>\n",
       "      <td>04/22/2021 01:04:24 PM</td>\n",
       "      <td>depositEvent</td>\n",
       "      <td>Not now</td>\n",
       "      <td>NaN</td>\n",
       "      <td>Android</td>\n",
       "      <td>Phone</td>\n",
       "      <td>Android</td>\n",
       "    </tr>\n",
       "    <tr>\n",
       "      <th>9</th>\n",
       "      <td>5885428</td>\n",
       "      <td>04/22/2021 01:03:48 PM</td>\n",
       "      <td>depositEvent</td>\n",
       "      <td>Fast and easy</td>\n",
       "      <td>NaN</td>\n",
       "      <td>NaN</td>\n",
       "      <td>NaN</td>\n",
       "      <td>None</td>\n",
       "    </tr>\n",
       "  </tbody>\n",
       "</table>\n",
       "</div>"
      ],
      "text/plain": [
       "   Respondent Id          Completed Date  Event_Trigger  \\\n",
       "0        5885486  04/22/2021 02:19:34 PM  accountsEvent   \n",
       "1        5885474  04/22/2021 01:58:51 PM  accountsEvent   \n",
       "2        5885463  04/22/2021 01:45:55 PM  accountsEvent   \n",
       "3        5885462  04/22/2021 01:43:08 PM   depositEvent   \n",
       "4        5885457  04/22/2021 01:34:22 PM  transferEvent   \n",
       "5        5885453  04/22/2021 01:30:09 PM  transferEvent   \n",
       "6        5885451  04/22/2021 01:26:39 PM  accountsEvent   \n",
       "7        5885442  04/22/2021 01:20:37 PM  accountsEvent   \n",
       "8        5885430  04/22/2021 01:04:24 PM   depositEvent   \n",
       "9        5885428  04/22/2021 01:03:48 PM   depositEvent   \n",
       "\n",
       "  What best describes your experience?*  \\\n",
       "0                               Not now   \n",
       "1                               Not now   \n",
       "2                Had a pretty hard time   \n",
       "3                               Not now   \n",
       "4                               Not now   \n",
       "5                               Not now   \n",
       "6                         Fast and easy   \n",
       "7                         Fast and easy   \n",
       "8                               Not now   \n",
       "9                         Fast and easy   \n",
       "\n",
       "                                    Please say more.          OS DeviceType  \\\n",
       "0                                                NaN  iOS 14.4.2      Phone   \n",
       "1                                                NaN  iOS 14.4.2      Phone   \n",
       "2  This mobile device app is not easy to use. Goi...     Android      Phone   \n",
       "3                                                NaN     Android      Phone   \n",
       "4                                                NaN  iOS 14.4.1      Phone   \n",
       "5                                                NaN     Android      Phone   \n",
       "6                                                NaN  iOS 14.4.2      Phone   \n",
       "7                                                NaN     Android      Phone   \n",
       "8                                                NaN     Android      Phone   \n",
       "9                                                NaN         NaN        NaN   \n",
       "\n",
       "  OS_Group  \n",
       "0   iOS 14  \n",
       "1   iOS 14  \n",
       "2  Android  \n",
       "3  Android  \n",
       "4   iOS 14  \n",
       "5  Android  \n",
       "6   iOS 14  \n",
       "7  Android  \n",
       "8  Android  \n",
       "9     None  "
      ]
     },
     "execution_count": 12,
     "metadata": {},
     "output_type": "execute_result"
    }
   ],
   "source": [
    "# remove the extra periods\n",
    "data['OS_Group'] = data['OS_Group'].str.replace('.', '')\n",
    "data.head(10)"
   ]
  },
  {
   "cell_type": "code",
   "execution_count": 13,
   "metadata": {
    "ExecuteTime": {
     "end_time": "2022-01-14T14:34:18.103564Z",
     "start_time": "2022-01-14T14:34:18.080566Z"
    }
   },
   "outputs": [
    {
     "data": {
      "text/plain": [
       "iOS 14       10288\n",
       "Android      10031\n",
       "None          1144\n",
       "Android 8      912\n",
       "iOS 13         691\n",
       "Android 7      416\n",
       "iOS 12         375\n",
       "Android 6       97\n",
       "Android 5       30\n",
       "iOS 11          30\n",
       "iOS 10          15\n",
       "Name: OS_Group, dtype: int64"
      ]
     },
     "execution_count": 13,
     "metadata": {},
     "output_type": "execute_result"
    }
   ],
   "source": [
    "data['OS_Group'].value_counts()"
   ]
  },
  {
   "cell_type": "code",
   "execution_count": 14,
   "metadata": {
    "ExecuteTime": {
     "end_time": "2022-01-14T14:34:21.150600Z",
     "start_time": "2022-01-14T14:34:21.127597Z"
    }
   },
   "outputs": [
    {
     "data": {
      "text/html": [
       "<div>\n",
       "<style scoped>\n",
       "    .dataframe tbody tr th:only-of-type {\n",
       "        vertical-align: middle;\n",
       "    }\n",
       "\n",
       "    .dataframe tbody tr th {\n",
       "        vertical-align: top;\n",
       "    }\n",
       "\n",
       "    .dataframe thead th {\n",
       "        text-align: right;\n",
       "    }\n",
       "</style>\n",
       "<table border=\"1\" class=\"dataframe\">\n",
       "  <thead>\n",
       "    <tr style=\"text-align: right;\">\n",
       "      <th></th>\n",
       "      <th>Please say more.</th>\n",
       "      <th>OS_Group</th>\n",
       "    </tr>\n",
       "  </thead>\n",
       "  <tbody>\n",
       "    <tr>\n",
       "      <th>0</th>\n",
       "      <td>NaN</td>\n",
       "      <td>iOS 14</td>\n",
       "    </tr>\n",
       "    <tr>\n",
       "      <th>1</th>\n",
       "      <td>NaN</td>\n",
       "      <td>iOS 14</td>\n",
       "    </tr>\n",
       "    <tr>\n",
       "      <th>2</th>\n",
       "      <td>This mobile device app is not easy to use. Goi...</td>\n",
       "      <td>Android</td>\n",
       "    </tr>\n",
       "    <tr>\n",
       "      <th>3</th>\n",
       "      <td>NaN</td>\n",
       "      <td>Android</td>\n",
       "    </tr>\n",
       "    <tr>\n",
       "      <th>4</th>\n",
       "      <td>NaN</td>\n",
       "      <td>iOS 14</td>\n",
       "    </tr>\n",
       "  </tbody>\n",
       "</table>\n",
       "</div>"
      ],
      "text/plain": [
       "                                    Please say more. OS_Group\n",
       "0                                                NaN   iOS 14\n",
       "1                                                NaN   iOS 14\n",
       "2  This mobile device app is not easy to use. Goi...  Android\n",
       "3                                                NaN  Android\n",
       "4                                                NaN   iOS 14"
      ]
     },
     "execution_count": 14,
     "metadata": {},
     "output_type": "execute_result"
    }
   ],
   "source": [
    "text = data[['Please say more.', 'OS_Group']]\n",
    "text.head()"
   ]
  },
  {
   "cell_type": "code",
   "execution_count": 15,
   "metadata": {
    "ExecuteTime": {
     "end_time": "2022-01-14T14:34:27.150550Z",
     "start_time": "2022-01-14T14:34:27.127549Z"
    }
   },
   "outputs": [
    {
     "data": {
      "text/html": [
       "<div>\n",
       "<style scoped>\n",
       "    .dataframe tbody tr th:only-of-type {\n",
       "        vertical-align: middle;\n",
       "    }\n",
       "\n",
       "    .dataframe tbody tr th {\n",
       "        vertical-align: top;\n",
       "    }\n",
       "\n",
       "    .dataframe thead th {\n",
       "        text-align: right;\n",
       "    }\n",
       "</style>\n",
       "<table border=\"1\" class=\"dataframe\">\n",
       "  <thead>\n",
       "    <tr style=\"text-align: right;\">\n",
       "      <th></th>\n",
       "      <th>Comments</th>\n",
       "      <th>OS</th>\n",
       "    </tr>\n",
       "  </thead>\n",
       "  <tbody>\n",
       "    <tr>\n",
       "      <th>0</th>\n",
       "      <td>NaN</td>\n",
       "      <td>iOS 14</td>\n",
       "    </tr>\n",
       "    <tr>\n",
       "      <th>1</th>\n",
       "      <td>NaN</td>\n",
       "      <td>iOS 14</td>\n",
       "    </tr>\n",
       "    <tr>\n",
       "      <th>2</th>\n",
       "      <td>This mobile device app is not easy to use. Goi...</td>\n",
       "      <td>Android</td>\n",
       "    </tr>\n",
       "    <tr>\n",
       "      <th>3</th>\n",
       "      <td>NaN</td>\n",
       "      <td>Android</td>\n",
       "    </tr>\n",
       "    <tr>\n",
       "      <th>4</th>\n",
       "      <td>NaN</td>\n",
       "      <td>iOS 14</td>\n",
       "    </tr>\n",
       "  </tbody>\n",
       "</table>\n",
       "</div>"
      ],
      "text/plain": [
       "                                            Comments       OS\n",
       "0                                                NaN   iOS 14\n",
       "1                                                NaN   iOS 14\n",
       "2  This mobile device app is not easy to use. Goi...  Android\n",
       "3                                                NaN  Android\n",
       "4                                                NaN   iOS 14"
      ]
     },
     "execution_count": 15,
     "metadata": {},
     "output_type": "execute_result"
    }
   ],
   "source": [
    "# rename the colum\n",
    "text.columns = [\"Comments\", 'OS']\n",
    "text.head()"
   ]
  },
  {
   "cell_type": "code",
   "execution_count": 16,
   "metadata": {
    "ExecuteTime": {
     "end_time": "2022-01-14T14:34:29.559932Z",
     "start_time": "2022-01-14T14:34:29.543935Z"
    }
   },
   "outputs": [
    {
     "name": "stdout",
     "output_type": "stream",
     "text": [
      "<class 'pandas.core.frame.DataFrame'>\n",
      "Int64Index: 2667 entries, 2 to 24026\n",
      "Data columns (total 2 columns):\n",
      " #   Column    Non-Null Count  Dtype \n",
      "---  ------    --------------  ----- \n",
      " 0   Comments  2667 non-null   object\n",
      " 1   OS        2667 non-null   object\n",
      "dtypes: object(2)\n",
      "memory usage: 62.5+ KB\n"
     ]
    }
   ],
   "source": [
    "# lots of NaN only get clean text\n",
    "df = text[text['Comments'].notna()]\n",
    "df.info()"
   ]
  },
  {
   "cell_type": "markdown",
   "metadata": {},
   "source": [
    "# Use a Count Vectorizer for Processing Comments into Bigrams"
   ]
  },
  {
   "cell_type": "code",
   "execution_count": 17,
   "metadata": {
    "ExecuteTime": {
     "end_time": "2022-01-14T14:34:36.603549Z",
     "start_time": "2022-01-14T14:34:36.599549Z"
    }
   },
   "outputs": [],
   "source": [
    "# max_df - discard words that show up in x percent of documents has a scale 0 - 1\n",
    "# min_df - is the opposite, minimum frequency can be a percent or raw number of documents\n",
    "# ngram_range is normally (1,1) for single words, 2,2, for bigrams\n",
    "\n",
    "cv = CountVectorizer(max_df = 0.95, min_df=2, stop_words='english', ngram_range=(2, 2))"
   ]
  },
  {
   "cell_type": "code",
   "execution_count": 18,
   "metadata": {
    "ExecuteTime": {
     "end_time": "2022-01-14T14:34:41.357276Z",
     "start_time": "2022-01-14T14:34:41.302276Z"
    }
   },
   "outputs": [
    {
     "data": {
      "text/plain": [
       "<2667x925 sparse matrix of type '<class 'numpy.int64'>'\n",
       "\twith 3815 stored elements in Compressed Sparse Row format>"
      ]
     },
     "execution_count": 18,
     "metadata": {},
     "output_type": "execute_result"
    }
   ],
   "source": [
    "# make document term matrix\n",
    "dtm = cv.fit_transform(df['Comments'])\n",
    "dtm"
   ]
  },
  {
   "cell_type": "code",
   "execution_count": 19,
   "metadata": {
    "ExecuteTime": {
     "end_time": "2022-01-14T14:34:42.639070Z",
     "start_time": "2022-01-14T14:34:42.622069Z"
    }
   },
   "outputs": [
    {
     "data": {
      "text/plain": [
       "(2667, 925)"
      ]
     },
     "execution_count": 19,
     "metadata": {},
     "output_type": "execute_result"
    }
   ],
   "source": [
    "dtm.shape"
   ]
  },
  {
   "cell_type": "code",
   "execution_count": 20,
   "metadata": {
    "ExecuteTime": {
     "end_time": "2022-01-14T14:34:44.263459Z",
     "start_time": "2022-01-14T14:34:44.238457Z"
    }
   },
   "outputs": [
    {
     "data": {
      "text/html": [
       "<div>\n",
       "<style scoped>\n",
       "    .dataframe tbody tr th:only-of-type {\n",
       "        vertical-align: middle;\n",
       "    }\n",
       "\n",
       "    .dataframe tbody tr th {\n",
       "        vertical-align: top;\n",
       "    }\n",
       "\n",
       "    .dataframe thead th {\n",
       "        text-align: right;\n",
       "    }\n",
       "</style>\n",
       "<table border=\"1\" class=\"dataframe\">\n",
       "  <thead>\n",
       "    <tr style=\"text-align: right;\">\n",
       "      <th></th>\n",
       "      <th>10 10</th>\n",
       "      <th>1st time</th>\n",
       "      <th>20 years</th>\n",
       "      <th>30 minutes</th>\n",
       "      <th>30 years</th>\n",
       "      <th>ability deposit</th>\n",
       "      <th>able access</th>\n",
       "      <th>able balance</th>\n",
       "      <th>able check</th>\n",
       "      <th>able complete</th>\n",
       "      <th>...</th>\n",
       "      <th>works just</th>\n",
       "      <th>works nice</th>\n",
       "      <th>works nicely</th>\n",
       "      <th>works ok</th>\n",
       "      <th>works perfect</th>\n",
       "      <th>works perfectly</th>\n",
       "      <th>works really</th>\n",
       "      <th>write check</th>\n",
       "      <th>year ago</th>\n",
       "      <th>years happy</th>\n",
       "    </tr>\n",
       "  </thead>\n",
       "  <tbody>\n",
       "    <tr>\n",
       "      <th>0</th>\n",
       "      <td>0</td>\n",
       "      <td>0</td>\n",
       "      <td>0</td>\n",
       "      <td>0</td>\n",
       "      <td>0</td>\n",
       "      <td>0</td>\n",
       "      <td>0</td>\n",
       "      <td>0</td>\n",
       "      <td>0</td>\n",
       "      <td>0</td>\n",
       "      <td>...</td>\n",
       "      <td>0</td>\n",
       "      <td>0</td>\n",
       "      <td>0</td>\n",
       "      <td>0</td>\n",
       "      <td>0</td>\n",
       "      <td>0</td>\n",
       "      <td>0</td>\n",
       "      <td>0</td>\n",
       "      <td>0</td>\n",
       "      <td>0</td>\n",
       "    </tr>\n",
       "    <tr>\n",
       "      <th>1</th>\n",
       "      <td>0</td>\n",
       "      <td>0</td>\n",
       "      <td>0</td>\n",
       "      <td>0</td>\n",
       "      <td>0</td>\n",
       "      <td>0</td>\n",
       "      <td>0</td>\n",
       "      <td>0</td>\n",
       "      <td>0</td>\n",
       "      <td>0</td>\n",
       "      <td>...</td>\n",
       "      <td>0</td>\n",
       "      <td>0</td>\n",
       "      <td>0</td>\n",
       "      <td>0</td>\n",
       "      <td>0</td>\n",
       "      <td>0</td>\n",
       "      <td>0</td>\n",
       "      <td>0</td>\n",
       "      <td>0</td>\n",
       "      <td>0</td>\n",
       "    </tr>\n",
       "    <tr>\n",
       "      <th>2</th>\n",
       "      <td>0</td>\n",
       "      <td>0</td>\n",
       "      <td>0</td>\n",
       "      <td>0</td>\n",
       "      <td>0</td>\n",
       "      <td>0</td>\n",
       "      <td>0</td>\n",
       "      <td>0</td>\n",
       "      <td>0</td>\n",
       "      <td>0</td>\n",
       "      <td>...</td>\n",
       "      <td>0</td>\n",
       "      <td>0</td>\n",
       "      <td>0</td>\n",
       "      <td>0</td>\n",
       "      <td>0</td>\n",
       "      <td>0</td>\n",
       "      <td>0</td>\n",
       "      <td>0</td>\n",
       "      <td>0</td>\n",
       "      <td>0</td>\n",
       "    </tr>\n",
       "    <tr>\n",
       "      <th>3</th>\n",
       "      <td>0</td>\n",
       "      <td>0</td>\n",
       "      <td>0</td>\n",
       "      <td>0</td>\n",
       "      <td>0</td>\n",
       "      <td>0</td>\n",
       "      <td>0</td>\n",
       "      <td>0</td>\n",
       "      <td>0</td>\n",
       "      <td>0</td>\n",
       "      <td>...</td>\n",
       "      <td>0</td>\n",
       "      <td>0</td>\n",
       "      <td>0</td>\n",
       "      <td>0</td>\n",
       "      <td>0</td>\n",
       "      <td>0</td>\n",
       "      <td>0</td>\n",
       "      <td>0</td>\n",
       "      <td>0</td>\n",
       "      <td>0</td>\n",
       "    </tr>\n",
       "    <tr>\n",
       "      <th>4</th>\n",
       "      <td>0</td>\n",
       "      <td>0</td>\n",
       "      <td>0</td>\n",
       "      <td>0</td>\n",
       "      <td>0</td>\n",
       "      <td>0</td>\n",
       "      <td>0</td>\n",
       "      <td>0</td>\n",
       "      <td>0</td>\n",
       "      <td>0</td>\n",
       "      <td>...</td>\n",
       "      <td>0</td>\n",
       "      <td>0</td>\n",
       "      <td>0</td>\n",
       "      <td>0</td>\n",
       "      <td>0</td>\n",
       "      <td>0</td>\n",
       "      <td>0</td>\n",
       "      <td>0</td>\n",
       "      <td>0</td>\n",
       "      <td>0</td>\n",
       "    </tr>\n",
       "    <tr>\n",
       "      <th>...</th>\n",
       "      <td>...</td>\n",
       "      <td>...</td>\n",
       "      <td>...</td>\n",
       "      <td>...</td>\n",
       "      <td>...</td>\n",
       "      <td>...</td>\n",
       "      <td>...</td>\n",
       "      <td>...</td>\n",
       "      <td>...</td>\n",
       "      <td>...</td>\n",
       "      <td>...</td>\n",
       "      <td>...</td>\n",
       "      <td>...</td>\n",
       "      <td>...</td>\n",
       "      <td>...</td>\n",
       "      <td>...</td>\n",
       "      <td>...</td>\n",
       "      <td>...</td>\n",
       "      <td>...</td>\n",
       "      <td>...</td>\n",
       "      <td>...</td>\n",
       "    </tr>\n",
       "    <tr>\n",
       "      <th>2662</th>\n",
       "      <td>0</td>\n",
       "      <td>0</td>\n",
       "      <td>0</td>\n",
       "      <td>0</td>\n",
       "      <td>0</td>\n",
       "      <td>0</td>\n",
       "      <td>0</td>\n",
       "      <td>0</td>\n",
       "      <td>0</td>\n",
       "      <td>0</td>\n",
       "      <td>...</td>\n",
       "      <td>0</td>\n",
       "      <td>0</td>\n",
       "      <td>0</td>\n",
       "      <td>0</td>\n",
       "      <td>0</td>\n",
       "      <td>0</td>\n",
       "      <td>0</td>\n",
       "      <td>0</td>\n",
       "      <td>0</td>\n",
       "      <td>0</td>\n",
       "    </tr>\n",
       "    <tr>\n",
       "      <th>2663</th>\n",
       "      <td>0</td>\n",
       "      <td>0</td>\n",
       "      <td>0</td>\n",
       "      <td>0</td>\n",
       "      <td>0</td>\n",
       "      <td>0</td>\n",
       "      <td>0</td>\n",
       "      <td>0</td>\n",
       "      <td>0</td>\n",
       "      <td>0</td>\n",
       "      <td>...</td>\n",
       "      <td>0</td>\n",
       "      <td>0</td>\n",
       "      <td>0</td>\n",
       "      <td>0</td>\n",
       "      <td>0</td>\n",
       "      <td>0</td>\n",
       "      <td>0</td>\n",
       "      <td>0</td>\n",
       "      <td>0</td>\n",
       "      <td>0</td>\n",
       "    </tr>\n",
       "    <tr>\n",
       "      <th>2664</th>\n",
       "      <td>0</td>\n",
       "      <td>0</td>\n",
       "      <td>0</td>\n",
       "      <td>0</td>\n",
       "      <td>0</td>\n",
       "      <td>0</td>\n",
       "      <td>0</td>\n",
       "      <td>0</td>\n",
       "      <td>0</td>\n",
       "      <td>0</td>\n",
       "      <td>...</td>\n",
       "      <td>0</td>\n",
       "      <td>0</td>\n",
       "      <td>0</td>\n",
       "      <td>0</td>\n",
       "      <td>0</td>\n",
       "      <td>0</td>\n",
       "      <td>0</td>\n",
       "      <td>0</td>\n",
       "      <td>0</td>\n",
       "      <td>0</td>\n",
       "    </tr>\n",
       "    <tr>\n",
       "      <th>2665</th>\n",
       "      <td>0</td>\n",
       "      <td>0</td>\n",
       "      <td>0</td>\n",
       "      <td>0</td>\n",
       "      <td>0</td>\n",
       "      <td>0</td>\n",
       "      <td>0</td>\n",
       "      <td>0</td>\n",
       "      <td>0</td>\n",
       "      <td>0</td>\n",
       "      <td>...</td>\n",
       "      <td>0</td>\n",
       "      <td>0</td>\n",
       "      <td>0</td>\n",
       "      <td>0</td>\n",
       "      <td>0</td>\n",
       "      <td>0</td>\n",
       "      <td>0</td>\n",
       "      <td>0</td>\n",
       "      <td>0</td>\n",
       "      <td>0</td>\n",
       "    </tr>\n",
       "    <tr>\n",
       "      <th>2666</th>\n",
       "      <td>0</td>\n",
       "      <td>0</td>\n",
       "      <td>0</td>\n",
       "      <td>0</td>\n",
       "      <td>0</td>\n",
       "      <td>0</td>\n",
       "      <td>0</td>\n",
       "      <td>0</td>\n",
       "      <td>0</td>\n",
       "      <td>0</td>\n",
       "      <td>...</td>\n",
       "      <td>0</td>\n",
       "      <td>0</td>\n",
       "      <td>0</td>\n",
       "      <td>0</td>\n",
       "      <td>0</td>\n",
       "      <td>0</td>\n",
       "      <td>0</td>\n",
       "      <td>0</td>\n",
       "      <td>1</td>\n",
       "      <td>0</td>\n",
       "    </tr>\n",
       "  </tbody>\n",
       "</table>\n",
       "<p>2667 rows × 925 columns</p>\n",
       "</div>"
      ],
      "text/plain": [
       "      10 10  1st time  20 years  30 minutes  30 years  ability deposit  \\\n",
       "0         0         0         0           0         0                0   \n",
       "1         0         0         0           0         0                0   \n",
       "2         0         0         0           0         0                0   \n",
       "3         0         0         0           0         0                0   \n",
       "4         0         0         0           0         0                0   \n",
       "...     ...       ...       ...         ...       ...              ...   \n",
       "2662      0         0         0           0         0                0   \n",
       "2663      0         0         0           0         0                0   \n",
       "2664      0         0         0           0         0                0   \n",
       "2665      0         0         0           0         0                0   \n",
       "2666      0         0         0           0         0                0   \n",
       "\n",
       "      able access  able balance  able check  able complete  ...  works just  \\\n",
       "0               0             0           0              0  ...           0   \n",
       "1               0             0           0              0  ...           0   \n",
       "2               0             0           0              0  ...           0   \n",
       "3               0             0           0              0  ...           0   \n",
       "4               0             0           0              0  ...           0   \n",
       "...           ...           ...         ...            ...  ...         ...   \n",
       "2662            0             0           0              0  ...           0   \n",
       "2663            0             0           0              0  ...           0   \n",
       "2664            0             0           0              0  ...           0   \n",
       "2665            0             0           0              0  ...           0   \n",
       "2666            0             0           0              0  ...           0   \n",
       "\n",
       "      works nice  works nicely  works ok  works perfect  works perfectly  \\\n",
       "0              0             0         0              0                0   \n",
       "1              0             0         0              0                0   \n",
       "2              0             0         0              0                0   \n",
       "3              0             0         0              0                0   \n",
       "4              0             0         0              0                0   \n",
       "...          ...           ...       ...            ...              ...   \n",
       "2662           0             0         0              0                0   \n",
       "2663           0             0         0              0                0   \n",
       "2664           0             0         0              0                0   \n",
       "2665           0             0         0              0                0   \n",
       "2666           0             0         0              0                0   \n",
       "\n",
       "      works really  write check  year ago  years happy  \n",
       "0                0            0         0            0  \n",
       "1                0            0         0            0  \n",
       "2                0            0         0            0  \n",
       "3                0            0         0            0  \n",
       "4                0            0         0            0  \n",
       "...            ...          ...       ...          ...  \n",
       "2662             0            0         0            0  \n",
       "2663             0            0         0            0  \n",
       "2664             0            0         0            0  \n",
       "2665             0            0         0            0  \n",
       "2666             0            0         1            0  \n",
       "\n",
       "[2667 rows x 925 columns]"
      ]
     },
     "execution_count": 20,
     "metadata": {},
     "output_type": "execute_result"
    }
   ],
   "source": [
    "# convert to dataframe for clustering\n",
    "bow = pd.DataFrame(dtm.toarray(), columns = cv.get_feature_names())\n",
    "bow"
   ]
  },
  {
   "cell_type": "code",
   "execution_count": 21,
   "metadata": {
    "ExecuteTime": {
     "end_time": "2022-01-14T14:34:47.466952Z",
     "start_time": "2022-01-14T14:34:47.453951Z"
    }
   },
   "outputs": [],
   "source": [
    "bow['OS'] = df['OS']"
   ]
  },
  {
   "cell_type": "code",
   "execution_count": 22,
   "metadata": {
    "ExecuteTime": {
     "end_time": "2022-01-14T14:34:49.054096Z",
     "start_time": "2022-01-14T14:34:49.009095Z"
    }
   },
   "outputs": [
    {
     "data": {
      "text/html": [
       "<div>\n",
       "<style scoped>\n",
       "    .dataframe tbody tr th:only-of-type {\n",
       "        vertical-align: middle;\n",
       "    }\n",
       "\n",
       "    .dataframe tbody tr th {\n",
       "        vertical-align: top;\n",
       "    }\n",
       "\n",
       "    .dataframe thead th {\n",
       "        text-align: right;\n",
       "    }\n",
       "</style>\n",
       "<table border=\"1\" class=\"dataframe\">\n",
       "  <thead>\n",
       "    <tr style=\"text-align: right;\">\n",
       "      <th></th>\n",
       "      <th>10 10</th>\n",
       "      <th>1st time</th>\n",
       "      <th>20 years</th>\n",
       "      <th>30 minutes</th>\n",
       "      <th>30 years</th>\n",
       "      <th>ability deposit</th>\n",
       "      <th>able access</th>\n",
       "      <th>able balance</th>\n",
       "      <th>able check</th>\n",
       "      <th>able complete</th>\n",
       "      <th>...</th>\n",
       "      <th>works just</th>\n",
       "      <th>works nice</th>\n",
       "      <th>works nicely</th>\n",
       "      <th>works ok</th>\n",
       "      <th>works perfect</th>\n",
       "      <th>works perfectly</th>\n",
       "      <th>works really</th>\n",
       "      <th>write check</th>\n",
       "      <th>year ago</th>\n",
       "      <th>years happy</th>\n",
       "    </tr>\n",
       "    <tr>\n",
       "      <th>OS</th>\n",
       "      <th></th>\n",
       "      <th></th>\n",
       "      <th></th>\n",
       "      <th></th>\n",
       "      <th></th>\n",
       "      <th></th>\n",
       "      <th></th>\n",
       "      <th></th>\n",
       "      <th></th>\n",
       "      <th></th>\n",
       "      <th></th>\n",
       "      <th></th>\n",
       "      <th></th>\n",
       "      <th></th>\n",
       "      <th></th>\n",
       "      <th></th>\n",
       "      <th></th>\n",
       "      <th></th>\n",
       "      <th></th>\n",
       "      <th></th>\n",
       "      <th></th>\n",
       "    </tr>\n",
       "  </thead>\n",
       "  <tbody>\n",
       "    <tr>\n",
       "      <th>Android</th>\n",
       "      <td>1</td>\n",
       "      <td>1</td>\n",
       "      <td>0</td>\n",
       "      <td>0</td>\n",
       "      <td>0</td>\n",
       "      <td>1</td>\n",
       "      <td>0</td>\n",
       "      <td>0</td>\n",
       "      <td>0</td>\n",
       "      <td>0</td>\n",
       "      <td>...</td>\n",
       "      <td>0</td>\n",
       "      <td>0</td>\n",
       "      <td>0</td>\n",
       "      <td>0</td>\n",
       "      <td>0</td>\n",
       "      <td>0</td>\n",
       "      <td>0</td>\n",
       "      <td>0</td>\n",
       "      <td>0</td>\n",
       "      <td>0</td>\n",
       "    </tr>\n",
       "    <tr>\n",
       "      <th>Android 7</th>\n",
       "      <td>0</td>\n",
       "      <td>0</td>\n",
       "      <td>0</td>\n",
       "      <td>0</td>\n",
       "      <td>0</td>\n",
       "      <td>0</td>\n",
       "      <td>0</td>\n",
       "      <td>0</td>\n",
       "      <td>0</td>\n",
       "      <td>0</td>\n",
       "      <td>...</td>\n",
       "      <td>0</td>\n",
       "      <td>0</td>\n",
       "      <td>0</td>\n",
       "      <td>0</td>\n",
       "      <td>0</td>\n",
       "      <td>0</td>\n",
       "      <td>0</td>\n",
       "      <td>0</td>\n",
       "      <td>0</td>\n",
       "      <td>0</td>\n",
       "    </tr>\n",
       "    <tr>\n",
       "      <th>Android 8</th>\n",
       "      <td>0</td>\n",
       "      <td>0</td>\n",
       "      <td>0</td>\n",
       "      <td>0</td>\n",
       "      <td>0</td>\n",
       "      <td>0</td>\n",
       "      <td>0</td>\n",
       "      <td>0</td>\n",
       "      <td>0</td>\n",
       "      <td>0</td>\n",
       "      <td>...</td>\n",
       "      <td>0</td>\n",
       "      <td>0</td>\n",
       "      <td>0</td>\n",
       "      <td>0</td>\n",
       "      <td>0</td>\n",
       "      <td>0</td>\n",
       "      <td>0</td>\n",
       "      <td>0</td>\n",
       "      <td>0</td>\n",
       "      <td>0</td>\n",
       "    </tr>\n",
       "    <tr>\n",
       "      <th>None</th>\n",
       "      <td>0</td>\n",
       "      <td>0</td>\n",
       "      <td>0</td>\n",
       "      <td>0</td>\n",
       "      <td>0</td>\n",
       "      <td>0</td>\n",
       "      <td>0</td>\n",
       "      <td>0</td>\n",
       "      <td>0</td>\n",
       "      <td>0</td>\n",
       "      <td>...</td>\n",
       "      <td>0</td>\n",
       "      <td>0</td>\n",
       "      <td>0</td>\n",
       "      <td>0</td>\n",
       "      <td>0</td>\n",
       "      <td>0</td>\n",
       "      <td>0</td>\n",
       "      <td>0</td>\n",
       "      <td>0</td>\n",
       "      <td>0</td>\n",
       "    </tr>\n",
       "    <tr>\n",
       "      <th>iOS 12</th>\n",
       "      <td>0</td>\n",
       "      <td>0</td>\n",
       "      <td>0</td>\n",
       "      <td>0</td>\n",
       "      <td>0</td>\n",
       "      <td>0</td>\n",
       "      <td>0</td>\n",
       "      <td>0</td>\n",
       "      <td>0</td>\n",
       "      <td>0</td>\n",
       "      <td>...</td>\n",
       "      <td>0</td>\n",
       "      <td>0</td>\n",
       "      <td>0</td>\n",
       "      <td>0</td>\n",
       "      <td>0</td>\n",
       "      <td>0</td>\n",
       "      <td>0</td>\n",
       "      <td>0</td>\n",
       "      <td>0</td>\n",
       "      <td>0</td>\n",
       "    </tr>\n",
       "    <tr>\n",
       "      <th>iOS 13</th>\n",
       "      <td>0</td>\n",
       "      <td>0</td>\n",
       "      <td>0</td>\n",
       "      <td>0</td>\n",
       "      <td>0</td>\n",
       "      <td>0</td>\n",
       "      <td>0</td>\n",
       "      <td>0</td>\n",
       "      <td>0</td>\n",
       "      <td>0</td>\n",
       "      <td>...</td>\n",
       "      <td>0</td>\n",
       "      <td>0</td>\n",
       "      <td>0</td>\n",
       "      <td>0</td>\n",
       "      <td>0</td>\n",
       "      <td>0</td>\n",
       "      <td>0</td>\n",
       "      <td>0</td>\n",
       "      <td>0</td>\n",
       "      <td>0</td>\n",
       "    </tr>\n",
       "    <tr>\n",
       "      <th>iOS 14</th>\n",
       "      <td>0</td>\n",
       "      <td>0</td>\n",
       "      <td>0</td>\n",
       "      <td>0</td>\n",
       "      <td>0</td>\n",
       "      <td>0</td>\n",
       "      <td>0</td>\n",
       "      <td>0</td>\n",
       "      <td>0</td>\n",
       "      <td>1</td>\n",
       "      <td>...</td>\n",
       "      <td>0</td>\n",
       "      <td>0</td>\n",
       "      <td>0</td>\n",
       "      <td>0</td>\n",
       "      <td>0</td>\n",
       "      <td>0</td>\n",
       "      <td>0</td>\n",
       "      <td>0</td>\n",
       "      <td>1</td>\n",
       "      <td>0</td>\n",
       "    </tr>\n",
       "  </tbody>\n",
       "</table>\n",
       "<p>7 rows × 925 columns</p>\n",
       "</div>"
      ],
      "text/plain": [
       "           10 10  1st time  20 years  30 minutes  30 years  ability deposit  \\\n",
       "OS                                                                            \n",
       "Android        1         1         0           0         0                1   \n",
       "Android 7      0         0         0           0         0                0   \n",
       "Android 8      0         0         0           0         0                0   \n",
       "None           0         0         0           0         0                0   \n",
       "iOS 12         0         0         0           0         0                0   \n",
       "iOS 13         0         0         0           0         0                0   \n",
       "iOS 14         0         0         0           0         0                0   \n",
       "\n",
       "           able access  able balance  able check  able complete  ...  \\\n",
       "OS                                                               ...   \n",
       "Android              0             0           0              0  ...   \n",
       "Android 7            0             0           0              0  ...   \n",
       "Android 8            0             0           0              0  ...   \n",
       "None                 0             0           0              0  ...   \n",
       "iOS 12               0             0           0              0  ...   \n",
       "iOS 13               0             0           0              0  ...   \n",
       "iOS 14               0             0           0              1  ...   \n",
       "\n",
       "           works just  works nice  works nicely  works ok  works perfect  \\\n",
       "OS                                                                         \n",
       "Android             0           0             0         0              0   \n",
       "Android 7           0           0             0         0              0   \n",
       "Android 8           0           0             0         0              0   \n",
       "None                0           0             0         0              0   \n",
       "iOS 12              0           0             0         0              0   \n",
       "iOS 13              0           0             0         0              0   \n",
       "iOS 14              0           0             0         0              0   \n",
       "\n",
       "           works perfectly  works really  write check  year ago  years happy  \n",
       "OS                                                                            \n",
       "Android                  0             0            0         0            0  \n",
       "Android 7                0             0            0         0            0  \n",
       "Android 8                0             0            0         0            0  \n",
       "None                     0             0            0         0            0  \n",
       "iOS 12                   0             0            0         0            0  \n",
       "iOS 13                   0             0            0         0            0  \n",
       "iOS 14                   0             0            0         1            0  \n",
       "\n",
       "[7 rows x 925 columns]"
      ]
     },
     "execution_count": 22,
     "metadata": {},
     "output_type": "execute_result"
    }
   ],
   "source": [
    "# collapse it down\n",
    "osDf = bow.groupby(['OS']).sum()\n",
    "osDf"
   ]
  },
  {
   "cell_type": "code",
   "execution_count": 23,
   "metadata": {
    "ExecuteTime": {
     "end_time": "2022-01-14T14:34:52.976181Z",
     "start_time": "2022-01-14T14:34:52.961174Z"
    }
   },
   "outputs": [],
   "source": [
    "# Calculate the distance between each sample\n",
    "Z = linkage(osDf, 'ward')"
   ]
  },
  {
   "cell_type": "code",
   "execution_count": 24,
   "metadata": {
    "ExecuteTime": {
     "end_time": "2022-01-14T14:34:54.012893Z",
     "start_time": "2022-01-14T14:34:53.998891Z"
    }
   },
   "outputs": [
    {
     "data": {
      "text/plain": [
       "['Android', 'Android 7', 'Android 8', 'None', 'iOS 12', 'iOS 13', 'iOS 14']"
      ]
     },
     "execution_count": 24,
     "metadata": {},
     "output_type": "execute_result"
    }
   ],
   "source": [
    "l = list(osDf.index)\n",
    "l"
   ]
  },
  {
   "cell_type": "code",
   "execution_count": 25,
   "metadata": {
    "ExecuteTime": {
     "end_time": "2022-01-14T14:36:01.127688Z",
     "start_time": "2022-01-14T14:36:00.971700Z"
    },
    "scrolled": false
   },
   "outputs": [
    {
     "data": {
      "image/png": "[encoded data removed]",
      "text/plain": [
       "<Figure size 1008x576 with 1 Axes>"
      ]
     },
     "metadata": {
      "needs_background": "light"
     },
     "output_type": "display_data"
    }
   ],
   "source": [
    "# Make the dendrogram\n",
    "# # Set the colour of the cluster here: #180A47\n",
    "# hierarchy.set_link_color_palette(['#b30000','#996600', '#b30086'])\n",
    "# colors = [\"#2A66DE\", \"#E88202\", \"#2A66DE\", \"#E88202\"]\n",
    "hierarchy.set_link_color_palette([\"darkblue\", 'lightblue']) \n",
    "\n",
    "# set the threshold to color\n",
    "t = 7.0\n",
    "\n",
    "plt.figure(figsize=(14,8))\n",
    "dendrogram(Z, labels=l, leaf_rotation=0, leaf_font_size=12,\n",
    "           orientation=\"left\",\n",
    "           color_threshold=t,\n",
    "           above_threshold_color=\"orange\")\n",
    "plt.axvline(x=t, c='darkblue', lw=1, linestyle='dashed')\n",
    "plt.title('Dendrogram of Phrases by OS')\n",
    "plt.xlabel('OS')\n",
    "plt.ylabel('Euclidean Distance')\n",
    "plt.show()"
   ]
  },
  {
   "cell_type": "markdown",
   "metadata": {},
   "source": [
    "# Perform Topic Modeling with LDA\n"
   ]
  },
  {
   "cell_type": "code",
   "execution_count": 26,
   "metadata": {
    "ExecuteTime": {
     "end_time": "2022-01-14T14:36:09.752542Z",
     "start_time": "2022-01-14T14:36:09.744541Z"
    }
   },
   "outputs": [],
   "source": [
    "# function to do a grid search of params\n",
    "def cv_lda(data_in):\n",
    "    search_params = {'n_components':[4, 6, 8], \"learning_decay\":[0.3, 0.5, 0.7]}\n",
    "    \n",
    "    # initialize model\n",
    "    LDA = LatentDirichletAllocation(random_state = SEED)\n",
    "    \n",
    "    # init grid search class\n",
    "    model = GridSearchCV(LDA, param_grid = search_params).fit(data_in)\n",
    "    \n",
    "    # return best model\n",
    "    print(\"Best Model's Params: \", model.best_params_)\n",
    "    print(\"\\nBest Log Likelihood: \", model.best_score_)\n",
    "    print(\"\\nBest Perplexity: \", model.best_estimator_.perplexity(data_in))\n",
    "    model.best_estimator_"
   ]
  },
  {
   "cell_type": "code",
   "execution_count": 27,
   "metadata": {
    "ExecuteTime": {
     "end_time": "2022-01-14T14:38:19.819675Z",
     "start_time": "2022-01-14T14:36:51.017488Z"
    }
   },
   "outputs": [
    {
     "name": "stdout",
     "output_type": "stream",
     "text": [
      "Best Model's Params:  {'learning_decay': 0.3, 'n_components': 4}\n",
      "\n",
      "Best Log Likelihood:  -7186.6071918438\n",
      "\n",
      "Best Perplexity:  951.4570983177874\n"
     ]
    }
   ],
   "source": [
    "model = cv_lda(dtm)"
   ]
  },
  {
   "cell_type": "code",
   "execution_count": 28,
   "metadata": {
    "ExecuteTime": {
     "end_time": "2022-01-14T14:41:20.142768Z",
     "start_time": "2022-01-14T14:41:17.720686Z"
    }
   },
   "outputs": [
    {
     "data": {
      "text/plain": [
       "LatentDirichletAllocation(learning_decay=0.3, n_components=4, random_state=42)"
      ]
     },
     "execution_count": 28,
     "metadata": {},
     "output_type": "execute_result"
    }
   ],
   "source": [
    "LDA = LatentDirichletAllocation(n_components=4, random_state=SEED, learning_decay=0.3)\n",
    "LDA.fit(dtm)"
   ]
  },
  {
   "cell_type": "code",
   "execution_count": 29,
   "metadata": {
    "ExecuteTime": {
     "end_time": "2022-01-14T14:41:23.222146Z",
     "start_time": "2022-01-14T14:41:23.215128Z"
    }
   },
   "outputs": [
    {
     "data": {
      "text/plain": [
       "925"
      ]
     },
     "execution_count": 29,
     "metadata": {},
     "output_type": "execute_result"
    }
   ],
   "source": [
    "# grab the vocabulary of words\n",
    "len(cv.get_feature_names())"
   ]
  },
  {
   "cell_type": "code",
   "execution_count": 30,
   "metadata": {
    "ExecuteTime": {
     "end_time": "2022-01-14T14:41:24.629516Z",
     "start_time": "2022-01-14T14:41:24.611523Z"
    }
   },
   "outputs": [
    {
     "data": {
      "text/plain": [
       "(4, 925)"
      ]
     },
     "execution_count": 30,
     "metadata": {},
     "output_type": "execute_result"
    }
   ],
   "source": [
    "LDA.components_.shape"
   ]
  },
  {
   "cell_type": "code",
   "execution_count": 31,
   "metadata": {
    "ExecuteTime": {
     "end_time": "2022-01-14T14:41:28.439194Z",
     "start_time": "2022-01-14T14:41:28.425072Z"
    }
   },
   "outputs": [],
   "source": [
    "# get one topic\n",
    "single_topic = LDA.components_[0]"
   ]
  },
  {
   "cell_type": "code",
   "execution_count": 32,
   "metadata": {
    "ExecuteTime": {
     "end_time": "2022-01-14T14:41:42.918311Z",
     "start_time": "2022-01-14T14:41:42.905315Z"
    }
   },
   "outputs": [
    {
     "name": "stdout",
     "output_type": "stream",
     "text": [
      "paying bills\n",
      "app convenient\n",
      "mobile deposit\n",
      "mobile banking\n",
      "convenient easy\n",
      "great experience\n",
      "easy thank\n",
      "long time\n",
      "deposit feature\n",
      "mobile app\n",
      "merry christmas\n",
      "check deposits\n",
      "mobile check\n",
      "like app\n",
      "love mobile\n",
      "quick easy\n",
      "good app\n",
      "check deposit\n",
      "user friendly\n",
      "love app\n"
     ]
    }
   ],
   "source": [
    "# take a look\n",
    "top_twenty_words = single_topic.argsort()[-20:]\n",
    "\n",
    "# get thet top 20\n",
    "for index in top_twenty_words:\n",
    "    print(cv.get_feature_names()[index])"
   ]
  },
  {
   "cell_type": "code",
   "execution_count": 33,
   "metadata": {
    "ExecuteTime": {
     "end_time": "2022-01-14T14:41:48.221917Z",
     "start_time": "2022-01-14T14:41:48.171874Z"
    }
   },
   "outputs": [
    {
     "name": "stdout",
     "output_type": "stream",
     "text": [
      "THE TOP 50 BIGRAMS WORDS FOR TOPIC #0\n",
      "['entering deposit', 'friendly convenient', 'got info', 'instead having', 'excellent service', 'try later', 'banking experience', 'check mobile', 'save username', 'transfer funds', 'app just', 'things easier', 'online easy', 'efficient easy', 'happy service', 'choose account', 'doesn work', 'makes things', 'hard time', 'takes long', 'deposit check', 'easy mobile', 'security code', 'app user', 'didn work', 'works fine', 've used', 'pretty good', 'mobile deposits', 'don use', 'paying bills', 'app convenient', 'mobile deposit', 'mobile banking', 'convenient easy', 'great experience', 'easy thank', 'long time', 'deposit feature', 'mobile app', 'merry christmas', 'check deposits', 'mobile check', 'like app', 'love mobile', 'quick easy', 'good app', 'check deposit', 'user friendly', 'love app']\n",
      "\n",
      "\n",
      "THE TOP 50 BIGRAMS WORDS FOR TOPIC #1\n",
      "['don bank', 'app time', 'easy deposit', 'really like', 'really easy', 'having bank', 'app fast', 'use online', 'need quickly', 'account balance', 'facial recognition', 'navigate website', 'mobile phone', 'don like', 'love able', 'app simple', 'check accounts', 'make deposits', 'easy make', 'love convenience', 'banking eastern', 'mobile banking', 'checking account', 'like able', 'great easy', 'love banking', 'happy holidays', 'able check', 'site easy', 'photo check', 'doesn work', 'check balance', 'using app', 'great customer', 'good job', 'pay bills', 'good experience', 'debit card', 'check deposit', 'customer service', 'mobile deposit', 'works great', 'use app', 'deposit check', 'app works', 'easy navigate', 'online banking', 'app easy', 'fast easy', 'easy use']\n",
      "\n",
      "\n",
      "THE TOP 50 BIGRAMS WORDS FOR TOPIC #2\n",
      "['easy check', 'check balance', 'mobile app', 'using app', 'face id', 'like bank', 'bank accounts', 'landscape mode', 'banking convenient', 'enjoy app', 'satisfied service', 'satisfied eastern', 'bank helpful', 'worked fine', 'great feature', 'banking eastern', 'needs work', 'check balances', 'bank branch', 'makes banking', 'thank eastern', 'bank good', 'far good', 'bank customer', 'bank best', 'app great', 'app use', 'bank easy', 'great work', 'bank great', 'face recognition', 'app makes', 'banking easy', 'app doesn', 'love bank', 'easy follow', 'great job', 'experience eastern', 'happy eastern', 'depositing checks', 'love online', 'simple easy', 'customer service', 'easy fast', 'best bank', 'online banking', 'banking app', 'bank app', 'love eastern', 'eastern bank']\n",
      "\n",
      "\n",
      "THE TOP 50 BIGRAMS WORDS FOR TOPIC #3\n",
      "['user interface', 'picture times', 'check easy', 'difficulty getting', 'retake picture', 'checking balance', 'great way', 'getting account', 'transfer accounts', 'username password', 'security code', 'went smoothly', 'depositing checks', 'deposit easy', 'issues app', 'website easy', 'app pretty', 'nice app', 'makes life', 'love guys', 'little slow', 'savings account', 'touch id', 'easy quick', 'make deposit', 'life easier', 'pretty easy', 'money accounts', 'love easy', 'picture check', 'easy deposit', 'transferring money', 'easy access', 'easy maneuver', 'depositing check', 'app great', 'easy transfer', 'super easy', 'nice easy', 'good work', 'great bank', 'easy convenient', 'love bank', 'good service', 'deposit checks', 'transfer money', 'customer service', 'mobile app', 'great app', 'great service']\n",
      "\n",
      "\n"
     ]
    }
   ],
   "source": [
    "for index,topic in enumerate(LDA.components_):\n",
    "    print(f'THE TOP 50 BIGRAMS WORDS FOR TOPIC #{index}')\n",
    "    print([cv.get_feature_names()[i] for i in topic.argsort()[-50:]])\n",
    "    print('\\n')"
   ]
  },
  {
   "cell_type": "code",
   "execution_count": 34,
   "metadata": {
    "ExecuteTime": {
     "end_time": "2022-01-14T14:41:52.172156Z",
     "start_time": "2022-01-14T14:41:52.040147Z"
    }
   },
   "outputs": [
    {
     "data": {
      "text/plain": [
       "(2667, 4)"
      ]
     },
     "execution_count": 34,
     "metadata": {},
     "output_type": "execute_result"
    }
   ],
   "source": [
    "topic_results = LDA.transform(dtm)\n",
    "topic_results.shape"
   ]
  },
  {
   "cell_type": "code",
   "execution_count": 35,
   "metadata": {
    "ExecuteTime": {
     "end_time": "2022-01-14T14:41:53.228843Z",
     "start_time": "2022-01-14T14:41:53.219844Z"
    }
   },
   "outputs": [
    {
     "data": {
      "text/plain": [
       "array([0.06, 0.81, 0.06, 0.06])"
      ]
     },
     "execution_count": 35,
     "metadata": {},
     "output_type": "execute_result"
    }
   ],
   "source": [
    "# get the first row, has probabilities of each topic\n",
    "topic_results[0].round(2)"
   ]
  },
  {
   "cell_type": "code",
   "execution_count": 36,
   "metadata": {
    "ExecuteTime": {
     "end_time": "2022-01-14T14:44:02.420037Z",
     "start_time": "2022-01-14T14:44:02.409037Z"
    }
   },
   "outputs": [
    {
     "data": {
      "text/plain": [
       "1"
      ]
     },
     "execution_count": 36,
     "metadata": {},
     "output_type": "execute_result"
    }
   ],
   "source": [
    "# get index position of highest probability\n",
    "# use it to assign the topic to the phrases\n",
    "\n",
    "topic_results[0].argmax()"
   ]
  },
  {
   "cell_type": "code",
   "execution_count": 37,
   "metadata": {
    "ExecuteTime": {
     "end_time": "2022-01-14T14:44:16.918149Z",
     "start_time": "2022-01-14T14:44:16.896146Z"
    }
   },
   "outputs": [
    {
     "data": {
      "text/html": [
       "<div>\n",
       "<style scoped>\n",
       "    .dataframe tbody tr th:only-of-type {\n",
       "        vertical-align: middle;\n",
       "    }\n",
       "\n",
       "    .dataframe tbody tr th {\n",
       "        vertical-align: top;\n",
       "    }\n",
       "\n",
       "    .dataframe thead th {\n",
       "        text-align: right;\n",
       "    }\n",
       "</style>\n",
       "<table border=\"1\" class=\"dataframe\">\n",
       "  <thead>\n",
       "    <tr style=\"text-align: right;\">\n",
       "      <th></th>\n",
       "      <th>Comments</th>\n",
       "      <th>OS</th>\n",
       "      <th>Topic</th>\n",
       "    </tr>\n",
       "  </thead>\n",
       "  <tbody>\n",
       "    <tr>\n",
       "      <th>2</th>\n",
       "      <td>This mobile device app is not easy to use. Goi...</td>\n",
       "      <td>Android</td>\n",
       "      <td>1</td>\n",
       "    </tr>\n",
       "    <tr>\n",
       "      <th>16</th>\n",
       "      <td>Issue with Paying bills from my accounts at th...</td>\n",
       "      <td>iOS 14</td>\n",
       "      <td>0</td>\n",
       "    </tr>\n",
       "    <tr>\n",
       "      <th>34</th>\n",
       "      <td>Slow screen to screen</td>\n",
       "      <td>iOS 14</td>\n",
       "      <td>0</td>\n",
       "    </tr>\n",
       "    <tr>\n",
       "      <th>46</th>\n",
       "      <td>Easy to transfer money, cancel scheduled trans...</td>\n",
       "      <td>Android</td>\n",
       "      <td>3</td>\n",
       "    </tr>\n",
       "    <tr>\n",
       "      <th>58</th>\n",
       "      <td>Great customer service, tellers are all nice n...</td>\n",
       "      <td>iOS 14</td>\n",
       "      <td>1</td>\n",
       "    </tr>\n",
       "    <tr>\n",
       "      <th>68</th>\n",
       "      <td>Great</td>\n",
       "      <td>None</td>\n",
       "      <td>0</td>\n",
       "    </tr>\n",
       "    <tr>\n",
       "      <th>86</th>\n",
       "      <td>Experience was great so I received some suppor...</td>\n",
       "      <td>Android</td>\n",
       "      <td>1</td>\n",
       "    </tr>\n",
       "    <tr>\n",
       "      <th>90</th>\n",
       "      <td>Julie was great when I opened my accounts</td>\n",
       "      <td>Android</td>\n",
       "      <td>0</td>\n",
       "    </tr>\n",
       "    <tr>\n",
       "      <th>114</th>\n",
       "      <td>It tIt took forever to get signed in and then ...</td>\n",
       "      <td>iOS 14</td>\n",
       "      <td>3</td>\n",
       "    </tr>\n",
       "    <tr>\n",
       "      <th>129</th>\n",
       "      <td>She was articulate, kind and had a lovely voic...</td>\n",
       "      <td>iOS 14</td>\n",
       "      <td>0</td>\n",
       "    </tr>\n",
       "  </tbody>\n",
       "</table>\n",
       "</div>"
      ],
      "text/plain": [
       "                                              Comments       OS  Topic\n",
       "2    This mobile device app is not easy to use. Goi...  Android      1\n",
       "16   Issue with Paying bills from my accounts at th...   iOS 14      0\n",
       "34                               Slow screen to screen   iOS 14      0\n",
       "46   Easy to transfer money, cancel scheduled trans...  Android      3\n",
       "58   Great customer service, tellers are all nice n...   iOS 14      1\n",
       "68                                               Great     None      0\n",
       "86   Experience was great so I received some suppor...  Android      1\n",
       "90           Julie was great when I opened my accounts  Android      0\n",
       "114  It tIt took forever to get signed in and then ...   iOS 14      3\n",
       "129  She was articulate, kind and had a lovely voic...   iOS 14      0"
      ]
     },
     "execution_count": 37,
     "metadata": {},
     "output_type": "execute_result"
    }
   ],
   "source": [
    "# create a column for the topic assignment\n",
    "\n",
    "df['Topic'] = topic_results.argmax(axis=1)\n",
    "df.head(10)"
   ]
  },
  {
   "cell_type": "code",
   "execution_count": 38,
   "metadata": {
    "ExecuteTime": {
     "end_time": "2022-01-14T14:44:26.116475Z",
     "start_time": "2022-01-14T14:44:26.090476Z"
    }
   },
   "outputs": [
    {
     "data": {
      "text/html": [
       "<div>\n",
       "<style scoped>\n",
       "    .dataframe tbody tr th:only-of-type {\n",
       "        vertical-align: middle;\n",
       "    }\n",
       "\n",
       "    .dataframe tbody tr th {\n",
       "        vertical-align: top;\n",
       "    }\n",
       "\n",
       "    .dataframe thead th {\n",
       "        text-align: right;\n",
       "    }\n",
       "</style>\n",
       "<table border=\"1\" class=\"dataframe\">\n",
       "  <thead>\n",
       "    <tr style=\"text-align: right;\">\n",
       "      <th></th>\n",
       "      <th>Comments</th>\n",
       "      <th>OS</th>\n",
       "      <th>Topic</th>\n",
       "      <th>Topic Label</th>\n",
       "    </tr>\n",
       "  </thead>\n",
       "  <tbody>\n",
       "    <tr>\n",
       "      <th>2</th>\n",
       "      <td>This mobile device app is not easy to use. Goi...</td>\n",
       "      <td>Android</td>\n",
       "      <td>1</td>\n",
       "      <td>eastern bank</td>\n",
       "    </tr>\n",
       "    <tr>\n",
       "      <th>16</th>\n",
       "      <td>Issue with Paying bills from my accounts at th...</td>\n",
       "      <td>iOS 14</td>\n",
       "      <td>0</td>\n",
       "      <td>challenges</td>\n",
       "    </tr>\n",
       "    <tr>\n",
       "      <th>34</th>\n",
       "      <td>Slow screen to screen</td>\n",
       "      <td>iOS 14</td>\n",
       "      <td>0</td>\n",
       "      <td>challenges</td>\n",
       "    </tr>\n",
       "    <tr>\n",
       "      <th>46</th>\n",
       "      <td>Easy to transfer money, cancel scheduled trans...</td>\n",
       "      <td>Android</td>\n",
       "      <td>3</td>\n",
       "      <td>experience</td>\n",
       "    </tr>\n",
       "    <tr>\n",
       "      <th>58</th>\n",
       "      <td>Great customer service, tellers are all nice n...</td>\n",
       "      <td>iOS 14</td>\n",
       "      <td>1</td>\n",
       "      <td>eastern bank</td>\n",
       "    </tr>\n",
       "    <tr>\n",
       "      <th>68</th>\n",
       "      <td>Great</td>\n",
       "      <td>None</td>\n",
       "      <td>0</td>\n",
       "      <td>challenges</td>\n",
       "    </tr>\n",
       "    <tr>\n",
       "      <th>86</th>\n",
       "      <td>Experience was great so I received some suppor...</td>\n",
       "      <td>Android</td>\n",
       "      <td>1</td>\n",
       "      <td>eastern bank</td>\n",
       "    </tr>\n",
       "    <tr>\n",
       "      <th>90</th>\n",
       "      <td>Julie was great when I opened my accounts</td>\n",
       "      <td>Android</td>\n",
       "      <td>0</td>\n",
       "      <td>challenges</td>\n",
       "    </tr>\n",
       "    <tr>\n",
       "      <th>114</th>\n",
       "      <td>It tIt took forever to get signed in and then ...</td>\n",
       "      <td>iOS 14</td>\n",
       "      <td>3</td>\n",
       "      <td>experience</td>\n",
       "    </tr>\n",
       "    <tr>\n",
       "      <th>129</th>\n",
       "      <td>She was articulate, kind and had a lovely voic...</td>\n",
       "      <td>iOS 14</td>\n",
       "      <td>0</td>\n",
       "      <td>challenges</td>\n",
       "    </tr>\n",
       "  </tbody>\n",
       "</table>\n",
       "</div>"
      ],
      "text/plain": [
       "                                              Comments       OS  Topic  \\\n",
       "2    This mobile device app is not easy to use. Goi...  Android      1   \n",
       "16   Issue with Paying bills from my accounts at th...   iOS 14      0   \n",
       "34                               Slow screen to screen   iOS 14      0   \n",
       "46   Easy to transfer money, cancel scheduled trans...  Android      3   \n",
       "58   Great customer service, tellers are all nice n...   iOS 14      1   \n",
       "68                                               Great     None      0   \n",
       "86   Experience was great so I received some suppor...  Android      1   \n",
       "90           Julie was great when I opened my accounts  Android      0   \n",
       "114  It tIt took forever to get signed in and then ...   iOS 14      3   \n",
       "129  She was articulate, kind and had a lovely voic...   iOS 14      0   \n",
       "\n",
       "      Topic Label  \n",
       "2    eastern bank  \n",
       "16     challenges  \n",
       "34     challenges  \n",
       "46     experience  \n",
       "58   eastern bank  \n",
       "68     challenges  \n",
       "86   eastern bank  \n",
       "90     challenges  \n",
       "114    experience  \n",
       "129    challenges  "
      ]
     },
     "execution_count": 38,
     "metadata": {},
     "output_type": "execute_result"
    }
   ],
   "source": [
    "# map with words this is just a high level pass you'll have to study it more\n",
    "mytopic_dict = {0:'challenges',1:'eastern bank',2:'usage',3:'experience'}\n",
    "\n",
    "df['Topic Label'] = df['Topic'].map(mytopic_dict)\n",
    "df.head(10)"
   ]
  },
  {
   "cell_type": "markdown",
   "metadata": {},
   "source": [
    "# Sentiment Analysis"
   ]
  },
  {
   "cell_type": "code",
   "execution_count": 39,
   "metadata": {
    "ExecuteTime": {
     "end_time": "2022-01-14T14:44:33.319196Z",
     "start_time": "2022-01-14T14:44:33.286195Z"
    }
   },
   "outputs": [],
   "source": [
    "# instantiate sentiment engine\n",
    "sid = SentimentIntensityAnalyzer()"
   ]
  },
  {
   "cell_type": "code",
   "execution_count": 40,
   "metadata": {
    "ExecuteTime": {
     "end_time": "2022-01-14T14:44:35.364938Z",
     "start_time": "2022-01-14T14:44:34.986930Z"
    }
   },
   "outputs": [
    {
     "data": {
      "text/html": [
       "<div>\n",
       "<style scoped>\n",
       "    .dataframe tbody tr th:only-of-type {\n",
       "        vertical-align: middle;\n",
       "    }\n",
       "\n",
       "    .dataframe tbody tr th {\n",
       "        vertical-align: top;\n",
       "    }\n",
       "\n",
       "    .dataframe thead th {\n",
       "        text-align: right;\n",
       "    }\n",
       "</style>\n",
       "<table border=\"1\" class=\"dataframe\">\n",
       "  <thead>\n",
       "    <tr style=\"text-align: right;\">\n",
       "      <th></th>\n",
       "      <th>Comments</th>\n",
       "      <th>OS</th>\n",
       "      <th>Topic</th>\n",
       "      <th>Topic Label</th>\n",
       "      <th>scores</th>\n",
       "      <th>compound</th>\n",
       "    </tr>\n",
       "  </thead>\n",
       "  <tbody>\n",
       "    <tr>\n",
       "      <th>2</th>\n",
       "      <td>This mobile device app is not easy to use. Goi...</td>\n",
       "      <td>Android</td>\n",
       "      <td>1</td>\n",
       "      <td>eastern bank</td>\n",
       "      <td>{'neg': 0.131, 'neu': 0.869, 'pos': 0.0, 'comp...</td>\n",
       "      <td>-0.3412</td>\n",
       "    </tr>\n",
       "    <tr>\n",
       "      <th>16</th>\n",
       "      <td>Issue with Paying bills from my accounts at th...</td>\n",
       "      <td>iOS 14</td>\n",
       "      <td>0</td>\n",
       "      <td>challenges</td>\n",
       "      <td>{'neg': 0.176, 'neu': 0.824, 'pos': 0.0, 'comp...</td>\n",
       "      <td>-0.4588</td>\n",
       "    </tr>\n",
       "    <tr>\n",
       "      <th>34</th>\n",
       "      <td>Slow screen to screen</td>\n",
       "      <td>iOS 14</td>\n",
       "      <td>0</td>\n",
       "      <td>challenges</td>\n",
       "      <td>{'neg': 0.0, 'neu': 1.0, 'pos': 0.0, 'compound...</td>\n",
       "      <td>0.0000</td>\n",
       "    </tr>\n",
       "    <tr>\n",
       "      <th>46</th>\n",
       "      <td>Easy to transfer money, cancel scheduled trans...</td>\n",
       "      <td>Android</td>\n",
       "      <td>3</td>\n",
       "      <td>experience</td>\n",
       "      <td>{'neg': 0.073, 'neu': 0.623, 'pos': 0.304, 'co...</td>\n",
       "      <td>0.7430</td>\n",
       "    </tr>\n",
       "    <tr>\n",
       "      <th>58</th>\n",
       "      <td>Great customer service, tellers are all nice n...</td>\n",
       "      <td>iOS 14</td>\n",
       "      <td>1</td>\n",
       "      <td>eastern bank</td>\n",
       "      <td>{'neg': 0.0, 'neu': 0.327, 'pos': 0.673, 'comp...</td>\n",
       "      <td>0.8834</td>\n",
       "    </tr>\n",
       "  </tbody>\n",
       "</table>\n",
       "</div>"
      ],
      "text/plain": [
       "                                             Comments       OS  Topic  \\\n",
       "2   This mobile device app is not easy to use. Goi...  Android      1   \n",
       "16  Issue with Paying bills from my accounts at th...   iOS 14      0   \n",
       "34                              Slow screen to screen   iOS 14      0   \n",
       "46  Easy to transfer money, cancel scheduled trans...  Android      3   \n",
       "58  Great customer service, tellers are all nice n...   iOS 14      1   \n",
       "\n",
       "     Topic Label                                             scores  compound  \n",
       "2   eastern bank  {'neg': 0.131, 'neu': 0.869, 'pos': 0.0, 'comp...   -0.3412  \n",
       "16    challenges  {'neg': 0.176, 'neu': 0.824, 'pos': 0.0, 'comp...   -0.4588  \n",
       "34    challenges  {'neg': 0.0, 'neu': 1.0, 'pos': 0.0, 'compound...    0.0000  \n",
       "46    experience  {'neg': 0.073, 'neu': 0.623, 'pos': 0.304, 'co...    0.7430  \n",
       "58  eastern bank  {'neg': 0.0, 'neu': 0.327, 'pos': 0.673, 'comp...    0.8834  "
      ]
     },
     "execution_count": 40,
     "metadata": {},
     "output_type": "execute_result"
    }
   ],
   "source": [
    "\n",
    "# apply the sentiment analyzer\n",
    "df['scores'] = df['Comments'].apply(lambda review: sid.polarity_scores(review))\n",
    "\n",
    "# compound scores\n",
    "df['compound'] = df['scores'].apply(lambda d:d['compound'])\n",
    "df.head()"
   ]
  },
  {
   "cell_type": "code",
   "execution_count": 41,
   "metadata": {
    "ExecuteTime": {
     "end_time": "2022-01-14T14:44:39.501833Z",
     "start_time": "2022-01-14T14:44:39.488846Z"
    }
   },
   "outputs": [],
   "source": [
    "# add some context\n",
    "# you can choose scores fore neutral (-1 to 1 or something like that)\n",
    "def sentiment_score(row):\n",
    "    if row > .25:\n",
    "        return 'Pos'\n",
    "    elif row < -.25:\n",
    "        return 'Neg'\n",
    "    else:\n",
    "        return \"Neu\""
   ]
  },
  {
   "cell_type": "code",
   "execution_count": 42,
   "metadata": {
    "ExecuteTime": {
     "end_time": "2022-01-14T14:44:43.599345Z",
     "start_time": "2022-01-14T14:44:43.571348Z"
    }
   },
   "outputs": [
    {
     "data": {
      "text/html": [
       "<div>\n",
       "<style scoped>\n",
       "    .dataframe tbody tr th:only-of-type {\n",
       "        vertical-align: middle;\n",
       "    }\n",
       "\n",
       "    .dataframe tbody tr th {\n",
       "        vertical-align: top;\n",
       "    }\n",
       "\n",
       "    .dataframe thead th {\n",
       "        text-align: right;\n",
       "    }\n",
       "</style>\n",
       "<table border=\"1\" class=\"dataframe\">\n",
       "  <thead>\n",
       "    <tr style=\"text-align: right;\">\n",
       "      <th></th>\n",
       "      <th>Comments</th>\n",
       "      <th>OS</th>\n",
       "      <th>Topic</th>\n",
       "      <th>Topic Label</th>\n",
       "      <th>scores</th>\n",
       "      <th>compound</th>\n",
       "      <th>sentiment</th>\n",
       "    </tr>\n",
       "  </thead>\n",
       "  <tbody>\n",
       "    <tr>\n",
       "      <th>2</th>\n",
       "      <td>This mobile device app is not easy to use. Goi...</td>\n",
       "      <td>Android</td>\n",
       "      <td>1</td>\n",
       "      <td>eastern bank</td>\n",
       "      <td>{'neg': 0.131, 'neu': 0.869, 'pos': 0.0, 'comp...</td>\n",
       "      <td>-0.3412</td>\n",
       "      <td>Neg</td>\n",
       "    </tr>\n",
       "    <tr>\n",
       "      <th>16</th>\n",
       "      <td>Issue with Paying bills from my accounts at th...</td>\n",
       "      <td>iOS 14</td>\n",
       "      <td>0</td>\n",
       "      <td>challenges</td>\n",
       "      <td>{'neg': 0.176, 'neu': 0.824, 'pos': 0.0, 'comp...</td>\n",
       "      <td>-0.4588</td>\n",
       "      <td>Neg</td>\n",
       "    </tr>\n",
       "    <tr>\n",
       "      <th>34</th>\n",
       "      <td>Slow screen to screen</td>\n",
       "      <td>iOS 14</td>\n",
       "      <td>0</td>\n",
       "      <td>challenges</td>\n",
       "      <td>{'neg': 0.0, 'neu': 1.0, 'pos': 0.0, 'compound...</td>\n",
       "      <td>0.0000</td>\n",
       "      <td>Neu</td>\n",
       "    </tr>\n",
       "    <tr>\n",
       "      <th>46</th>\n",
       "      <td>Easy to transfer money, cancel scheduled trans...</td>\n",
       "      <td>Android</td>\n",
       "      <td>3</td>\n",
       "      <td>experience</td>\n",
       "      <td>{'neg': 0.073, 'neu': 0.623, 'pos': 0.304, 'co...</td>\n",
       "      <td>0.7430</td>\n",
       "      <td>Pos</td>\n",
       "    </tr>\n",
       "    <tr>\n",
       "      <th>58</th>\n",
       "      <td>Great customer service, tellers are all nice n...</td>\n",
       "      <td>iOS 14</td>\n",
       "      <td>1</td>\n",
       "      <td>eastern bank</td>\n",
       "      <td>{'neg': 0.0, 'neu': 0.327, 'pos': 0.673, 'comp...</td>\n",
       "      <td>0.8834</td>\n",
       "      <td>Pos</td>\n",
       "    </tr>\n",
       "  </tbody>\n",
       "</table>\n",
       "</div>"
      ],
      "text/plain": [
       "                                             Comments       OS  Topic  \\\n",
       "2   This mobile device app is not easy to use. Goi...  Android      1   \n",
       "16  Issue with Paying bills from my accounts at th...   iOS 14      0   \n",
       "34                              Slow screen to screen   iOS 14      0   \n",
       "46  Easy to transfer money, cancel scheduled trans...  Android      3   \n",
       "58  Great customer service, tellers are all nice n...   iOS 14      1   \n",
       "\n",
       "     Topic Label                                             scores  compound  \\\n",
       "2   eastern bank  {'neg': 0.131, 'neu': 0.869, 'pos': 0.0, 'comp...   -0.3412   \n",
       "16    challenges  {'neg': 0.176, 'neu': 0.824, 'pos': 0.0, 'comp...   -0.4588   \n",
       "34    challenges  {'neg': 0.0, 'neu': 1.0, 'pos': 0.0, 'compound...    0.0000   \n",
       "46    experience  {'neg': 0.073, 'neu': 0.623, 'pos': 0.304, 'co...    0.7430   \n",
       "58  eastern bank  {'neg': 0.0, 'neu': 0.327, 'pos': 0.673, 'comp...    0.8834   \n",
       "\n",
       "   sentiment  \n",
       "2        Neg  \n",
       "16       Neg  \n",
       "34       Neu  \n",
       "46       Pos  \n",
       "58       Pos  "
      ]
     },
     "execution_count": 42,
     "metadata": {},
     "output_type": "execute_result"
    }
   ],
   "source": [
    "df['sentiment'] = df['compound'].apply(sentiment_score)\n",
    "\n",
    "df.head()"
   ]
  },
  {
   "cell_type": "code",
   "execution_count": 48,
   "metadata": {
    "ExecuteTime": {
     "end_time": "2022-01-14T15:01:30.976507Z",
     "start_time": "2022-01-14T15:01:30.531484Z"
    }
   },
   "outputs": [
    {
     "data": {
      "text/plain": [
       "<seaborn.axisgrid.FacetGrid at 0x21dcaad7748>"
      ]
     },
     "execution_count": 48,
     "metadata": {},
     "output_type": "execute_result"
    },
    {
     "data": {
      "image/png": "[encoded data removed]",
      "text/plain": [
       "<Figure size 864x216 with 4 Axes>"
      ]
     },
     "metadata": {
      "needs_background": "light"
     },
     "output_type": "display_data"
    }
   ],
   "source": [
    "sns.displot(\n",
    "    df, x=\"sentiment\", col=\"Topic Label\",\n",
    "    binwidth=3, height=3, facet_kws=dict(margin_titles=True),\n",
    ")"
   ]
  },
  {
   "cell_type": "code",
   "execution_count": null,
   "metadata": {
    "ExecuteTime": {
     "end_time": "2022-01-13T21:59:29.307827Z",
     "start_time": "2022-01-13T21:59:29.271828Z"
    }
   },
   "outputs": [],
   "source": [
    "# you can select by topic too\n",
    "# you'll need to maintain the oder of topic labels, etc. or just do the dtm\n",
    "# the dtm was created in the earlier step, you can create a new one based on slicing the above dataframe\n",
    "\n",
    "cv.vocabulary_"
   ]
  },
  {
   "cell_type": "code",
   "execution_count": null,
   "metadata": {
    "ExecuteTime": {
     "end_time": "2022-01-13T22:06:08.249609Z",
     "start_time": "2022-01-13T22:06:08.242610Z"
    }
   },
   "outputs": [],
   "source": [
    "# get the phrases from the dtm \n",
    "sum_words = dtm.sum(axis=0) \n",
    "words_freq = [(word, sum_words[0, idx]) for word, idx in cv.vocabulary_.items()]\n",
    "words_freq =sorted(words_freq, key = lambda x: x[1], reverse=True)\n",
    "print (words_freq[:100])"
   ]
  },
  {
   "cell_type": "code",
   "execution_count": null,
   "metadata": {
    "ExecuteTime": {
     "end_time": "2022-01-13T22:06:19.049360Z",
     "start_time": "2022-01-13T22:06:19.035360Z"
    }
   },
   "outputs": [],
   "source": [
    "# set the stopwords list\n",
    "\n",
    "stopwords = set(STOPWORDS)"
   ]
  },
  {
   "cell_type": "code",
   "execution_count": null,
   "metadata": {
    "ExecuteTime": {
     "end_time": "2022-01-13T22:06:28.929574Z",
     "start_time": "2022-01-13T22:06:20.087432Z"
    }
   },
   "outputs": [],
   "source": [
    "# Generating wordcloud and saving as jpg image\n",
    "plt.figure(figsize=(14,10))\n",
    "\n",
    "words_dict = dict(words_freq)\n",
    "WC_height = 1000\n",
    "WC_width = 1500\n",
    "WC_max_words = 500\n",
    "wordCloud = WordCloud(max_words=WC_max_words, height=WC_height, width=WC_width,stopwords=stopwords)\n",
    "wordCloud.generate_from_frequencies(words_dict)\n",
    "plt.title('Most frequently occurring bigrams connected by same colour and font size')\n",
    "plt.imshow(wordCloud, interpolation='bilinear')\n",
    "plt.axis(\"off\")\n",
    "plt.show()\n",
    "\n",
    "# save to file\n",
    "# wordCloud.to_file('wordcloud_bigram.jpg')"
   ]
  },
  {
   "cell_type": "markdown",
   "metadata": {},
   "source": [
    "# Topic Plot"
   ]
  },
  {
   "cell_type": "code",
   "execution_count": null,
   "metadata": {
    "ExecuteTime": {
     "end_time": "2022-01-13T22:06:34.636835Z",
     "start_time": "2022-01-13T22:06:34.573833Z"
    }
   },
   "outputs": [],
   "source": [
    " # Generate the TF-IDF vectors\n",
    "# this is the same step as earlier with the count vectorizer\n",
    "vectorizer_tfidf = TfidfVectorizer(max_features=10000, ngram_range = (2,2))\n",
    "vectors_tfidf = vectorizer_tfidf.fit_transform(df.Comments)\n",
    "print(vectors_tfidf.shape)"
   ]
  },
  {
   "cell_type": "code",
   "execution_count": null,
   "metadata": {
    "ExecuteTime": {
     "end_time": "2022-01-13T22:06:55.401482Z",
     "start_time": "2022-01-13T22:06:35.607959Z"
    }
   },
   "outputs": [],
   "source": [
    "# Generate the TF-IDF dimension reduction\n",
    "embedding_tfidf = umap.UMAP(random_state=SEED).fit_transform(vectors_tfidf)"
   ]
  },
  {
   "cell_type": "code",
   "execution_count": null,
   "metadata": {
    "ExecuteTime": {
     "end_time": "2022-01-13T22:06:56.790651Z",
     "start_time": "2022-01-13T22:06:56.772662Z"
    }
   },
   "outputs": [],
   "source": [
    "def enable_plotly_in_cell():\n",
    "  import IPython\n",
    "  display(IPython.core.display.HTML('''<script src=\"/static/components/requirejs/require.js\"></script>'''))\n",
    "  init_notebook_mode(connected=False)"
   ]
  },
  {
   "cell_type": "code",
   "execution_count": null,
   "metadata": {
    "ExecuteTime": {
     "end_time": "2022-01-13T22:06:58.314403Z",
     "start_time": "2022-01-13T22:06:58.305404Z"
    }
   },
   "outputs": [],
   "source": [
    "# set up plotting\n",
    "\n",
    "df['x'] = embedding_tfidf[:,0]\n",
    "df['y'] = embedding_tfidf[:,1]"
   ]
  },
  {
   "cell_type": "code",
   "execution_count": null,
   "metadata": {
    "ExecuteTime": {
     "end_time": "2022-01-13T22:06:59.528900Z",
     "start_time": "2022-01-13T22:06:59.513888Z"
    }
   },
   "outputs": [],
   "source": [
    "df.head()"
   ]
  },
  {
   "cell_type": "code",
   "execution_count": null,
   "metadata": {
    "ExecuteTime": {
     "end_time": "2022-01-13T22:07:04.261235Z",
     "start_time": "2022-01-13T22:07:04.255234Z"
    }
   },
   "outputs": [],
   "source": [
    "# create a label from several text\n",
    "# df['Label'] = (df['OS'] + \" - Topic: \" + df['Topic Label'] + '\\n' + \" - Comment: \" + df['Comments'])\n",
    "# df.head()\n"
   ]
  },
  {
   "cell_type": "code",
   "execution_count": null,
   "metadata": {
    "ExecuteTime": {
     "end_time": "2022-01-13T22:07:05.304631Z",
     "start_time": "2022-01-13T22:07:05.223644Z"
    }
   },
   "outputs": [],
   "source": [
    "# Wrap the text so it displays nicely in Plotly hover\n",
    "df['wrap'] = df['Comments'].map(lambda x: '<br>'.join(textwrap.wrap(x, 64)))"
   ]
  },
  {
   "cell_type": "code",
   "execution_count": null,
   "metadata": {
    "ExecuteTime": {
     "end_time": "2022-01-13T22:07:12.675659Z",
     "start_time": "2022-01-13T22:07:06.239752Z"
    }
   },
   "outputs": [],
   "source": [
    "colors = ['purple', 'orange', 'blue', 'green']\n",
    "topics = list(df['Topic Label'].unique())\n",
    "\n",
    "\n",
    "enable_plotly_in_cell()\n",
    "\n",
    "fig = go.Figure()\n",
    "\n",
    "\n",
    "for i, topic in enumerate(topics):\n",
    "    ix = df[df['Topic Label'] == topic]\n",
    "    fig.add_trace(go.Scatter(x=ix.x,\n",
    "                             y=ix.y,\n",
    "                             name=topic,\n",
    "                             showlegend=True,\n",
    "                             mode='markers',\n",
    "                             marker=dict(\n",
    "                                 color=colors[i],\n",
    "                                 size=4,\n",
    "                                 opacity = 0.6)\n",
    "                            ))\n",
    "\n",
    "\n",
    "fig.update_traces(hovertemplate='OS: ' + df.OS + '<br>' + 'Topic: ' + df['Topic Label'] + '<br>' \n",
    "                  + df.wrap + '<extra></extra>')\n",
    "\n",
    "   \n",
    "fig.update_layout(\n",
    "    autosize=False,\n",
    "    width=1000,\n",
    "    height=1000,\n",
    "    hovermode=\"closest\",\n",
    "    title=\"Comment Clusters\",\n",
    "    legend_title_text='Topic',\n",
    "    scene = dict(\n",
    "        xaxis = dict(title=' ',visible=True, backgroundcolor=\"rgb(200, 200, 230)\", tickvals=[]),\n",
    "        yaxis = dict(title=' ',visible=True, backgroundcolor=\"rgb(200, 200, 230)\", tickvals=[]),\n",
    "    )\n",
    ")\n",
    "\n",
    "\n",
    "fig.update_layout(\n",
    "    yaxis=dict(showticklabels=False),\n",
    "    xaxis=dict(showticklabels=False)\n",
    ")\n",
    "\n",
    "\n",
    "\n",
    " \n",
    "    \n",
    "fig.update_layout(legend=dict(\n",
    "    orientation=\"h\",\n",
    "    yanchor=\"bottom\",\n",
    "    y=1.02,\n",
    "    xanchor=\"right\",\n",
    "    x=1\n",
    "))\n",
    "\n",
    "    \n",
    "\n",
    "\n",
    "iplot(fig)"
   ]
  },
  {
   "cell_type": "markdown",
   "metadata": {},
   "source": [
    "# Deep Learning Model with GUSE\n",
    "## Google Universal Sentence Encoder using Tensorflow"
   ]
  },
  {
   "cell_type": "code",
   "execution_count": null,
   "metadata": {
    "ExecuteTime": {
     "end_time": "2022-01-13T22:07:43.559281Z",
     "start_time": "2022-01-13T22:07:43.543282Z"
    }
   },
   "outputs": [],
   "source": [
    "# convert main text field to a list\n",
    "# make each column a separate list\n",
    "\n",
    "text = df['Comments'].to_list()\n",
    "len(text)"
   ]
  },
  {
   "cell_type": "code",
   "execution_count": null,
   "metadata": {
    "ExecuteTime": {
     "end_time": "2022-01-13T22:07:44.696493Z",
     "start_time": "2022-01-13T22:07:44.671506Z"
    }
   },
   "outputs": [],
   "source": [
    "# get the sentences\n",
    "# np_list = np.asarray(sentence_list) and then convert it to tensor using\n",
    "# tensor_list = tf.convert_to_tensor(np_list)\n",
    "\n",
    "np_list = np.asarray(text)\n",
    "sentences = tf.convert_to_tensor(np_list)\n",
    "sentences"
   ]
  },
  {
   "cell_type": "code",
   "execution_count": null,
   "metadata": {
    "ExecuteTime": {
     "end_time": "2022-01-13T22:07:52.026626Z",
     "start_time": "2022-01-13T22:07:52.023614Z"
    }
   },
   "outputs": [],
   "source": [
    "end = sentences.shape\n",
    "end"
   ]
  },
  {
   "cell_type": "code",
   "execution_count": null,
   "metadata": {
    "ExecuteTime": {
     "end_time": "2022-01-13T22:07:55.657855Z",
     "start_time": "2022-01-13T22:07:54.640010Z"
    }
   },
   "outputs": [],
   "source": [
    "# encode them all\n",
    "vectors_guse = guse(sentences)\n",
    "print(vectors_guse.shape)"
   ]
  },
  {
   "cell_type": "code",
   "execution_count": null,
   "metadata": {
    "ExecuteTime": {
     "end_time": "2022-01-13T22:08:08.874083Z",
     "start_time": "2022-01-13T22:07:55.884089Z"
    }
   },
   "outputs": [],
   "source": [
    "# Generate the GUSE dimension reductions\n",
    "embedding_guse = umap.UMAP(random_state=SEED, n_components = 2).fit_transform(vectors_guse)"
   ]
  },
  {
   "cell_type": "code",
   "execution_count": null,
   "metadata": {
    "ExecuteTime": {
     "end_time": "2022-01-13T22:08:13.527872Z",
     "start_time": "2022-01-13T22:08:13.521867Z"
    }
   },
   "outputs": [],
   "source": [
    "embedding_guse.shape"
   ]
  },
  {
   "cell_type": "code",
   "execution_count": null,
   "metadata": {
    "ExecuteTime": {
     "end_time": "2022-01-13T22:08:15.656817Z",
     "start_time": "2022-01-13T22:08:15.567830Z"
    }
   },
   "outputs": [],
   "source": [
    "# Wrap the text so it displays nicely in Plotly hover\n",
    "df['wrap'] = df['Comments'].map(lambda x: '<br>'.join(textwrap.wrap(x, 64)))"
   ]
  },
  {
   "cell_type": "code",
   "execution_count": null,
   "metadata": {
    "ExecuteTime": {
     "end_time": "2022-01-13T22:08:16.882512Z",
     "start_time": "2022-01-13T22:08:16.865512Z"
    }
   },
   "outputs": [],
   "source": [
    "df['wrap'].iloc[0]"
   ]
  },
  {
   "cell_type": "code",
   "execution_count": null,
   "metadata": {
    "ExecuteTime": {
     "end_time": "2022-01-13T22:08:18.118857Z",
     "start_time": "2022-01-13T22:08:18.102921Z"
    }
   },
   "outputs": [],
   "source": [
    "df.head()"
   ]
  },
  {
   "cell_type": "code",
   "execution_count": null,
   "metadata": {
    "ExecuteTime": {
     "end_time": "2022-01-13T22:08:24.744137Z",
     "start_time": "2022-01-13T22:08:22.515239Z"
    }
   },
   "outputs": [],
   "source": [
    "df.to_csv('plotlyDemo.csv', index=False)"
   ]
  },
  {
   "cell_type": "code",
   "execution_count": null,
   "metadata": {
    "ExecuteTime": {
     "end_time": "2022-01-13T22:08:25.624613Z",
     "start_time": "2022-01-13T22:08:25.611610Z"
    }
   },
   "outputs": [],
   "source": [
    "df['wrap']"
   ]
  },
  {
   "cell_type": "code",
   "execution_count": null,
   "metadata": {
    "ExecuteTime": {
     "end_time": "2022-01-13T22:08:29.455381Z",
     "start_time": "2022-01-13T22:08:29.436381Z"
    }
   },
   "outputs": [],
   "source": [
    "# set up sentiment as z axis\n",
    "df['x'] = embedding_guse[:,0]\n",
    "df['y'] = embedding_guse[:,1]\n",
    "df['z'] = df['compound']"
   ]
  },
  {
   "cell_type": "code",
   "execution_count": null,
   "metadata": {
    "ExecuteTime": {
     "end_time": "2022-01-13T22:08:30.516329Z",
     "start_time": "2022-01-13T22:08:30.503340Z"
    }
   },
   "outputs": [],
   "source": [
    "topics = list(df['Topic Label'].unique())\n",
    "topics"
   ]
  },
  {
   "cell_type": "code",
   "execution_count": null,
   "metadata": {
    "ExecuteTime": {
     "end_time": "2022-01-13T22:08:31.556261Z",
     "start_time": "2022-01-13T22:08:31.551252Z"
    }
   },
   "outputs": [],
   "source": [
    "colors = ['purple', 'orange', 'blue', 'green']"
   ]
  },
  {
   "cell_type": "code",
   "execution_count": null,
   "metadata": {
    "ExecuteTime": {
     "end_time": "2022-01-13T22:08:33.415075Z",
     "start_time": "2022-01-13T22:08:33.102552Z"
    }
   },
   "outputs": [],
   "source": [
    "enable_plotly_in_cell()\n",
    "\n",
    "fig = go.Figure()\n",
    "\n",
    "\n",
    "for i, topic in enumerate(topics):\n",
    "    ix = df[df['Topic Label'] == topic]\n",
    "    fig.add_trace(go.Scatter3d(x=ix.x,\n",
    "                               y=ix.y,\n",
    "                               z=ix.compound,\n",
    "                               name=topic,\n",
    "                               showlegend=True,\n",
    "                               mode='markers',\n",
    "                               marker=dict(\n",
    "                                   color=colors[i],\n",
    "                                   size=4,\n",
    "                                   opacity = 0.6,\n",
    "                                   \n",
    "                               )\n",
    "                              ))\n",
    "\n",
    "\n",
    "fig.update_traces(hovertemplate='OS: ' + df.OS + '<br>' + 'Topic: ' + df['Topic Label'] + '<br>' + \n",
    "                 'Sentiment: %{z:.2f}'+'<br>'+ df.wrap + '<extra></extra>')\n",
    "\n",
    "   \n",
    "fig.update_layout(\n",
    "    autosize=False,\n",
    "    width=1000,\n",
    "    height=1000,\n",
    "    hovermode=\"closest\",\n",
    "    title=\"Comment Clusters & Sentiment\",\n",
    "    legend_title_text='Topic',\n",
    "    scene = dict(\n",
    "        xaxis = dict(title=' ',visible=True, backgroundcolor=\"rgb(200, 200, 230)\", tickvals=[]),\n",
    "        yaxis = dict(title=' ',visible=True, backgroundcolor=\"rgb(200, 200, 230)\", tickvals=[]),\n",
    "        zaxis = dict(title='Sentiment',tickvals=[-1, -.75, -0.5, -0.25, 0, .25, 0.5,.75, 1.0])\n",
    "    )\n",
    ")\n",
    " \n",
    "    \n",
    "fig.update_layout(legend=dict(\n",
    "    orientation=\"h\",\n",
    "    yanchor=\"bottom\",\n",
    "    y=.8,\n",
    "    xanchor=\"right\",\n",
    "    x=1\n",
    "))\n",
    "\n",
    "    \n",
    "\n",
    "\n",
    "iplot(fig)"
   ]
  },
  {
   "cell_type": "code",
   "execution_count": null,
   "metadata": {},
   "outputs": [],
   "source": []
  }
 ],
 "metadata": {
  "kernelspec": {
   "display_name": "Python 3",
   "language": "python",
   "name": "python3"
  },
  "language_info": {
   "codemirror_mode": {
    "name": "ipython",
    "version": 3
   },
   "file_extension": ".py",
   "mimetype": "text/x-python",
   "name": "python",
   "nbconvert_exporter": "python",
   "pygments_lexer": "ipython3",
   "version": "3.6.10"
  }
 },
 "nbformat": 4,
 "nbformat_minor": 4
}
