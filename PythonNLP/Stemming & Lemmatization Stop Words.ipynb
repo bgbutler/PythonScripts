{
 "cells": [
  {
   "cell_type": "code",
   "execution_count": 1,
   "metadata": {},
   "outputs": [],
   "source": [
    "# Import the toolkit and the full Porter Stemmer library\n",
    "import nltk\n",
    "\n",
    "from nltk.stem.porter import *"
   ]
  },
  {
   "cell_type": "code",
   "execution_count": 2,
   "metadata": {},
   "outputs": [],
   "source": [
    "p_stemmer = PorterStemmer()"
   ]
  },
  {
   "cell_type": "code",
   "execution_count": 8,
   "metadata": {},
   "outputs": [],
   "source": [
    "words = ['run', 'runner', 'ran', 'runs', 'easily', 'fairly', 'fairness']"
   ]
  },
  {
   "cell_type": "code",
   "execution_count": 4,
   "metadata": {},
   "outputs": [
    {
     "name": "stdout",
     "output_type": "stream",
     "text": [
      "run------>run\n",
      "runner------>runner\n",
      "ran------>ran\n",
      "runs------>run\n",
      "easily------>easili\n",
      "fairly------>fairli\n"
     ]
    }
   ],
   "source": [
    "for word in words:\n",
    "    print(word + '------>' + p_stemmer.stem(word))"
   ]
  },
  {
   "cell_type": "code",
   "execution_count": 5,
   "metadata": {},
   "outputs": [],
   "source": [
    "from nltk.stem.snowball import SnowballStemmer"
   ]
  },
  {
   "cell_type": "code",
   "execution_count": 6,
   "metadata": {},
   "outputs": [],
   "source": [
    "s_stemmer = SnowballStemmer(language='english')"
   ]
  },
  {
   "cell_type": "code",
   "execution_count": 9,
   "metadata": {},
   "outputs": [
    {
     "name": "stdout",
     "output_type": "stream",
     "text": [
      "run------>run\n",
      "runner------>runner\n",
      "ran------>ran\n",
      "runs------>run\n",
      "easily------>easili\n",
      "fairly------>fair\n",
      "fairness------>fair\n"
     ]
    }
   ],
   "source": [
    "for word in words:\n",
    "    print(word + '------>' + s_stemmer.stem(word))"
   ]
  },
  {
   "cell_type": "code",
   "execution_count": 10,
   "metadata": {},
   "outputs": [],
   "source": [
    "words = ['generous', 'generation', 'generously', 'generate']"
   ]
  },
  {
   "cell_type": "code",
   "execution_count": 11,
   "metadata": {},
   "outputs": [
    {
     "name": "stdout",
     "output_type": "stream",
     "text": [
      "generous------>generous\n",
      "generation------>generat\n",
      "generously------>generous\n",
      "generate------>generat\n"
     ]
    }
   ],
   "source": [
    "for word in words:\n",
    "    print(word + '------>' + s_stemmer.stem(word))"
   ]
  },
  {
   "cell_type": "markdown",
   "metadata": {},
   "source": [
    "# Lemmatization in spaCy"
   ]
  },
  {
   "cell_type": "code",
   "execution_count": 12,
   "metadata": {},
   "outputs": [],
   "source": [
    "# Perform standard imports:\n",
    "import spacy\n",
    "nlp = spacy.load('en_core_web_sm')"
   ]
  },
  {
   "cell_type": "code",
   "execution_count": 13,
   "metadata": {},
   "outputs": [],
   "source": [
    "doc1 = nlp(u\"I am a runner running in a race because I love to run since I ran today\")\n",
    "\n"
   ]
  },
  {
   "cell_type": "code",
   "execution_count": 14,
   "metadata": {},
   "outputs": [
    {
     "name": "stdout",
     "output_type": "stream",
     "text": [
      "I \t PRON \t 561228191312463089 \t -PRON-\n",
      "am \t VERB \t 10382539506755952630 \t be\n",
      "a \t DET \t 11901859001352538922 \t a\n",
      "runner \t NOUN \t 12640964157389618806 \t runner\n",
      "running \t VERB \t 12767647472892411841 \t run\n",
      "in \t ADP \t 3002984154512732771 \t in\n",
      "a \t DET \t 11901859001352538922 \t a\n",
      "race \t NOUN \t 8048469955494714898 \t race\n",
      "because \t ADP \t 16950148841647037698 \t because\n",
      "I \t PRON \t 561228191312463089 \t -PRON-\n",
      "love \t VERB \t 3702023516439754181 \t love\n",
      "to \t PART \t 3791531372978436496 \t to\n",
      "run \t VERB \t 12767647472892411841 \t run\n",
      "since \t ADP \t 10066841407251338481 \t since\n",
      "I \t PRON \t 561228191312463089 \t -PRON-\n",
      "ran \t VERB \t 12767647472892411841 \t run\n",
      "today \t NOUN \t 11042482332948150395 \t today\n"
     ]
    }
   ],
   "source": [
    "# print the tokes, port of speech and lemma (number) and lemma_ for actual\n",
    "# the number points to a lemma in the library\n",
    "\n",
    "for token in doc1:\n",
    "    print(token.text, '\\t', token.pos_, '\\t', token.lemma, '\\t', token.lemma_)"
   ]
  },
  {
   "cell_type": "code",
   "execution_count": 15,
   "metadata": {},
   "outputs": [],
   "source": [
    "# add some alignment with the printout\n",
    "# make a function\n",
    "\n",
    "def show_lemmas(text):\n",
    "    for token in text:\n",
    "        print(f'{token.text:{12}} {token.pos_:{6}} {token.lemma:<{22}} {token.lemma_}')\n"
   ]
  },
  {
   "cell_type": "code",
   "execution_count": 16,
   "metadata": {},
   "outputs": [
    {
     "name": "stdout",
     "output_type": "stream",
     "text": [
      "I            PRON   561228191312463089     -PRON-\n",
      "saw          VERB   11925638236994514241   see\n",
      "eighteen     NUM    9609336664675087640    eighteen\n",
      "mice         NOUN   1384165645700560590    mouse\n",
      "today        NOUN   11042482332948150395   today\n",
      "!            PUNCT  17494803046312582752   !\n"
     ]
    }
   ],
   "source": [
    "doc2 = nlp(u\"I saw eighteen mice today!\")\n",
    "\n",
    "show_lemmas(doc2)"
   ]
  },
  {
   "cell_type": "markdown",
   "metadata": {},
   "source": [
    "# Stop Words"
   ]
  },
  {
   "cell_type": "code",
   "execution_count": 17,
   "metadata": {},
   "outputs": [
    {
     "name": "stdout",
     "output_type": "stream",
     "text": [
      "{'six', 'part', \"'s\", \"'re\", 'all', 'but', 'except', 'being', 'to', 'seemed', 'wherever', 'thereby', 'nevertheless', 'moreover', 'he', 'became', 'sometimes', 'mostly', 'thereupon', 'while', 'quite', 'go', 'do', 're', 'amount', 'top', 'call', 'front', 'bottom', 'upon', 'if', 'of', 'without', 'get', 'last', 'move', 'within', 'whereby', 'ourselves', 'five', 'either', 'throughout', 'thru', 'just', 'during', 'our', 'thereafter', 'someone', 'together', 'yourselves', 'this', 'off', 'be', 'though', 'each', 'even', 'see', '’s', 'become', 'behind', '’re', 'had', 'meanwhile', 'and', 'well', 'must', 'beforehand', 'many', 'the', 'can', 'up', 'before', 'out', 'n‘t', 'hereafter', 'put', 'from', 'twelve', 'anyone', 'until', 'doing', 'along', 'with', 'what', 'is', 'forty', 'name', 'that', 'always', 'really', 'his', 'any', 'amongst', 'toward', 'both', 'my', 'she', 'yourself', \"'m\", 'how', 'through', 'would', 'further', 'yet', 'down', 'then', 'which', 'them', 'us', 'say', 'hereby', 'could', 'whole', 'itself', 'towards', 'too', 'again', 'its', 'ten', 'ca', 'seems', 'nowhere', 'every', 'everything', 'next', '‘ve', 'therefore', 'i', 'below', 'often', 'against', \"'ll\", 'latterly', 'twenty', 'becomes', 'now', 'where', 'although', 'between', 'whether', 'thence', 'whatever', 'should', 'beside', 'under', 'less', 'it', 'here', 'per', '’m', 'cannot', 'been', 'afterwards', 'myself', 'perhaps', 'formerly', 'fifty', 'anything', 'sometime', 'take', 'becoming', 'thus', 'give', '‘d', 'namely', 'seem', 'once', 'alone', 'did', 'nine', 'nothing', 'no', 'by', 'eight', 'has', 'hence', 'enough', 'are', 'some', 'fifteen', 'wherein', 'regarding', 'above', 'neither', 'otherwise', 'seeming', 'nobody', 'eleven', 'only', 'somehow', '’d', 'much', 'indeed', 'most', 'when', 'whence', 'keep', 'whereas', 'since', 'as', 'into', 'else', 'something', '’ll', 'made', 'unless', 'an', 'these', 'show', 'former', 'elsewhere', 'anyhow', \"'ve\", 'back', 'first', 'was', 'none', 'himself', 'beyond', 'after', 'so', 'whose', 'very', 'noone', \"'d\", 'hundred', 'almost', '‘re', 'whenever', 'around', 'latter', 'whereupon', 'than', 'you', 'whereafter', 'him', 'whoever', 'whom', 'third', 'on', 'who', 'somewhere', 'hereupon', 'me', 'empty', 'serious', 'more', 'your', 'they', 'n’t', 'few', 'have', '‘m', 'via', 'anyway', 'everyone', 'ever', 'hers', 'used', 'over', 'own', 'full', 'make', 'still', 'yours', 'done', 'anywhere', 'about', 'why', 'three', 'four', 'another', 'am', 'using', 'same', 'besides', 'herein', 'her', 'however', \"n't\", 'for', 'already', 'rather', 'ours', 'mine', 'nor', 'in', 'one', 'among', 'might', 'at', 'herself', 'across', 'two', 'sixty', 'or', 'others', 'whither', 'everywhere', 'there', 'themselves', 'those', 'side', 'because', 'several', 'therein', 'due', 'not', 'may', 'their', '’ve', '‘ll', 'such', 'various', 'never', 'does', 'onto', 'were', 'a', 'please', 'other', 'also', 'will', 'least', 'we', '‘s'}\n"
     ]
    }
   ],
   "source": [
    "# Print the set of spaCy's default stop words (remember that sets are unordered):\n",
    "print(nlp.Defaults.stop_words)"
   ]
  },
  {
   "cell_type": "code",
   "execution_count": 18,
   "metadata": {},
   "outputs": [
    {
     "data": {
      "text/plain": [
       "326"
      ]
     },
     "execution_count": 18,
     "metadata": {},
     "output_type": "execute_result"
    }
   ],
   "source": [
    "len(nlp.Defaults.stop_words)"
   ]
  },
  {
   "cell_type": "code",
   "execution_count": 20,
   "metadata": {},
   "outputs": [
    {
     "data": {
      "text/plain": [
       "True"
      ]
     },
     "execution_count": 20,
     "metadata": {},
     "output_type": "execute_result"
    }
   ],
   "source": [
    "nlp.vocab['is'].is_stop"
   ]
  },
  {
   "cell_type": "code",
   "execution_count": 21,
   "metadata": {},
   "outputs": [
    {
     "data": {
      "text/plain": [
       "False"
      ]
     },
     "execution_count": 21,
     "metadata": {},
     "output_type": "execute_result"
    }
   ],
   "source": [
    "nlp.vocab['mystery'].is_stop"
   ]
  },
  {
   "cell_type": "code",
   "execution_count": 23,
   "metadata": {},
   "outputs": [],
   "source": [
    "# add custom words to stop words\n",
    "\n",
    "nlp.Defaults.stop_words.add('btw')"
   ]
  },
  {
   "cell_type": "code",
   "execution_count": 24,
   "metadata": {},
   "outputs": [
    {
     "data": {
      "text/plain": [
       "327"
      ]
     },
     "execution_count": 24,
     "metadata": {},
     "output_type": "execute_result"
    }
   ],
   "source": [
    "len(nlp.Defaults.stop_words)"
   ]
  },
  {
   "cell_type": "code",
   "execution_count": 25,
   "metadata": {},
   "outputs": [
    {
     "data": {
      "text/plain": [
       "True"
      ]
     },
     "execution_count": 25,
     "metadata": {},
     "output_type": "execute_result"
    }
   ],
   "source": [
    "# added btw\n",
    "\n",
    "nlp.vocab['btw'].is_stop"
   ]
  },
  {
   "cell_type": "code",
   "execution_count": 26,
   "metadata": {},
   "outputs": [],
   "source": [
    "# remove a stop word from the set\n",
    "\n",
    "nlp.Defaults.stop_words.remove('beyond')"
   ]
  },
  {
   "cell_type": "code",
   "execution_count": 27,
   "metadata": {},
   "outputs": [
    {
     "data": {
      "text/plain": [
       "False"
      ]
     },
     "execution_count": 27,
     "metadata": {},
     "output_type": "execute_result"
    }
   ],
   "source": [
    "nlp.vocab['beyond'].is_stop"
   ]
  },
  {
   "cell_type": "code",
   "execution_count": null,
   "metadata": {},
   "outputs": [],
   "source": []
  }
 ],
 "metadata": {
  "kernelspec": {
   "display_name": "Python 3",
   "language": "python",
   "name": "python3"
  },
  "language_info": {
   "codemirror_mode": {
    "name": "ipython",
    "version": 3
   },
   "file_extension": ".py",
   "mimetype": "text/x-python",
   "name": "python",
   "nbconvert_exporter": "python",
   "pygments_lexer": "ipython3",
   "version": "3.7.3"
  }
 },
 "nbformat": 4,
 "nbformat_minor": 2
}
