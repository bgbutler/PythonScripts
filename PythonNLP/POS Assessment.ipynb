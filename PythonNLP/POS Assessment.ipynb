{
 "cells": [
  {
   "cell_type": "code",
   "execution_count": 2,
   "metadata": {},
   "outputs": [],
   "source": [
    "# RUN THIS CELL to perform standard imports:\n",
    "import spacy, os\n",
    "nlp = spacy.load('en_core_web_sm')\n",
    "from spacy import displacy"
   ]
  },
  {
   "cell_type": "code",
   "execution_count": 4,
   "metadata": {},
   "outputs": [
    {
     "data": {
      "text/plain": [
       "['peterrabbit.txt',\n",
       " 'elon_tweets.txt',\n",
       " 'amazonreviews.tsv',\n",
       " 'reuters.csv',\n",
       " 'owlcreek1.txt',\n",
       " 'reaganomics1.txt',\n",
       " 'elon_tweets2.txt',\n",
       " 'owlcreek.txt',\n",
       " 'sms_readme.txt',\n",
       " 'reaganomics.txt',\n",
       " 'moviereviews.tsv',\n",
       " 'smsspamcollection.tsv',\n",
       " 'huckfinn.txt',\n",
       " 'moviereviews2.tsv']"
      ]
     },
     "execution_count": 4,
     "metadata": {},
     "output_type": "execute_result"
    }
   ],
   "source": [
    "# create a doc object from the file peterrabbit.txt\n",
    "# change the directory to the location of the file\n",
    "os.chdir(\"/Users/Bryan/Documents/Programming/PythonNLP/UPDATED_NLP_COURSE/TextFiles\")\n",
    "os.listdir()\n"
   ]
  },
  {
   "cell_type": "code",
   "execution_count": null,
   "metadata": {},
   "outputs": [],
   "source": []
  }
 ],
 "metadata": {
  "kernelspec": {
   "display_name": "Python 3",
   "language": "python",
   "name": "python3"
  },
  "language_info": {
   "codemirror_mode": {
    "name": "ipython",
    "version": 3
   },
   "file_extension": ".py",
   "mimetype": "text/x-python",
   "name": "python",
   "nbconvert_exporter": "python",
   "pygments_lexer": "ipython3",
   "version": "3.7.3"
  }
 },
 "nbformat": 4,
 "nbformat_minor": 2
}
