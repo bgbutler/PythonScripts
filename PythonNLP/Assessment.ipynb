{
 "cells": [
  {
   "cell_type": "code",
   "execution_count": 1,
   "metadata": {},
   "outputs": [],
   "source": [
    "# import spacy and load a larger model\n",
    "\n",
    "import spacy\n",
    "\n",
    "# get the large model\n",
    "nlp = spacy.load('en_core_web_lg')"
   ]
  },
  {
   "cell_type": "code",
   "execution_count": 2,
   "metadata": {},
   "outputs": [],
   "source": [
    "# compare some words\n",
    "\n",
    "tokens = nlp(u'kitty tiger water bowl dog')"
   ]
  },
  {
   "cell_type": "code",
   "execution_count": 3,
   "metadata": {},
   "outputs": [
    {
     "name": "stdout",
     "output_type": "stream",
     "text": [
      "kitty kitty 1.0\n",
      "kitty tiger 0.4961798\n",
      "kitty water 0.22237565\n",
      "kitty bowl 0.28006953\n",
      "kitty dog 0.6306644\n",
      "tiger kitty 0.4961798\n",
      "tiger tiger 1.0\n",
      "tiger water 0.25212076\n",
      "tiger bowl 0.30012825\n",
      "tiger dog 0.43654656\n",
      "water kitty 0.22237565\n",
      "water tiger 0.25212076\n",
      "water water 1.0\n",
      "water bowl 0.43104872\n",
      "water dog 0.30933863\n",
      "bowl kitty 0.28006953\n",
      "bowl tiger 0.30012825\n",
      "bowl water 0.43104872\n",
      "bowl bowl 1.0\n",
      "bowl dog 0.26937348\n",
      "dog kitty 0.6306644\n",
      "dog tiger 0.43654656\n",
      "dog water 0.30933863\n",
      "dog bowl 0.26937348\n",
      "dog dog 1.0\n"
     ]
    }
   ],
   "source": [
    "# compare them \n",
    "for token1 in tokens:\n",
    "    for token2 in tokens:\n",
    "        print(token1.text, token2.text, token1.similarity(token2))"
   ]
  },
  {
   "cell_type": "code",
   "execution_count": 4,
   "metadata": {},
   "outputs": [],
   "source": [
    "# import spatial for vector arithmetic\n",
    "# vector arithmetic\n",
    "\n",
    "from scipy import spatial"
   ]
  },
  {
   "cell_type": "code",
   "execution_count": 6,
   "metadata": {},
   "outputs": [],
   "source": [
    "# make the lambda function for cosine similarity\n",
    "\n",
    "cosine_similarity = lambda vec1, vec2: 1 - spatial.distance.cosine(vec1, vec2)"
   ]
  },
  {
   "cell_type": "code",
   "execution_count": 7,
   "metadata": {},
   "outputs": [],
   "source": [
    "# Write an expression for vector arithmetic\n",
    "# For example: new_vector = word1 - word2 + word3\n",
    "\n",
    "dog = nlp.vocab['dog'].vector\n",
    "cat = nlp.vocab['cat'].vector\n",
    "kitty = nlp.vocab['kitty'].vector\n",
    "\n",
    "new_vector = dog-cat+kitty"
   ]
  },
  {
   "cell_type": "code",
   "execution_count": 8,
   "metadata": {},
   "outputs": [
    {
     "name": "stdout",
     "output_type": "stream",
     "text": [
      "['dog', 'kitty', 'puppy', 'doggie', 'dogs', 'puppies', 'pet', 'pup', 'doggy', 'bunny']\n"
     ]
    }
   ],
   "source": [
    "computed_similarities = []\n",
    "\n",
    "# for all words in the vocab\n",
    "for word in nlp.vocab:\n",
    "    if word.has_vector:\n",
    "        if word.is_lower:\n",
    "            if word.is_alpha:\n",
    "                similarity = cosine_similarity(new_vector, word.vector)\n",
    "                computed_similarities.append((word, similarity))\n",
    "                \n",
    "# use negative item for sorting descending\n",
    "computed_similarities = sorted(computed_similarities, key = lambda item:-item[1])\n",
    "\n",
    "# print top 10\n",
    "print([t[0].text for t in computed_similarities[:10]])"
   ]
  },
  {
   "cell_type": "code",
   "execution_count": 10,
   "metadata": {},
   "outputs": [],
   "source": [
    "def vector_math(a,b,c):\n",
    "    computed_similarities = []\n",
    "    \n",
    "    # make them vectors\n",
    "    new_vector = nlp.vocab[a].vector - nlp.vocab[b].vector + nlp.vocab[c].vector\n",
    "    \n",
    "    \n",
    "    # for all words in the vocab\n",
    "    for word in nlp.vocab:\n",
    "        if word.has_vector:\n",
    "            if word.is_lower:\n",
    "                if word.is_alpha:\n",
    "                    similarity = cosine_similarity(new_vector, word.vector)\n",
    "                    computed_similarities.append((word, similarity))\n",
    "                    \n",
    "    # use negative item for sorting descending\n",
    "    computed_similarities = sorted(computed_similarities, key = lambda item:-item[1])\n",
    "    \n",
    "    # print top 10\n",
    "    return[w[0].text for w in computed_similarities[:10]]"
   ]
  },
  {
   "cell_type": "code",
   "execution_count": 12,
   "metadata": {},
   "outputs": [
    {
     "data": {
      "text/plain": [
       "['wolf',\n",
       " 'wolves',\n",
       " 'wolfs',\n",
       " 'kitty',\n",
       " 'werewolf',\n",
       " 'bear',\n",
       " 'panther',\n",
       " 'fox',\n",
       " 'grizzly',\n",
       " 'coyote']"
      ]
     },
     "execution_count": 12,
     "metadata": {},
     "output_type": "execute_result"
    }
   ],
   "source": [
    "vector_math('wolf', 'cat', 'kitty')"
   ]
  },
  {
   "cell_type": "code",
   "execution_count": 13,
   "metadata": {},
   "outputs": [
    {
     "name": "stderr",
     "output_type": "stream",
     "text": [
      "/Users/Bryan/anaconda/envs/nlp/lib/python3.6/site-packages/nltk/twitter/__init__.py:20: UserWarning: The twython library has not been installed. Some functionality from the twitter package will not be available.\n",
      "  warnings.warn(\"The twython library has not been installed. \"\n"
     ]
    }
   ],
   "source": [
    "# Import SentimentIntensityAnalyzer and create an sid object\n",
    "from nltk.sentiment.vader import SentimentIntensityAnalyzer\n",
    "\n",
    "sid = SentimentIntensityAnalyzer()"
   ]
  },
  {
   "cell_type": "code",
   "execution_count": 23,
   "metadata": {},
   "outputs": [],
   "source": [
    "# Write a review as one continuous string (multiple sentences are ok)\n",
    "review = 'This movie portrayed real people, and was based on actual events. It was heartbreaking.'"
   ]
  },
  {
   "cell_type": "code",
   "execution_count": 24,
   "metadata": {},
   "outputs": [
    {
     "data": {
      "text/plain": [
       "{'neg': 0.188, 'neu': 0.812, 'pos': 0.0, 'compound': -0.4588}"
      ]
     },
     "execution_count": 24,
     "metadata": {},
     "output_type": "execute_result"
    }
   ],
   "source": [
    "sid.polarity_scores(review)"
   ]
  },
  {
   "cell_type": "code",
   "execution_count": 21,
   "metadata": {},
   "outputs": [],
   "source": [
    "# write a function to take in review and return score\n",
    "\n",
    "def review_rating(string):\n",
    "    scores = sid.polarity_scores(string)\n",
    "    \n",
    "    if scores['compound'] > 0:\n",
    "        return 'Positive'\n",
    "    # neutral should be more of a range than ==0\n",
    "    elif scores['compound'] ==0:\n",
    "        return 'Neutral'\n",
    "    else:\n",
    "        return 'Negative'\n",
    "    "
   ]
  },
  {
   "cell_type": "code",
   "execution_count": 25,
   "metadata": {},
   "outputs": [
    {
     "data": {
      "text/plain": [
       "'Negative'"
      ]
     },
     "execution_count": 25,
     "metadata": {},
     "output_type": "execute_result"
    }
   ],
   "source": [
    "review_rating(review)"
   ]
  },
  {
   "cell_type": "code",
   "execution_count": null,
   "metadata": {},
   "outputs": [],
   "source": []
  }
 ],
 "metadata": {
  "kernelspec": {
   "display_name": "Python 3",
   "language": "python",
   "name": "python3"
  },
  "language_info": {
   "codemirror_mode": {
    "name": "ipython",
    "version": 3
   },
   "file_extension": ".py",
   "mimetype": "text/x-python",
   "name": "python",
   "nbconvert_exporter": "python",
   "pygments_lexer": "ipython3",
   "version": "3.6.6"
  }
 },
 "nbformat": 4,
 "nbformat_minor": 2
}
